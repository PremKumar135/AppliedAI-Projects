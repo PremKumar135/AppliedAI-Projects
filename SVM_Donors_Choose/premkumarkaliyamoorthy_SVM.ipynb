{
 "cells": [
  {
   "cell_type": "markdown",
   "metadata": {
    "colab_type": "text",
    "id": "mCfaj6gxkPSn"
   },
   "source": [
    "# Linear Support Vector Machines"
   ]
  },
  {
   "cell_type": "code",
   "execution_count": 0,
   "metadata": {
    "colab": {
     "base_uri": "https://localhost:8080/",
     "height": 122
    },
    "colab_type": "code",
    "id": "l-Mwd9sKlMt9",
    "outputId": "963b9b26-8e25-47a7-b6b1-c57420c084cf"
   },
   "outputs": [
    {
     "name": "stdout",
     "output_type": "stream",
     "text": [
      "Go to this URL in a browser: https://accounts.google.com/o/oauth2/auth?client_id=947318989803-6bn6qk8qdgf4n4g3pfee6491hc0brc4i.apps.googleusercontent.com&redirect_uri=urn%3aietf%3awg%3aoauth%3a2.0%3aoob&response_type=code&scope=email%20https%3a%2f%2fwww.googleapis.com%2fauth%2fdocs.test%20https%3a%2f%2fwww.googleapis.com%2fauth%2fdrive%20https%3a%2f%2fwww.googleapis.com%2fauth%2fdrive.photos.readonly%20https%3a%2f%2fwww.googleapis.com%2fauth%2fpeopleapi.readonly\n",
      "\n",
      "Enter your authorization code:\n",
      "··········\n",
      "Mounted at /content/drive\n"
     ]
    }
   ],
   "source": [
    "from google.colab import drive\n",
    "drive.mount('/content/drive')"
   ]
  },
  {
   "cell_type": "markdown",
   "metadata": {
    "colab_type": "text",
    "id": "2nobWVeHkPSq"
   },
   "source": [
    "### Note:\n",
    "    - Since we already did all these in previous assignments and we can use the same from it."
   ]
  },
  {
   "cell_type": "code",
   "execution_count": 0,
   "metadata": {
    "colab": {},
    "colab_type": "code",
    "id": "Qyp9peRYkPSr"
   },
   "outputs": [],
   "source": [
    "#importing libraries\n",
    "import numpy as np\n",
    "import pandas as pd\n",
    "import matplotlib.pyplot as plt\n",
    "%matplotlib inline\n",
    "import seaborn as sns\n",
    "import warnings\n",
    "warnings.filterwarnings('ignore')\n",
    "from tqdm import tqdm"
   ]
  },
  {
   "cell_type": "code",
   "execution_count": 0,
   "metadata": {
    "colab": {
     "base_uri": "https://localhost:8080/",
     "height": 51
    },
    "colab_type": "code",
    "id": "XaOO-l7YlqSr",
    "outputId": "3feafd1e-25c4-49e2-a8f8-a004effe5f72"
   },
   "outputs": [
    {
     "name": "stdout",
     "output_type": "stream",
     "text": [
      "glove_vectors\t  Preprocessed_inc_others.csv  train_data.csv\n",
      "PreProcessed.csv  resources.csv\n"
     ]
    }
   ],
   "source": [
    "! ls '/content/drive/My Drive/Applied AI/Datasets/New Donors/'"
   ]
  },
  {
   "cell_type": "code",
   "execution_count": 0,
   "metadata": {
    "colab": {
     "base_uri": "https://localhost:8080/",
     "height": 717
    },
    "colab_type": "code",
    "id": "i8Us0JTAkPSt",
    "outputId": "e569ec5f-ec32-42e5-e91e-d36eaffe4fcb",
    "scrolled": true
   },
   "outputs": [
    {
     "data": {
      "text/html": [
       "<div>\n",
       "<style scoped>\n",
       "    .dataframe tbody tr th:only-of-type {\n",
       "        vertical-align: middle;\n",
       "    }\n",
       "\n",
       "    .dataframe tbody tr th {\n",
       "        vertical-align: top;\n",
       "    }\n",
       "\n",
       "    .dataframe thead th {\n",
       "        text-align: right;\n",
       "    }\n",
       "</style>\n",
       "<table border=\"1\" class=\"dataframe\">\n",
       "  <thead>\n",
       "    <tr style=\"text-align: right;\">\n",
       "      <th></th>\n",
       "      <th>Unnamed: 0</th>\n",
       "      <th>school_state</th>\n",
       "      <th>teacher_prefix</th>\n",
       "      <th>project_grade_category</th>\n",
       "      <th>teacher_number_of_previously_posted_projects</th>\n",
       "      <th>project_is_approved</th>\n",
       "      <th>clean_categories</th>\n",
       "      <th>clean_subcategories</th>\n",
       "      <th>essay</th>\n",
       "      <th>price</th>\n",
       "      <th>title</th>\n",
       "      <th>quantity</th>\n",
       "      <th>sentiment_score</th>\n",
       "      <th>No of words in project title</th>\n",
       "      <th>No of words in essay</th>\n",
       "    </tr>\n",
       "  </thead>\n",
       "  <tbody>\n",
       "    <tr>\n",
       "      <th>0</th>\n",
       "      <td>0</td>\n",
       "      <td>ca</td>\n",
       "      <td>mrs</td>\n",
       "      <td>grades_prek_2</td>\n",
       "      <td>53</td>\n",
       "      <td>1</td>\n",
       "      <td>math_science</td>\n",
       "      <td>appliedsciences health_lifescience</td>\n",
       "      <td>i fortunate enough use fairy tale stem kits cl...</td>\n",
       "      <td>725.05</td>\n",
       "      <td>educational support english learners home</td>\n",
       "      <td>23</td>\n",
       "      <td>0.323506</td>\n",
       "      <td>5</td>\n",
       "      <td>175</td>\n",
       "    </tr>\n",
       "    <tr>\n",
       "      <th>1</th>\n",
       "      <td>1</td>\n",
       "      <td>ut</td>\n",
       "      <td>ms</td>\n",
       "      <td>grades_3_5</td>\n",
       "      <td>4</td>\n",
       "      <td>1</td>\n",
       "      <td>specialneeds</td>\n",
       "      <td>specialneeds</td>\n",
       "      <td>imagine 8 9 years old you third grade classroo...</td>\n",
       "      <td>213.03</td>\n",
       "      <td>wanted projector hungry learners</td>\n",
       "      <td>1</td>\n",
       "      <td>0.293008</td>\n",
       "      <td>4</td>\n",
       "      <td>179</td>\n",
       "    </tr>\n",
       "    <tr>\n",
       "      <th>2</th>\n",
       "      <td>2</td>\n",
       "      <td>ca</td>\n",
       "      <td>mrs</td>\n",
       "      <td>grades_prek_2</td>\n",
       "      <td>10</td>\n",
       "      <td>1</td>\n",
       "      <td>literacy_language</td>\n",
       "      <td>literacy</td>\n",
       "      <td>having class 24 students comes diverse learner...</td>\n",
       "      <td>329.00</td>\n",
       "      <td>soccer equipment awesome middle school students</td>\n",
       "      <td>22</td>\n",
       "      <td>0.313000</td>\n",
       "      <td>6</td>\n",
       "      <td>116</td>\n",
       "    </tr>\n",
       "    <tr>\n",
       "      <th>3</th>\n",
       "      <td>3</td>\n",
       "      <td>ga</td>\n",
       "      <td>mrs</td>\n",
       "      <td>grades_prek_2</td>\n",
       "      <td>2</td>\n",
       "      <td>1</td>\n",
       "      <td>appliedlearning</td>\n",
       "      <td>earlydevelopment</td>\n",
       "      <td>i recently read article giving students choice...</td>\n",
       "      <td>481.04</td>\n",
       "      <td>techie kindergarteners</td>\n",
       "      <td>4</td>\n",
       "      <td>0.123264</td>\n",
       "      <td>2</td>\n",
       "      <td>127</td>\n",
       "    </tr>\n",
       "    <tr>\n",
       "      <th>4</th>\n",
       "      <td>4</td>\n",
       "      <td>wa</td>\n",
       "      <td>mrs</td>\n",
       "      <td>grades_3_5</td>\n",
       "      <td>2</td>\n",
       "      <td>1</td>\n",
       "      <td>literacy_language</td>\n",
       "      <td>literacy</td>\n",
       "      <td>my students crave challenge eat obstacles brea...</td>\n",
       "      <td>17.74</td>\n",
       "      <td>interactive math tools</td>\n",
       "      <td>4</td>\n",
       "      <td>0.160651</td>\n",
       "      <td>3</td>\n",
       "      <td>114</td>\n",
       "    </tr>\n",
       "  </tbody>\n",
       "</table>\n",
       "</div>"
      ],
      "text/plain": [
       "   Unnamed: 0 school_state  ... No of words in project title No of words in essay\n",
       "0           0           ca  ...                            5                  175\n",
       "1           1           ut  ...                            4                  179\n",
       "2           2           ca  ...                            6                  116\n",
       "3           3           ga  ...                            2                  127\n",
       "4           4           wa  ...                            3                  114\n",
       "\n",
       "[5 rows x 15 columns]"
      ]
     },
     "execution_count": 4,
     "metadata": {
      "tags": []
     },
     "output_type": "execute_result"
    }
   ],
   "source": [
    "data = pd.read_csv('/content/drive/My Drive/Applied AI/Datasets/New Donors/Preprocessed_inc_others.csv')\n",
    "data.head()"
   ]
  },
  {
   "cell_type": "code",
   "execution_count": 0,
   "metadata": {
    "colab": {
     "base_uri": "https://localhost:8080/",
     "height": 352
    },
    "colab_type": "code",
    "id": "ptbi4736kPSw",
    "outputId": "aaeedee3-0aa6-4948-b1a8-4a5d0d82f80f",
    "scrolled": true
   },
   "outputs": [
    {
     "data": {
      "text/html": [
       "<div>\n",
       "<style scoped>\n",
       "    .dataframe tbody tr th:only-of-type {\n",
       "        vertical-align: middle;\n",
       "    }\n",
       "\n",
       "    .dataframe tbody tr th {\n",
       "        vertical-align: top;\n",
       "    }\n",
       "\n",
       "    .dataframe thead th {\n",
       "        text-align: right;\n",
       "    }\n",
       "</style>\n",
       "<table border=\"1\" class=\"dataframe\">\n",
       "  <thead>\n",
       "    <tr style=\"text-align: right;\">\n",
       "      <th></th>\n",
       "      <th>Unnamed: 0</th>\n",
       "      <th>school_state</th>\n",
       "      <th>teacher_prefix</th>\n",
       "      <th>project_grade_category</th>\n",
       "      <th>teacher_number_of_previously_posted_projects</th>\n",
       "      <th>clean_categories</th>\n",
       "      <th>clean_subcategories</th>\n",
       "      <th>essay</th>\n",
       "      <th>price</th>\n",
       "      <th>title</th>\n",
       "      <th>quantity</th>\n",
       "      <th>sentiment_score</th>\n",
       "      <th>No of words in project title</th>\n",
       "      <th>No of words in essay</th>\n",
       "    </tr>\n",
       "  </thead>\n",
       "  <tbody>\n",
       "    <tr>\n",
       "      <th>0</th>\n",
       "      <td>0</td>\n",
       "      <td>ca</td>\n",
       "      <td>mrs</td>\n",
       "      <td>grades_prek_2</td>\n",
       "      <td>53</td>\n",
       "      <td>math_science</td>\n",
       "      <td>appliedsciences health_lifescience</td>\n",
       "      <td>i fortunate enough use fairy tale stem kits cl...</td>\n",
       "      <td>725.05</td>\n",
       "      <td>educational support english learners home</td>\n",
       "      <td>23</td>\n",
       "      <td>0.323506</td>\n",
       "      <td>5</td>\n",
       "      <td>175</td>\n",
       "    </tr>\n",
       "    <tr>\n",
       "      <th>1</th>\n",
       "      <td>1</td>\n",
       "      <td>ut</td>\n",
       "      <td>ms</td>\n",
       "      <td>grades_3_5</td>\n",
       "      <td>4</td>\n",
       "      <td>specialneeds</td>\n",
       "      <td>specialneeds</td>\n",
       "      <td>imagine 8 9 years old you third grade classroo...</td>\n",
       "      <td>213.03</td>\n",
       "      <td>wanted projector hungry learners</td>\n",
       "      <td>1</td>\n",
       "      <td>0.293008</td>\n",
       "      <td>4</td>\n",
       "      <td>179</td>\n",
       "    </tr>\n",
       "  </tbody>\n",
       "</table>\n",
       "</div>"
      ],
      "text/plain": [
       "   Unnamed: 0 school_state  ... No of words in project title No of words in essay\n",
       "0           0           ca  ...                            5                  175\n",
       "1           1           ut  ...                            4                  179\n",
       "\n",
       "[2 rows x 14 columns]"
      ]
     },
     "execution_count": 5,
     "metadata": {
      "tags": []
     },
     "output_type": "execute_result"
    }
   ],
   "source": [
    "y = data['project_is_approved'].values\n",
    "X = data.drop(['project_is_approved'], axis=1)\n",
    "X.head(2)"
   ]
  },
  {
   "cell_type": "code",
   "execution_count": 0,
   "metadata": {
    "colab": {
     "base_uri": "https://localhost:8080/",
     "height": 34
    },
    "colab_type": "code",
    "id": "3mw3Q87KkPSx",
    "outputId": "7fca2841-f2f1-4718-979e-5d4bebe7f05f"
   },
   "outputs": [
    {
     "name": "stdout",
     "output_type": "stream",
     "text": [
      "(109248, 1)\n"
     ]
    }
   ],
   "source": [
    "y = y.reshape(-1,1)\n",
    "print(y.shape)"
   ]
  },
  {
   "cell_type": "markdown",
   "metadata": {
    "colab_type": "text",
    "id": "V-nnlOFJkPSz"
   },
   "source": [
    "### Splitting the data"
   ]
  },
  {
   "cell_type": "code",
   "execution_count": 0,
   "metadata": {
    "colab": {},
    "colab_type": "code",
    "id": "mFwGfiJmkPS0"
   },
   "outputs": [],
   "source": [
    "from sklearn.model_selection import train_test_split\n",
    "data_train, data_test, label_train, label_test = train_test_split(X, y, test_size=0.33, stratify=y, random_state=42)"
   ]
  },
  {
   "cell_type": "code",
   "execution_count": 0,
   "metadata": {
    "colab": {
     "base_uri": "https://localhost:8080/",
     "height": 85
    },
    "colab_type": "code",
    "id": "cGxuiqikkPS1",
    "outputId": "fda9bc02-0d64-40c8-dda9-df3bb91225ba"
   },
   "outputs": [
    {
     "name": "stdout",
     "output_type": "stream",
     "text": [
      "(73196, 14)\n",
      "(36052, 14)\n",
      "(73196, 1)\n",
      "(36052, 1)\n"
     ]
    }
   ],
   "source": [
    "print(data_train.shape)\n",
    "print(data_test.shape)\n",
    "print(label_train.shape)\n",
    "print(label_test.shape)"
   ]
  },
  {
   "cell_type": "code",
   "execution_count": 0,
   "metadata": {
    "colab": {},
    "colab_type": "code",
    "id": "RkAq5aHpkPS3"
   },
   "outputs": [],
   "source": [
    "X_train = data_train\n",
    "X_test = data_test\n",
    "y_train = label_train\n",
    "y_test = label_test"
   ]
  },
  {
   "cell_type": "code",
   "execution_count": 0,
   "metadata": {
    "colab": {
     "base_uri": "https://localhost:8080/",
     "height": 85
    },
    "colab_type": "code",
    "id": "ekVEiaqGkPS4",
    "outputId": "6110b217-ec0a-4c91-f798-9cfd148edd98"
   },
   "outputs": [
    {
     "name": "stdout",
     "output_type": "stream",
     "text": [
      "(73196, 14)\n",
      "(36052, 14)\n",
      "(73196, 1)\n",
      "(36052, 1)\n"
     ]
    }
   ],
   "source": [
    "print(X_train.shape)\n",
    "print(X_test.shape)\n",
    "print(y_train.shape)\n",
    "print(y_test.shape)"
   ]
  },
  {
   "cell_type": "markdown",
   "metadata": {
    "colab_type": "text",
    "id": "qQiDzueMkPS6"
   },
   "source": [
    "## 1. Set -1 \n",
    "we are going to consider\n",
    "\n",
    "       - school_state : categorical data \n",
    "       - clean_categories : categorical data\n",
    "       - clean_subcategories : categorical data\n",
    "       - project_grade_category : categorical data\n",
    "       - teacher_prefix : categorical data\n",
    "       \n",
    "       - project_title : text data (BOW)\n",
    "       - Essay : text data (BOW)\n",
    "       \n",
    "       - teacher_number_of_previously_posted_projects : numerical\n",
    "       - price : numerical"
   ]
  },
  {
   "cell_type": "markdown",
   "metadata": {
    "colab_type": "text",
    "id": "vFPlG-ldkPS7"
   },
   "source": [
    "## 1. Vectorizing all features"
   ]
  },
  {
   "cell_type": "markdown",
   "metadata": {
    "colab_type": "text",
    "id": "YiowPl4-kPS7"
   },
   "source": [
    "### 1.1 School State"
   ]
  },
  {
   "cell_type": "code",
   "execution_count": 0,
   "metadata": {
    "colab": {},
    "colab_type": "code",
    "id": "Sb2Qmf6CkPS8"
   },
   "outputs": [],
   "source": [
    "from sklearn.feature_extraction.text import CountVectorizer\n",
    "vectorizer_1 = CountVectorizer(list(X_train['school_state'].values), lowercase=False, binary=True)"
   ]
  },
  {
   "cell_type": "code",
   "execution_count": 0,
   "metadata": {
    "colab": {},
    "colab_type": "code",
    "id": "7Oe5ICY8kPS9"
   },
   "outputs": [],
   "source": [
    "X_train_Sstate = vectorizer_1.fit_transform(X_train['school_state'].values)\n",
    "X_test_Sstate = vectorizer_1.transform(X_test['school_state'].values)"
   ]
  },
  {
   "cell_type": "code",
   "execution_count": 0,
   "metadata": {
    "colab": {
     "base_uri": "https://localhost:8080/",
     "height": 51
    },
    "colab_type": "code",
    "id": "4iMJhj4TkPS_",
    "outputId": "d7c2a39d-2a66-40f5-a9a3-e529700ee65d"
   },
   "outputs": [
    {
     "name": "stdout",
     "output_type": "stream",
     "text": [
      "(73196, 51)\n",
      "(36052, 51)\n"
     ]
    }
   ],
   "source": [
    "print(X_train_Sstate.shape)\n",
    "print(X_test_Sstate.shape)"
   ]
  },
  {
   "cell_type": "markdown",
   "metadata": {
    "colab_type": "text",
    "id": "itg5xoYdkPTA"
   },
   "source": [
    "### 1.2 Clean Categories"
   ]
  },
  {
   "cell_type": "code",
   "execution_count": 0,
   "metadata": {
    "colab": {},
    "colab_type": "code",
    "id": "DXBaOzH5kPTB"
   },
   "outputs": [],
   "source": [
    "vectorizer_2 = CountVectorizer(list(X_train['clean_categories'].values), lowercase=False, binary=True)"
   ]
  },
  {
   "cell_type": "code",
   "execution_count": 0,
   "metadata": {
    "colab": {},
    "colab_type": "code",
    "id": "05bFtKmykPTD"
   },
   "outputs": [],
   "source": [
    "X_train_cat = vectorizer_2.fit_transform(X_train['clean_categories'].values)\n",
    "X_test_cat = vectorizer_2.transform(X_test['clean_categories'].values)"
   ]
  },
  {
   "cell_type": "code",
   "execution_count": 0,
   "metadata": {
    "colab": {
     "base_uri": "https://localhost:8080/",
     "height": 51
    },
    "colab_type": "code",
    "id": "LHvsgL8ykPTE",
    "outputId": "7dda064b-24ba-4b0b-bf98-8e7d2049f1d4"
   },
   "outputs": [
    {
     "name": "stdout",
     "output_type": "stream",
     "text": [
      "(73196, 9)\n",
      "(36052, 9)\n"
     ]
    }
   ],
   "source": [
    "print(X_train_cat.shape)\n",
    "print(X_test_cat.shape)"
   ]
  },
  {
   "cell_type": "markdown",
   "metadata": {
    "colab_type": "text",
    "id": "ZNkT6tWCkPTG"
   },
   "source": [
    "### 1.3 Clean Sub categories"
   ]
  },
  {
   "cell_type": "code",
   "execution_count": 0,
   "metadata": {
    "colab": {},
    "colab_type": "code",
    "id": "g2sV3oilkPTG"
   },
   "outputs": [],
   "source": [
    "vectorizer_3 = CountVectorizer(list(X_train['clean_subcategories'].values), lowercase=False, binary=True)"
   ]
  },
  {
   "cell_type": "code",
   "execution_count": 0,
   "metadata": {
    "colab": {},
    "colab_type": "code",
    "id": "pmQBb1vskPTI"
   },
   "outputs": [],
   "source": [
    "X_train_subcat = vectorizer_3.fit_transform(X_train['clean_subcategories'].values)\n",
    "X_test_subcat = vectorizer_3.transform(X_test['clean_subcategories'].values)"
   ]
  },
  {
   "cell_type": "code",
   "execution_count": 0,
   "metadata": {
    "colab": {
     "base_uri": "https://localhost:8080/",
     "height": 51
    },
    "colab_type": "code",
    "id": "0I5z-z9KkPTJ",
    "outputId": "2e07f51f-29b9-4fb5-cca5-8915a59924fe"
   },
   "outputs": [
    {
     "name": "stdout",
     "output_type": "stream",
     "text": [
      "(73196, 30)\n",
      "(36052, 30)\n"
     ]
    }
   ],
   "source": [
    "print(X_train_subcat.shape)\n",
    "print(X_test_subcat.shape)"
   ]
  },
  {
   "cell_type": "markdown",
   "metadata": {
    "colab_type": "text",
    "id": "PD6k6Qq1kPTL"
   },
   "source": [
    "### 1.4 Project Grade Category"
   ]
  },
  {
   "cell_type": "code",
   "execution_count": 0,
   "metadata": {
    "colab": {},
    "colab_type": "code",
    "id": "M_2W9-5dkPTL"
   },
   "outputs": [],
   "source": [
    "vectorizer_4 = CountVectorizer(list(X_train['project_grade_category'].values), lowercase=False, binary=True)"
   ]
  },
  {
   "cell_type": "code",
   "execution_count": 0,
   "metadata": {
    "colab": {},
    "colab_type": "code",
    "id": "_-jIDHovkPTO"
   },
   "outputs": [],
   "source": [
    "X_train_grade = vectorizer_4.fit_transform(X_train['project_grade_category'].values)\n",
    "X_test_grade = vectorizer_4.transform(X_test['project_grade_category'].values)"
   ]
  },
  {
   "cell_type": "code",
   "execution_count": 0,
   "metadata": {
    "colab": {
     "base_uri": "https://localhost:8080/",
     "height": 51
    },
    "colab_type": "code",
    "id": "qOjcqZyskPTQ",
    "outputId": "ac960d25-8b2e-4a87-d446-cbbd1bbde4b3"
   },
   "outputs": [
    {
     "name": "stdout",
     "output_type": "stream",
     "text": [
      "(73196, 4)\n",
      "(36052, 4)\n"
     ]
    }
   ],
   "source": [
    "print(X_train_grade.shape)\n",
    "print(X_test_grade.shape)"
   ]
  },
  {
   "cell_type": "markdown",
   "metadata": {
    "colab_type": "text",
    "id": "QbIV3s87kPTR"
   },
   "source": [
    "### 1.5 Teacher Prefix"
   ]
  },
  {
   "cell_type": "code",
   "execution_count": 0,
   "metadata": {
    "colab": {},
    "colab_type": "code",
    "id": "sV7P4e5dkPTS"
   },
   "outputs": [],
   "source": [
    "vectorizer_5 = CountVectorizer(list(X_train['teacher_prefix'].values), lowercase=False, binary=True)"
   ]
  },
  {
   "cell_type": "code",
   "execution_count": 0,
   "metadata": {
    "colab": {},
    "colab_type": "code",
    "id": "FfXs-oCHkPTT"
   },
   "outputs": [],
   "source": [
    "X_train_prefix = vectorizer_5.fit_transform(X_train['teacher_prefix'].values)\n",
    "X_test_prefix = vectorizer_5.transform(X_test['teacher_prefix'].values)"
   ]
  },
  {
   "cell_type": "code",
   "execution_count": 0,
   "metadata": {
    "colab": {
     "base_uri": "https://localhost:8080/",
     "height": 51
    },
    "colab_type": "code",
    "id": "OauPPjaYkPTV",
    "outputId": "3097aefa-c961-4a4b-9e91-c89f5177f7fb"
   },
   "outputs": [
    {
     "name": "stdout",
     "output_type": "stream",
     "text": [
      "(73196, 5)\n",
      "(36052, 5)\n"
     ]
    }
   ],
   "source": [
    "print(X_train_prefix.shape)\n",
    "print(X_test_prefix.shape)"
   ]
  },
  {
   "cell_type": "markdown",
   "metadata": {
    "colab_type": "text",
    "id": "GKRJQN3lkPTX"
   },
   "source": [
    "### 1.6 Essay"
   ]
  },
  {
   "cell_type": "markdown",
   "metadata": {
    "colab_type": "text",
    "id": "BaijcImmkPTX"
   },
   "source": [
    "#### 1.6.1 BOW"
   ]
  },
  {
   "cell_type": "code",
   "execution_count": 0,
   "metadata": {
    "colab": {},
    "colab_type": "code",
    "id": "HE8B7gUSkPTX"
   },
   "outputs": [],
   "source": [
    "vectorizer_6 = CountVectorizer(list(X_train['essay'].values), min_df=10)"
   ]
  },
  {
   "cell_type": "code",
   "execution_count": 0,
   "metadata": {
    "colab": {},
    "colab_type": "code",
    "id": "wbAFFEjJkPTZ"
   },
   "outputs": [],
   "source": [
    "#We are considering the words which occur in atleat 10 documents\n",
    "X_train_essay_bow = vectorizer_6.fit_transform(X_train['essay'].values)\n",
    "X_test_essay_bow = vectorizer_6.transform(X_test['essay'].values)"
   ]
  },
  {
   "cell_type": "code",
   "execution_count": 0,
   "metadata": {
    "colab": {
     "base_uri": "https://localhost:8080/",
     "height": 51
    },
    "colab_type": "code",
    "id": "_B5ypzuVkPTc",
    "outputId": "b8ebe795-a3be-4c92-f588-e519990f05d0"
   },
   "outputs": [
    {
     "name": "stdout",
     "output_type": "stream",
     "text": [
      "(73196, 14266)\n",
      "(36052, 14266)\n"
     ]
    }
   ],
   "source": [
    "print(X_train_essay_bow.shape)\n",
    "print(X_test_essay_bow.shape)"
   ]
  },
  {
   "cell_type": "markdown",
   "metadata": {
    "colab_type": "text",
    "id": "0WANDDPekPTd"
   },
   "source": [
    "#### 1.6.2 TFIDF "
   ]
  },
  {
   "cell_type": "code",
   "execution_count": 0,
   "metadata": {
    "colab": {},
    "colab_type": "code",
    "id": "NhWSmgw4kPTe"
   },
   "outputs": [],
   "source": [
    "from sklearn.feature_extraction.text import TfidfVectorizer\n",
    "vectorizer_7 = TfidfVectorizer(list(X_train['essay'].values), min_df=10)"
   ]
  },
  {
   "cell_type": "code",
   "execution_count": 0,
   "metadata": {
    "colab": {},
    "colab_type": "code",
    "id": "HlhyQM_RkPTf"
   },
   "outputs": [],
   "source": [
    "X_train_essay_tfidf = vectorizer_7.fit_transform(X_train['essay'].values)\n",
    "X_test_essay_tfidf = vectorizer_7.transform(X_test['essay'].values)"
   ]
  },
  {
   "cell_type": "code",
   "execution_count": 0,
   "metadata": {
    "colab": {
     "base_uri": "https://localhost:8080/",
     "height": 51
    },
    "colab_type": "code",
    "id": "g4MmCRiZkPTh",
    "outputId": "b0afa8ba-b5d6-4dc8-81aa-ea1c8d938cd5"
   },
   "outputs": [
    {
     "name": "stdout",
     "output_type": "stream",
     "text": [
      "(73196, 14266)\n",
      "(36052, 14266)\n"
     ]
    }
   ],
   "source": [
    "print(X_train_essay_tfidf.shape)\n",
    "print(X_test_essay_tfidf.shape)"
   ]
  },
  {
   "cell_type": "markdown",
   "metadata": {
    "colab_type": "text",
    "id": "aqNIMYtBkPTi"
   },
   "source": [
    "#### 1.6.3 AvgW2V"
   ]
  },
  {
   "cell_type": "code",
   "execution_count": 0,
   "metadata": {
    "colab": {},
    "colab_type": "code",
    "id": "-RSwnOZnkPTj"
   },
   "outputs": [],
   "source": [
    "#Unpickling\n",
    "import pickle\n",
    "with open('/content/drive/My Drive/Applied AI/Datasets/New Donors/glove_vectors', 'rb') as f:\n",
    "    model = pickle.load(f)\n",
    "    glove_words = set(model.keys())"
   ]
  },
  {
   "cell_type": "code",
   "execution_count": 0,
   "metadata": {
    "colab": {
     "base_uri": "https://localhost:8080/",
     "height": 51
    },
    "colab_type": "code",
    "id": "XdsuYhdMkPTk",
    "outputId": "d438d947-ff20-4e99-e35b-10536d3bce21"
   },
   "outputs": [
    {
     "name": "stderr",
     "output_type": "stream",
     "text": [
      "100%|██████████| 73196/73196 [00:21<00:00, 3423.09it/s]\n",
      "100%|██████████| 36052/36052 [00:10<00:00, 3386.64it/s]\n"
     ]
    }
   ],
   "source": [
    "X_train_essay_avg_w2v = []\n",
    "X_test_essay_avg_w2v = []\n",
    "\n",
    "for i in tqdm(X_train['essay']):\n",
    "    vector = np.zeros(300)\n",
    "    cnt_words = 0\n",
    "    \n",
    "    for word in i.split():\n",
    "        if word in glove_words:\n",
    "            vector += model[word]\n",
    "            cnt_words +=1\n",
    "            \n",
    "    if cnt_words !=0:\n",
    "            vector /= cnt_words\n",
    "            \n",
    "    X_train_essay_avg_w2v.append(vector)\n",
    "    \n",
    "for i in tqdm(X_test['essay']):\n",
    "    vector = np.zeros(300)\n",
    "    cnt_words = 0\n",
    "    for word in i.split():\n",
    "        if word in glove_words :\n",
    "            vector += model[word]\n",
    "            cnt_words += 1\n",
    "            \n",
    "    if cnt_words != 0:\n",
    "        vector /= cnt_words\n",
    "    X_test_essay_avg_w2v.append(vector)"
   ]
  },
  {
   "cell_type": "code",
   "execution_count": 0,
   "metadata": {
    "colab": {
     "base_uri": "https://localhost:8080/",
     "height": 102
    },
    "colab_type": "code",
    "id": "vBUFXLeEkPTl",
    "outputId": "e797f580-5d26-489d-b6c6-e4585cf1617f"
   },
   "outputs": [
    {
     "name": "stdout",
     "output_type": "stream",
     "text": [
      "73196\n",
      "300\n",
      "==================================================\n",
      "36052\n",
      "300\n"
     ]
    }
   ],
   "source": [
    "print(len(X_train_essay_avg_w2v))\n",
    "print(len(X_train_essay_avg_w2v[0]))\n",
    "print('='*50)\n",
    "print(len(X_test_essay_avg_w2v))\n",
    "print(len(X_test_essay_avg_w2v[0]))"
   ]
  },
  {
   "cell_type": "markdown",
   "metadata": {
    "colab_type": "text",
    "id": "sV6V_D79kPTn"
   },
   "source": [
    "#### 1.6.4 TFIDF W2V"
   ]
  },
  {
   "cell_type": "code",
   "execution_count": 0,
   "metadata": {
    "colab": {},
    "colab_type": "code",
    "id": "xB5AzRLpkPTn"
   },
   "outputs": [],
   "source": [
    "from sklearn.feature_extraction.text import TfidfVectorizer\n",
    "Tf_idf_model = TfidfVectorizer()\n",
    "Tf_idf_model.fit(X_train['essay'])\n",
    "\n",
    "dictionary = dict(zip(Tf_idf_model.get_feature_names(), Tf_idf_model.idf_))\n",
    "tf_idf_words = set(Tf_idf_model.get_feature_names())"
   ]
  },
  {
   "cell_type": "code",
   "execution_count": 37,
   "metadata": {
    "colab": {
     "base_uri": "https://localhost:8080/",
     "height": 1000
    },
    "colab_type": "code",
    "id": "q5OGzXk4kPTo",
    "outputId": "14f9fa59-2890-47d9-c180-1a3267e9feeb"
   },
   "outputs": [
    {
     "name": "stderr",
     "output_type": "stream",
     "text": [
      "\n",
      "  0%|          | 0/73196 [00:00<?, ?it/s]\u001b[A\n",
      "  0%|          | 49/73196 [00:00<02:34, 474.84it/s]\u001b[A\n",
      "  0%|          | 87/73196 [00:00<02:45, 441.39it/s]\u001b[A\n",
      "  0%|          | 134/73196 [00:00<02:42, 449.04it/s]\u001b[A\n",
      "  0%|          | 182/73196 [00:00<02:40, 454.76it/s]\u001b[A\n",
      "  0%|          | 232/73196 [00:00<02:36, 466.64it/s]\u001b[A\n",
      "  0%|          | 280/73196 [00:00<02:35, 468.67it/s]\u001b[A\n",
      "  0%|          | 332/73196 [00:00<02:31, 481.74it/s]\u001b[A\n",
      "  1%|          | 381/73196 [00:00<02:31, 479.85it/s]\u001b[A\n",
      "  1%|          | 427/73196 [00:00<02:35, 469.19it/s]\u001b[A\n",
      "  1%|          | 480/73196 [00:01<02:29, 485.27it/s]\u001b[A\n",
      "  1%|          | 528/73196 [00:01<02:32, 476.65it/s]\u001b[A\n",
      "  1%|          | 577/73196 [00:01<02:31, 478.61it/s]\u001b[A\n",
      "  1%|          | 625/73196 [00:01<02:31, 477.47it/s]\u001b[A\n",
      "  1%|          | 673/73196 [00:01<02:34, 470.18it/s]\u001b[A\n",
      "  1%|          | 721/73196 [00:01<02:33, 471.39it/s]\u001b[A\n",
      "  1%|          | 770/73196 [00:01<02:32, 475.55it/s]\u001b[A\n",
      "  1%|          | 818/73196 [00:01<02:32, 474.19it/s]\u001b[A\n",
      "  1%|          | 866/73196 [00:01<02:33, 472.25it/s]\u001b[A\n",
      "  1%|          | 914/73196 [00:01<02:35, 465.73it/s]\u001b[A\n",
      "  1%|▏         | 961/73196 [00:02<02:36, 461.21it/s]\u001b[A\n",
      "  1%|▏         | 1014/73196 [00:02<02:31, 477.02it/s]\u001b[A\n",
      "  1%|▏         | 1062/73196 [00:02<02:36, 460.41it/s]\u001b[A\n",
      "  2%|▏         | 1109/73196 [00:02<02:41, 447.47it/s]\u001b[A\n",
      "  2%|▏         | 1157/73196 [00:02<02:37, 456.06it/s]\u001b[A\n",
      "  2%|▏         | 1203/73196 [00:02<02:38, 453.73it/s]\u001b[A\n",
      "  2%|▏         | 1249/73196 [00:02<02:40, 448.40it/s]\u001b[A\n",
      "  2%|▏         | 1299/73196 [00:02<02:36, 460.80it/s]\u001b[A\n",
      "  2%|▏         | 1346/73196 [00:02<02:38, 452.90it/s]\u001b[A\n",
      " 86%|████████▌ | 62985/73196 [02:20<00:20, 508.27it/s]\n",
      "  2%|▏         | 1438/73196 [00:03<02:38, 453.86it/s]\u001b[A\n",
      "  2%|▏         | 1484/73196 [00:03<02:45, 433.68it/s]\u001b[A\n",
      "  2%|▏         | 1530/73196 [00:03<02:42, 440.22it/s]\u001b[A\n",
      "  2%|▏         | 1578/73196 [00:03<02:39, 449.90it/s]\u001b[A\n",
      "  2%|▏         | 1625/73196 [00:03<02:37, 453.67it/s]\u001b[A\n",
      "  2%|▏         | 1678/73196 [00:03<02:32, 470.01it/s]\u001b[A\n",
      "  2%|▏         | 1729/73196 [00:03<02:28, 480.97it/s]\u001b[A\n",
      "  2%|▏         | 1778/73196 [00:03<02:31, 472.22it/s]\u001b[A\n",
      "  2%|▏         | 1826/73196 [00:03<02:32, 468.86it/s]\u001b[A\n",
      "  3%|▎         | 1876/73196 [00:04<02:29, 477.29it/s]\u001b[A\n",
      "  3%|▎         | 1926/73196 [00:04<02:28, 481.21it/s]\u001b[A\n",
      "  3%|▎         | 1975/73196 [00:04<02:32, 466.24it/s]\u001b[A\n",
      "  3%|▎         | 2024/73196 [00:04<02:30, 472.44it/s]\u001b[A\n",
      "  3%|▎         | 2072/73196 [00:04<02:33, 462.28it/s]\u001b[A\n",
      "  3%|▎         | 2119/73196 [00:04<02:36, 454.22it/s]\u001b[A\n",
      "  3%|▎         | 2168/73196 [00:04<02:33, 462.79it/s]\u001b[A\n",
      "  3%|▎         | 2221/73196 [00:04<02:28, 476.99it/s]\u001b[A\n",
      "  3%|▎         | 2269/73196 [00:04<02:32, 464.51it/s]\u001b[A\n",
      "  3%|▎         | 2319/73196 [00:04<02:29, 474.38it/s]\u001b[A\n",
      "  3%|▎         | 2368/73196 [00:05<02:28, 478.50it/s]\u001b[A\n",
      "  3%|▎         | 2418/73196 [00:05<02:26, 481.64it/s]\u001b[A\n",
      "  3%|▎         | 2467/73196 [00:05<02:31, 466.61it/s]\u001b[A\n",
      "  3%|▎         | 2514/73196 [00:05<02:34, 456.75it/s]\u001b[A\n",
      "  3%|▎         | 2560/73196 [00:05<02:37, 447.53it/s]\u001b[A\n",
      "  4%|▎         | 2607/73196 [00:05<02:36, 452.01it/s]\u001b[A\n",
      "  4%|▎         | 2653/73196 [00:05<02:37, 448.70it/s]\u001b[A\n",
      "  4%|▎         | 2698/73196 [00:05<02:40, 438.54it/s]\u001b[A\n",
      "  4%|▍         | 2753/73196 [00:05<02:31, 466.24it/s]\u001b[A\n",
      "  4%|▍         | 2801/73196 [00:06<02:31, 464.71it/s]\u001b[A\n",
      "  4%|▍         | 2852/73196 [00:06<02:27, 476.44it/s]\u001b[A\n",
      "  4%|▍         | 2900/73196 [00:06<02:29, 468.76it/s]\u001b[A\n",
      "  4%|▍         | 2948/73196 [00:06<02:35, 450.73it/s]\u001b[A\n",
      "  4%|▍         | 2994/73196 [00:06<02:36, 448.50it/s]\u001b[A\n",
      "  4%|▍         | 3045/73196 [00:06<02:31, 463.70it/s]\u001b[A\n",
      "  4%|▍         | 3092/73196 [00:06<02:31, 463.73it/s]\u001b[A\n",
      "  4%|▍         | 3142/73196 [00:06<02:29, 469.39it/s]\u001b[A\n",
      "  4%|▍         | 3190/73196 [00:06<02:31, 463.35it/s]\u001b[A\n",
      "  4%|▍         | 3239/73196 [00:06<02:28, 470.02it/s]\u001b[A\n",
      "  4%|▍         | 3287/73196 [00:07<02:29, 468.72it/s]\u001b[A\n",
      "  5%|▍         | 3336/73196 [00:07<02:27, 473.70it/s]\u001b[A\n",
      "  5%|▍         | 3386/73196 [00:07<02:25, 479.28it/s]\u001b[A\n",
      "  5%|▍         | 3434/73196 [00:07<02:27, 473.18it/s]\u001b[A\n",
      "  5%|▍         | 3482/73196 [00:07<02:28, 468.84it/s]\u001b[A\n",
      "  5%|▍         | 3535/73196 [00:07<02:23, 484.72it/s]\u001b[A\n",
      "  5%|▍         | 3589/73196 [00:07<02:19, 499.79it/s]\u001b[A\n",
      "  5%|▍         | 3640/73196 [00:07<02:20, 493.54it/s]\u001b[A\n",
      "  5%|▌         | 3690/73196 [00:07<02:22, 486.93it/s]\u001b[A\n",
      "  5%|▌         | 3739/73196 [00:07<02:23, 483.08it/s]\u001b[A\n",
      "  5%|▌         | 3789/73196 [00:08<02:22, 486.89it/s]\u001b[A\n",
      "  5%|▌         | 3838/73196 [00:08<02:24, 480.57it/s]\u001b[A\n",
      "  5%|▌         | 3887/73196 [00:08<02:24, 480.39it/s]\u001b[A\n",
      "  5%|▌         | 3936/73196 [00:08<02:24, 480.62it/s]\u001b[A\n",
      "  5%|▌         | 3989/73196 [00:08<02:20, 493.82it/s]\u001b[A\n",
      "  6%|▌         | 4039/73196 [00:08<02:21, 488.48it/s]\u001b[A\n",
      "  6%|▌         | 4088/73196 [00:08<02:26, 472.10it/s]\u001b[A\n",
      "  6%|▌         | 4136/73196 [00:08<02:26, 470.71it/s]\u001b[A\n",
      "  6%|▌         | 4184/73196 [00:08<02:30, 458.55it/s]\u001b[A\n",
      "  6%|▌         | 4232/73196 [00:09<02:28, 464.52it/s]\u001b[A\n",
      "  6%|▌         | 4282/73196 [00:09<02:25, 473.82it/s]\u001b[A\n",
      "  6%|▌         | 4330/73196 [00:09<02:27, 466.14it/s]\u001b[A\n",
      "  6%|▌         | 4379/73196 [00:09<02:25, 471.87it/s]\u001b[A\n",
      "  6%|▌         | 4427/73196 [00:09<02:29, 458.88it/s]\u001b[A\n",
      "  6%|▌         | 4479/73196 [00:09<02:24, 475.20it/s]\u001b[A\n",
      "  6%|▌         | 4529/73196 [00:09<02:22, 480.62it/s]\u001b[A\n",
      "  6%|▋         | 4578/73196 [00:09<02:22, 480.59it/s]\u001b[A\n",
      "  6%|▋         | 4631/73196 [00:09<02:19, 492.97it/s]\u001b[A\n",
      "  6%|▋         | 4685/73196 [00:09<02:15, 504.69it/s]\u001b[A\n",
      "  6%|▋         | 4736/73196 [00:10<02:16, 499.97it/s]\u001b[A\n",
      "  7%|▋         | 4787/73196 [00:10<02:28, 459.54it/s]\u001b[A\n",
      "  7%|▋         | 4834/73196 [00:10<02:29, 456.87it/s]\u001b[A\n",
      "  7%|▋         | 4881/73196 [00:10<02:33, 446.41it/s]\u001b[A\n",
      "  7%|▋         | 4934/73196 [00:10<02:26, 466.43it/s]\u001b[A\n",
      "  7%|▋         | 4982/73196 [00:10<02:33, 445.71it/s]\u001b[A\n",
      "  7%|▋         | 5030/73196 [00:10<02:30, 453.20it/s]\u001b[A\n",
      "  7%|▋         | 5079/73196 [00:10<02:28, 459.80it/s]\u001b[A\n",
      "  7%|▋         | 5126/73196 [00:10<02:28, 458.39it/s]\u001b[A\n",
      "  7%|▋         | 5182/73196 [00:11<02:20, 484.09it/s]\u001b[A\n",
      "  7%|▋         | 5231/73196 [00:11<02:22, 476.87it/s]\u001b[A\n",
      "  7%|▋         | 5280/73196 [00:11<02:23, 473.32it/s]\u001b[A\n",
      "  7%|▋         | 5330/73196 [00:11<02:21, 480.12it/s]\u001b[A\n",
      "  7%|▋         | 5380/73196 [00:11<02:19, 485.59it/s]\u001b[A\n",
      "  7%|▋         | 5429/73196 [00:11<02:20, 482.38it/s]\u001b[A\n",
      "  7%|▋         | 5478/73196 [00:11<02:26, 462.40it/s]\u001b[A\n",
      "  8%|▊         | 5526/73196 [00:11<02:25, 465.62it/s]\u001b[A\n",
      "  8%|▊         | 5575/73196 [00:11<02:23, 470.92it/s]\u001b[A\n",
      "  8%|▊         | 5623/73196 [00:11<02:23, 470.05it/s]\u001b[A\n",
      "  8%|▊         | 5677/73196 [00:12<02:19, 485.70it/s]\u001b[A\n",
      "  8%|▊         | 5730/73196 [00:12<02:16, 495.61it/s]\u001b[A\n",
      "  8%|▊         | 5780/73196 [00:12<02:22, 472.18it/s]\u001b[A\n",
      "  8%|▊         | 5828/73196 [00:12<02:22, 474.07it/s]\u001b[A\n",
      "  8%|▊         | 5876/73196 [00:12<02:21, 475.35it/s]\u001b[A\n",
      "  8%|▊         | 5924/73196 [00:12<02:23, 468.27it/s]\u001b[A\n",
      "  8%|▊         | 5971/73196 [00:12<02:25, 461.17it/s]\u001b[A\n",
      "  8%|▊         | 6018/73196 [00:12<02:27, 456.80it/s]\u001b[A\n",
      "  8%|▊         | 6065/73196 [00:12<02:26, 458.92it/s]\u001b[A\n",
      "  8%|▊         | 6112/73196 [00:13<02:25, 460.77it/s]\u001b[A\n",
      "  8%|▊         | 6159/73196 [00:13<02:26, 458.74it/s]\u001b[A\n",
      "  8%|▊         | 6207/73196 [00:13<02:24, 462.71it/s]\u001b[A\n",
      "  9%|▊         | 6254/73196 [00:13<02:28, 451.42it/s]\u001b[A\n",
      "  9%|▊         | 6303/73196 [00:13<02:25, 460.11it/s]\u001b[A\n",
      "  9%|▊         | 6350/73196 [00:13<02:27, 452.56it/s]\u001b[A\n",
      "  9%|▊         | 6396/73196 [00:13<02:28, 449.91it/s]\u001b[A\n",
      "  9%|▉         | 6442/73196 [00:13<02:28, 450.59it/s]\u001b[A\n",
      "  9%|▉         | 6490/73196 [00:13<02:26, 455.78it/s]\u001b[A\n",
      "  9%|▉         | 6540/73196 [00:13<02:22, 467.72it/s]\u001b[A\n",
      "  9%|▉         | 6593/73196 [00:14<02:17, 484.03it/s]\u001b[A\n",
      "  9%|▉         | 6642/73196 [00:14<02:17, 485.60it/s]\u001b[A\n",
      "  9%|▉         | 6694/73196 [00:14<02:14, 493.39it/s]\u001b[A\n",
      "  9%|▉         | 6744/73196 [00:14<02:14, 493.86it/s]\u001b[A\n",
      "  9%|▉         | 6794/73196 [00:14<02:14, 494.05it/s]\u001b[A\n",
      "  9%|▉         | 6846/73196 [00:14<02:12, 500.02it/s]\u001b[A\n",
      "  9%|▉         | 6897/73196 [00:14<02:14, 491.43it/s]\u001b[A\n",
      "  9%|▉         | 6947/73196 [00:14<02:17, 483.31it/s]\u001b[A\n",
      " 10%|▉         | 7000/73196 [00:14<02:13, 495.24it/s]\u001b[A\n",
      " 10%|▉         | 7052/73196 [00:14<02:12, 501.07it/s]\u001b[A\n",
      " 10%|▉         | 7103/73196 [00:15<02:14, 490.32it/s]\u001b[A\n",
      " 10%|▉         | 7153/73196 [00:15<02:16, 484.69it/s]\u001b[A\n",
      " 10%|▉         | 7205/73196 [00:15<02:13, 494.45it/s]\u001b[A\n",
      " 10%|▉         | 7255/73196 [00:15<02:15, 487.96it/s]\u001b[A\n",
      " 10%|▉         | 7304/73196 [00:15<02:19, 473.91it/s]\u001b[A\n",
      " 10%|█         | 7352/73196 [00:15<02:20, 468.12it/s]\u001b[A\n",
      " 10%|█         | 7399/73196 [00:15<02:21, 465.41it/s]\u001b[A\n",
      " 10%|█         | 7452/73196 [00:15<02:16, 480.68it/s]\u001b[A\n",
      " 10%|█         | 7501/73196 [00:15<02:17, 478.99it/s]\u001b[A\n",
      " 10%|█         | 7550/73196 [00:16<02:18, 474.20it/s]\u001b[A\n",
      " 10%|█         | 7600/73196 [00:16<02:16, 481.01it/s]\u001b[A\n",
      " 10%|█         | 7649/73196 [00:16<02:18, 474.17it/s]\u001b[A\n",
      " 11%|█         | 7697/73196 [00:16<02:25, 451.56it/s]\u001b[A\n",
      " 11%|█         | 7746/73196 [00:16<02:21, 461.39it/s]\u001b[A\n",
      " 11%|█         | 7793/73196 [00:16<02:23, 456.56it/s]\u001b[A\n",
      " 11%|█         | 7843/73196 [00:16<02:20, 465.10it/s]\u001b[A\n",
      " 11%|█         | 7892/73196 [00:16<02:18, 471.71it/s]\u001b[A\n",
      " 11%|█         | 7940/73196 [00:16<02:23, 456.17it/s]\u001b[A\n",
      " 11%|█         | 7992/73196 [00:16<02:18, 470.27it/s]\u001b[A\n",
      " 11%|█         | 8040/73196 [00:17<02:21, 460.58it/s]\u001b[A\n",
      " 11%|█         | 8089/73196 [00:17<02:18, 468.41it/s]\u001b[A\n",
      " 11%|█         | 8143/73196 [00:17<02:13, 486.55it/s]\u001b[A\n",
      " 11%|█         | 8192/73196 [00:17<02:15, 478.27it/s]\u001b[A\n",
      " 11%|█▏        | 8241/73196 [00:17<02:16, 476.52it/s]\u001b[A\n",
      " 11%|█▏        | 8297/73196 [00:17<02:10, 496.77it/s]\u001b[A\n",
      " 11%|█▏        | 8348/73196 [00:17<02:11, 494.37it/s]\u001b[A\n",
      " 11%|█▏        | 8398/73196 [00:17<02:16, 475.10it/s]\u001b[A\n",
      " 12%|█▏        | 8446/73196 [00:17<02:16, 473.29it/s]\u001b[A\n",
      " 12%|█▏        | 8496/73196 [00:18<02:14, 479.90it/s]\u001b[A\n",
      " 12%|█▏        | 8546/73196 [00:18<02:13, 484.74it/s]\u001b[A\n",
      " 12%|█▏        | 8595/73196 [00:18<02:15, 477.30it/s]\u001b[A\n",
      " 12%|█▏        | 8645/73196 [00:18<02:14, 479.20it/s]\u001b[A\n",
      " 12%|█▏        | 8694/73196 [00:18<02:15, 476.03it/s]\u001b[A\n",
      " 12%|█▏        | 8743/73196 [00:18<02:14, 479.17it/s]\u001b[A\n",
      " 12%|█▏        | 8792/73196 [00:18<02:13, 482.12it/s]\u001b[A\n",
      " 12%|█▏        | 8841/73196 [00:18<02:14, 479.42it/s]\u001b[A\n",
      " 12%|█▏        | 8889/73196 [00:18<02:14, 478.72it/s]\u001b[A\n",
      " 12%|█▏        | 8937/73196 [00:18<02:19, 460.90it/s]\u001b[A\n",
      " 12%|█▏        | 8986/73196 [00:19<02:17, 467.19it/s]\u001b[A\n",
      " 12%|█▏        | 9034/73196 [00:19<02:16, 470.85it/s]\u001b[A\n",
      " 12%|█▏        | 9082/73196 [00:19<02:18, 464.26it/s]\u001b[A\n",
      " 12%|█▏        | 9129/73196 [00:19<02:22, 449.00it/s]\u001b[A\n",
      " 13%|█▎        | 9176/73196 [00:19<02:20, 454.16it/s]\u001b[A\n",
      " 13%|█▎        | 9224/73196 [00:19<02:19, 459.75it/s]\u001b[A\n",
      " 13%|█▎        | 9271/73196 [00:19<02:21, 450.77it/s]\u001b[A\n",
      " 13%|█▎        | 9323/73196 [00:19<02:16, 469.36it/s]\u001b[A\n",
      " 13%|█▎        | 9371/73196 [00:19<02:18, 461.05it/s]\u001b[A\n",
      " 13%|█▎        | 9418/73196 [00:20<02:19, 458.20it/s]\u001b[A\n",
      " 13%|█▎        | 9474/73196 [00:20<02:11, 484.41it/s]\u001b[A\n",
      " 13%|█▎        | 9527/73196 [00:20<02:08, 493.70it/s]\u001b[A\n",
      " 13%|█▎        | 9577/73196 [00:20<02:10, 487.16it/s]\u001b[A\n",
      " 13%|█▎        | 9628/73196 [00:20<02:09, 492.64it/s]\u001b[A\n",
      " 13%|█▎        | 9682/73196 [00:20<02:06, 500.83it/s]\u001b[A\n",
      " 13%|█▎        | 9733/73196 [00:20<02:09, 490.75it/s]\u001b[A\n",
      " 13%|█▎        | 9783/73196 [00:20<02:16, 463.20it/s]\u001b[A\n",
      " 13%|█▎        | 9834/73196 [00:20<02:13, 475.31it/s]\u001b[A\n",
      " 14%|█▎        | 9885/73196 [00:20<02:11, 483.00it/s]\u001b[A\n",
      " 14%|█▎        | 9934/73196 [00:21<02:10, 483.06it/s]\u001b[A\n",
      " 14%|█▎        | 9985/73196 [00:21<02:10, 483.69it/s]\u001b[A\n",
      " 14%|█▎        | 10034/73196 [00:21<02:11, 479.66it/s]\u001b[A\n",
      " 14%|█▍        | 10083/73196 [00:21<02:13, 471.73it/s]\u001b[A\n",
      " 14%|█▍        | 10131/73196 [00:21<02:13, 471.07it/s]\u001b[A\n",
      " 14%|█▍        | 10180/73196 [00:21<02:13, 470.88it/s]\u001b[A\n",
      " 14%|█▍        | 10228/73196 [00:21<02:15, 464.96it/s]\u001b[A\n",
      " 14%|█▍        | 10276/73196 [00:21<02:14, 467.31it/s]\u001b[A\n",
      " 14%|█▍        | 10323/73196 [00:21<02:15, 464.21it/s]\u001b[A\n",
      " 14%|█▍        | 10371/73196 [00:21<02:14, 468.39it/s]\u001b[A\n",
      " 14%|█▍        | 10418/73196 [00:22<02:16, 461.53it/s]\u001b[A\n",
      " 14%|█▍        | 10465/73196 [00:22<02:17, 457.21it/s]\u001b[A\n",
      " 14%|█▍        | 10511/73196 [00:22<02:19, 448.96it/s]\u001b[A\n",
      " 14%|█▍        | 10557/73196 [00:22<02:18, 451.23it/s]\u001b[A\n",
      " 14%|█▍        | 10609/73196 [00:22<02:13, 467.53it/s]\u001b[A\n",
      " 15%|█▍        | 10660/73196 [00:22<02:10, 479.32it/s]\u001b[A\n",
      " 15%|█▍        | 10709/73196 [00:22<02:11, 476.92it/s]\u001b[A\n",
      " 15%|█▍        | 10757/73196 [00:22<02:12, 469.76it/s]\u001b[A\n",
      " 15%|█▍        | 10808/73196 [00:22<02:10, 477.02it/s]\u001b[A\n",
      " 15%|█▍        | 10858/73196 [00:23<02:09, 480.79it/s]\u001b[A\n",
      " 15%|█▍        | 10907/73196 [00:23<02:11, 473.58it/s]\u001b[A\n",
      " 15%|█▍        | 10957/73196 [00:23<02:09, 479.93it/s]\u001b[A\n",
      " 15%|█▌        | 11006/73196 [00:23<02:10, 476.19it/s]\u001b[A\n",
      " 15%|█▌        | 11054/73196 [00:23<02:10, 475.83it/s]\u001b[A\n",
      " 15%|█▌        | 11102/73196 [00:23<02:10, 476.86it/s]\u001b[A\n",
      " 15%|█▌        | 11153/73196 [00:23<02:07, 485.18it/s]\u001b[A\n",
      " 15%|█▌        | 11207/73196 [00:23<02:04, 498.57it/s]\u001b[A\n",
      " 15%|█▌        | 11257/73196 [00:23<02:08, 482.32it/s]\u001b[A\n",
      " 15%|█▌        | 11306/73196 [00:23<02:09, 477.25it/s]\u001b[A\n",
      " 16%|█▌        | 11354/73196 [00:24<02:15, 456.01it/s]\u001b[A\n",
      " 16%|█▌        | 11400/73196 [00:24<02:17, 450.77it/s]\u001b[A\n",
      " 16%|█▌        | 11446/73196 [00:24<02:16, 453.35it/s]\u001b[A\n",
      " 16%|█▌        | 11499/73196 [00:24<02:10, 472.56it/s]\u001b[A\n",
      " 16%|█▌        | 11550/73196 [00:24<02:08, 479.97it/s]\u001b[A\n",
      " 16%|█▌        | 11599/73196 [00:24<02:13, 462.31it/s]\u001b[A\n",
      " 16%|█▌        | 11650/73196 [00:24<02:09, 475.37it/s]\u001b[A\n",
      " 16%|█▌        | 11698/73196 [00:24<02:09, 474.70it/s]\u001b[A\n",
      " 16%|█▌        | 11747/73196 [00:24<02:08, 478.90it/s]\u001b[A\n",
      " 16%|█▌        | 11799/73196 [00:24<02:05, 488.37it/s]\u001b[A\n",
      " 16%|█▌        | 11848/73196 [00:25<02:08, 478.16it/s]\u001b[A\n",
      " 16%|█▋        | 11898/73196 [00:25<02:06, 483.90it/s]\u001b[A\n",
      " 16%|█▋        | 11950/73196 [00:25<02:04, 491.17it/s]\u001b[A\n",
      " 16%|█▋        | 12000/73196 [00:25<02:04, 492.65it/s]\u001b[A\n",
      " 16%|█▋        | 12051/73196 [00:25<02:02, 497.37it/s]\u001b[A\n",
      " 17%|█▋        | 12101/73196 [00:25<02:05, 487.84it/s]\u001b[A\n",
      " 17%|█▋        | 12151/73196 [00:25<02:04, 491.12it/s]\u001b[A\n",
      " 17%|█▋        | 12201/73196 [00:25<02:05, 485.00it/s]\u001b[A\n",
      " 17%|█▋        | 12250/73196 [00:25<02:07, 479.08it/s]\u001b[A\n",
      " 17%|█▋        | 12298/73196 [00:26<02:08, 473.17it/s]\u001b[A\n",
      " 17%|█▋        | 12346/73196 [00:26<02:11, 463.16it/s]\u001b[A\n",
      " 17%|█▋        | 12397/73196 [00:26<02:07, 475.47it/s]\u001b[A\n",
      " 17%|█▋        | 12445/73196 [00:26<02:08, 473.32it/s]\u001b[A\n",
      " 17%|█▋        | 12493/73196 [00:26<02:08, 471.73it/s]\u001b[A\n",
      " 17%|█▋        | 12541/73196 [00:26<02:13, 455.63it/s]\u001b[A\n",
      " 17%|█▋        | 12587/73196 [00:26<02:14, 449.71it/s]\u001b[A\n",
      " 17%|█▋        | 12633/73196 [00:26<02:17, 440.83it/s]\u001b[A\n",
      " 17%|█▋        | 12678/73196 [00:26<02:17, 439.60it/s]\u001b[A\n",
      " 17%|█▋        | 12723/73196 [00:26<02:17, 438.28it/s]\u001b[A\n",
      " 17%|█▋        | 12768/73196 [00:27<02:16, 441.11it/s]\u001b[A\n",
      " 18%|█▊        | 12823/73196 [00:27<02:09, 466.68it/s]\u001b[A\n",
      " 18%|█▊        | 12872/73196 [00:27<02:08, 470.85it/s]\u001b[A\n",
      " 18%|█▊        | 12920/73196 [00:27<02:08, 470.22it/s]\u001b[A\n",
      " 18%|█▊        | 12968/73196 [00:27<02:08, 470.39it/s]\u001b[A\n",
      " 18%|█▊        | 13018/73196 [00:27<02:06, 477.59it/s]\u001b[A\n",
      " 18%|█▊        | 13066/73196 [00:27<02:09, 464.81it/s]\u001b[A\n",
      " 18%|█▊        | 13113/73196 [00:27<02:13, 451.10it/s]\u001b[A\n",
      " 18%|█▊        | 13160/73196 [00:27<02:11, 456.28it/s]\u001b[A\n",
      " 18%|█▊        | 13207/73196 [00:28<02:10, 458.37it/s]\u001b[A\n",
      " 18%|█▊        | 13257/73196 [00:28<02:08, 467.96it/s]\u001b[A\n",
      " 18%|█▊        | 13308/73196 [00:28<02:04, 479.46it/s]\u001b[A\n",
      " 18%|█▊        | 13357/73196 [00:28<02:08, 464.75it/s]\u001b[A\n",
      " 18%|█▊        | 13404/73196 [00:28<02:11, 454.38it/s]\u001b[A\n",
      " 18%|█▊        | 13450/73196 [00:28<02:13, 446.95it/s]\u001b[A\n",
      " 18%|█▊        | 13495/73196 [00:28<02:15, 439.46it/s]\u001b[A\n",
      " 18%|█▊        | 13541/73196 [00:28<02:13, 445.34it/s]\u001b[A\n",
      " 19%|█▊        | 13586/73196 [00:28<02:15, 439.17it/s]\u001b[A\n",
      " 19%|█▊        | 13634/73196 [00:28<02:12, 448.47it/s]\u001b[A\n",
      " 19%|█▊        | 13679/73196 [00:29<02:14, 443.87it/s]\u001b[A\n",
      " 19%|█▉        | 13730/73196 [00:29<02:09, 460.49it/s]\u001b[A\n",
      " 19%|█▉        | 13777/73196 [00:29<02:10, 455.21it/s]\u001b[A\n",
      " 19%|█▉        | 13832/73196 [00:29<02:04, 477.53it/s]\u001b[A\n",
      " 19%|█▉        | 13881/73196 [00:29<02:03, 480.68it/s]\u001b[A\n",
      " 19%|█▉        | 13930/73196 [00:29<02:09, 456.11it/s]\u001b[A\n",
      " 19%|█▉        | 13977/73196 [00:29<02:09, 457.72it/s]\u001b[A\n",
      " 19%|█▉        | 14025/73196 [00:29<02:08, 461.83it/s]\u001b[A\n",
      " 19%|█▉        | 14072/73196 [00:29<02:14, 439.42it/s]\u001b[A\n",
      " 19%|█▉        | 14118/73196 [00:30<02:13, 443.83it/s]\u001b[A\n",
      " 19%|█▉        | 14163/73196 [00:30<02:17, 429.12it/s]\u001b[A\n",
      " 19%|█▉        | 14211/73196 [00:30<02:13, 442.66it/s]\u001b[A\n",
      " 19%|█▉        | 14261/73196 [00:30<02:09, 454.36it/s]\u001b[A\n",
      " 20%|█▉        | 14313/73196 [00:30<02:05, 470.94it/s]\u001b[A\n",
      " 20%|█▉        | 14361/73196 [00:30<02:07, 460.40it/s]\u001b[A\n",
      " 20%|█▉        | 14409/73196 [00:30<02:06, 465.84it/s]\u001b[A\n",
      " 20%|█▉        | 14457/73196 [00:30<02:05, 469.12it/s]\u001b[A\n",
      " 20%|█▉        | 14505/73196 [00:30<02:04, 471.60it/s]\u001b[A\n",
      " 20%|█▉        | 14554/73196 [00:30<02:03, 474.99it/s]\u001b[A\n",
      " 20%|█▉        | 14602/73196 [00:31<02:05, 465.18it/s]\u001b[A\n",
      " 20%|██        | 14650/73196 [00:31<02:04, 469.48it/s]\u001b[A\n",
      " 20%|██        | 14698/73196 [00:31<02:05, 465.45it/s]\u001b[A\n",
      " 20%|██        | 14752/73196 [00:31<02:00, 483.13it/s]\u001b[A\n",
      " 20%|██        | 14801/73196 [00:31<02:01, 479.93it/s]\u001b[A\n",
      " 20%|██        | 14852/73196 [00:31<01:59, 487.30it/s]\u001b[A\n",
      " 20%|██        | 14901/73196 [00:31<02:01, 480.29it/s]\u001b[A\n",
      " 20%|██        | 14950/73196 [00:31<02:07, 455.94it/s]\u001b[A\n",
      " 20%|██        | 14998/73196 [00:31<02:05, 462.44it/s]\u001b[A\n",
      " 21%|██        | 15045/73196 [00:31<02:06, 460.15it/s]\u001b[A\n",
      " 21%|██        | 15096/73196 [00:32<02:03, 471.44it/s]\u001b[A\n",
      " 21%|██        | 15144/73196 [00:32<02:04, 467.54it/s]\u001b[A\n",
      " 21%|██        | 15191/73196 [00:32<02:04, 464.23it/s]\u001b[A\n",
      " 21%|██        | 15242/73196 [00:32<02:01, 476.08it/s]\u001b[A\n",
      " 21%|██        | 15291/73196 [00:32<02:00, 478.59it/s]\u001b[A\n",
      " 21%|██        | 15340/73196 [00:32<02:01, 477.04it/s]\u001b[A\n",
      " 21%|██        | 15394/73196 [00:32<01:57, 491.17it/s]\u001b[A\n",
      " 21%|██        | 15444/73196 [00:32<01:57, 492.03it/s]\u001b[A\n",
      " 21%|██        | 15494/73196 [00:32<02:02, 470.39it/s]\u001b[A\n",
      " 21%|██        | 15542/73196 [00:33<02:02, 470.13it/s]\u001b[A\n",
      " 21%|██▏       | 15592/73196 [00:33<02:00, 477.10it/s]\u001b[A\n",
      " 21%|██▏       | 15643/73196 [00:33<01:58, 486.26it/s]\u001b[A\n",
      " 21%|██▏       | 15694/73196 [00:33<01:56, 493.00it/s]\u001b[A\n",
      " 22%|██▏       | 15746/73196 [00:33<01:55, 498.46it/s]\u001b[A\n",
      " 22%|██▏       | 15796/73196 [00:33<01:56, 493.04it/s]\u001b[A\n",
      " 22%|██▏       | 15846/73196 [00:33<01:57, 486.73it/s]\u001b[A\n",
      " 22%|██▏       | 15895/73196 [00:33<01:59, 480.24it/s]\u001b[A\n",
      " 22%|██▏       | 15944/73196 [00:33<02:00, 473.95it/s]\u001b[A\n",
      " 22%|██▏       | 15992/73196 [00:33<02:02, 468.84it/s]\u001b[A\n",
      " 22%|██▏       | 16046/73196 [00:34<01:58, 483.64it/s]\u001b[A\n",
      " 22%|██▏       | 16096/73196 [00:34<01:57, 484.96it/s]\u001b[A\n",
      " 22%|██▏       | 16146/73196 [00:34<01:56, 489.36it/s]\u001b[A\n",
      " 22%|██▏       | 16198/73196 [00:34<01:54, 497.05it/s]\u001b[A\n",
      " 22%|██▏       | 16250/73196 [00:34<01:53, 503.56it/s]\u001b[A\n",
      " 22%|██▏       | 16301/73196 [00:34<01:55, 491.70it/s]\u001b[A\n",
      " 22%|██▏       | 16351/73196 [00:34<01:57, 485.52it/s]\u001b[A\n",
      " 22%|██▏       | 16400/73196 [00:34<02:01, 468.89it/s]\u001b[A\n",
      " 22%|██▏       | 16448/73196 [00:34<02:06, 448.97it/s]\u001b[A\n",
      " 23%|██▎       | 16500/73196 [00:35<02:01, 465.10it/s]\u001b[A\n",
      " 23%|██▎       | 16548/73196 [00:35<02:00, 469.44it/s]\u001b[A\n",
      " 23%|██▎       | 16598/73196 [00:35<01:58, 477.30it/s]\u001b[A\n",
      " 23%|██▎       | 16647/73196 [00:35<01:57, 480.79it/s]\u001b[A\n",
      " 23%|██▎       | 16696/73196 [00:35<01:58, 476.62it/s]\u001b[A\n",
      " 23%|██▎       | 16744/73196 [00:35<01:59, 473.32it/s]\u001b[A\n",
      " 23%|██▎       | 16795/73196 [00:35<01:57, 481.63it/s]\u001b[A\n",
      " 23%|██▎       | 16844/73196 [00:35<02:00, 466.42it/s]\u001b[A\n",
      " 23%|██▎       | 16894/73196 [00:35<01:58, 474.65it/s]\u001b[A\n",
      " 23%|██▎       | 16943/73196 [00:35<01:57, 477.33it/s]\u001b[A\n",
      " 23%|██▎       | 16991/73196 [00:36<02:00, 466.35it/s]\u001b[A\n",
      " 23%|██▎       | 17040/73196 [00:36<01:59, 471.59it/s]\u001b[A\n",
      " 23%|██▎       | 17088/73196 [00:36<02:00, 465.06it/s]\u001b[A\n",
      " 23%|██▎       | 17135/73196 [00:36<02:03, 452.18it/s]\u001b[A\n",
      " 23%|██▎       | 17185/73196 [00:36<02:00, 463.57it/s]\u001b[A\n",
      " 24%|██▎       | 17242/73196 [00:36<01:54, 487.07it/s]\u001b[A\n",
      " 24%|██▎       | 17293/73196 [00:36<01:53, 493.64it/s]\u001b[A\n",
      " 24%|██▎       | 17344/73196 [00:36<01:52, 496.79it/s]\u001b[A\n",
      " 24%|██▍       | 17394/73196 [00:36<01:53, 493.49it/s]\u001b[A\n",
      " 24%|██▍       | 17444/73196 [00:36<01:55, 484.36it/s]\u001b[A\n",
      " 24%|██▍       | 17498/73196 [00:37<01:51, 498.10it/s]\u001b[A\n",
      " 24%|██▍       | 17549/73196 [00:37<01:53, 491.78it/s]\u001b[A\n",
      " 24%|██▍       | 17600/73196 [00:37<01:52, 496.04it/s]\u001b[A\n",
      " 24%|██▍       | 17654/73196 [00:37<01:49, 506.92it/s]\u001b[A\n",
      " 24%|██▍       | 17705/73196 [00:37<01:51, 498.55it/s]\u001b[A\n",
      " 24%|██▍       | 17755/73196 [00:37<01:51, 495.05it/s]\u001b[A\n",
      " 24%|██▍       | 17805/73196 [00:37<01:52, 492.18it/s]\u001b[A\n",
      " 24%|██▍       | 17855/73196 [00:37<01:53, 489.64it/s]\u001b[A\n",
      " 24%|██▍       | 17905/73196 [00:37<01:53, 488.89it/s]\u001b[A\n",
      " 25%|██▍       | 17957/73196 [00:38<01:51, 497.09it/s]\u001b[A\n",
      " 25%|██▍       | 18009/73196 [00:38<01:49, 502.75it/s]\u001b[A\n",
      " 25%|██▍       | 18060/73196 [00:38<01:52, 491.07it/s]\u001b[A\n",
      " 25%|██▍       | 18110/73196 [00:38<01:55, 478.22it/s]\u001b[A\n",
      " 25%|██▍       | 18165/73196 [00:38<01:50, 496.60it/s]\u001b[A\n",
      " 25%|██▍       | 18215/73196 [00:38<01:51, 492.58it/s]\u001b[A\n",
      " 25%|██▍       | 18265/73196 [00:38<01:54, 479.78it/s]\u001b[A\n",
      " 25%|██▌       | 18318/73196 [00:38<01:52, 489.27it/s]\u001b[A\n",
      " 25%|██▌       | 18368/73196 [00:38<01:54, 477.62it/s]\u001b[A\n",
      " 25%|██▌       | 18418/73196 [00:38<01:53, 483.73it/s]\u001b[A\n",
      " 25%|██▌       | 18467/73196 [00:39<01:56, 468.53it/s]\u001b[A\n",
      " 25%|██▌       | 18515/73196 [00:39<01:57, 465.65it/s]\u001b[A\n",
      " 25%|██▌       | 18562/73196 [00:39<01:58, 459.28it/s]\u001b[A\n",
      " 25%|██▌       | 18609/73196 [00:39<01:58, 461.01it/s]\u001b[A\n",
      " 25%|██▌       | 18660/73196 [00:39<01:54, 474.43it/s]\u001b[A\n",
      " 26%|██▌       | 18708/73196 [00:39<01:57, 465.43it/s]\u001b[A\n",
      " 26%|██▌       | 18755/73196 [00:39<01:57, 462.31it/s]\u001b[A\n",
      " 26%|██▌       | 18804/73196 [00:39<01:55, 469.66it/s]\u001b[A\n",
      " 26%|██▌       | 18852/73196 [00:39<01:56, 465.67it/s]\u001b[A\n",
      " 26%|██▌       | 18900/73196 [00:40<01:56, 467.92it/s]\u001b[A\n",
      " 26%|██▌       | 18952/73196 [00:40<01:52, 482.03it/s]\u001b[A\n",
      " 26%|██▌       | 19004/73196 [00:40<01:50, 488.45it/s]\u001b[A\n",
      " 26%|██▌       | 19054/73196 [00:40<01:50, 491.21it/s]\u001b[A\n",
      " 26%|██▌       | 19104/73196 [00:40<01:50, 488.05it/s]\u001b[A\n",
      " 26%|██▌       | 19153/73196 [00:40<01:51, 485.93it/s]\u001b[A\n",
      " 26%|██▌       | 19202/73196 [00:40<01:53, 475.73it/s]\u001b[A\n",
      " 26%|██▋       | 19253/73196 [00:40<01:51, 483.62it/s]\u001b[A\n",
      " 26%|██▋       | 19302/73196 [00:40<01:54, 472.09it/s]\u001b[A\n",
      " 26%|██▋       | 19350/73196 [00:40<01:58, 455.42it/s]\u001b[A\n",
      " 27%|██▋       | 19398/73196 [00:41<01:56, 460.06it/s]\u001b[A\n",
      " 27%|██▋       | 19446/73196 [00:41<01:55, 465.83it/s]\u001b[A\n",
      " 27%|██▋       | 19493/73196 [00:41<02:00, 446.89it/s]\u001b[A\n",
      " 27%|██▋       | 19542/73196 [00:41<01:57, 458.41it/s]\u001b[A\n",
      " 27%|██▋       | 19591/73196 [00:41<01:55, 464.89it/s]\u001b[A\n",
      " 27%|██▋       | 19638/73196 [00:41<01:58, 450.62it/s]\u001b[A\n",
      " 27%|██▋       | 19689/73196 [00:41<01:55, 464.76it/s]\u001b[A\n",
      " 27%|██▋       | 19736/73196 [00:41<01:55, 464.64it/s]\u001b[A\n",
      " 27%|██▋       | 19786/73196 [00:41<01:52, 473.66it/s]\u001b[A\n",
      " 27%|██▋       | 19834/73196 [00:41<01:54, 465.65it/s]\u001b[A\n",
      " 27%|██▋       | 19883/73196 [00:42<01:53, 471.47it/s]\u001b[A\n",
      " 27%|██▋       | 19932/73196 [00:42<01:51, 476.87it/s]\u001b[A\n",
      " 27%|██▋       | 19987/73196 [00:42<01:47, 495.52it/s]\u001b[A\n",
      " 27%|██▋       | 20037/73196 [00:42<01:51, 476.43it/s]\u001b[A\n",
      " 27%|██▋       | 20085/73196 [00:42<01:53, 469.29it/s]\u001b[A\n",
      " 28%|██▊       | 20138/73196 [00:42<01:49, 485.71it/s]\u001b[A\n",
      " 28%|██▊       | 20187/73196 [00:42<01:49, 484.15it/s]\u001b[A\n",
      " 28%|██▊       | 20236/73196 [00:42<01:52, 470.44it/s]\u001b[A\n",
      " 28%|██▊       | 20284/73196 [00:42<01:51, 472.75it/s]\u001b[A\n",
      " 28%|██▊       | 20332/73196 [00:43<01:52, 470.41it/s]\u001b[A\n",
      " 28%|██▊       | 20380/73196 [00:43<01:52, 470.23it/s]\u001b[A\n",
      " 28%|██▊       | 20428/73196 [00:43<01:51, 471.42it/s]\u001b[A\n",
      " 28%|██▊       | 20476/73196 [00:43<01:52, 470.22it/s]\u001b[A\n",
      " 28%|██▊       | 20524/73196 [00:43<01:51, 472.71it/s]\u001b[A\n",
      " 28%|██▊       | 20576/73196 [00:43<01:48, 484.97it/s]\u001b[A\n",
      " 28%|██▊       | 20625/73196 [00:43<01:48, 483.05it/s]\u001b[A\n",
      " 28%|██▊       | 20674/73196 [00:43<01:52, 466.64it/s]\u001b[A\n",
      " 28%|██▊       | 20728/73196 [00:43<01:48, 484.15it/s]\u001b[A\n",
      " 28%|██▊       | 20778/73196 [00:43<01:47, 487.05it/s]\u001b[A\n",
      " 28%|██▊       | 20829/73196 [00:44<01:46, 493.64it/s]\u001b[A\n",
      " 29%|██▊       | 20881/73196 [00:44<01:44, 499.83it/s]\u001b[A\n",
      " 29%|██▊       | 20932/73196 [00:44<01:44, 502.47it/s]\u001b[A\n",
      " 29%|██▊       | 20983/73196 [00:44<01:46, 490.31it/s]\u001b[A\n",
      " 29%|██▊       | 21034/73196 [00:44<01:45, 494.02it/s]\u001b[A\n",
      " 29%|██▉       | 21086/73196 [00:44<01:44, 500.34it/s]\u001b[A\n",
      " 29%|██▉       | 21137/73196 [00:44<01:45, 494.73it/s]\u001b[A\n",
      " 29%|██▉       | 21187/73196 [00:44<01:45, 493.87it/s]\u001b[A\n",
      " 29%|██▉       | 21242/73196 [00:44<01:42, 506.91it/s]\u001b[A\n",
      " 29%|██▉       | 21293/73196 [00:44<01:43, 503.75it/s]\u001b[A\n",
      " 29%|██▉       | 21345/73196 [00:45<01:42, 507.93it/s]\u001b[A\n",
      " 29%|██▉       | 21396/73196 [00:45<01:47, 483.86it/s]\u001b[A\n",
      " 29%|██▉       | 21445/73196 [00:45<01:47, 480.28it/s]\u001b[A\n",
      " 29%|██▉       | 21498/73196 [00:45<01:45, 492.01it/s]\u001b[A\n",
      " 29%|██▉       | 21548/73196 [00:45<01:46, 483.09it/s]\u001b[A\n",
      " 30%|██▉       | 21607/73196 [00:45<01:41, 508.14it/s]\u001b[A\n",
      " 30%|██▉       | 21659/73196 [00:45<01:44, 493.24it/s]\u001b[A\n",
      " 30%|██▉       | 21709/73196 [00:45<01:45, 489.36it/s]\u001b[A\n",
      " 30%|██▉       | 21759/73196 [00:45<01:47, 479.58it/s]\u001b[A\n",
      " 30%|██▉       | 21808/73196 [00:46<01:46, 482.51it/s]\u001b[A\n",
      " 30%|██▉       | 21857/73196 [00:46<01:46, 484.00it/s]\u001b[A\n",
      " 30%|██▉       | 21907/73196 [00:46<01:45, 486.90it/s]\u001b[A\n",
      " 30%|██▉       | 21956/73196 [00:46<01:45, 487.58it/s]\u001b[A\n",
      " 30%|███       | 22006/73196 [00:46<01:44, 489.55it/s]\u001b[A\n",
      " 30%|███       | 22056/73196 [00:46<01:45, 485.12it/s]\u001b[A\n",
      " 30%|███       | 22105/73196 [00:46<01:46, 480.67it/s]\u001b[A\n",
      " 30%|███       | 22159/73196 [00:46<01:42, 496.04it/s]\u001b[A\n",
      " 30%|███       | 22209/73196 [00:46<01:43, 492.48it/s]\u001b[A\n",
      " 30%|███       | 22259/73196 [00:46<01:47, 474.54it/s]\u001b[A\n",
      " 30%|███       | 22311/73196 [00:47<01:44, 484.83it/s]\u001b[A\n",
      " 31%|███       | 22360/73196 [00:47<01:44, 485.97it/s]\u001b[A\n",
      " 31%|███       | 22409/73196 [00:47<01:49, 463.15it/s]\u001b[A\n",
      " 31%|███       | 22456/73196 [00:47<01:49, 461.43it/s]\u001b[A\n",
      " 31%|███       | 22503/73196 [00:47<01:50, 458.58it/s]\u001b[A\n",
      " 31%|███       | 22551/73196 [00:47<01:49, 463.65it/s]\u001b[A\n",
      " 31%|███       | 22600/73196 [00:47<01:47, 468.80it/s]\u001b[A\n",
      " 31%|███       | 22651/73196 [00:47<01:45, 478.45it/s]\u001b[A\n",
      " 31%|███       | 22703/73196 [00:47<01:43, 486.82it/s]\u001b[A\n",
      " 31%|███       | 22754/73196 [00:48<01:42, 490.70it/s]\u001b[A\n",
      " 31%|███       | 22807/73196 [00:48<01:40, 499.20it/s]\u001b[A\n",
      " 31%|███       | 22858/73196 [00:48<01:41, 497.67it/s]\u001b[A\n",
      " 31%|███▏      | 22908/73196 [00:48<01:43, 483.90it/s]\u001b[A\n",
      " 31%|███▏      | 22959/73196 [00:48<01:42, 488.59it/s]\u001b[A\n",
      " 31%|███▏      | 23008/73196 [00:48<01:43, 485.84it/s]\u001b[A\n",
      " 32%|███▏      | 23061/73196 [00:48<01:40, 497.92it/s]\u001b[A\n",
      " 32%|███▏      | 23111/73196 [00:48<01:42, 488.20it/s]\u001b[A\n",
      " 32%|███▏      | 23161/73196 [00:48<01:42, 490.30it/s]\u001b[A\n",
      " 32%|███▏      | 23211/73196 [00:48<01:42, 487.29it/s]\u001b[A\n",
      " 32%|███▏      | 23260/73196 [00:49<01:43, 481.15it/s]\u001b[A\n",
      " 32%|███▏      | 23309/73196 [00:49<01:45, 473.00it/s]\u001b[A\n",
      " 32%|███▏      | 23357/73196 [00:49<01:45, 474.51it/s]\u001b[A\n",
      " 32%|███▏      | 23405/73196 [00:49<01:48, 457.24it/s]\u001b[A\n",
      " 32%|███▏      | 23454/73196 [00:49<01:47, 463.65it/s]\u001b[A\n",
      " 32%|███▏      | 23501/73196 [00:49<01:50, 448.74it/s]\u001b[A\n",
      " 32%|███▏      | 23548/73196 [00:49<01:49, 452.61it/s]\u001b[A\n",
      " 32%|███▏      | 23602/73196 [00:49<01:44, 474.30it/s]\u001b[A\n",
      " 32%|███▏      | 23651/73196 [00:49<01:43, 478.71it/s]\u001b[A\n",
      " 32%|███▏      | 23700/73196 [00:49<01:45, 469.51it/s]\u001b[A\n",
      " 32%|███▏      | 23748/73196 [00:50<01:45, 468.72it/s]\u001b[A\n",
      " 33%|███▎      | 23797/73196 [00:50<01:45, 470.17it/s]\u001b[A\n",
      " 33%|███▎      | 23845/73196 [00:50<01:44, 472.95it/s]\u001b[A\n",
      " 33%|███▎      | 23893/73196 [00:50<01:44, 471.45it/s]\u001b[A\n",
      " 33%|███▎      | 23944/73196 [00:50<01:42, 480.33it/s]\u001b[A\n",
      " 33%|███▎      | 23998/73196 [00:50<01:39, 496.06it/s]\u001b[A\n",
      " 33%|███▎      | 24048/73196 [00:50<01:40, 489.13it/s]\u001b[A\n",
      " 33%|███▎      | 24102/73196 [00:50<01:37, 502.73it/s]\u001b[A\n",
      " 33%|███▎      | 24153/73196 [00:50<01:39, 494.75it/s]\u001b[A\n",
      " 33%|███▎      | 24203/73196 [00:51<01:42, 478.45it/s]\u001b[A\n",
      " 33%|███▎      | 24261/73196 [00:51<01:37, 504.02it/s]\u001b[A\n",
      " 33%|███▎      | 24312/73196 [00:51<01:37, 500.98it/s]\u001b[A\n",
      " 33%|███▎      | 24363/73196 [00:51<01:40, 484.46it/s]\u001b[A\n",
      " 33%|███▎      | 24415/73196 [00:51<01:39, 492.73it/s]\u001b[A\n",
      " 33%|███▎      | 24465/73196 [00:51<01:43, 468.80it/s]\u001b[A\n",
      " 33%|███▎      | 24513/73196 [00:51<01:46, 456.93it/s]\u001b[A\n",
      " 34%|███▎      | 24568/73196 [00:51<01:41, 479.74it/s]\u001b[A\n",
      " 34%|███▎      | 24619/73196 [00:51<01:39, 486.51it/s]\u001b[A\n",
      " 34%|███▎      | 24669/73196 [00:51<01:43, 471.01it/s]\u001b[A\n",
      " 34%|███▍      | 24719/73196 [00:52<01:41, 477.53it/s]\u001b[A\n",
      " 34%|███▍      | 24768/73196 [00:52<01:45, 460.45it/s]\u001b[A\n",
      " 34%|███▍      | 24817/73196 [00:52<01:43, 466.54it/s]\u001b[A\n",
      " 34%|███▍      | 24865/73196 [00:52<01:42, 470.20it/s]\u001b[A\n",
      " 34%|███▍      | 24913/73196 [00:52<01:42, 470.79it/s]\u001b[A\n",
      " 34%|███▍      | 24961/73196 [00:52<01:44, 460.37it/s]\u001b[A\n",
      " 34%|███▍      | 25009/73196 [00:52<01:43, 465.27it/s]\u001b[A\n",
      " 34%|███▍      | 25056/73196 [00:52<01:44, 460.79it/s]\u001b[A\n",
      " 34%|███▍      | 25103/73196 [00:52<01:44, 460.12it/s]\u001b[A\n",
      " 34%|███▍      | 25157/73196 [00:53<01:40, 479.94it/s]\u001b[A\n",
      " 34%|███▍      | 25206/73196 [00:53<01:44, 460.01it/s]\u001b[A\n",
      " 35%|███▍      | 25253/73196 [00:53<01:46, 449.39it/s]\u001b[A\n",
      " 35%|███▍      | 25301/73196 [00:53<01:44, 456.75it/s]\u001b[A\n",
      " 35%|███▍      | 25349/73196 [00:53<01:43, 462.39it/s]\u001b[A\n",
      " 35%|███▍      | 25398/73196 [00:53<01:42, 467.84it/s]\u001b[A\n",
      " 35%|███▍      | 25446/73196 [00:53<01:42, 467.30it/s]\u001b[A\n",
      " 35%|███▍      | 25494/73196 [00:53<01:41, 469.76it/s]\u001b[A\n",
      " 35%|███▍      | 25542/73196 [00:53<01:41, 468.87it/s]\u001b[A\n",
      " 35%|███▍      | 25594/73196 [00:53<01:38, 483.01it/s]\u001b[A\n",
      " 35%|███▌      | 25647/73196 [00:54<01:36, 494.52it/s]\u001b[A\n",
      " 35%|███▌      | 25697/73196 [00:54<01:37, 485.47it/s]\u001b[A\n",
      " 35%|███▌      | 25746/73196 [00:54<01:39, 476.25it/s]\u001b[A\n",
      " 35%|███▌      | 25795/73196 [00:54<01:38, 479.36it/s]\u001b[A\n",
      " 35%|███▌      | 25847/73196 [00:54<01:36, 489.61it/s]\u001b[A\n",
      " 35%|███▌      | 25902/73196 [00:54<01:34, 501.19it/s]\u001b[A\n",
      " 35%|███▌      | 25953/73196 [00:54<01:40, 472.03it/s]\u001b[A\n",
      " 36%|███▌      | 26001/73196 [00:54<01:41, 463.56it/s]\u001b[A\n",
      " 36%|███▌      | 26048/73196 [00:54<01:42, 458.24it/s]\u001b[A\n",
      " 36%|███▌      | 26097/73196 [00:55<01:41, 465.83it/s]\u001b[A\n",
      " 36%|███▌      | 26146/73196 [00:55<01:39, 471.94it/s]\u001b[A\n",
      " 36%|███▌      | 26194/73196 [00:55<01:39, 470.37it/s]\u001b[A\n",
      " 36%|███▌      | 26245/73196 [00:55<01:37, 480.04it/s]\u001b[A\n",
      " 36%|███▌      | 26297/73196 [00:55<01:35, 489.11it/s]\u001b[A\n",
      " 36%|███▌      | 26351/73196 [00:55<01:33, 502.90it/s]\u001b[A\n",
      " 36%|███▌      | 26403/73196 [00:55<01:32, 505.21it/s]\u001b[A\n",
      " 36%|███▌      | 26457/73196 [00:55<01:31, 509.42it/s]\u001b[A\n",
      " 36%|███▌      | 26509/73196 [00:55<01:32, 506.91it/s]\u001b[A\n",
      " 36%|███▋      | 26560/73196 [00:55<01:36, 484.64it/s]\u001b[A\n",
      " 36%|███▋      | 26609/73196 [00:56<01:36, 484.18it/s]\u001b[A\n",
      " 36%|███▋      | 26658/73196 [00:56<01:37, 475.37it/s]\u001b[A\n",
      " 36%|███▋      | 26706/73196 [00:56<01:39, 467.33it/s]\u001b[A\n",
      " 37%|███▋      | 26759/73196 [00:56<01:36, 479.85it/s]\u001b[A\n",
      " 37%|███▋      | 26808/73196 [00:56<01:36, 480.10it/s]\u001b[A\n",
      " 37%|███▋      | 26857/73196 [00:56<01:36, 482.46it/s]\u001b[A\n",
      " 37%|███▋      | 26907/73196 [00:56<01:35, 485.85it/s]\u001b[A\n",
      " 37%|███▋      | 26958/73196 [00:56<01:33, 492.36it/s]\u001b[A\n",
      " 37%|███▋      | 27008/73196 [00:56<01:35, 481.32it/s]\u001b[A\n",
      " 37%|███▋      | 27057/73196 [00:56<01:37, 475.56it/s]\u001b[A\n",
      " 37%|███▋      | 27112/73196 [00:57<01:33, 493.91it/s]\u001b[A\n",
      " 37%|███▋      | 27162/73196 [00:57<01:33, 489.75it/s]\u001b[A\n",
      " 37%|███▋      | 27212/73196 [00:57<01:37, 473.43it/s]\u001b[A\n",
      " 37%|███▋      | 27262/73196 [00:57<01:35, 479.04it/s]\u001b[A\n",
      " 37%|███▋      | 27311/73196 [00:57<01:36, 477.42it/s]\u001b[A\n",
      " 37%|███▋      | 27362/73196 [00:57<01:34, 483.42it/s]\u001b[A\n",
      " 37%|███▋      | 27412/73196 [00:57<01:33, 487.08it/s]\u001b[A\n",
      " 38%|███▊      | 27468/73196 [00:57<01:30, 505.93it/s]\u001b[A\n",
      " 38%|███▊      | 27520/73196 [00:57<01:29, 508.89it/s]\u001b[A\n",
      " 38%|███▊      | 27572/73196 [00:58<01:34, 485.15it/s]\u001b[A\n",
      " 38%|███▊      | 27623/73196 [00:58<01:32, 491.78it/s]\u001b[A\n",
      " 38%|███▊      | 27678/73196 [00:58<01:30, 502.00it/s]\u001b[A\n",
      " 38%|███▊      | 27729/73196 [00:58<01:33, 486.25it/s]\u001b[A\n",
      " 38%|███▊      | 27783/73196 [00:58<01:30, 500.02it/s]\u001b[A\n",
      " 38%|███▊      | 27834/73196 [00:58<01:35, 474.23it/s]\u001b[A\n",
      " 38%|███▊      | 27888/73196 [00:58<01:32, 491.37it/s]\u001b[A\n",
      " 38%|███▊      | 27939/73196 [00:58<01:31, 496.36it/s]\u001b[A\n",
      " 38%|███▊      | 27989/73196 [00:58<01:30, 497.15it/s]\u001b[A\n",
      " 38%|███▊      | 28041/73196 [00:58<01:30, 499.30it/s]\u001b[A\n",
      " 38%|███▊      | 28092/73196 [00:59<01:29, 501.88it/s]\u001b[A\n",
      " 38%|███▊      | 28143/73196 [00:59<01:29, 503.18it/s]\u001b[A\n",
      " 39%|███▊      | 28194/73196 [00:59<01:29, 503.84it/s]\u001b[A\n",
      " 39%|███▊      | 28245/73196 [00:59<01:31, 490.41it/s]\u001b[A\n",
      " 39%|███▊      | 28295/73196 [00:59<01:31, 488.88it/s]\u001b[A\n",
      " 39%|███▊      | 28351/73196 [00:59<01:28, 506.74it/s]\u001b[A\n",
      " 39%|███▉      | 28402/73196 [00:59<01:29, 502.85it/s]\u001b[A\n",
      " 39%|███▉      | 28453/73196 [00:59<01:29, 499.28it/s]\u001b[A\n",
      " 39%|███▉      | 28504/73196 [00:59<01:31, 489.45it/s]\u001b[A\n",
      " 39%|███▉      | 28554/73196 [01:00<01:33, 476.19it/s]\u001b[A\n",
      " 39%|███▉      | 28606/73196 [01:00<01:31, 487.52it/s]\u001b[A\n",
      " 39%|███▉      | 28656/73196 [01:00<01:31, 488.81it/s]\u001b[A\n",
      " 39%|███▉      | 28706/73196 [01:00<01:32, 483.32it/s]\u001b[A\n",
      " 39%|███▉      | 28759/73196 [01:00<01:29, 494.76it/s]\u001b[A\n",
      " 39%|███▉      | 28810/73196 [01:00<01:29, 496.66it/s]\u001b[A\n",
      " 39%|███▉      | 28860/73196 [01:00<01:29, 497.26it/s]\u001b[A\n",
      " 39%|███▉      | 28910/73196 [01:00<01:32, 481.35it/s]\u001b[A\n",
      " 40%|███▉      | 28959/73196 [01:00<01:32, 476.86it/s]\u001b[A\n",
      " 40%|███▉      | 29007/73196 [01:00<01:34, 469.75it/s]\u001b[A\n",
      " 40%|███▉      | 29055/73196 [01:01<01:34, 468.83it/s]\u001b[A\n",
      " 40%|███▉      | 29103/73196 [01:01<01:33, 471.30it/s]\u001b[A\n",
      " 40%|███▉      | 29157/73196 [01:01<01:30, 487.22it/s]\u001b[A\n",
      " 40%|███▉      | 29206/73196 [01:01<01:33, 468.81it/s]\u001b[A\n",
      " 40%|███▉      | 29256/73196 [01:01<01:32, 477.52it/s]\u001b[A\n",
      " 40%|████      | 29304/73196 [01:01<01:35, 460.58it/s]\u001b[A\n",
      " 40%|████      | 29356/73196 [01:01<01:32, 475.33it/s]\u001b[A\n",
      " 40%|████      | 29404/73196 [01:01<01:32, 475.66it/s]\u001b[A\n",
      " 40%|████      | 29452/73196 [01:01<01:35, 457.84it/s]\u001b[A\n",
      " 40%|████      | 29500/73196 [01:02<01:34, 460.79it/s]\u001b[A\n",
      " 40%|████      | 29547/73196 [01:02<01:34, 460.71it/s]\u001b[A\n",
      " 40%|████      | 29601/73196 [01:02<01:30, 480.17it/s]\u001b[A\n",
      " 41%|████      | 29653/73196 [01:02<01:28, 489.86it/s]\u001b[A\n",
      " 41%|████      | 29703/73196 [01:02<01:35, 457.04it/s]\u001b[A\n",
      " 41%|████      | 29752/73196 [01:02<01:33, 465.96it/s]\u001b[A\n",
      " 41%|████      | 29803/73196 [01:02<01:31, 476.40it/s]\u001b[A\n",
      " 41%|████      | 29852/73196 [01:02<01:30, 480.35it/s]\u001b[A\n",
      " 41%|████      | 29901/73196 [01:02<01:32, 468.77it/s]\u001b[A\n",
      " 41%|████      | 29953/73196 [01:02<01:29, 481.95it/s]\u001b[A\n",
      " 41%|████      | 30002/73196 [01:03<01:29, 483.07it/s]\u001b[A\n",
      " 41%|████      | 30051/73196 [01:03<01:29, 479.54it/s]\u001b[A\n",
      " 41%|████      | 30100/73196 [01:03<01:31, 472.57it/s]\u001b[A\n",
      " 41%|████      | 30151/73196 [01:03<01:29, 481.80it/s]\u001b[A\n",
      " 41%|████▏     | 30200/73196 [01:03<01:29, 481.04it/s]\u001b[A\n",
      " 41%|████▏     | 30251/73196 [01:03<01:28, 487.66it/s]\u001b[A\n",
      " 41%|████▏     | 30301/73196 [01:03<01:27, 487.96it/s]\u001b[A\n",
      " 41%|████▏     | 30350/73196 [01:03<01:29, 479.87it/s]\u001b[A\n",
      " 42%|████▏     | 30399/73196 [01:03<01:34, 454.26it/s]\u001b[A\n",
      " 42%|████▏     | 30445/73196 [01:04<01:34, 451.97it/s]\u001b[A\n",
      " 42%|████▏     | 30491/73196 [01:04<01:34, 452.83it/s]\u001b[A\n",
      " 42%|████▏     | 30542/73196 [01:04<01:31, 466.76it/s]\u001b[A\n",
      " 42%|████▏     | 30589/73196 [01:04<01:32, 460.34it/s]\u001b[A\n",
      " 42%|████▏     | 30636/73196 [01:04<01:38, 431.88it/s]\u001b[A\n",
      " 42%|████▏     | 30687/73196 [01:04<01:34, 450.98it/s]\u001b[A\n",
      " 42%|████▏     | 30733/73196 [01:04<01:34, 449.40it/s]\u001b[A\n",
      " 42%|████▏     | 30779/73196 [01:04<01:35, 444.15it/s]\u001b[A\n",
      " 42%|████▏     | 30827/73196 [01:04<01:33, 451.06it/s]\u001b[A\n",
      " 42%|████▏     | 30873/73196 [01:04<01:33, 452.87it/s]\u001b[A\n",
      " 42%|████▏     | 30922/73196 [01:05<01:31, 461.50it/s]\u001b[A\n",
      " 42%|████▏     | 30969/73196 [01:05<01:31, 459.63it/s]\u001b[A\n",
      " 42%|████▏     | 31016/73196 [01:05<01:33, 450.07it/s]\u001b[A\n",
      " 42%|████▏     | 31067/73196 [01:05<01:30, 466.49it/s]\u001b[A\n",
      " 43%|████▎     | 31114/73196 [01:05<01:32, 455.59it/s]\u001b[A\n",
      " 43%|████▎     | 31160/73196 [01:05<01:33, 449.92it/s]\u001b[A\n",
      " 43%|████▎     | 31211/73196 [01:05<01:30, 465.61it/s]\u001b[A\n",
      " 43%|████▎     | 31262/73196 [01:05<01:27, 477.55it/s]\u001b[A\n",
      " 43%|████▎     | 31311/73196 [01:05<01:29, 468.75it/s]\u001b[A\n",
      " 43%|████▎     | 31359/73196 [01:05<01:30, 462.70it/s]\u001b[A\n",
      " 43%|████▎     | 31408/73196 [01:06<01:28, 470.04it/s]\u001b[A\n",
      " 43%|████▎     | 31458/73196 [01:06<01:27, 478.63it/s]\u001b[A\n",
      " 43%|████▎     | 31507/73196 [01:06<01:27, 477.71it/s]\u001b[A\n",
      " 43%|████▎     | 31555/73196 [01:06<01:28, 470.68it/s]\u001b[A\n",
      " 43%|████▎     | 31603/73196 [01:06<01:28, 470.60it/s]\u001b[A\n",
      " 43%|████▎     | 31653/73196 [01:06<01:26, 478.54it/s]\u001b[A\n",
      " 43%|████▎     | 31701/73196 [01:06<01:27, 471.72it/s]\u001b[A\n",
      " 43%|████▎     | 31750/73196 [01:06<01:27, 475.85it/s]\u001b[A\n",
      " 43%|████▎     | 31798/73196 [01:06<01:28, 468.74it/s]\u001b[A\n",
      " 44%|████▎     | 31848/73196 [01:07<01:27, 472.19it/s]\u001b[A\n",
      " 44%|████▎     | 31896/73196 [01:07<01:27, 470.90it/s]\u001b[A\n",
      " 44%|████▎     | 31944/73196 [01:07<01:27, 472.11it/s]\u001b[A\n",
      " 44%|████▎     | 31994/73196 [01:07<01:26, 473.96it/s]\u001b[A\n",
      " 44%|████▍     | 32045/73196 [01:07<01:25, 482.16it/s]\u001b[A\n",
      " 44%|████▍     | 32094/73196 [01:07<01:27, 472.03it/s]\u001b[A\n",
      " 44%|████▍     | 32144/73196 [01:07<01:25, 478.97it/s]\u001b[A\n",
      " 44%|████▍     | 32192/73196 [01:07<01:26, 473.00it/s]\u001b[A\n",
      " 44%|████▍     | 32240/73196 [01:07<01:27, 467.21it/s]\u001b[A\n",
      " 44%|████▍     | 32287/73196 [01:07<01:29, 457.84it/s]\u001b[A\n",
      " 44%|████▍     | 32336/73196 [01:08<01:27, 466.41it/s]\u001b[A\n",
      " 44%|████▍     | 32383/73196 [01:08<01:28, 462.23it/s]\u001b[A\n",
      " 44%|████▍     | 32430/73196 [01:08<01:29, 457.03it/s]\u001b[A\n",
      " 44%|████▍     | 32481/73196 [01:08<01:26, 469.06it/s]\u001b[A\n",
      " 44%|████▍     | 32537/73196 [01:08<01:22, 491.70it/s]\u001b[A\n",
      " 45%|████▍     | 32589/73196 [01:08<01:21, 497.88it/s]\u001b[A\n",
      " 45%|████▍     | 32640/73196 [01:08<01:21, 497.18it/s]\u001b[A\n",
      " 45%|████▍     | 32691/73196 [01:08<01:20, 500.53it/s]\u001b[A\n",
      " 45%|████▍     | 32742/73196 [01:08<01:22, 489.42it/s]\u001b[A\n",
      " 45%|████▍     | 32796/73196 [01:08<01:20, 503.30it/s]\u001b[A\n",
      " 45%|████▍     | 32848/73196 [01:09<01:19, 508.00it/s]\u001b[A\n",
      " 45%|████▍     | 32899/73196 [01:09<01:22, 489.23it/s]\u001b[A\n",
      " 45%|████▌     | 32949/73196 [01:09<01:22, 488.38it/s]\u001b[A\n",
      " 45%|████▌     | 33002/73196 [01:09<01:20, 500.02it/s]\u001b[A\n",
      " 45%|████▌     | 33058/73196 [01:09<01:17, 515.85it/s]\u001b[A\n",
      " 45%|████▌     | 33110/73196 [01:09<01:19, 505.25it/s]\u001b[A\n",
      " 45%|████▌     | 33161/73196 [01:09<01:21, 491.16it/s]\u001b[A\n",
      " 45%|████▌     | 33211/73196 [01:09<01:22, 485.39it/s]\u001b[A\n",
      " 45%|████▌     | 33264/73196 [01:09<01:20, 496.73it/s]\u001b[A\n",
      " 46%|████▌     | 33314/73196 [01:10<01:20, 492.66it/s]\u001b[A\n",
      " 46%|████▌     | 33364/73196 [01:10<01:22, 484.23it/s]\u001b[A\n",
      " 46%|████▌     | 33413/73196 [01:10<01:24, 472.68it/s]\u001b[A\n",
      " 46%|████▌     | 33462/73196 [01:10<01:23, 475.14it/s]\u001b[A\n",
      " 46%|████▌     | 33510/73196 [01:10<01:23, 474.02it/s]\u001b[A\n",
      " 46%|████▌     | 33559/73196 [01:10<01:22, 478.49it/s]\u001b[A\n",
      " 46%|████▌     | 33607/73196 [01:10<01:23, 476.01it/s]\u001b[A\n",
      " 46%|████▌     | 33655/73196 [01:10<01:23, 471.92it/s]\u001b[A\n",
      " 46%|████▌     | 33707/73196 [01:10<01:21, 484.71it/s]\u001b[A\n",
      " 46%|████▌     | 33758/73196 [01:10<01:20, 488.57it/s]\u001b[A\n",
      " 46%|████▌     | 33808/73196 [01:11<01:20, 491.59it/s]\u001b[A\n",
      " 46%|████▋     | 33858/73196 [01:11<01:23, 473.25it/s]\u001b[A\n",
      " 46%|████▋     | 33906/73196 [01:11<01:24, 463.54it/s]\u001b[A\n",
      " 46%|████▋     | 33956/73196 [01:11<01:22, 473.60it/s]\u001b[A\n",
      " 46%|████▋     | 34004/73196 [01:11<01:23, 469.06it/s]\u001b[A\n",
      " 47%|████▋     | 34052/73196 [01:11<01:23, 469.79it/s]\u001b[A\n",
      " 47%|████▋     | 34101/73196 [01:11<01:22, 474.42it/s]\u001b[A\n",
      " 47%|████▋     | 34149/73196 [01:11<01:22, 471.34it/s]\u001b[A\n",
      " 47%|████▋     | 34197/73196 [01:11<01:23, 468.67it/s]\u001b[A\n",
      " 47%|████▋     | 34248/73196 [01:12<01:21, 479.70it/s]\u001b[A\n",
      " 47%|████▋     | 34297/73196 [01:12<01:21, 475.46it/s]\u001b[A\n",
      " 47%|████▋     | 34345/73196 [01:12<01:23, 467.78it/s]\u001b[A\n",
      " 47%|████▋     | 34392/73196 [01:12<01:23, 465.59it/s]\u001b[A\n",
      " 47%|████▋     | 34439/73196 [01:12<01:23, 463.05it/s]\u001b[A\n",
      " 47%|████▋     | 34493/73196 [01:12<01:20, 483.17it/s]\u001b[A\n",
      " 47%|████▋     | 34546/73196 [01:12<01:18, 495.49it/s]\u001b[A\n",
      " 47%|████▋     | 34600/73196 [01:12<01:16, 505.18it/s]\u001b[A\n",
      " 47%|████▋     | 34652/73196 [01:12<01:15, 507.97it/s]\u001b[A\n",
      " 47%|████▋     | 34703/73196 [01:12<01:21, 470.52it/s]\u001b[A\n",
      " 47%|████▋     | 34751/73196 [01:13<01:21, 470.16it/s]\u001b[A\n",
      " 48%|████▊     | 34799/73196 [01:13<01:24, 456.87it/s]\u001b[A\n",
      " 48%|████▊     | 34849/73196 [01:13<01:22, 465.78it/s]\u001b[A\n",
      " 48%|████▊     | 34902/73196 [01:13<01:19, 482.11it/s]\u001b[A\n",
      " 48%|████▊     | 34953/73196 [01:13<01:18, 489.20it/s]\u001b[A\n",
      " 48%|████▊     | 35003/73196 [01:13<01:18, 483.53it/s]\u001b[A\n",
      " 48%|████▊     | 35052/73196 [01:13<01:19, 481.62it/s]\u001b[A\n",
      " 48%|████▊     | 35101/73196 [01:13<01:19, 481.16it/s]\u001b[A\n",
      " 48%|████▊     | 35150/73196 [01:13<01:18, 483.53it/s]\u001b[A\n",
      " 48%|████▊     | 35199/73196 [01:13<01:18, 483.13it/s]\u001b[A\n",
      " 48%|████▊     | 35254/73196 [01:14<01:15, 500.67it/s]\u001b[A\n",
      " 48%|████▊     | 35305/73196 [01:14<01:17, 489.99it/s]\u001b[A\n",
      " 48%|████▊     | 35355/73196 [01:14<01:17, 490.23it/s]\u001b[A\n",
      " 48%|████▊     | 35408/73196 [01:14<01:15, 500.45it/s]\u001b[A\n",
      " 48%|████▊     | 35459/73196 [01:14<01:18, 481.10it/s]\u001b[A\n",
      " 49%|████▊     | 35508/73196 [01:14<01:19, 472.75it/s]\u001b[A\n",
      " 49%|████▊     | 35558/73196 [01:14<01:18, 478.98it/s]\u001b[A\n",
      " 49%|████▊     | 35609/73196 [01:14<01:17, 485.66it/s]\u001b[A\n",
      " 49%|████▊     | 35658/73196 [01:14<01:19, 474.84it/s]\u001b[A\n",
      " 49%|████▉     | 35706/73196 [01:15<01:20, 465.62it/s]\u001b[A\n",
      " 49%|████▉     | 35763/73196 [01:15<01:16, 491.83it/s]\u001b[A\n",
      " 49%|████▉     | 35819/73196 [01:15<01:13, 508.32it/s]\u001b[A\n",
      " 49%|████▉     | 35871/73196 [01:15<01:14, 499.36it/s]\u001b[A\n",
      " 49%|████▉     | 35922/73196 [01:15<01:15, 492.73it/s]\u001b[A\n",
      " 49%|████▉     | 35972/73196 [01:15<01:17, 480.60it/s]\u001b[A\n",
      " 49%|████▉     | 36022/73196 [01:15<01:16, 486.10it/s]\u001b[A\n",
      " 49%|████▉     | 36071/73196 [01:15<01:17, 477.73it/s]\u001b[A\n",
      " 49%|████▉     | 36120/73196 [01:15<01:17, 476.14it/s]\u001b[A\n",
      " 49%|████▉     | 36172/73196 [01:15<01:15, 488.26it/s]\u001b[A\n",
      " 49%|████▉     | 36221/73196 [01:16<01:15, 487.86it/s]\u001b[A\n",
      " 50%|████▉     | 36270/73196 [01:16<01:17, 473.80it/s]\u001b[A\n",
      " 50%|████▉     | 36321/73196 [01:16<01:16, 479.27it/s]\u001b[A\n",
      " 50%|████▉     | 36371/73196 [01:16<01:16, 480.93it/s]\u001b[A\n",
      " 50%|████▉     | 36420/73196 [01:16<01:16, 478.47it/s]\u001b[A\n",
      " 50%|████▉     | 36470/73196 [01:16<01:16, 482.12it/s]\u001b[A\n",
      " 50%|████▉     | 36520/73196 [01:16<01:15, 486.88it/s]\u001b[A\n",
      " 50%|████▉     | 36569/73196 [01:16<01:18, 469.29it/s]\u001b[A\n",
      " 50%|█████     | 36622/73196 [01:16<01:15, 484.10it/s]\u001b[A\n",
      " 50%|█████     | 36674/73196 [01:17<01:13, 494.27it/s]\u001b[A\n",
      " 50%|█████     | 36727/73196 [01:17<01:12, 500.93it/s]\u001b[A\n",
      " 50%|█████     | 36780/73196 [01:17<01:11, 507.67it/s]\u001b[A\n",
      " 50%|█████     | 36831/73196 [01:17<01:14, 487.33it/s]\u001b[A\n",
      " 50%|█████     | 36881/73196 [01:17<01:14, 490.05it/s]\u001b[A\n",
      " 50%|█████     | 36937/73196 [01:17<01:11, 507.92it/s]\u001b[A\n",
      " 51%|█████     | 36989/73196 [01:17<01:11, 504.74it/s]\u001b[A\n",
      " 51%|█████     | 37040/73196 [01:17<01:13, 489.12it/s]\u001b[A\n",
      " 51%|█████     | 37090/73196 [01:17<01:15, 480.44it/s]\u001b[A\n",
      " 51%|█████     | 37139/73196 [01:17<01:16, 468.35it/s]\u001b[A\n",
      " 51%|█████     | 37190/73196 [01:18<01:15, 478.47it/s]\u001b[A\n",
      " 51%|█████     | 37241/73196 [01:18<01:14, 484.54it/s]\u001b[A\n",
      " 51%|█████     | 37290/73196 [01:18<01:14, 481.40it/s]\u001b[A\n",
      " 51%|█████     | 37341/73196 [01:18<01:13, 485.87it/s]\u001b[A\n",
      " 51%|█████     | 37390/73196 [01:18<01:15, 473.91it/s]\u001b[A\n",
      " 51%|█████     | 37440/73196 [01:18<01:14, 480.68it/s]\u001b[A\n",
      " 51%|█████     | 37489/73196 [01:18<01:16, 464.08it/s]\u001b[A\n",
      " 51%|█████▏    | 37536/73196 [01:18<01:17, 461.00it/s]\u001b[A\n",
      " 51%|█████▏    | 37590/73196 [01:18<01:14, 480.31it/s]\u001b[A\n",
      " 51%|█████▏    | 37639/73196 [01:19<01:14, 475.30it/s]\u001b[A\n",
      " 51%|█████▏    | 37694/73196 [01:19<01:11, 494.50it/s]\u001b[A\n",
      " 52%|█████▏    | 37744/73196 [01:19<01:11, 493.32it/s]\u001b[A\n",
      " 52%|█████▏    | 37794/73196 [01:19<01:13, 482.20it/s]\u001b[A\n",
      " 52%|█████▏    | 37849/73196 [01:19<01:10, 498.25it/s]\u001b[A\n",
      " 52%|█████▏    | 37900/73196 [01:19<01:12, 485.82it/s]\u001b[A\n",
      " 52%|█████▏    | 37955/73196 [01:19<01:10, 500.17it/s]\u001b[A\n",
      " 52%|█████▏    | 38007/73196 [01:19<01:09, 502.80it/s]\u001b[A\n",
      " 52%|█████▏    | 38058/73196 [01:19<01:10, 497.74it/s]\u001b[A\n",
      " 52%|█████▏    | 38108/73196 [01:19<01:11, 489.97it/s]\u001b[A\n",
      " 52%|█████▏    | 38158/73196 [01:20<01:11, 488.68it/s]\u001b[A\n",
      " 52%|█████▏    | 38209/73196 [01:20<01:11, 491.49it/s]\u001b[A\n",
      " 52%|█████▏    | 38259/73196 [01:20<01:11, 490.34it/s]\u001b[A\n",
      " 52%|█████▏    | 38309/73196 [01:20<01:12, 482.06it/s]\u001b[A\n",
      " 52%|█████▏    | 38358/73196 [01:20<01:13, 475.42it/s]\u001b[A\n",
      " 52%|█████▏    | 38407/73196 [01:20<01:12, 477.80it/s]\u001b[A\n",
      " 53%|█████▎    | 38456/73196 [01:20<01:12, 478.84it/s]\u001b[A\n",
      " 53%|█████▎    | 38504/73196 [01:20<01:13, 469.28it/s]\u001b[A\n",
      " 53%|█████▎    | 38551/73196 [01:20<01:14, 465.98it/s]\u001b[A\n",
      " 53%|█████▎    | 38602/73196 [01:20<01:12, 477.69it/s]\u001b[A\n",
      " 53%|█████▎    | 38656/73196 [01:21<01:09, 494.32it/s]\u001b[A\n",
      " 53%|█████▎    | 38706/73196 [01:21<01:10, 489.76it/s]\u001b[A\n",
      " 53%|█████▎    | 38756/73196 [01:21<01:10, 486.22it/s]\u001b[A\n",
      " 53%|█████▎    | 38805/73196 [01:21<01:11, 480.60it/s]\u001b[A\n",
      " 53%|█████▎    | 38854/73196 [01:21<01:13, 470.00it/s]\u001b[A\n",
      " 53%|█████▎    | 38903/73196 [01:21<01:12, 475.70it/s]\u001b[A\n",
      " 53%|█████▎    | 38954/73196 [01:21<01:11, 481.28it/s]\u001b[A\n",
      " 53%|█████▎    | 39003/73196 [01:21<01:11, 476.72it/s]\u001b[A\n",
      " 53%|█████▎    | 39052/73196 [01:21<01:11, 480.29it/s]\u001b[A\n",
      " 53%|█████▎    | 39101/73196 [01:22<01:10, 481.94it/s]\u001b[A\n",
      " 53%|█████▎    | 39154/73196 [01:22<01:08, 494.47it/s]\u001b[A\n",
      " 54%|█████▎    | 39206/73196 [01:22<01:07, 501.51it/s]\u001b[A\n",
      " 54%|█████▎    | 39257/73196 [01:22<01:09, 485.53it/s]\u001b[A\n",
      " 54%|█████▎    | 39310/73196 [01:22<01:08, 495.25it/s]\u001b[A\n",
      " 54%|█████▍    | 39360/73196 [01:22<01:09, 486.29it/s]\u001b[A\n",
      " 54%|█████▍    | 39409/73196 [01:22<01:10, 480.46it/s]\u001b[A\n",
      " 54%|█████▍    | 39458/73196 [01:22<01:10, 476.25it/s]\u001b[A\n",
      " 54%|█████▍    | 39506/73196 [01:22<01:11, 472.47it/s]\u001b[A\n",
      " 54%|█████▍    | 39556/73196 [01:22<01:10, 478.15it/s]\u001b[A\n",
      " 54%|█████▍    | 39609/73196 [01:23<01:08, 492.55it/s]\u001b[A\n",
      " 54%|█████▍    | 39662/73196 [01:23<01:07, 498.48it/s]\u001b[A\n",
      " 54%|█████▍    | 39712/73196 [01:23<01:10, 471.96it/s]\u001b[A\n",
      " 54%|█████▍    | 39762/73196 [01:23<01:09, 478.44it/s]\u001b[A\n",
      " 54%|█████▍    | 39811/73196 [01:23<01:11, 466.95it/s]\u001b[A\n",
      " 54%|█████▍    | 39864/73196 [01:23<01:09, 481.90it/s]\u001b[A\n",
      " 55%|█████▍    | 39913/73196 [01:23<01:09, 478.51it/s]\u001b[A\n",
      " 55%|█████▍    | 39962/73196 [01:23<01:09, 476.12it/s]\u001b[A\n",
      " 55%|█████▍    | 40010/73196 [01:23<01:10, 472.14it/s]\u001b[A\n",
      " 55%|█████▍    | 40067/73196 [01:24<01:06, 496.49it/s]\u001b[A\n",
      " 55%|█████▍    | 40118/73196 [01:24<01:06, 494.49it/s]\u001b[A\n",
      " 55%|█████▍    | 40168/73196 [01:24<01:08, 485.56it/s]\u001b[A\n",
      " 55%|█████▍    | 40217/73196 [01:24<01:08, 479.40it/s]\u001b[A\n",
      " 55%|█████▌    | 40268/73196 [01:24<01:07, 485.79it/s]\u001b[A\n",
      " 55%|█████▌    | 40317/73196 [01:24<01:08, 481.17it/s]\u001b[A\n",
      " 55%|█████▌    | 40368/73196 [01:24<01:07, 487.21it/s]\u001b[A\n",
      " 55%|█████▌    | 40419/73196 [01:24<01:06, 492.69it/s]\u001b[A\n",
      " 55%|█████▌    | 40469/73196 [01:24<01:09, 468.48it/s]\u001b[A\n",
      " 55%|█████▌    | 40519/73196 [01:24<01:08, 476.95it/s]\u001b[A\n",
      " 55%|█████▌    | 40569/73196 [01:25<01:07, 482.00it/s]\u001b[A\n",
      " 55%|█████▌    | 40622/73196 [01:25<01:05, 493.95it/s]\u001b[A\n",
      " 56%|█████▌    | 40672/73196 [01:25<01:07, 479.25it/s]\u001b[A\n",
      " 56%|█████▌    | 40721/73196 [01:25<01:10, 461.88it/s]\u001b[A\n",
      " 56%|█████▌    | 40773/73196 [01:25<01:08, 476.50it/s]\u001b[A\n",
      " 56%|█████▌    | 40824/73196 [01:25<01:06, 486.04it/s]\u001b[A\n",
      " 56%|█████▌    | 40880/73196 [01:25<01:04, 504.87it/s]\u001b[A\n",
      " 56%|█████▌    | 40935/73196 [01:25<01:02, 517.02it/s]\u001b[A\n",
      " 56%|█████▌    | 40988/73196 [01:25<01:04, 498.83it/s]\u001b[A\n",
      " 56%|█████▌    | 41039/73196 [01:26<01:05, 488.87it/s]\u001b[A\n",
      " 56%|█████▌    | 41089/73196 [01:26<01:06, 480.86it/s]\u001b[A\n",
      " 56%|█████▌    | 41139/73196 [01:26<01:06, 485.14it/s]\u001b[A\n",
      " 56%|█████▋    | 41188/73196 [01:26<01:07, 473.28it/s]\u001b[A\n",
      " 56%|█████▋    | 41236/73196 [01:26<01:08, 463.30it/s]\u001b[A\n",
      " 56%|█████▋    | 41288/73196 [01:26<01:06, 478.79it/s]\u001b[A\n",
      " 56%|█████▋    | 41337/73196 [01:26<01:07, 470.03it/s]\u001b[A\n",
      " 57%|█████▋    | 41386/73196 [01:26<01:07, 474.40it/s]\u001b[A\n",
      " 57%|█████▋    | 41436/73196 [01:26<01:06, 479.64it/s]\u001b[A\n",
      " 57%|█████▋    | 41485/73196 [01:26<01:06, 480.27it/s]\u001b[A\n",
      " 57%|█████▋    | 41536/73196 [01:27<01:04, 488.70it/s]\u001b[A\n",
      " 57%|█████▋    | 41585/73196 [01:27<01:06, 477.77it/s]\u001b[A\n",
      " 57%|█████▋    | 41633/73196 [01:27<01:09, 454.84it/s]\u001b[A\n",
      " 57%|█████▋    | 41686/73196 [01:27<01:06, 473.80it/s]\u001b[A\n",
      " 57%|█████▋    | 41734/73196 [01:27<01:07, 469.43it/s]\u001b[A\n",
      " 57%|█████▋    | 41782/73196 [01:27<01:07, 468.01it/s]\u001b[A\n",
      " 57%|█████▋    | 41833/73196 [01:27<01:05, 479.52it/s]\u001b[A\n",
      " 57%|█████▋    | 41884/73196 [01:27<01:04, 486.05it/s]\u001b[A\n",
      " 57%|█████▋    | 41935/73196 [01:27<01:03, 490.28it/s]\u001b[A\n",
      " 57%|█████▋    | 41985/73196 [01:27<01:05, 474.48it/s]\u001b[A\n",
      " 57%|█████▋    | 42033/73196 [01:28<01:05, 472.34it/s]\u001b[A\n",
      " 57%|█████▋    | 42082/73196 [01:28<01:05, 477.47it/s]\u001b[A\n",
      " 58%|█████▊    | 42131/73196 [01:28<01:05, 477.88it/s]\u001b[A\n",
      " 58%|█████▊    | 42179/73196 [01:28<01:05, 474.23it/s]\u001b[A\n",
      " 58%|█████▊    | 42227/73196 [01:28<01:05, 470.89it/s]\u001b[A\n",
      " 58%|█████▊    | 42275/73196 [01:28<01:07, 461.26it/s]\u001b[A\n",
      " 58%|█████▊    | 42322/73196 [01:28<01:08, 450.66it/s]\u001b[A\n",
      " 58%|█████▊    | 42368/73196 [01:28<01:08, 450.79it/s]\u001b[A\n",
      " 58%|█████▊    | 42418/73196 [01:28<01:06, 462.35it/s]\u001b[A\n",
      " 58%|█████▊    | 42465/73196 [01:29<01:07, 454.88it/s]\u001b[A\n",
      " 58%|█████▊    | 42517/73196 [01:29<01:05, 470.24it/s]\u001b[A\n",
      " 58%|█████▊    | 42569/73196 [01:29<01:03, 483.73it/s]\u001b[A\n",
      " 58%|█████▊    | 42618/73196 [01:29<01:04, 477.72it/s]\u001b[A\n",
      " 58%|█████▊    | 42666/73196 [01:29<01:05, 468.39it/s]\u001b[A\n",
      " 58%|█████▊    | 42714/73196 [01:29<01:05, 464.88it/s]\u001b[A\n",
      " 58%|█████▊    | 42762/73196 [01:29<01:05, 465.55it/s]\u001b[A\n",
      " 58%|█████▊    | 42809/73196 [01:29<01:06, 460.36it/s]\u001b[A\n",
      " 59%|█████▊    | 42863/73196 [01:29<01:03, 481.04it/s]\u001b[A\n",
      " 59%|█████▊    | 42919/73196 [01:29<01:00, 498.61it/s]\u001b[A\n",
      " 59%|█████▊    | 42970/73196 [01:30<01:02, 484.27it/s]\u001b[A\n",
      " 59%|█████▉    | 43019/73196 [01:30<01:04, 465.35it/s]\u001b[A\n",
      " 59%|█████▉    | 43070/73196 [01:30<01:03, 477.76it/s]\u001b[A\n",
      " 59%|█████▉    | 43122/73196 [01:30<01:01, 488.47it/s]\u001b[A\n",
      " 59%|█████▉    | 43172/73196 [01:30<01:02, 482.01it/s]\u001b[A\n",
      " 59%|█████▉    | 43221/73196 [01:30<01:02, 482.96it/s]\u001b[A\n",
      " 59%|█████▉    | 43270/73196 [01:30<01:03, 468.09it/s]\u001b[A\n",
      " 59%|█████▉    | 43318/73196 [01:30<01:03, 471.40it/s]\u001b[A\n",
      " 59%|█████▉    | 43374/73196 [01:30<01:00, 494.80it/s]\u001b[A\n",
      " 59%|█████▉    | 43424/73196 [01:31<01:01, 486.10it/s]\u001b[A\n",
      " 59%|█████▉    | 43477/73196 [01:31<01:00, 492.40it/s]\u001b[A\n",
      " 59%|█████▉    | 43527/73196 [01:31<01:00, 491.74it/s]\u001b[A\n",
      " 60%|█████▉    | 43577/73196 [01:31<01:01, 482.51it/s]\u001b[A\n",
      " 60%|█████▉    | 43627/73196 [01:31<01:01, 482.77it/s]\u001b[A\n",
      " 60%|█████▉    | 43676/73196 [01:31<01:02, 475.08it/s]\u001b[A\n",
      " 60%|█████▉    | 43726/73196 [01:31<01:01, 481.05it/s]\u001b[A\n",
      " 60%|█████▉    | 43775/73196 [01:31<01:01, 480.48it/s]\u001b[A\n",
      " 60%|█████▉    | 43826/73196 [01:31<01:00, 488.71it/s]\u001b[A\n",
      " 60%|█████▉    | 43875/73196 [01:31<01:00, 482.71it/s]\u001b[A\n",
      " 60%|██████    | 43926/73196 [01:32<00:59, 490.42it/s]\u001b[A\n",
      " 60%|██████    | 43977/73196 [01:32<00:58, 495.92it/s]\u001b[A\n",
      " 60%|██████    | 44031/73196 [01:32<00:57, 506.83it/s]\u001b[A\n",
      " 60%|██████    | 44082/73196 [01:32<00:58, 497.90it/s]\u001b[A\n",
      " 60%|██████    | 44132/73196 [01:32<00:59, 489.49it/s]\u001b[A\n",
      " 60%|██████    | 44182/73196 [01:32<01:00, 480.13it/s]\u001b[A\n",
      " 60%|██████    | 44233/73196 [01:32<00:59, 488.43it/s]\u001b[A\n",
      " 60%|██████    | 44282/73196 [01:32<00:59, 484.83it/s]\u001b[A\n",
      " 61%|██████    | 44335/73196 [01:32<00:58, 495.71it/s]\u001b[A\n",
      " 61%|██████    | 44385/73196 [01:32<00:58, 496.34it/s]\u001b[A\n",
      " 61%|██████    | 44435/73196 [01:33<00:58, 489.16it/s]\u001b[A\n",
      " 61%|██████    | 44484/73196 [01:33<00:59, 479.45it/s]\u001b[A\n",
      " 61%|██████    | 44533/73196 [01:33<01:00, 472.94it/s]\u001b[A\n",
      " 61%|██████    | 44581/73196 [01:33<01:00, 470.50it/s]\u001b[A\n",
      " 61%|██████    | 44631/73196 [01:33<00:59, 477.78it/s]\u001b[A\n",
      " 61%|██████    | 44681/73196 [01:33<00:58, 483.62it/s]\u001b[A\n",
      " 61%|██████    | 44730/73196 [01:33<00:59, 482.23it/s]\u001b[A\n",
      " 61%|██████    | 44779/73196 [01:33<00:59, 475.37it/s]\u001b[A\n",
      " 61%|██████    | 44827/73196 [01:33<01:00, 471.92it/s]\u001b[A\n",
      " 61%|██████▏   | 44875/73196 [01:34<00:59, 472.40it/s]\u001b[A\n",
      " 61%|██████▏   | 44923/73196 [01:34<00:59, 473.57it/s]\u001b[A\n",
      " 61%|██████▏   | 44974/73196 [01:34<00:58, 483.19it/s]\u001b[A\n",
      " 62%|██████▏   | 45025/73196 [01:34<00:58, 484.52it/s]\u001b[A\n",
      " 62%|██████▏   | 45074/73196 [01:34<00:58, 484.36it/s]\u001b[A\n",
      " 62%|██████▏   | 45123/73196 [01:34<00:59, 475.32it/s]\u001b[A\n",
      " 62%|██████▏   | 45174/73196 [01:34<00:57, 484.86it/s]\u001b[A\n",
      " 62%|██████▏   | 45223/73196 [01:34<00:59, 471.14it/s]\u001b[A\n",
      " 62%|██████▏   | 45273/73196 [01:34<00:58, 478.68it/s]\u001b[A\n",
      " 62%|██████▏   | 45322/73196 [01:34<00:59, 469.26it/s]\u001b[A\n",
      " 62%|██████▏   | 45371/73196 [01:35<00:58, 473.65it/s]\u001b[A\n",
      " 62%|██████▏   | 45419/73196 [01:35<00:59, 468.39it/s]\u001b[A\n",
      " 62%|██████▏   | 45467/73196 [01:35<00:59, 469.55it/s]\u001b[A\n",
      " 62%|██████▏   | 45517/73196 [01:35<00:57, 477.89it/s]\u001b[A\n",
      " 62%|██████▏   | 45566/73196 [01:35<00:57, 481.22it/s]\u001b[A\n",
      " 62%|██████▏   | 45615/73196 [01:35<00:57, 476.15it/s]\u001b[A\n",
      " 62%|██████▏   | 45666/73196 [01:35<00:56, 483.40it/s]\u001b[A\n",
      " 62%|██████▏   | 45716/73196 [01:35<00:56, 488.06it/s]\u001b[A\n",
      " 63%|██████▎   | 45765/73196 [01:35<00:56, 486.34it/s]\u001b[A\n",
      " 63%|██████▎   | 45814/73196 [01:35<00:57, 475.89it/s]\u001b[A\n",
      " 63%|██████▎   | 45869/73196 [01:36<00:55, 495.02it/s]\u001b[A\n",
      " 63%|██████▎   | 45921/73196 [01:36<00:54, 502.17it/s]\u001b[A\n",
      " 63%|██████▎   | 45980/73196 [01:36<00:52, 519.47it/s]\u001b[A\n",
      " 63%|██████▎   | 46033/73196 [01:36<00:53, 507.45it/s]\u001b[A\n",
      " 63%|██████▎   | 46085/73196 [01:36<00:55, 487.61it/s]\u001b[A\n",
      " 63%|██████▎   | 46135/73196 [01:36<00:55, 485.07it/s]\u001b[A\n",
      " 63%|██████▎   | 46184/73196 [01:36<00:55, 482.66it/s]\u001b[A\n",
      " 63%|██████▎   | 46234/73196 [01:36<00:55, 485.54it/s]\u001b[A\n",
      " 63%|██████▎   | 46283/73196 [01:36<00:55, 483.10it/s]\u001b[A\n",
      " 63%|██████▎   | 46332/73196 [01:37<00:56, 473.61it/s]\u001b[A\n",
      " 63%|██████▎   | 46380/73196 [01:37<00:56, 472.77it/s]\u001b[A\n",
      " 63%|██████▎   | 46433/73196 [01:37<00:54, 486.87it/s]\u001b[A\n",
      " 64%|██████▎   | 46484/73196 [01:37<00:54, 492.83it/s]\u001b[A\n",
      " 64%|██████▎   | 46534/73196 [01:37<00:54, 484.87it/s]\u001b[A\n",
      " 64%|██████▎   | 46583/73196 [01:37<00:56, 473.18it/s]\u001b[A\n",
      " 64%|██████▎   | 46632/73196 [01:37<00:55, 476.73it/s]\u001b[A\n",
      " 64%|██████▍   | 46681/73196 [01:37<00:55, 480.50it/s]\u001b[A\n",
      " 64%|██████▍   | 46730/73196 [01:37<00:55, 474.20it/s]\u001b[A\n",
      " 64%|██████▍   | 46778/73196 [01:37<00:58, 452.18it/s]\u001b[A\n",
      " 64%|██████▍   | 46826/73196 [01:38<00:57, 457.97it/s]\u001b[A\n",
      " 64%|██████▍   | 46875/73196 [01:38<00:56, 466.90it/s]\u001b[A\n",
      " 64%|██████▍   | 46930/73196 [01:38<00:53, 488.79it/s]\u001b[A\n",
      " 64%|██████▍   | 46980/73196 [01:38<00:55, 475.67it/s]\u001b[A\n",
      " 64%|██████▍   | 47031/73196 [01:38<00:54, 483.48it/s]\u001b[A\n",
      " 64%|██████▍   | 47085/73196 [01:38<00:52, 495.62it/s]\u001b[A\n",
      " 64%|██████▍   | 47135/73196 [01:38<00:55, 472.31it/s]\u001b[A\n",
      " 64%|██████▍   | 47186/73196 [01:38<00:53, 481.77it/s]\u001b[A\n",
      " 65%|██████▍   | 47235/73196 [01:38<00:53, 483.75it/s]\u001b[A\n",
      " 65%|██████▍   | 47285/73196 [01:39<00:53, 485.19it/s]\u001b[A\n",
      " 65%|██████▍   | 47334/73196 [01:39<00:53, 479.63it/s]\u001b[A\n",
      " 65%|██████▍   | 47387/73196 [01:39<00:52, 488.00it/s]\u001b[A\n",
      " 65%|██████▍   | 47436/73196 [01:39<00:53, 483.43it/s]\u001b[A\n",
      " 65%|██████▍   | 47485/73196 [01:39<00:53, 476.18it/s]\u001b[A\n",
      " 65%|██████▍   | 47538/73196 [01:39<00:52, 489.16it/s]\u001b[A\n",
      " 65%|██████▌   | 47588/73196 [01:39<00:52, 486.38it/s]\u001b[A\n",
      " 65%|██████▌   | 47639/73196 [01:39<00:51, 492.43it/s]\u001b[A\n",
      " 65%|██████▌   | 47692/73196 [01:39<00:50, 501.46it/s]\u001b[A\n",
      " 65%|██████▌   | 47743/73196 [01:39<00:51, 495.24it/s]\u001b[A\n",
      " 65%|██████▌   | 47793/73196 [01:40<00:51, 496.51it/s]\u001b[A\n",
      " 65%|██████▌   | 47843/73196 [01:40<00:51, 490.76it/s]\u001b[A\n",
      " 65%|██████▌   | 47893/73196 [01:40<00:51, 490.66it/s]\u001b[A\n",
      " 65%|██████▌   | 47943/73196 [01:40<00:51, 491.23it/s]\u001b[A\n",
      " 66%|██████▌   | 47993/73196 [01:40<00:51, 485.68it/s]\u001b[A\n",
      " 66%|██████▌   | 48042/73196 [01:40<00:53, 473.89it/s]\u001b[A\n",
      " 66%|██████▌   | 48090/73196 [01:40<00:52, 474.57it/s]\u001b[A\n",
      " 66%|██████▌   | 48138/73196 [01:40<00:52, 475.94it/s]\u001b[A\n",
      " 66%|██████▌   | 48186/73196 [01:40<00:52, 476.89it/s]\u001b[A\n",
      " 66%|██████▌   | 48237/73196 [01:40<00:51, 484.28it/s]\u001b[A\n",
      " 66%|██████▌   | 48286/73196 [01:41<00:54, 458.47it/s]\u001b[A\n",
      " 66%|██████▌   | 48333/73196 [01:41<00:54, 458.57it/s]\u001b[A\n",
      " 66%|██████▌   | 48380/73196 [01:41<00:55, 443.58it/s]\u001b[A\n",
      " 66%|██████▌   | 48425/73196 [01:41<00:56, 436.49it/s]\u001b[A\n",
      " 66%|██████▌   | 48477/73196 [01:41<00:54, 457.69it/s]\u001b[A\n",
      " 66%|██████▋   | 48525/73196 [01:41<00:53, 461.57it/s]\u001b[A\n",
      " 66%|██████▋   | 48575/73196 [01:41<00:52, 469.99it/s]\u001b[A\n",
      " 66%|██████▋   | 48627/73196 [01:41<00:51, 481.17it/s]\u001b[A\n",
      " 67%|██████▋   | 48676/73196 [01:41<00:51, 472.16it/s]\u001b[A\n",
      " 67%|██████▋   | 48733/73196 [01:42<00:49, 496.25it/s]\u001b[A\n",
      " 67%|██████▋   | 48784/73196 [01:42<00:52, 464.81it/s]\u001b[A\n",
      " 67%|██████▋   | 48832/73196 [01:42<00:52, 468.38it/s]\u001b[A\n",
      " 67%|██████▋   | 48880/73196 [01:42<00:53, 455.46it/s]\u001b[A\n",
      " 67%|██████▋   | 48932/73196 [01:42<00:51, 471.19it/s]\u001b[A\n",
      " 67%|██████▋   | 48981/73196 [01:42<00:50, 475.91it/s]\u001b[A\n",
      " 67%|██████▋   | 49029/73196 [01:42<00:53, 455.00it/s]\u001b[A\n",
      " 67%|██████▋   | 49077/73196 [01:42<00:52, 460.64it/s]\u001b[A\n",
      " 67%|██████▋   | 49127/73196 [01:42<00:51, 468.30it/s]\u001b[A\n",
      " 67%|██████▋   | 49178/73196 [01:43<00:50, 478.35it/s]\u001b[A\n",
      " 67%|██████▋   | 49227/73196 [01:43<00:52, 459.20it/s]\u001b[A\n",
      " 67%|██████▋   | 49277/73196 [01:43<00:51, 467.68it/s]\u001b[A\n",
      " 67%|██████▋   | 49326/73196 [01:43<00:50, 472.31it/s]\u001b[A\n",
      " 67%|██████▋   | 49374/73196 [01:43<00:50, 473.92it/s]\u001b[A\n",
      " 68%|██████▊   | 49422/73196 [01:43<00:50, 468.66it/s]\u001b[A\n",
      " 68%|██████▊   | 49471/73196 [01:43<00:50, 473.89it/s]\u001b[A\n",
      " 68%|██████▊   | 49519/73196 [01:43<00:51, 461.85it/s]\u001b[A\n",
      " 68%|██████▊   | 49567/73196 [01:43<00:50, 466.32it/s]\u001b[A\n",
      " 68%|██████▊   | 49614/73196 [01:43<00:50, 465.38it/s]\u001b[A\n",
      " 68%|██████▊   | 49661/73196 [01:44<00:50, 465.47it/s]\u001b[A\n",
      " 68%|██████▊   | 49708/73196 [01:44<00:50, 460.95it/s]\u001b[A\n",
      " 68%|██████▊   | 49757/73196 [01:44<00:50, 467.62it/s]\u001b[A\n",
      " 68%|██████▊   | 49804/73196 [01:44<00:50, 464.69it/s]\u001b[A\n",
      " 68%|██████▊   | 49855/73196 [01:44<00:49, 475.37it/s]\u001b[A\n",
      " 68%|██████▊   | 49903/73196 [01:44<00:49, 472.63it/s]\u001b[A\n",
      " 68%|██████▊   | 49958/73196 [01:44<00:47, 490.15it/s]\u001b[A\n",
      " 68%|██████▊   | 50008/73196 [01:44<00:49, 471.01it/s]\u001b[A\n",
      " 68%|██████▊   | 50056/73196 [01:44<00:49, 470.02it/s]\u001b[A\n",
      " 68%|██████▊   | 50109/73196 [01:44<00:47, 485.19it/s]\u001b[A\n",
      " 69%|██████▊   | 50159/73196 [01:45<00:47, 488.85it/s]\u001b[A\n",
      " 69%|██████▊   | 50209/73196 [01:45<00:47, 487.10it/s]\u001b[A\n",
      " 69%|██████▊   | 50258/73196 [01:45<00:47, 481.37it/s]\u001b[A\n",
      " 69%|██████▊   | 50307/73196 [01:45<00:48, 471.61it/s]\u001b[A\n",
      " 69%|██████▉   | 50355/73196 [01:45<00:48, 471.51it/s]\u001b[A\n",
      " 69%|██████▉   | 50408/73196 [01:45<00:46, 485.98it/s]\u001b[A\n",
      " 69%|██████▉   | 50457/73196 [01:45<00:47, 481.86it/s]\u001b[A\n",
      " 69%|██████▉   | 50508/73196 [01:45<00:46, 487.79it/s]\u001b[A\n",
      " 69%|██████▉   | 50557/73196 [01:45<00:46, 483.79it/s]\u001b[A\n",
      " 69%|██████▉   | 50608/73196 [01:46<00:46, 488.54it/s]\u001b[A\n",
      " 69%|██████▉   | 50657/73196 [01:46<00:47, 474.92it/s]\u001b[A\n",
      " 69%|██████▉   | 50708/73196 [01:46<00:46, 483.24it/s]\u001b[A\n",
      " 69%|██████▉   | 50758/73196 [01:46<00:46, 486.01it/s]\u001b[A\n",
      " 69%|██████▉   | 50813/73196 [01:46<00:44, 500.79it/s]\u001b[A\n",
      " 69%|██████▉   | 50864/73196 [01:46<00:44, 500.86it/s]\u001b[A\n",
      " 70%|██████▉   | 50915/73196 [01:46<00:45, 493.37it/s]\u001b[A\n",
      " 70%|██████▉   | 50965/73196 [01:46<00:45, 488.06it/s]\u001b[A\n",
      " 70%|██████▉   | 51014/73196 [01:46<00:45, 487.48it/s]\u001b[A\n",
      " 70%|██████▉   | 51064/73196 [01:46<00:45, 490.37it/s]\u001b[A\n",
      " 70%|██████▉   | 51114/73196 [01:47<00:45, 487.69it/s]\u001b[A\n",
      " 70%|██████▉   | 51163/73196 [01:47<00:45, 484.82it/s]\u001b[A\n",
      " 70%|██████▉   | 51212/73196 [01:47<00:45, 483.17it/s]\u001b[A\n",
      " 70%|███████   | 51261/73196 [01:47<00:46, 473.93it/s]\u001b[A\n",
      " 70%|███████   | 51309/73196 [01:47<00:46, 465.80it/s]\u001b[A\n",
      " 70%|███████   | 51357/73196 [01:47<00:46, 468.71it/s]\u001b[A\n",
      " 70%|███████   | 51405/73196 [01:47<00:46, 470.57it/s]\u001b[A\n",
      " 70%|███████   | 51454/73196 [01:47<00:45, 474.46it/s]\u001b[A\n",
      " 70%|███████   | 51502/73196 [01:47<00:46, 466.40it/s]\u001b[A\n",
      " 70%|███████   | 51549/73196 [01:47<00:48, 449.37it/s]\u001b[A\n",
      " 70%|███████   | 51598/73196 [01:48<00:46, 460.41it/s]\u001b[A\n",
      " 71%|███████   | 51645/73196 [01:48<00:47, 449.71it/s]\u001b[A\n",
      " 71%|███████   | 51691/73196 [01:48<00:47, 452.71it/s]\u001b[A\n",
      " 71%|███████   | 51740/73196 [01:48<00:46, 459.93it/s]\u001b[A\n",
      " 71%|███████   | 51789/73196 [01:48<00:45, 466.68it/s]\u001b[A\n",
      " 71%|███████   | 51837/73196 [01:48<00:45, 465.49it/s]\u001b[A\n",
      " 71%|███████   | 51884/73196 [01:48<00:46, 453.90it/s]\u001b[A\n",
      " 71%|███████   | 51933/73196 [01:48<00:45, 463.37it/s]\u001b[A\n",
      " 71%|███████   | 51980/73196 [01:48<00:46, 460.38it/s]\u001b[A\n",
      " 71%|███████   | 52033/73196 [01:49<00:44, 477.94it/s]\u001b[A\n",
      " 71%|███████   | 52084/73196 [01:49<00:43, 485.81it/s]\u001b[A\n",
      " 71%|███████   | 52133/73196 [01:49<00:43, 485.11it/s]\u001b[A\n",
      " 71%|███████▏  | 52182/73196 [01:49<00:44, 469.55it/s]\u001b[A\n",
      " 71%|███████▏  | 52232/73196 [01:49<00:44, 475.43it/s]\u001b[A\n",
      " 71%|███████▏  | 52280/73196 [01:49<00:44, 474.32it/s]\u001b[A\n",
      " 71%|███████▏  | 52329/73196 [01:49<00:43, 476.11it/s]\u001b[A\n",
      " 72%|███████▏  | 52377/73196 [01:49<00:45, 460.21it/s]\u001b[A\n",
      " 72%|███████▏  | 52429/73196 [01:49<00:43, 474.57it/s]\u001b[A\n",
      " 72%|███████▏  | 52477/73196 [01:49<00:44, 464.67it/s]\u001b[A\n",
      " 72%|███████▏  | 52528/73196 [01:50<00:43, 477.29it/s]\u001b[A\n",
      " 72%|███████▏  | 52583/73196 [01:50<00:41, 495.54it/s]\u001b[A\n",
      " 72%|███████▏  | 52637/73196 [01:50<00:40, 507.67it/s]\u001b[A\n",
      " 72%|███████▏  | 52690/73196 [01:50<00:39, 513.61it/s]\u001b[A\n",
      " 72%|███████▏  | 52742/73196 [01:50<00:41, 498.87it/s]\u001b[A\n",
      " 72%|███████▏  | 52793/73196 [01:50<00:41, 493.22it/s]\u001b[A\n",
      " 72%|███████▏  | 52843/73196 [01:50<00:43, 471.20it/s]\u001b[A\n",
      " 72%|███████▏  | 52894/73196 [01:50<00:42, 477.59it/s]\u001b[A\n",
      " 72%|███████▏  | 52943/73196 [01:50<00:43, 470.00it/s]\u001b[A\n",
      " 72%|███████▏  | 52991/73196 [01:51<00:43, 465.82it/s]\u001b[A\n",
      " 72%|███████▏  | 53038/73196 [01:51<00:44, 453.21it/s]\u001b[A\n",
      " 73%|███████▎  | 53085/73196 [01:51<00:44, 456.64it/s]\u001b[A\n",
      " 73%|███████▎  | 53134/73196 [01:51<00:43, 465.18it/s]\u001b[A\n",
      " 73%|███████▎  | 53185/73196 [01:51<00:41, 477.64it/s]\u001b[A\n",
      " 73%|███████▎  | 53239/73196 [01:51<00:40, 492.97it/s]\u001b[A\n",
      " 73%|███████▎  | 53290/73196 [01:51<00:40, 497.23it/s]\u001b[A\n",
      " 73%|███████▎  | 53340/73196 [01:51<00:41, 474.15it/s]\u001b[A\n",
      " 73%|███████▎  | 53389/73196 [01:51<00:41, 478.23it/s]\u001b[A\n",
      " 73%|███████▎  | 53439/73196 [01:51<00:40, 484.44it/s]\u001b[A\n",
      " 73%|███████▎  | 53492/73196 [01:52<00:39, 495.38it/s]\u001b[A\n",
      " 73%|███████▎  | 53542/73196 [01:52<00:39, 492.78it/s]\u001b[A\n",
      " 73%|███████▎  | 53592/73196 [01:52<00:40, 489.25it/s]\u001b[A\n",
      " 73%|███████▎  | 53644/73196 [01:52<00:39, 497.89it/s]\u001b[A\n",
      " 73%|███████▎  | 53695/73196 [01:52<00:39, 497.63it/s]\u001b[A\n",
      " 73%|███████▎  | 53745/73196 [01:52<00:39, 490.81it/s]\u001b[A\n",
      " 74%|███████▎  | 53803/73196 [01:52<00:37, 514.52it/s]\u001b[A\n",
      " 74%|███████▎  | 53855/73196 [01:52<00:39, 495.16it/s]\u001b[A\n",
      " 74%|███████▎  | 53905/73196 [01:52<00:39, 487.15it/s]\u001b[A\n",
      " 74%|███████▎  | 53959/73196 [01:52<00:38, 499.18it/s]\u001b[A\n",
      " 74%|███████▍  | 54010/73196 [01:53<00:40, 478.80it/s]\u001b[A\n",
      " 74%|███████▍  | 54059/73196 [01:53<00:41, 465.93it/s]\u001b[A\n",
      " 74%|███████▍  | 54106/73196 [01:53<00:41, 464.94it/s]\u001b[A\n",
      " 74%|███████▍  | 54153/73196 [01:53<00:41, 453.52it/s]\u001b[A\n",
      " 74%|███████▍  | 54200/73196 [01:53<00:42, 451.82it/s]\u001b[A\n",
      " 74%|███████▍  | 54252/73196 [01:53<00:40, 469.25it/s]\u001b[A\n",
      " 74%|███████▍  | 54304/73196 [01:53<00:39, 480.40it/s]\u001b[A\n",
      " 74%|███████▍  | 54353/73196 [01:53<00:39, 473.05it/s]\u001b[A\n",
      " 74%|███████▍  | 54401/73196 [01:53<00:40, 469.05it/s]\u001b[A\n",
      " 74%|███████▍  | 54449/73196 [01:54<00:39, 468.98it/s]\u001b[A\n",
      " 74%|███████▍  | 54497/73196 [01:54<00:40, 456.48it/s]\u001b[A\n",
      " 75%|███████▍  | 54550/73196 [01:54<00:39, 475.43it/s]\u001b[A\n",
      " 75%|███████▍  | 54598/73196 [01:54<00:40, 459.90it/s]\u001b[A\n",
      " 75%|███████▍  | 54646/73196 [01:54<00:39, 464.72it/s]\u001b[A\n",
      " 75%|███████▍  | 54694/73196 [01:54<00:39, 467.47it/s]\u001b[A\n",
      " 75%|███████▍  | 54741/73196 [01:54<00:39, 463.26it/s]\u001b[A\n",
      " 75%|███████▍  | 54788/73196 [01:54<00:40, 459.69it/s]\u001b[A\n",
      " 75%|███████▍  | 54835/73196 [01:54<00:39, 462.45it/s]\u001b[A\n",
      " 75%|███████▍  | 54884/73196 [01:54<00:38, 470.36it/s]\u001b[A\n",
      " 75%|███████▌  | 54938/73196 [01:55<00:37, 488.39it/s]\u001b[A\n",
      " 75%|███████▌  | 54988/73196 [01:55<00:38, 475.30it/s]\u001b[A\n",
      " 75%|███████▌  | 55043/73196 [01:55<00:36, 494.59it/s]\u001b[A\n",
      " 75%|███████▌  | 55093/73196 [01:55<00:37, 483.94it/s]\u001b[A\n",
      " 75%|███████▌  | 55142/73196 [01:55<00:37, 482.65it/s]\u001b[A\n",
      " 75%|███████▌  | 55191/73196 [01:55<00:37, 484.29it/s]\u001b[A\n",
      " 75%|███████▌  | 55240/73196 [01:55<00:38, 471.67it/s]\u001b[A\n",
      " 76%|███████▌  | 55288/73196 [01:55<00:38, 469.56it/s]\u001b[A\n",
      " 76%|███████▌  | 55336/73196 [01:55<00:38, 462.12it/s]\u001b[A\n",
      " 76%|███████▌  | 55383/73196 [01:56<00:38, 457.15it/s]\u001b[A\n",
      " 76%|███████▌  | 55437/73196 [01:56<00:37, 479.18it/s]\u001b[A\n",
      " 76%|███████▌  | 55486/73196 [01:56<00:36, 478.92it/s]\u001b[A\n",
      " 76%|███████▌  | 55535/73196 [01:56<00:36, 479.87it/s]\u001b[A\n",
      " 76%|███████▌  | 55585/73196 [01:56<00:36, 485.45it/s]\u001b[A\n",
      " 76%|███████▌  | 55634/73196 [01:56<00:36, 477.41it/s]\u001b[A\n",
      " 76%|███████▌  | 55683/73196 [01:56<00:36, 479.90it/s]\u001b[A\n",
      " 76%|███████▌  | 55735/73196 [01:56<00:35, 490.87it/s]\u001b[A\n",
      " 76%|███████▌  | 55785/73196 [01:56<00:35, 491.47it/s]\u001b[A\n",
      " 76%|███████▋  | 55835/73196 [01:56<00:36, 481.24it/s]\u001b[A\n",
      " 76%|███████▋  | 55884/73196 [01:57<00:35, 481.59it/s]\u001b[A\n",
      " 76%|███████▋  | 55936/73196 [01:57<00:35, 491.60it/s]\u001b[A\n",
      " 76%|███████▋  | 55986/73196 [01:57<00:35, 491.64it/s]\u001b[A\n",
      " 77%|███████▋  | 56036/73196 [01:57<00:35, 484.16it/s]\u001b[A\n",
      " 77%|███████▋  | 56086/73196 [01:57<00:35, 488.39it/s]\u001b[A\n",
      " 77%|███████▋  | 56135/73196 [01:57<00:34, 488.06it/s]\u001b[A\n",
      " 77%|███████▋  | 56186/73196 [01:57<00:34, 491.79it/s]\u001b[A\n",
      " 77%|███████▋  | 56236/73196 [01:57<00:35, 483.57it/s]\u001b[A\n",
      " 77%|███████▋  | 56285/73196 [01:57<00:34, 485.06it/s]\u001b[A\n",
      " 77%|███████▋  | 56338/73196 [01:57<00:33, 496.24it/s]\u001b[A\n",
      " 77%|███████▋  | 56388/73196 [01:58<00:34, 487.78it/s]\u001b[A\n",
      " 77%|███████▋  | 56437/73196 [01:58<00:35, 476.38it/s]\u001b[A\n",
      " 77%|███████▋  | 56490/73196 [01:58<00:34, 490.64it/s]\u001b[A\n",
      " 77%|███████▋  | 56540/73196 [01:58<00:36, 460.27it/s]\u001b[A\n",
      " 77%|███████▋  | 56587/73196 [01:58<00:36, 456.48it/s]\u001b[A\n",
      " 77%|███████▋  | 56635/73196 [01:58<00:35, 462.21it/s]\u001b[A\n",
      " 77%|███████▋  | 56683/73196 [01:58<00:35, 466.60it/s]\u001b[A\n",
      " 78%|███████▊  | 56739/73196 [01:58<00:33, 486.38it/s]\u001b[A\n",
      " 78%|███████▊  | 56788/73196 [01:58<00:34, 477.88it/s]\u001b[A\n",
      " 78%|███████▊  | 56837/73196 [01:59<00:34, 477.97it/s]\u001b[A\n",
      " 78%|███████▊  | 56893/73196 [01:59<00:32, 496.98it/s]\u001b[A\n",
      " 78%|███████▊  | 56944/73196 [01:59<00:32, 496.81it/s]\u001b[A\n",
      " 78%|███████▊  | 56996/73196 [01:59<00:32, 502.06it/s]\u001b[A\n",
      " 78%|███████▊  | 57047/73196 [01:59<00:33, 484.93it/s]\u001b[A\n",
      " 78%|███████▊  | 57096/73196 [01:59<00:33, 482.93it/s]\u001b[A\n",
      " 78%|███████▊  | 57147/73196 [01:59<00:32, 490.17it/s]\u001b[A\n",
      " 78%|███████▊  | 57197/73196 [01:59<00:33, 480.60it/s]\u001b[A\n",
      " 78%|███████▊  | 57246/73196 [01:59<00:34, 467.51it/s]\u001b[A\n",
      " 78%|███████▊  | 57295/73196 [01:59<00:33, 473.60it/s]\u001b[A\n",
      " 78%|███████▊  | 57348/73196 [02:00<00:32, 488.53it/s]\u001b[A\n",
      " 78%|███████▊  | 57398/73196 [02:00<00:32, 481.19it/s]\u001b[A\n",
      " 78%|███████▊  | 57447/73196 [02:00<00:33, 472.04it/s]\u001b[A\n",
      " 79%|███████▊  | 57495/73196 [02:00<00:33, 467.71it/s]\u001b[A\n",
      " 79%|███████▊  | 57549/73196 [02:00<00:32, 486.01it/s]\u001b[A\n",
      " 79%|███████▊  | 57598/73196 [02:00<00:32, 486.71it/s]\u001b[A\n",
      " 79%|███████▉  | 57647/73196 [02:00<00:33, 466.95it/s]\u001b[A\n",
      " 79%|███████▉  | 57694/73196 [02:00<00:33, 456.16it/s]\u001b[A\n",
      " 79%|███████▉  | 57741/73196 [02:00<00:33, 458.61it/s]\u001b[A\n",
      " 79%|███████▉  | 57788/73196 [02:01<00:34, 452.86it/s]\u001b[A\n",
      " 79%|███████▉  | 57835/73196 [02:01<00:33, 453.24it/s]\u001b[A\n",
      " 79%|███████▉  | 57890/73196 [02:01<00:31, 478.40it/s]\u001b[A\n",
      " 79%|███████▉  | 57943/73196 [02:01<00:31, 489.62it/s]\u001b[A\n",
      " 79%|███████▉  | 57995/73196 [02:01<00:30, 496.42it/s]\u001b[A\n",
      " 79%|███████▉  | 58046/73196 [02:01<00:30, 499.22it/s]\u001b[A\n",
      " 79%|███████▉  | 58097/73196 [02:01<00:31, 481.20it/s]\u001b[A\n",
      " 79%|███████▉  | 58146/73196 [02:01<00:31, 479.55it/s]\u001b[A\n",
      " 80%|███████▉  | 58195/73196 [02:01<00:31, 471.50it/s]\u001b[A\n",
      " 80%|███████▉  | 58248/73196 [02:01<00:30, 484.47it/s]\u001b[A\n",
      " 80%|███████▉  | 58297/73196 [02:02<00:30, 482.54it/s]\u001b[A\n",
      " 80%|███████▉  | 58346/73196 [02:02<00:31, 466.16it/s]\u001b[A\n",
      " 80%|███████▉  | 58394/73196 [02:02<00:31, 468.49it/s]\u001b[A\n",
      " 80%|███████▉  | 58445/73196 [02:02<00:30, 476.04it/s]\u001b[A\n",
      " 80%|███████▉  | 58493/73196 [02:02<00:30, 475.20it/s]\u001b[A\n",
      " 80%|███████▉  | 58541/73196 [02:02<00:30, 472.90it/s]\u001b[A\n",
      " 80%|████████  | 58589/73196 [02:02<00:31, 462.60it/s]\u001b[A\n",
      " 80%|████████  | 58637/73196 [02:02<00:31, 464.54it/s]\u001b[A\n",
      " 80%|████████  | 58684/73196 [02:02<00:31, 460.65it/s]\u001b[A\n",
      " 80%|████████  | 58737/73196 [02:03<00:30, 477.56it/s]\u001b[A\n",
      " 80%|████████  | 58790/73196 [02:03<00:29, 489.32it/s]\u001b[A\n",
      " 80%|████████  | 58840/73196 [02:03<00:29, 485.46it/s]\u001b[A\n",
      " 80%|████████  | 58890/73196 [02:03<00:29, 488.33it/s]\u001b[A\n",
      " 81%|████████  | 58939/73196 [02:03<00:29, 478.58it/s]\u001b[A\n",
      " 81%|████████  | 58994/73196 [02:03<00:28, 497.56it/s]\u001b[A\n",
      " 81%|████████  | 59045/73196 [02:03<00:29, 471.71it/s]\u001b[A\n",
      " 81%|████████  | 59094/73196 [02:03<00:29, 476.99it/s]\u001b[A\n",
      " 81%|████████  | 59143/73196 [02:03<00:29, 475.74it/s]\u001b[A\n",
      " 81%|████████  | 59196/73196 [02:03<00:28, 489.64it/s]\u001b[A\n",
      " 81%|████████  | 59251/73196 [02:04<00:27, 505.70it/s]\u001b[A\n",
      " 81%|████████  | 59302/73196 [02:04<00:28, 484.97it/s]\u001b[A\n",
      " 81%|████████  | 59351/73196 [02:04<00:28, 478.02it/s]\u001b[A\n",
      " 81%|████████  | 59400/73196 [02:04<00:29, 469.43it/s]\u001b[A\n",
      " 81%|████████  | 59448/73196 [02:04<00:29, 459.88it/s]\u001b[A\n",
      " 81%|████████▏ | 59499/73196 [02:04<00:28, 472.64it/s]\u001b[A\n",
      " 81%|████████▏ | 59548/73196 [02:04<00:28, 477.56it/s]\u001b[A\n",
      " 81%|████████▏ | 59596/73196 [02:04<00:28, 478.19it/s]\u001b[A\n",
      " 81%|████████▏ | 59644/73196 [02:04<00:28, 477.18it/s]\u001b[A\n",
      " 82%|████████▏ | 59692/73196 [02:04<00:28, 472.65it/s]\u001b[A\n",
      " 82%|████████▏ | 59744/73196 [02:05<00:27, 484.66it/s]\u001b[A\n",
      " 82%|████████▏ | 59793/73196 [02:05<00:27, 482.58it/s]\u001b[A\n",
      " 82%|████████▏ | 59842/73196 [02:05<00:28, 476.49it/s]\u001b[A\n",
      " 82%|████████▏ | 59893/73196 [02:05<00:27, 484.64it/s]\u001b[A\n",
      " 82%|████████▏ | 59942/73196 [02:05<00:27, 485.86it/s]\u001b[A\n",
      " 82%|████████▏ | 59991/73196 [02:05<00:27, 483.53it/s]\u001b[A\n",
      " 82%|████████▏ | 60040/73196 [02:05<00:27, 479.68it/s]\u001b[A\n",
      " 82%|████████▏ | 60089/73196 [02:05<00:27, 476.20it/s]\u001b[A\n",
      " 82%|████████▏ | 60137/73196 [02:05<00:27, 471.55it/s]\u001b[A\n",
      " 82%|████████▏ | 60185/73196 [02:06<00:27, 469.82it/s]\u001b[A\n",
      " 82%|████████▏ | 60233/73196 [02:06<00:27, 467.37it/s]\u001b[A\n",
      " 82%|████████▏ | 60280/73196 [02:06<00:27, 464.64it/s]\u001b[A\n",
      " 82%|████████▏ | 60329/73196 [02:06<00:27, 468.43it/s]\u001b[A\n",
      " 82%|████████▏ | 60380/73196 [02:06<00:26, 479.73it/s]\u001b[A\n",
      " 83%|████████▎ | 60429/73196 [02:06<00:26, 481.30it/s]\u001b[A\n",
      " 83%|████████▎ | 60479/73196 [02:06<00:26, 485.74it/s]\u001b[A\n",
      " 83%|████████▎ | 60528/73196 [02:06<00:26, 481.20it/s]\u001b[A\n",
      " 83%|████████▎ | 60577/73196 [02:06<00:27, 466.42it/s]\u001b[A\n",
      " 83%|████████▎ | 60628/73196 [02:06<00:26, 477.44it/s]\u001b[A\n",
      " 83%|████████▎ | 60676/73196 [02:07<00:26, 477.91it/s]\u001b[A\n",
      " 83%|████████▎ | 60724/73196 [02:07<00:26, 472.86it/s]\u001b[A\n",
      " 83%|████████▎ | 60773/73196 [02:07<00:26, 476.27it/s]\u001b[A\n",
      " 83%|████████▎ | 60827/73196 [02:07<00:25, 493.70it/s]\u001b[A\n",
      " 83%|████████▎ | 60877/73196 [02:07<00:25, 488.16it/s]\u001b[A\n",
      " 83%|████████▎ | 60932/73196 [02:07<00:24, 503.84it/s]\u001b[A\n",
      " 83%|████████▎ | 60983/73196 [02:07<00:25, 484.37it/s]\u001b[A\n",
      " 83%|████████▎ | 61034/73196 [02:07<00:24, 489.69it/s]\u001b[A\n",
      " 83%|████████▎ | 61084/73196 [02:07<00:25, 476.85it/s]\u001b[A\n",
      " 84%|████████▎ | 61132/73196 [02:07<00:25, 476.67it/s]\u001b[A\n",
      " 84%|████████▎ | 61180/73196 [02:08<00:25, 469.52it/s]\u001b[A\n",
      " 84%|████████▎ | 61229/73196 [02:08<00:25, 475.22it/s]\u001b[A\n",
      " 84%|████████▎ | 61277/73196 [02:08<00:25, 460.50it/s]\u001b[A\n",
      " 84%|████████▍ | 61327/73196 [02:08<00:25, 470.31it/s]\u001b[A\n",
      " 84%|████████▍ | 61379/73196 [02:08<00:24, 482.58it/s]\u001b[A\n",
      " 84%|████████▍ | 61429/73196 [02:08<00:24, 487.18it/s]\u001b[A\n",
      " 84%|████████▍ | 61483/73196 [02:08<00:23, 501.83it/s]\u001b[A\n",
      " 84%|████████▍ | 61534/73196 [02:08<00:23, 488.54it/s]\u001b[A\n",
      " 84%|████████▍ | 61587/73196 [02:08<00:23, 498.50it/s]\u001b[A\n",
      " 84%|████████▍ | 61638/73196 [02:09<00:23, 488.89it/s]\u001b[A\n",
      " 84%|████████▍ | 61691/73196 [02:09<00:23, 494.87it/s]\u001b[A\n",
      " 84%|████████▍ | 61741/73196 [02:09<00:23, 489.86it/s]\u001b[A\n",
      " 84%|████████▍ | 61791/73196 [02:09<00:24, 472.91it/s]\u001b[A\n",
      " 84%|████████▍ | 61840/73196 [02:09<00:23, 475.64it/s]\u001b[A\n",
      " 85%|████████▍ | 61890/73196 [02:09<00:23, 482.26it/s]\u001b[A\n",
      " 85%|████████▍ | 61939/73196 [02:09<00:23, 471.50it/s]\u001b[A\n",
      " 85%|████████▍ | 61989/73196 [02:09<00:23, 479.08it/s]\u001b[A\n",
      " 85%|████████▍ | 62038/73196 [02:09<00:23, 473.43it/s]\u001b[A\n",
      " 85%|████████▍ | 62086/73196 [02:09<00:23, 474.86it/s]\u001b[A\n",
      " 85%|████████▍ | 62134/73196 [02:10<00:23, 466.94it/s]\u001b[A\n",
      " 85%|████████▍ | 62181/73196 [02:10<00:24, 458.61it/s]\u001b[A\n",
      " 85%|████████▌ | 62227/73196 [02:10<00:24, 453.94it/s]\u001b[A\n",
      " 85%|████████▌ | 62273/73196 [02:10<00:24, 448.60it/s]\u001b[A\n",
      " 85%|████████▌ | 62321/73196 [02:10<00:24, 452.71it/s]\u001b[A\n",
      " 85%|████████▌ | 62368/73196 [02:10<00:24, 450.35it/s]\u001b[A\n",
      " 85%|████████▌ | 62418/73196 [02:10<00:23, 463.31it/s]\u001b[A\n",
      " 85%|████████▌ | 62465/73196 [02:10<00:23, 460.31it/s]\u001b[A\n",
      " 85%|████████▌ | 62512/73196 [02:10<00:23, 453.56it/s]\u001b[A\n",
      " 85%|████████▌ | 62561/73196 [02:11<00:22, 463.91it/s]\u001b[A\n",
      " 86%|████████▌ | 62608/73196 [02:11<00:23, 453.70it/s]\u001b[A\n",
      " 86%|████████▌ | 62658/73196 [02:11<00:22, 465.06it/s]\u001b[A\n",
      " 86%|████████▌ | 62708/73196 [02:11<00:22, 474.04it/s]\u001b[A\n",
      " 86%|████████▌ | 62758/73196 [02:11<00:21, 480.31it/s]\u001b[A\n",
      " 86%|████████▌ | 62810/73196 [02:11<00:21, 490.13it/s]\u001b[A\n",
      " 86%|████████▌ | 62860/73196 [02:11<00:21, 490.84it/s]\u001b[A\n",
      " 86%|████████▌ | 62910/73196 [02:11<00:21, 488.33it/s]\u001b[A\n",
      " 86%|████████▌ | 62962/73196 [02:11<00:20, 495.90it/s]\u001b[A\n",
      " 86%|████████▌ | 63012/73196 [02:11<00:21, 482.53it/s]\u001b[A\n",
      " 86%|████████▌ | 63063/73196 [02:12<00:20, 489.86it/s]\u001b[A\n",
      " 86%|████████▌ | 63113/73196 [02:12<00:20, 483.18it/s]\u001b[A\n",
      " 86%|████████▋ | 63162/73196 [02:12<00:21, 471.11it/s]\u001b[A\n",
      " 86%|████████▋ | 63210/73196 [02:12<00:21, 472.33it/s]\u001b[A\n",
      " 86%|████████▋ | 63263/73196 [02:12<00:20, 486.03it/s]\u001b[A\n",
      " 87%|████████▋ | 63316/73196 [02:12<00:19, 495.49it/s]\u001b[A\n",
      " 87%|████████▋ | 63368/73196 [02:12<00:19, 500.95it/s]\u001b[A\n",
      " 87%|████████▋ | 63419/73196 [02:12<00:19, 502.75it/s]\u001b[A\n",
      " 87%|████████▋ | 63472/73196 [02:12<00:19, 509.01it/s]\u001b[A\n",
      " 87%|████████▋ | 63528/73196 [02:12<00:18, 521.43it/s]\u001b[A\n",
      " 87%|████████▋ | 63581/73196 [02:13<00:18, 515.27it/s]\u001b[A\n",
      " 87%|████████▋ | 63633/73196 [02:13<00:19, 494.32it/s]\u001b[A\n",
      " 87%|████████▋ | 63683/73196 [02:13<00:19, 487.52it/s]\u001b[A\n",
      " 87%|████████▋ | 63732/73196 [02:13<00:19, 486.03it/s]\u001b[A\n",
      " 87%|████████▋ | 63781/73196 [02:13<00:19, 479.04it/s]\u001b[A\n",
      " 87%|████████▋ | 63830/73196 [02:13<00:19, 470.77it/s]\u001b[A\n",
      " 87%|████████▋ | 63878/73196 [02:13<00:19, 471.30it/s]\u001b[A\n",
      " 87%|████████▋ | 63930/73196 [02:13<00:19, 484.81it/s]\u001b[A\n",
      " 87%|████████▋ | 63979/73196 [02:13<00:18, 485.15it/s]\u001b[A\n",
      " 87%|████████▋ | 64031/73196 [02:14<00:18, 492.76it/s]\u001b[A\n",
      " 88%|████████▊ | 64081/73196 [02:14<00:18, 487.94it/s]\u001b[A\n",
      " 88%|████████▊ | 64135/73196 [02:14<00:18, 502.30it/s]\u001b[A\n",
      " 88%|████████▊ | 64186/73196 [02:14<00:17, 503.85it/s]\u001b[A\n",
      " 88%|████████▊ | 64237/73196 [02:14<00:18, 479.75it/s]\u001b[A\n",
      " 88%|████████▊ | 64286/73196 [02:14<00:18, 478.82it/s]\u001b[A\n",
      " 88%|████████▊ | 64335/73196 [02:14<00:18, 481.51it/s]\u001b[A\n",
      " 88%|████████▊ | 64384/73196 [02:14<00:18, 463.80it/s]\u001b[A\n",
      " 88%|████████▊ | 64431/73196 [02:14<00:19, 445.90it/s]\u001b[A\n",
      " 88%|████████▊ | 64480/73196 [02:14<00:19, 456.33it/s]\u001b[A\n",
      " 88%|████████▊ | 64530/73196 [02:15<00:18, 467.69it/s]\u001b[A\n",
      " 88%|████████▊ | 64578/73196 [02:15<00:18, 471.13it/s]\u001b[A\n",
      " 88%|████████▊ | 64626/73196 [02:15<00:18, 458.50it/s]\u001b[A\n",
      " 88%|████████▊ | 64677/73196 [02:15<00:18, 471.27it/s]\u001b[A\n",
      " 88%|████████▊ | 64729/73196 [02:15<00:17, 484.38it/s]\u001b[A\n",
      " 89%|████████▊ | 64783/73196 [02:15<00:16, 497.10it/s]\u001b[A\n",
      " 89%|████████▊ | 64833/73196 [02:15<00:16, 494.63it/s]\u001b[A\n",
      " 89%|████████▊ | 64890/73196 [02:15<00:16, 510.80it/s]\u001b[A\n",
      " 89%|████████▊ | 64942/73196 [02:15<00:16, 497.35it/s]\u001b[A\n",
      " 89%|████████▉ | 64992/73196 [02:16<00:17, 482.36it/s]\u001b[A\n",
      " 89%|████████▉ | 65042/73196 [02:16<00:16, 487.32it/s]\u001b[A\n",
      " 89%|████████▉ | 65094/73196 [02:16<00:16, 496.48it/s]\u001b[A\n",
      " 89%|████████▉ | 65144/73196 [02:16<00:16, 485.82it/s]\u001b[A\n",
      " 89%|████████▉ | 65194/73196 [02:16<00:16, 489.71it/s]\u001b[A\n",
      " 89%|████████▉ | 65244/73196 [02:16<00:16, 480.18it/s]\u001b[A\n",
      " 89%|████████▉ | 65293/73196 [02:16<00:16, 477.57it/s]\u001b[A\n",
      " 89%|████████▉ | 65343/73196 [02:16<00:16, 481.08it/s]\u001b[A\n",
      " 89%|████████▉ | 65392/73196 [02:16<00:16, 474.57it/s]\u001b[A\n",
      " 89%|████████▉ | 65445/73196 [02:16<00:15, 488.49it/s]\u001b[A\n",
      " 89%|████████▉ | 65495/73196 [02:17<00:15, 489.08it/s]\u001b[A\n",
      " 90%|████████▉ | 65546/73196 [02:17<00:15, 493.23it/s]\u001b[A\n",
      " 90%|████████▉ | 65596/73196 [02:17<00:15, 487.90it/s]\u001b[A\n",
      " 90%|████████▉ | 65646/73196 [02:17<00:15, 489.63it/s]\u001b[A\n",
      " 90%|████████▉ | 65699/73196 [02:17<00:14, 500.42it/s]\u001b[A\n",
      " 90%|████████▉ | 65750/73196 [02:17<00:15, 485.21it/s]\u001b[A\n",
      " 90%|████████▉ | 65800/73196 [02:17<00:15, 488.49it/s]\u001b[A\n",
      " 90%|████████▉ | 65851/73196 [02:17<00:14, 493.17it/s]\u001b[A\n",
      " 90%|█████████ | 65901/73196 [02:17<00:15, 478.40it/s]\u001b[A\n",
      " 90%|█████████ | 65950/73196 [02:17<00:15, 474.26it/s]\u001b[A\n",
      " 90%|█████████ | 65999/73196 [02:18<00:15, 477.96it/s]\u001b[A\n",
      " 90%|█████████ | 66048/73196 [02:18<00:14, 480.73it/s]\u001b[A\n",
      " 90%|█████████ | 66097/73196 [02:18<00:14, 477.96it/s]\u001b[A\n",
      " 90%|█████████ | 66145/73196 [02:18<00:14, 471.51it/s]\u001b[A\n",
      " 90%|█████████ | 66194/73196 [02:18<00:14, 474.85it/s]\u001b[A\n",
      " 91%|█████████ | 66246/73196 [02:18<00:14, 487.30it/s]\u001b[A\n",
      " 91%|█████████ | 66296/73196 [02:18<00:14, 491.02it/s]\u001b[A\n",
      " 91%|█████████ | 66346/73196 [02:18<00:14, 469.63it/s]\u001b[A\n",
      " 91%|█████████ | 66394/73196 [02:18<00:14, 472.51it/s]\u001b[A\n",
      " 91%|█████████ | 66442/73196 [02:19<00:14, 465.39it/s]\u001b[A\n",
      " 91%|█████████ | 66492/73196 [02:19<00:14, 469.85it/s]\u001b[A\n",
      " 91%|█████████ | 66540/73196 [02:19<00:14, 470.96it/s]\u001b[A\n",
      " 91%|█████████ | 66588/73196 [02:19<00:14, 460.89it/s]\u001b[A\n",
      " 91%|█████████ | 66635/73196 [02:19<00:14, 458.21it/s]\u001b[A\n",
      " 91%|█████████ | 66689/73196 [02:19<00:13, 478.61it/s]\u001b[A\n",
      " 91%|█████████ | 66738/73196 [02:19<00:13, 479.60it/s]\u001b[A\n",
      " 91%|█████████▏| 66792/73196 [02:19<00:12, 494.89it/s]\u001b[A\n",
      " 91%|█████████▏| 66846/73196 [02:19<00:12, 505.01it/s]\u001b[A\n",
      " 91%|█████████▏| 66897/73196 [02:19<00:12, 500.27it/s]\u001b[A\n",
      " 91%|█████████▏| 66949/73196 [02:20<00:12, 505.34it/s]\u001b[A\n",
      " 92%|█████████▏| 67000/73196 [02:20<00:12, 480.39it/s]\u001b[A\n",
      " 92%|█████████▏| 67052/73196 [02:20<00:12, 491.15it/s]\u001b[A\n",
      " 92%|█████████▏| 67102/73196 [02:20<00:12, 487.08it/s]\u001b[A\n",
      " 92%|█████████▏| 67152/73196 [02:20<00:12, 489.05it/s]\u001b[A\n",
      " 92%|█████████▏| 67203/73196 [02:20<00:12, 493.65it/s]\u001b[A\n",
      " 92%|█████████▏| 67253/73196 [02:20<00:12, 488.08it/s]\u001b[A\n",
      " 92%|█████████▏| 67308/73196 [02:20<00:11, 505.13it/s]\u001b[A\n",
      " 92%|█████████▏| 67359/73196 [02:20<00:11, 497.49it/s]\u001b[A\n",
      " 92%|█████████▏| 67409/73196 [02:21<00:11, 490.21it/s]\u001b[A\n",
      " 92%|█████████▏| 67459/73196 [02:21<00:11, 490.64it/s]\u001b[A\n",
      " 92%|█████████▏| 67509/73196 [02:21<00:11, 476.12it/s]\u001b[A\n",
      " 92%|█████████▏| 67562/73196 [02:21<00:11, 490.76it/s]\u001b[A\n",
      " 92%|█████████▏| 67612/73196 [02:21<00:11, 475.21it/s]\u001b[A\n",
      " 92%|█████████▏| 67660/73196 [02:21<00:11, 469.11it/s]\u001b[A\n",
      " 93%|█████████▎| 67708/73196 [02:21<00:11, 472.28it/s]\u001b[A\n",
      " 93%|█████████▎| 67756/73196 [02:21<00:11, 468.14it/s]\u001b[A\n",
      " 93%|█████████▎| 67803/73196 [02:21<00:11, 463.02it/s]\u001b[A\n",
      " 93%|█████████▎| 67850/73196 [02:21<00:11, 456.01it/s]\u001b[A\n",
      " 93%|█████████▎| 67896/73196 [02:22<00:11, 450.44it/s]\u001b[A\n",
      " 93%|█████████▎| 67944/73196 [02:22<00:11, 458.70it/s]\u001b[A\n",
      " 93%|█████████▎| 67995/73196 [02:22<00:11, 471.93it/s]\u001b[A\n",
      " 93%|█████████▎| 68043/73196 [02:22<00:10, 469.23it/s]\u001b[A\n",
      " 93%|█████████▎| 68095/73196 [02:22<00:10, 481.82it/s]\u001b[A\n",
      " 93%|█████████▎| 68144/73196 [02:22<00:10, 478.51it/s]\u001b[A\n",
      " 93%|█████████▎| 68192/73196 [02:22<00:10, 470.69it/s]\u001b[A\n",
      " 93%|█████████▎| 68241/73196 [02:22<00:10, 476.04it/s]\u001b[A\n",
      " 93%|█████████▎| 68291/73196 [02:22<00:10, 482.65it/s]\u001b[A\n",
      " 93%|█████████▎| 68342/73196 [02:22<00:09, 490.34it/s]\u001b[A\n",
      " 93%|█████████▎| 68392/73196 [02:23<00:10, 472.33it/s]\u001b[A\n",
      " 94%|█████████▎| 68445/73196 [02:23<00:09, 485.99it/s]\u001b[A\n",
      " 94%|█████████▎| 68494/73196 [02:23<00:09, 478.59it/s]\u001b[A\n",
      " 94%|█████████▎| 68544/73196 [02:23<00:09, 483.42it/s]\u001b[A\n",
      " 94%|█████████▎| 68593/73196 [02:23<00:09, 481.77it/s]\u001b[A\n",
      " 94%|█████████▍| 68642/73196 [02:23<00:09, 473.55it/s]\u001b[A\n",
      " 94%|█████████▍| 68690/73196 [02:23<00:09, 469.09it/s]\u001b[A\n",
      " 94%|█████████▍| 68737/73196 [02:23<00:09, 461.69it/s]\u001b[A\n",
      " 94%|█████████▍| 68784/73196 [02:23<00:09, 462.75it/s]\u001b[A\n",
      " 94%|█████████▍| 68837/73196 [02:24<00:09, 475.93it/s]\u001b[A\n",
      " 94%|█████████▍| 68885/73196 [02:24<00:09, 460.85it/s]\u001b[A\n",
      " 94%|█████████▍| 68937/73196 [02:24<00:08, 476.28it/s]\u001b[A\n",
      " 94%|█████████▍| 68985/73196 [02:24<00:08, 472.92it/s]\u001b[A\n",
      " 94%|█████████▍| 69033/73196 [02:24<00:08, 470.60it/s]\u001b[A\n",
      " 94%|█████████▍| 69081/73196 [02:24<00:08, 465.84it/s]\u001b[A\n",
      " 94%|█████████▍| 69133/73196 [02:24<00:08, 477.99it/s]\u001b[A\n",
      " 95%|█████████▍| 69181/73196 [02:24<00:08, 467.12it/s]\u001b[A\n",
      " 95%|█████████▍| 69228/73196 [02:24<00:08, 462.58it/s]\u001b[A\n",
      " 95%|█████████▍| 69275/73196 [02:24<00:08, 459.81it/s]\u001b[A\n",
      " 95%|█████████▍| 69322/73196 [02:25<00:08, 448.02it/s]\u001b[A\n",
      " 95%|█████████▍| 69367/73196 [02:25<00:08, 446.91it/s]\u001b[A\n",
      " 95%|█████████▍| 69413/73196 [02:25<00:08, 449.91it/s]\u001b[A\n",
      " 95%|█████████▍| 69459/73196 [02:25<00:08, 452.83it/s]\u001b[A\n",
      " 95%|█████████▍| 69507/73196 [02:25<00:08, 460.32it/s]\u001b[A\n",
      " 95%|█████████▌| 69563/73196 [02:25<00:07, 485.57it/s]\u001b[A\n",
      " 95%|█████████▌| 69612/73196 [02:25<00:07, 481.84it/s]\u001b[A\n",
      " 95%|█████████▌| 69664/73196 [02:25<00:07, 487.95it/s]\u001b[A\n",
      " 95%|█████████▌| 69718/73196 [02:25<00:06, 502.38it/s]\u001b[A\n",
      " 95%|█████████▌| 69769/73196 [02:25<00:06, 496.98it/s]\u001b[A\n",
      " 95%|█████████▌| 69819/73196 [02:26<00:07, 476.30it/s]\u001b[A\n",
      " 95%|█████████▌| 69869/73196 [02:26<00:06, 480.22it/s]\u001b[A\n",
      " 96%|█████████▌| 69918/73196 [02:26<00:07, 458.81it/s]\u001b[A\n",
      " 96%|█████████▌| 69969/73196 [02:26<00:06, 470.09it/s]\u001b[A\n",
      " 96%|█████████▌| 70018/73196 [02:26<00:06, 474.64it/s]\u001b[A\n",
      " 96%|█████████▌| 70068/73196 [02:26<00:06, 481.30it/s]\u001b[A\n",
      " 96%|█████████▌| 70117/73196 [02:26<00:06, 471.19it/s]\u001b[A\n",
      " 96%|█████████▌| 70165/73196 [02:26<00:06, 469.04it/s]\u001b[A\n",
      " 96%|█████████▌| 70218/73196 [02:26<00:06, 481.87it/s]\u001b[A\n",
      " 96%|█████████▌| 70267/73196 [02:27<00:06, 484.16it/s]\u001b[A\n",
      " 96%|█████████▌| 70316/73196 [02:27<00:06, 468.73it/s]\u001b[A\n",
      " 96%|█████████▌| 70367/73196 [02:27<00:05, 479.45it/s]\u001b[A\n",
      " 96%|█████████▌| 70417/73196 [02:27<00:05, 483.30it/s]\u001b[A\n",
      " 96%|█████████▋| 70470/73196 [02:27<00:05, 493.38it/s]\u001b[A\n",
      " 96%|█████████▋| 70520/73196 [02:27<00:05, 481.94it/s]\u001b[A\n",
      " 96%|█████████▋| 70569/73196 [02:27<00:05, 483.74it/s]\u001b[A\n",
      " 96%|█████████▋| 70620/73196 [02:27<00:05, 488.98it/s]\u001b[A\n",
      " 97%|█████████▋| 70669/73196 [02:27<00:05, 469.84it/s]\u001b[A\n",
      " 97%|█████████▋| 70719/73196 [02:27<00:05, 476.86it/s]\u001b[A\n",
      " 97%|█████████▋| 70768/73196 [02:28<00:05, 479.47it/s]\u001b[A\n",
      " 97%|█████████▋| 70817/73196 [02:28<00:05, 468.26it/s]\u001b[A\n",
      " 97%|█████████▋| 70865/73196 [02:28<00:04, 471.47it/s]\u001b[A\n",
      " 97%|█████████▋| 70916/73196 [02:28<00:04, 477.58it/s]\u001b[A\n",
      " 97%|█████████▋| 70964/73196 [02:28<00:04, 473.46it/s]\u001b[A\n",
      " 97%|█████████▋| 71012/73196 [02:28<00:04, 466.60it/s]\u001b[A\n",
      " 97%|█████████▋| 71062/73196 [02:28<00:04, 474.46it/s]\u001b[A\n",
      " 97%|█████████▋| 71113/73196 [02:28<00:04, 483.26it/s]\u001b[A\n",
      " 97%|█████████▋| 71162/73196 [02:28<00:04, 479.07it/s]\u001b[A\n",
      " 97%|█████████▋| 71210/73196 [02:29<00:04, 463.94it/s]\u001b[A\n",
      " 97%|█████████▋| 71260/73196 [02:29<00:04, 473.09it/s]\u001b[A\n",
      " 97%|█████████▋| 71308/73196 [02:29<00:04, 471.44it/s]\u001b[A\n",
      " 97%|█████████▋| 71356/73196 [02:29<00:03, 471.04it/s]\u001b[A\n",
      " 98%|█████████▊| 71406/73196 [02:29<00:03, 478.92it/s]\u001b[A\n",
      " 98%|█████████▊| 71454/73196 [02:29<00:03, 458.64it/s]\u001b[A\n",
      " 98%|█████████▊| 71501/73196 [02:29<00:03, 447.76it/s]\u001b[A\n",
      " 98%|█████████▊| 71549/73196 [02:29<00:03, 456.06it/s]\u001b[A\n",
      " 98%|█████████▊| 71596/73196 [02:29<00:03, 458.78it/s]\u001b[A\n",
      " 98%|█████████▊| 71643/73196 [02:29<00:03, 446.49it/s]\u001b[A\n",
      " 98%|█████████▊| 71691/73196 [02:30<00:03, 454.54it/s]\u001b[A\n",
      " 98%|█████████▊| 71737/73196 [02:30<00:03, 453.23it/s]\u001b[A\n",
      " 98%|█████████▊| 71785/73196 [02:30<00:03, 460.47it/s]\u001b[A\n",
      " 98%|█████████▊| 71834/73196 [02:30<00:02, 467.16it/s]\u001b[A\n",
      " 98%|█████████▊| 71886/73196 [02:30<00:02, 475.88it/s]\u001b[A\n",
      " 98%|█████████▊| 71936/73196 [02:30<00:02, 480.96it/s]\u001b[A\n",
      " 98%|█████████▊| 71985/73196 [02:30<00:02, 481.47it/s]\u001b[A\n",
      " 98%|█████████▊| 72038/73196 [02:30<00:02, 493.04it/s]\u001b[A\n",
      " 98%|█████████▊| 72088/73196 [02:30<00:02, 488.43it/s]\u001b[A\n",
      " 99%|█████████▊| 72137/73196 [02:31<00:02, 469.08it/s]\u001b[A\n",
      " 99%|█████████▊| 72186/73196 [02:31<00:02, 474.55it/s]\u001b[A\n",
      " 99%|█████████▊| 72234/73196 [02:31<00:02, 475.56it/s]\u001b[A\n",
      " 99%|█████████▉| 72288/73196 [02:31<00:01, 491.63it/s]\u001b[A\n",
      " 99%|█████████▉| 72338/73196 [02:31<00:01, 476.28it/s]\u001b[A\n",
      " 99%|█████████▉| 72386/73196 [02:31<00:01, 473.34it/s]\u001b[A\n",
      " 99%|█████████▉| 72434/73196 [02:31<00:01, 467.34it/s]\u001b[A\n",
      " 99%|█████████▉| 72482/73196 [02:31<00:01, 471.05it/s]\u001b[A\n",
      " 99%|█████████▉| 72530/73196 [02:31<00:01, 472.19it/s]\u001b[A\n",
      " 99%|█████████▉| 72578/73196 [02:31<00:01, 472.56it/s]\u001b[A\n",
      " 99%|█████████▉| 72627/73196 [02:32<00:01, 477.53it/s]\u001b[A\n",
      " 99%|█████████▉| 72675/73196 [02:32<00:01, 474.11it/s]\u001b[A\n",
      " 99%|█████████▉| 72724/73196 [02:32<00:00, 477.47it/s]\u001b[A\n",
      " 99%|█████████▉| 72773/73196 [02:32<00:00, 478.70it/s]\u001b[A\n",
      " 99%|█████████▉| 72821/73196 [02:32<00:00, 473.05it/s]\u001b[A\n",
      "100%|█████████▉| 72873/73196 [02:32<00:00, 485.56it/s]\u001b[A\n",
      "100%|█████████▉| 72922/73196 [02:32<00:00, 481.94it/s]\u001b[A\n",
      "100%|█████████▉| 72975/73196 [02:32<00:00, 494.83it/s]\u001b[A\n",
      "100%|█████████▉| 73025/73196 [02:32<00:00, 496.07it/s]\u001b[A\n",
      "100%|█████████▉| 73075/73196 [02:32<00:00, 473.54it/s]\u001b[A\n",
      "100%|█████████▉| 73124/73196 [02:33<00:00, 477.65it/s]\u001b[A\n",
      "100%|█████████▉| 73175/73196 [02:33<00:00, 486.21it/s]\u001b[A\n",
      "100%|██████████| 73196/73196 [02:33<00:00, 477.74it/s]\u001b[A\n",
      "  0%|          | 0/36052 [00:00<?, ?it/s]\u001b[A\n",
      "  0%|          | 52/36052 [00:00<01:10, 513.39it/s]\u001b[A\n",
      "  0%|          | 100/36052 [00:00<01:11, 499.53it/s]\u001b[A\n",
      "  0%|          | 156/36052 [00:00<01:09, 514.13it/s]\u001b[A\n",
      "  1%|          | 203/36052 [00:00<01:11, 499.43it/s]\u001b[A\n",
      "  1%|          | 252/36052 [00:00<01:12, 494.15it/s]\u001b[A\n",
      "  1%|          | 299/36052 [00:00<01:13, 485.96it/s]\u001b[A\n",
      "  1%|          | 347/36052 [00:00<01:14, 481.86it/s]\u001b[A\n",
      "  1%|          | 398/36052 [00:00<01:12, 489.78it/s]\u001b[A\n",
      "  1%|          | 445/36052 [00:00<01:14, 477.89it/s]\u001b[A\n",
      "  1%|▏         | 495/36052 [00:01<01:13, 483.07it/s]\u001b[A\n",
      "  2%|▏         | 543/36052 [00:01<01:13, 481.40it/s]\u001b[A\n",
      "  2%|▏         | 593/36052 [00:01<01:13, 485.02it/s]\u001b[A\n",
      "  2%|▏         | 641/36052 [00:01<01:13, 479.67it/s]\u001b[A\n",
      "  2%|▏         | 691/36052 [00:01<01:13, 482.03it/s]\u001b[A\n",
      "  2%|▏         | 739/36052 [00:01<01:15, 464.75it/s]\u001b[A\n",
      "  2%|▏         | 786/36052 [00:01<01:15, 466.09it/s]\u001b[A\n",
      "  2%|▏         | 833/36052 [00:01<01:16, 462.78it/s]\u001b[A\n",
      "  2%|▏         | 886/36052 [00:01<01:13, 480.15it/s]\u001b[A\n",
      "  3%|▎         | 935/36052 [00:01<01:13, 477.93it/s]\u001b[A\n",
      "  3%|▎         | 988/36052 [00:02<01:11, 491.36it/s]\u001b[A\n",
      "  3%|▎         | 1038/36052 [00:02<01:11, 488.10it/s]\u001b[A\n",
      "  3%|▎         | 1087/36052 [00:02<01:12, 479.34it/s]\u001b[A\n",
      "  3%|▎         | 1136/36052 [00:02<01:13, 472.75it/s]\u001b[A\n",
      "  3%|▎         | 1184/36052 [00:02<01:13, 471.69it/s]\u001b[A\n",
      "  3%|▎         | 1237/36052 [00:02<01:11, 486.17it/s]\u001b[A\n",
      "  4%|▎         | 1286/36052 [00:02<01:11, 484.25it/s]\u001b[A\n",
      "  4%|▎         | 1338/36052 [00:02<01:10, 493.47it/s]\u001b[A\n",
      "  4%|▍         | 1388/36052 [00:02<01:10, 494.34it/s]\u001b[A\n",
      "  4%|▍         | 1443/36052 [00:02<01:08, 508.25it/s]\u001b[A\n",
      "  4%|▍         | 1494/36052 [00:03<01:09, 496.64it/s]\u001b[A\n",
      "  4%|▍         | 1545/36052 [00:03<01:09, 498.88it/s]\u001b[A\n",
      "  4%|▍         | 1596/36052 [00:03<01:11, 479.86it/s]\u001b[A\n",
      "  5%|▍         | 1645/36052 [00:03<01:12, 477.25it/s]\u001b[A\n",
      "  5%|▍         | 1693/36052 [00:03<01:12, 471.76it/s]\u001b[A\n",
      "  5%|▍         | 1741/36052 [00:03<01:12, 470.03it/s]\u001b[A\n",
      "  5%|▍         | 1790/36052 [00:03<01:12, 474.56it/s]\u001b[A\n",
      "  5%|▌         | 1838/36052 [00:03<01:13, 464.51it/s]\u001b[A\n",
      "  5%|▌         | 1885/36052 [00:03<01:13, 464.94it/s]\u001b[A\n",
      "  5%|▌         | 1934/36052 [00:04<01:12, 470.75it/s]\u001b[A\n",
      "  6%|▌         | 1993/36052 [00:04<01:08, 497.42it/s]\u001b[A\n",
      "  6%|▌         | 2044/36052 [00:04<01:10, 480.34it/s]\u001b[A\n",
      "  6%|▌         | 2097/36052 [00:04<01:08, 492.45it/s]\u001b[A\n",
      "  6%|▌         | 2147/36052 [00:04<01:11, 476.87it/s]\u001b[A\n",
      "  6%|▌         | 2198/36052 [00:04<01:09, 484.51it/s]\u001b[A\n",
      "  6%|▌         | 2247/36052 [00:04<01:11, 473.23it/s]\u001b[A\n",
      "  6%|▋         | 2301/36052 [00:04<01:08, 491.45it/s]\u001b[A\n",
      "  7%|▋         | 2358/36052 [00:04<01:05, 512.20it/s]\u001b[A\n",
      "  7%|▋         | 2410/36052 [00:04<01:06, 504.07it/s]\u001b[A\n",
      "  7%|▋         | 2461/36052 [00:05<01:08, 493.10it/s]\u001b[A\n",
      "  7%|▋         | 2511/36052 [00:05<01:11, 470.95it/s]\u001b[A\n",
      "  7%|▋         | 2559/36052 [00:05<01:13, 456.51it/s]\u001b[A\n",
      "  7%|▋         | 2606/36052 [00:05<01:14, 450.23it/s]\u001b[A\n",
      "  7%|▋         | 2652/36052 [00:05<01:13, 452.23it/s]\u001b[A\n",
      "  8%|▊         | 2706/36052 [00:05<01:10, 474.76it/s]\u001b[A\n",
      "  8%|▊         | 2756/36052 [00:05<01:09, 481.02it/s]\u001b[A\n",
      "  8%|▊         | 2805/36052 [00:05<01:11, 465.46it/s]\u001b[A\n",
      "  8%|▊         | 2859/36052 [00:05<01:09, 479.88it/s]\u001b[A\n",
      "  8%|▊         | 2908/36052 [00:06<01:09, 480.23it/s]\u001b[A\n",
      "  8%|▊         | 2957/36052 [00:06<01:09, 478.32it/s]\u001b[A\n",
      "  8%|▊         | 3006/36052 [00:06<01:11, 462.64it/s]\u001b[A\n",
      "  8%|▊         | 3058/36052 [00:06<01:09, 476.64it/s]\u001b[A\n",
      "  9%|▊         | 3107/36052 [00:06<01:09, 475.90it/s]\u001b[A\n",
      "  9%|▉         | 3155/36052 [00:06<01:10, 465.99it/s]\u001b[A\n",
      "  9%|▉         | 3205/36052 [00:06<01:09, 473.74it/s]\u001b[A\n",
      "  9%|▉         | 3258/36052 [00:06<01:07, 486.70it/s]\u001b[A\n",
      "  9%|▉         | 3308/36052 [00:06<01:06, 490.27it/s]\u001b[A\n",
      "  9%|▉         | 3359/36052 [00:06<01:06, 495.12it/s]\u001b[A\n",
      "  9%|▉         | 3411/36052 [00:07<01:05, 500.43it/s]\u001b[A\n",
      " 10%|▉         | 3465/36052 [00:07<01:04, 508.59it/s]\u001b[A\n",
      " 10%|▉         | 3516/36052 [00:07<01:04, 505.10it/s]\u001b[A\n",
      " 10%|▉         | 3567/36052 [00:07<01:06, 491.65it/s]\u001b[A\n",
      " 10%|█         | 3621/36052 [00:07<01:04, 504.83it/s]\u001b[A\n",
      " 10%|█         | 3672/36052 [00:07<01:05, 494.85it/s]\u001b[A\n",
      " 10%|█         | 3722/36052 [00:07<01:06, 485.33it/s]\u001b[A\n",
      " 10%|█         | 3771/36052 [00:07<01:08, 470.66it/s]\u001b[A\n",
      " 11%|█         | 3822/36052 [00:07<01:07, 480.35it/s]\u001b[A\n",
      " 11%|█         | 3877/36052 [00:08<01:04, 497.77it/s]\u001b[A\n",
      " 11%|█         | 3931/36052 [00:08<01:03, 506.36it/s]\u001b[A\n",
      " 11%|█         | 3986/36052 [00:08<01:02, 515.07it/s]\u001b[A\n",
      " 11%|█         | 4038/36052 [00:08<01:04, 498.75it/s]\u001b[A\n",
      " 11%|█▏        | 4089/36052 [00:08<01:04, 496.20it/s]\u001b[A\n",
      " 11%|█▏        | 4141/36052 [00:08<01:03, 501.17it/s]\u001b[A\n",
      " 12%|█▏        | 4192/36052 [00:08<01:04, 494.08it/s]\u001b[A\n",
      " 12%|█▏        | 4242/36052 [00:08<01:05, 489.15it/s]\u001b[A\n",
      " 12%|█▏        | 4292/36052 [00:08<01:06, 480.90it/s]\u001b[A\n",
      " 12%|█▏        | 4341/36052 [00:08<01:05, 481.97it/s]\u001b[A\n",
      " 12%|█▏        | 4392/36052 [00:09<01:04, 487.39it/s]\u001b[A\n",
      " 12%|█▏        | 4442/36052 [00:09<01:04, 491.04it/s]\u001b[A\n",
      " 12%|█▏        | 4496/36052 [00:09<01:03, 498.28it/s]\u001b[A\n",
      " 13%|█▎        | 4546/36052 [00:09<01:04, 487.13it/s]\u001b[A\n",
      " 13%|█▎        | 4595/36052 [00:09<01:04, 486.67it/s]\u001b[A\n",
      " 13%|█▎        | 4644/36052 [00:09<01:04, 485.05it/s]\u001b[A\n",
      " 13%|█▎        | 4693/36052 [00:09<01:07, 464.05it/s]\u001b[A\n",
      " 13%|█▎        | 4740/36052 [00:09<01:08, 458.29it/s]\u001b[A\n",
      " 13%|█▎        | 4787/36052 [00:09<01:08, 454.27it/s]\u001b[A\n",
      " 13%|█▎        | 4834/36052 [00:10<01:08, 457.13it/s]\u001b[A\n",
      " 14%|█▎        | 4880/36052 [00:10<01:08, 456.53it/s]\u001b[A\n",
      " 14%|█▎        | 4932/36052 [00:10<01:05, 472.44it/s]\u001b[A\n",
      " 14%|█▍        | 4980/36052 [00:10<01:06, 463.84it/s]\u001b[A\n",
      " 14%|█▍        | 5028/36052 [00:10<01:06, 466.93it/s]\u001b[A\n",
      " 14%|█▍        | 5080/36052 [00:10<01:04, 480.89it/s]\u001b[A\n",
      " 14%|█▍        | 5129/36052 [00:10<01:04, 479.15it/s]\u001b[A\n",
      " 14%|█▍        | 5178/36052 [00:10<01:04, 480.95it/s]\u001b[A\n",
      " 14%|█▍        | 5227/36052 [00:10<01:07, 453.37it/s]\u001b[A\n",
      " 15%|█▍        | 5279/36052 [00:10<01:05, 469.87it/s]\u001b[A\n",
      " 15%|█▍        | 5330/36052 [00:11<01:03, 480.54it/s]\u001b[A\n",
      " 15%|█▍        | 5384/36052 [00:11<01:01, 495.17it/s]\u001b[A\n",
      " 15%|█▌        | 5438/36052 [00:11<01:00, 504.95it/s]\u001b[A\n",
      " 15%|█▌        | 5489/36052 [00:11<01:02, 490.96it/s]\u001b[A\n",
      " 15%|█▌        | 5539/36052 [00:11<01:02, 484.94it/s]\u001b[A\n",
      " 16%|█▌        | 5592/36052 [00:11<01:01, 496.78it/s]\u001b[A\n",
      " 16%|█▌        | 5642/36052 [00:11<01:02, 489.45it/s]\u001b[A\n",
      " 16%|█▌        | 5692/36052 [00:11<01:02, 483.59it/s]\u001b[A\n",
      " 16%|█▌        | 5741/36052 [00:11<01:03, 478.88it/s]\u001b[A\n",
      " 16%|█▌        | 5791/36052 [00:11<01:02, 483.93it/s]\u001b[A\n",
      " 16%|█▌        | 5840/36052 [00:12<01:05, 464.69it/s]\u001b[A\n",
      " 16%|█▋        | 5888/36052 [00:12<01:04, 467.17it/s]\u001b[A\n",
      " 16%|█▋        | 5941/36052 [00:12<01:02, 484.19it/s]\u001b[A\n",
      " 17%|█▋        | 5990/36052 [00:12<01:03, 477.00it/s]\u001b[A\n",
      " 17%|█▋        | 6038/36052 [00:12<01:03, 471.87it/s]\u001b[A\n",
      " 17%|█▋        | 6086/36052 [00:12<01:04, 466.83it/s]\u001b[A\n",
      " 17%|█▋        | 6136/36052 [00:12<01:03, 474.01it/s]\u001b[A\n",
      " 17%|█▋        | 6184/36052 [00:12<01:03, 469.57it/s]\u001b[A\n",
      " 17%|█▋        | 6232/36052 [00:12<01:05, 456.31it/s]\u001b[A\n",
      " 17%|█▋        | 6279/36052 [00:13<01:04, 459.50it/s]\u001b[A\n",
      " 18%|█▊        | 6328/36052 [00:13<01:03, 468.20it/s]\u001b[A\n",
      " 18%|█▊        | 6377/36052 [00:13<01:02, 473.06it/s]\u001b[A\n",
      " 18%|█▊        | 6425/36052 [00:13<01:03, 470.22it/s]\u001b[A\n",
      " 18%|█▊        | 6473/36052 [00:13<01:03, 469.11it/s]\u001b[A\n",
      " 18%|█▊        | 6523/36052 [00:13<01:01, 477.48it/s]\u001b[A\n",
      " 18%|█▊        | 6573/36052 [00:13<01:01, 482.63it/s]\u001b[A\n",
      " 18%|█▊        | 6622/36052 [00:13<01:01, 475.63it/s]\u001b[A\n",
      " 19%|█▊        | 6670/36052 [00:13<01:01, 475.45it/s]\u001b[A\n",
      " 19%|█▊        | 6721/36052 [00:13<01:00, 483.12it/s]\u001b[A\n",
      " 19%|█▉        | 6771/36052 [00:14<01:00, 487.38it/s]\u001b[A\n",
      " 19%|█▉        | 6823/36052 [00:14<00:58, 496.30it/s]\u001b[A\n",
      " 19%|█▉        | 6873/36052 [00:14<00:59, 489.83it/s]\u001b[A\n",
      " 19%|█▉        | 6923/36052 [00:14<01:00, 484.52it/s]\u001b[A\n",
      " 19%|█▉        | 6972/36052 [00:14<01:01, 472.28it/s]\u001b[A\n",
      " 19%|█▉        | 7022/36052 [00:14<01:00, 477.04it/s]\u001b[A\n",
      " 20%|█▉        | 7070/36052 [00:14<01:01, 473.34it/s]\u001b[A\n",
      " 20%|█▉        | 7119/36052 [00:14<01:00, 477.14it/s]\u001b[A\n",
      " 20%|█▉        | 7167/36052 [00:14<01:03, 455.76it/s]\u001b[A\n",
      " 20%|██        | 7213/36052 [00:15<01:05, 443.30it/s]\u001b[A\n",
      " 20%|██        | 7262/36052 [00:15<01:03, 455.43it/s]\u001b[A\n",
      " 20%|██        | 7308/36052 [00:15<01:03, 450.88it/s]\u001b[A\n",
      " 20%|██        | 7354/36052 [00:15<01:03, 452.36it/s]\u001b[A\n",
      " 21%|██        | 7400/36052 [00:15<01:03, 454.13it/s]\u001b[A\n",
      " 21%|██        | 7446/36052 [00:15<01:03, 450.23it/s]\u001b[A\n",
      " 21%|██        | 7498/36052 [00:15<01:01, 468.04it/s]\u001b[A\n",
      " 21%|██        | 7550/36052 [00:15<00:59, 480.82it/s]\u001b[A\n",
      " 21%|██        | 7602/36052 [00:15<00:57, 491.35it/s]\u001b[A\n",
      " 21%|██        | 7652/36052 [00:15<00:59, 475.24it/s]\u001b[A\n",
      " 21%|██▏       | 7702/36052 [00:16<00:58, 481.62it/s]\u001b[A\n",
      " 21%|██▏       | 7751/36052 [00:16<00:59, 478.10it/s]\u001b[A\n",
      " 22%|██▏       | 7799/36052 [00:16<00:59, 475.06it/s]\u001b[A\n",
      " 22%|██▏       | 7847/36052 [00:16<00:59, 473.22it/s]\u001b[A\n",
      " 22%|██▏       | 7895/36052 [00:16<01:01, 457.44it/s]\u001b[A\n",
      " 22%|██▏       | 7941/36052 [00:16<01:02, 449.24it/s]\u001b[A\n",
      " 22%|██▏       | 7995/36052 [00:16<00:59, 472.85it/s]\u001b[A\n",
      " 22%|██▏       | 8044/36052 [00:16<00:58, 477.47it/s]\u001b[A\n",
      " 22%|██▏       | 8093/36052 [00:16<01:00, 464.50it/s]\u001b[A\n",
      " 23%|██▎       | 8144/36052 [00:16<00:58, 475.71it/s]\u001b[A\n",
      " 23%|██▎       | 8197/36052 [00:17<00:57, 486.78it/s]\u001b[A\n",
      " 23%|██▎       | 8247/36052 [00:17<00:56, 490.56it/s]\u001b[A\n",
      " 23%|██▎       | 8297/36052 [00:17<00:57, 482.59it/s]\u001b[A\n",
      " 23%|██▎       | 8346/36052 [00:17<01:01, 453.60it/s]\u001b[A\n",
      " 23%|██▎       | 8392/36052 [00:17<01:01, 451.78it/s]\u001b[A\n",
      " 23%|██▎       | 8438/36052 [00:17<01:00, 452.92it/s]\u001b[A\n",
      " 24%|██▎       | 8484/36052 [00:17<01:02, 442.58it/s]\u001b[A\n",
      " 24%|██▎       | 8534/36052 [00:17<01:00, 456.25it/s]\u001b[A\n",
      " 24%|██▍       | 8587/36052 [00:17<00:58, 473.29it/s]\u001b[A\n",
      " 24%|██▍       | 8637/36052 [00:18<00:57, 478.34it/s]\u001b[A\n",
      " 24%|██▍       | 8686/36052 [00:18<00:58, 466.25it/s]\u001b[A\n",
      " 24%|██▍       | 8733/36052 [00:18<01:00, 454.97it/s]\u001b[A\n",
      " 24%|██▍       | 8781/36052 [00:18<00:59, 460.49it/s]\u001b[A\n",
      " 24%|██▍       | 8828/36052 [00:18<00:59, 455.38it/s]\u001b[A\n",
      " 25%|██▍       | 8877/36052 [00:18<00:58, 462.60it/s]\u001b[A\n",
      " 25%|██▍       | 8925/36052 [00:18<00:58, 462.28it/s]\u001b[A\n",
      " 25%|██▍       | 8978/36052 [00:18<00:56, 479.79it/s]\u001b[A\n",
      " 25%|██▌       | 9027/36052 [00:18<00:58, 465.45it/s]\u001b[A\n",
      " 25%|██▌       | 9082/36052 [00:18<00:55, 486.26it/s]\u001b[A\n",
      " 25%|██▌       | 9132/36052 [00:19<00:55, 489.35it/s]\u001b[A\n",
      " 25%|██▌       | 9182/36052 [00:19<00:55, 485.63it/s]\u001b[A\n",
      " 26%|██▌       | 9231/36052 [00:19<00:55, 486.20it/s]\u001b[A\n",
      " 26%|██▌       | 9280/36052 [00:19<00:55, 481.92it/s]\u001b[A\n",
      " 26%|██▌       | 9331/36052 [00:19<00:54, 488.79it/s]\u001b[A\n",
      " 26%|██▌       | 9383/36052 [00:19<00:53, 496.94it/s]\u001b[A\n",
      " 26%|██▌       | 9433/36052 [00:19<00:54, 491.68it/s]\u001b[A\n",
      " 26%|██▋       | 9484/36052 [00:19<00:53, 493.92it/s]\u001b[A\n",
      " 26%|██▋       | 9534/36052 [00:19<00:55, 480.94it/s]\u001b[A\n",
      " 27%|██▋       | 9583/36052 [00:20<00:56, 471.60it/s]\u001b[A\n",
      " 27%|██▋       | 9633/36052 [00:20<00:55, 478.64it/s]\u001b[A\n",
      " 27%|██▋       | 9681/36052 [00:20<00:55, 478.81it/s]\u001b[A\n",
      " 27%|██▋       | 9729/36052 [00:20<00:56, 462.79it/s]\u001b[A\n",
      " 27%|██▋       | 9778/36052 [00:20<00:56, 468.01it/s]\u001b[A\n",
      " 27%|██▋       | 9825/36052 [00:20<00:57, 459.48it/s]\u001b[A\n",
      " 27%|██▋       | 9873/36052 [00:20<00:56, 463.80it/s]\u001b[A\n",
      " 28%|██▊       | 9920/36052 [00:20<00:56, 462.77it/s]\u001b[A\n",
      " 28%|██▊       | 9970/36052 [00:20<00:55, 472.87it/s]\u001b[A\n",
      " 28%|██▊       | 10022/36052 [00:20<00:53, 485.24it/s]\u001b[A\n",
      " 28%|██▊       | 10071/36052 [00:21<00:54, 481.12it/s]\u001b[A\n",
      " 28%|██▊       | 10123/36052 [00:21<00:52, 490.39it/s]\u001b[A\n",
      " 28%|██▊       | 10173/36052 [00:21<00:53, 486.14it/s]\u001b[A\n",
      " 28%|██▊       | 10226/36052 [00:21<00:51, 497.03it/s]\u001b[A\n",
      " 29%|██▊       | 10279/36052 [00:21<00:51, 505.29it/s]\u001b[A\n",
      " 29%|██▊       | 10330/36052 [00:21<00:51, 496.77it/s]\u001b[A\n",
      " 29%|██▉       | 10380/36052 [00:21<00:51, 496.92it/s]\u001b[A\n",
      " 29%|██▉       | 10430/36052 [00:21<00:53, 478.26it/s]\u001b[A\n",
      " 29%|██▉       | 10479/36052 [00:21<00:54, 472.44it/s]\u001b[A\n",
      " 29%|██▉       | 10527/36052 [00:21<00:54, 467.01it/s]\u001b[A\n",
      " 29%|██▉       | 10574/36052 [00:22<00:55, 457.80it/s]\u001b[A\n",
      " 29%|██▉       | 10620/36052 [00:22<00:56, 449.09it/s]\u001b[A\n",
      " 30%|██▉       | 10670/36052 [00:22<00:54, 462.21it/s]\u001b[A\n",
      " 30%|██▉       | 10720/36052 [00:22<00:53, 471.57it/s]\u001b[A\n",
      " 30%|██▉       | 10768/36052 [00:22<00:54, 467.68it/s]\u001b[A\n",
      " 30%|███       | 10819/36052 [00:22<00:52, 479.13it/s]\u001b[A\n",
      " 30%|███       | 10868/36052 [00:22<00:53, 467.48it/s]\u001b[A\n",
      " 30%|███       | 10915/36052 [00:22<00:54, 464.61it/s]\u001b[A\n",
      " 30%|███       | 10968/36052 [00:22<00:52, 481.56it/s]\u001b[A\n",
      " 31%|███       | 11017/36052 [00:23<00:51, 481.90it/s]\u001b[A\n",
      " 31%|███       | 11067/36052 [00:23<00:51, 483.69it/s]\u001b[A\n",
      " 31%|███       | 11123/36052 [00:23<00:49, 502.34it/s]\u001b[A\n",
      " 31%|███       | 11174/36052 [00:23<00:50, 495.98it/s]\u001b[A\n",
      " 31%|███       | 11224/36052 [00:23<00:50, 496.22it/s]\u001b[A\n",
      " 31%|███▏      | 11274/36052 [00:23<00:50, 491.37it/s]\u001b[A\n",
      " 31%|███▏      | 11324/36052 [00:23<00:50, 490.22it/s]\u001b[A\n",
      " 32%|███▏      | 11374/36052 [00:23<00:51, 478.42it/s]\u001b[A\n",
      " 32%|███▏      | 11422/36052 [00:23<00:51, 474.57it/s]\u001b[A\n",
      " 32%|███▏      | 11470/36052 [00:23<00:54, 454.04it/s]\u001b[A\n",
      " 32%|███▏      | 11519/36052 [00:24<00:52, 463.26it/s]\u001b[A\n",
      " 32%|███▏      | 11566/36052 [00:24<00:54, 446.19it/s]\u001b[A\n",
      " 32%|███▏      | 11613/36052 [00:24<00:54, 451.85it/s]\u001b[A\n",
      " 32%|███▏      | 11668/36052 [00:24<00:51, 475.37it/s]\u001b[A\n",
      " 33%|███▎      | 11718/36052 [00:24<00:50, 481.09it/s]\u001b[A\n",
      " 33%|███▎      | 11768/36052 [00:24<00:50, 484.97it/s]\u001b[A\n",
      " 33%|███▎      | 11817/36052 [00:24<00:50, 483.21it/s]\u001b[A\n",
      " 33%|███▎      | 11866/36052 [00:24<00:51, 465.82it/s]\u001b[A\n",
      " 33%|███▎      | 11918/36052 [00:24<00:50, 479.65it/s]\u001b[A\n",
      " 33%|███▎      | 11967/36052 [00:25<00:51, 465.25it/s]\u001b[A\n",
      " 33%|███▎      | 12015/36052 [00:25<00:51, 468.25it/s]\u001b[A\n",
      " 33%|███▎      | 12069/36052 [00:25<00:49, 487.10it/s]\u001b[A\n",
      " 34%|███▎      | 12119/36052 [00:25<00:49, 485.55it/s]\u001b[A\n",
      " 34%|███▍      | 12172/36052 [00:25<00:48, 497.19it/s]\u001b[A\n",
      " 34%|███▍      | 12222/36052 [00:25<00:48, 494.02it/s]\u001b[A\n",
      " 34%|███▍      | 12273/36052 [00:25<00:47, 497.24it/s]\u001b[A\n",
      " 34%|███▍      | 12324/36052 [00:25<00:47, 499.65it/s]\u001b[A\n",
      " 34%|███▍      | 12375/36052 [00:25<00:49, 482.36it/s]\u001b[A\n",
      " 34%|███▍      | 12424/36052 [00:25<00:49, 477.95it/s]\u001b[A\n",
      " 35%|███▍      | 12477/36052 [00:26<00:47, 491.72it/s]\u001b[A\n",
      " 35%|███▍      | 12527/36052 [00:26<00:48, 484.88it/s]\u001b[A\n",
      " 35%|███▍      | 12576/36052 [00:26<00:48, 479.96it/s]\u001b[A\n",
      " 35%|███▌      | 12625/36052 [00:26<00:48, 479.72it/s]\u001b[A\n",
      " 35%|███▌      | 12674/36052 [00:26<00:49, 472.67it/s]\u001b[A\n",
      " 35%|███▌      | 12722/36052 [00:26<00:50, 457.81it/s]\u001b[A\n",
      " 35%|███▌      | 12771/36052 [00:26<00:50, 465.38it/s]\u001b[A\n",
      " 36%|███▌      | 12821/36052 [00:26<00:48, 474.58it/s]\u001b[A\n",
      " 36%|███▌      | 12871/36052 [00:26<00:48, 480.84it/s]\u001b[A\n",
      " 36%|███▌      | 12920/36052 [00:26<00:48, 477.58it/s]\u001b[A\n",
      " 36%|███▌      | 12968/36052 [00:27<00:49, 467.88it/s]\u001b[A\n",
      " 36%|███▌      | 13016/36052 [00:27<00:49, 470.07it/s]\u001b[A\n",
      " 36%|███▌      | 13066/36052 [00:27<00:48, 478.25it/s]\u001b[A\n",
      " 36%|███▋      | 13114/36052 [00:27<00:48, 477.22it/s]\u001b[A\n",
      " 37%|███▋      | 13162/36052 [00:27<00:49, 461.87it/s]\u001b[A\n",
      " 37%|███▋      | 13211/36052 [00:27<00:48, 469.27it/s]\u001b[A\n",
      " 37%|███▋      | 13259/36052 [00:27<00:50, 449.86it/s]\u001b[A\n",
      " 37%|███▋      | 13307/36052 [00:27<00:49, 455.80it/s]\u001b[A\n",
      " 37%|███▋      | 13359/36052 [00:27<00:47, 472.82it/s]\u001b[A\n",
      " 37%|███▋      | 13409/36052 [00:28<00:47, 477.91it/s]\u001b[A\n",
      " 37%|███▋      | 13458/36052 [00:28<00:47, 475.54it/s]\u001b[A\n",
      " 37%|███▋      | 13506/36052 [00:28<00:48, 469.11it/s]\u001b[A\n",
      " 38%|███▊      | 13556/36052 [00:28<00:47, 476.95it/s]\u001b[A\n",
      " 38%|███▊      | 13604/36052 [00:28<00:47, 475.24it/s]\u001b[A\n",
      " 38%|███▊      | 13652/36052 [00:28<00:47, 468.62it/s]\u001b[A\n",
      " 38%|███▊      | 13699/36052 [00:28<00:48, 465.58it/s]\u001b[A\n",
      " 38%|███▊      | 13746/36052 [00:28<00:49, 448.07it/s]\u001b[A\n",
      " 38%|███▊      | 13795/36052 [00:28<00:48, 457.30it/s]\u001b[A\n",
      " 38%|███▊      | 13843/36052 [00:28<00:47, 463.11it/s]\u001b[A\n",
      " 39%|███▊      | 13893/36052 [00:29<00:47, 469.42it/s]\u001b[A\n",
      " 39%|███▊      | 13941/36052 [00:29<00:47, 460.99it/s]\u001b[A\n",
      " 39%|███▉      | 13993/36052 [00:29<00:46, 476.86it/s]\u001b[A\n",
      " 39%|███▉      | 14041/36052 [00:29<00:46, 473.60it/s]\u001b[A\n",
      " 39%|███▉      | 14092/36052 [00:29<00:45, 479.08it/s]\u001b[A\n",
      " 39%|███▉      | 14141/36052 [00:29<00:46, 473.35it/s]\u001b[A\n",
      " 39%|███▉      | 14189/36052 [00:29<00:47, 461.43it/s]\u001b[A\n",
      " 39%|███▉      | 14236/36052 [00:29<00:48, 453.48it/s]\u001b[A\n",
      " 40%|███▉      | 14289/36052 [00:29<00:46, 471.56it/s]\u001b[A\n",
      " 40%|███▉      | 14342/36052 [00:30<00:44, 486.20it/s]\u001b[A\n",
      " 40%|███▉      | 14391/36052 [00:30<00:45, 476.00it/s]\u001b[A\n",
      " 40%|████      | 14443/36052 [00:30<00:44, 487.30it/s]\u001b[A\n",
      " 40%|████      | 14497/36052 [00:30<00:43, 500.17it/s]\u001b[A\n",
      " 40%|████      | 14548/36052 [00:30<00:44, 483.86it/s]\u001b[A\n",
      " 40%|████      | 14598/36052 [00:30<00:43, 487.79it/s]\u001b[A\n",
      " 41%|████      | 14647/36052 [00:30<00:45, 475.04it/s]\u001b[A\n",
      " 41%|████      | 14697/36052 [00:30<00:44, 479.30it/s]\u001b[A\n",
      " 41%|████      | 14746/36052 [00:30<00:49, 433.86it/s]\u001b[A\n",
      " 41%|████      | 14797/36052 [00:30<00:47, 451.83it/s]\u001b[A\n",
      " 41%|████      | 14844/36052 [00:31<00:47, 450.22it/s]\u001b[A\n",
      " 41%|████▏     | 14890/36052 [00:31<00:47, 448.67it/s]\u001b[A\n",
      " 41%|████▏     | 14938/36052 [00:31<00:46, 455.97it/s]\u001b[A\n",
      " 42%|████▏     | 14984/36052 [00:31<00:47, 440.66it/s]\u001b[A\n",
      " 42%|████▏     | 15030/36052 [00:31<00:47, 439.08it/s]\u001b[A\n",
      " 42%|████▏     | 15078/36052 [00:31<00:46, 449.26it/s]\u001b[A\n",
      " 42%|████▏     | 15131/36052 [00:31<00:44, 468.14it/s]\u001b[A\n",
      " 42%|████▏     | 15184/36052 [00:31<00:43, 484.05it/s]\u001b[A\n",
      " 42%|████▏     | 15238/36052 [00:31<00:41, 497.61it/s]\u001b[A\n",
      " 42%|████▏     | 15289/36052 [00:32<00:42, 488.56it/s]\u001b[A\n",
      " 43%|████▎     | 15340/36052 [00:32<00:41, 493.42it/s]\u001b[A\n",
      " 43%|████▎     | 15390/36052 [00:32<00:41, 492.24it/s]\u001b[A\n",
      " 43%|████▎     | 15440/36052 [00:32<00:42, 486.28it/s]\u001b[A\n",
      " 43%|████▎     | 15489/36052 [00:32<00:44, 467.15it/s]\u001b[A\n",
      " 43%|████▎     | 15544/36052 [00:32<00:42, 486.82it/s]\u001b[A\n",
      " 43%|████▎     | 15594/36052 [00:32<00:43, 475.43it/s]\u001b[A\n",
      " 43%|████▎     | 15642/36052 [00:32<00:44, 460.59it/s]\u001b[A\n",
      " 44%|████▎     | 15692/36052 [00:32<00:43, 470.46it/s]\u001b[A\n",
      " 44%|████▎     | 15746/36052 [00:32<00:41, 488.81it/s]\u001b[A\n",
      " 44%|████▍     | 15796/36052 [00:33<00:41, 488.65it/s]\u001b[A\n",
      " 44%|████▍     | 15846/36052 [00:33<00:42, 477.31it/s]\u001b[A\n",
      " 44%|████▍     | 15898/36052 [00:33<00:41, 487.44it/s]\u001b[A\n",
      " 44%|████▍     | 15947/36052 [00:33<00:42, 470.05it/s]\u001b[A\n",
      " 44%|████▍     | 15998/36052 [00:33<00:41, 479.91it/s]\u001b[A\n",
      " 45%|████▍     | 16047/36052 [00:33<00:41, 481.44it/s]\u001b[A\n",
      " 45%|████▍     | 16096/36052 [00:33<00:41, 477.79it/s]\u001b[A\n",
      " 45%|████▍     | 16144/36052 [00:33<00:43, 460.51it/s]\u001b[A\n",
      " 45%|████▍     | 16195/36052 [00:33<00:42, 470.67it/s]\u001b[A\n",
      " 45%|████▌     | 16249/36052 [00:34<00:40, 487.39it/s]\u001b[A\n",
      " 45%|████▌     | 16299/36052 [00:34<00:40, 487.72it/s]\u001b[A\n",
      " 45%|████▌     | 16348/36052 [00:34<00:41, 476.74it/s]\u001b[A\n",
      " 45%|████▌     | 16396/36052 [00:34<00:41, 471.19it/s]\u001b[A\n",
      " 46%|████▌     | 16449/36052 [00:34<00:40, 486.13it/s]\u001b[A\n",
      " 46%|████▌     | 16500/36052 [00:34<00:39, 492.87it/s]\u001b[A\n",
      " 46%|████▌     | 16550/36052 [00:34<00:40, 482.95it/s]\u001b[A\n",
      " 46%|████▌     | 16601/36052 [00:34<00:39, 490.60it/s]\u001b[A\n",
      " 46%|████▌     | 16651/36052 [00:34<00:39, 487.07it/s]\u001b[A\n",
      " 46%|████▋     | 16700/36052 [00:34<00:41, 469.67it/s]\u001b[A\n",
      " 46%|████▋     | 16754/36052 [00:35<00:39, 487.32it/s]\u001b[A\n",
      " 47%|████▋     | 16804/36052 [00:35<00:39, 484.78it/s]\u001b[A\n",
      " 47%|████▋     | 16853/36052 [00:35<00:44, 436.12it/s]\u001b[A\n",
      " 47%|████▋     | 16901/36052 [00:35<00:42, 448.24it/s]\u001b[A\n",
      " 47%|████▋     | 16957/36052 [00:35<00:40, 474.88it/s]\u001b[A\n",
      " 47%|████▋     | 17006/36052 [00:35<00:41, 461.55it/s]\u001b[A\n",
      " 47%|████▋     | 17057/36052 [00:35<00:40, 473.72it/s]\u001b[A\n",
      " 47%|████▋     | 17110/36052 [00:35<00:38, 486.76it/s]\u001b[A\n",
      " 48%|████▊     | 17164/36052 [00:35<00:37, 497.94it/s]\u001b[A\n",
      " 48%|████▊     | 17223/36052 [00:36<00:36, 520.68it/s]\u001b[A\n",
      " 48%|████▊     | 17276/36052 [00:36<00:38, 492.78it/s]\u001b[A\n",
      " 48%|████▊     | 17327/36052 [00:36<00:37, 495.95it/s]\u001b[A\n",
      " 48%|████▊     | 17378/36052 [00:36<00:38, 479.73it/s]\u001b[A\n",
      " 48%|████▊     | 17427/36052 [00:36<00:39, 477.13it/s]\u001b[A\n",
      " 48%|████▊     | 17476/36052 [00:36<00:39, 474.39it/s]\u001b[A\n",
      " 49%|████▊     | 17524/36052 [00:36<00:39, 463.43it/s]\u001b[A\n",
      " 49%|████▊     | 17571/36052 [00:36<00:39, 462.96it/s]\u001b[A\n",
      " 49%|████▉     | 17619/36052 [00:36<00:39, 466.43it/s]\u001b[A\n",
      " 49%|████▉     | 17666/36052 [00:37<00:39, 459.69it/s]\u001b[A\n",
      " 49%|████▉     | 17713/36052 [00:37<00:40, 456.08it/s]\u001b[A\n",
      " 49%|████▉     | 17763/36052 [00:37<00:39, 465.29it/s]\u001b[A\n",
      " 49%|████▉     | 17810/36052 [00:37<00:39, 464.98it/s]\u001b[A\n",
      " 50%|████▉     | 17858/36052 [00:37<00:38, 468.47it/s]\u001b[A\n",
      " 50%|████▉     | 17905/36052 [00:37<00:39, 459.57it/s]\u001b[A\n",
      " 50%|████▉     | 17952/36052 [00:37<00:39, 455.75it/s]\u001b[A\n",
      " 50%|████▉     | 18000/36052 [00:37<00:39, 461.49it/s]\u001b[A\n",
      " 50%|█████     | 18047/36052 [00:37<00:38, 463.54it/s]\u001b[A\n",
      " 50%|█████     | 18096/36052 [00:37<00:38, 469.33it/s]\u001b[A\n",
      " 50%|█████     | 18143/36052 [00:38<00:38, 465.26it/s]\u001b[A\n",
      " 50%|█████     | 18193/36052 [00:38<00:37, 472.95it/s]\u001b[A\n",
      " 51%|█████     | 18241/36052 [00:38<00:38, 468.31it/s]\u001b[A\n",
      " 51%|█████     | 18294/36052 [00:38<00:36, 483.62it/s]\u001b[A\n",
      " 51%|█████     | 18344/36052 [00:38<00:36, 487.62it/s]\u001b[A\n",
      " 51%|█████     | 18393/36052 [00:38<00:36, 478.66it/s]\u001b[A\n",
      " 51%|█████     | 18448/36052 [00:38<00:35, 497.42it/s]\u001b[A\n",
      " 51%|█████▏    | 18500/36052 [00:38<00:34, 503.60it/s]\u001b[A\n",
      " 51%|█████▏    | 18551/36052 [00:38<00:35, 496.12it/s]\u001b[A\n",
      " 52%|█████▏    | 18602/36052 [00:38<00:35, 495.84it/s]\u001b[A\n",
      " 52%|█████▏    | 18652/36052 [00:39<00:35, 489.43it/s]\u001b[A\n",
      " 52%|█████▏    | 18706/36052 [00:39<00:34, 503.49it/s]\u001b[A\n",
      " 52%|█████▏    | 18757/36052 [00:39<00:34, 494.73it/s]\u001b[A\n",
      " 52%|█████▏    | 18809/36052 [00:39<00:34, 499.38it/s]\u001b[A\n",
      " 52%|█████▏    | 18860/36052 [00:39<00:34, 496.31it/s]\u001b[A\n",
      " 52%|█████▏    | 18910/36052 [00:39<00:34, 491.65it/s]\u001b[A\n",
      " 53%|█████▎    | 18960/36052 [00:39<00:35, 486.17it/s]\u001b[A\n",
      " 53%|█████▎    | 19009/36052 [00:39<00:35, 481.16it/s]\u001b[A\n",
      " 53%|█████▎    | 19058/36052 [00:39<00:35, 478.92it/s]\u001b[A\n",
      " 53%|█████▎    | 19106/36052 [00:39<00:35, 473.50it/s]\u001b[A\n",
      " 53%|█████▎    | 19158/36052 [00:40<00:34, 484.42it/s]\u001b[A\n",
      " 53%|█████▎    | 19209/36052 [00:40<00:34, 490.90it/s]\u001b[A\n",
      " 53%|█████▎    | 19263/36052 [00:40<00:33, 503.31it/s]\u001b[A\n",
      " 54%|█████▎    | 19314/36052 [00:40<00:33, 501.58it/s]\u001b[A\n",
      " 54%|█████▎    | 19365/36052 [00:40<00:34, 487.77it/s]\u001b[A\n",
      " 54%|█████▍    | 19414/36052 [00:40<00:34, 485.06it/s]\u001b[A\n",
      " 54%|█████▍    | 19465/36052 [00:40<00:33, 490.47it/s]\u001b[A\n",
      " 54%|█████▍    | 19515/36052 [00:40<00:33, 492.44it/s]\u001b[A\n",
      " 54%|█████▍    | 19565/36052 [00:40<00:33, 494.32it/s]\u001b[A\n",
      " 54%|█████▍    | 19615/36052 [00:41<00:33, 490.37it/s]\u001b[A\n",
      " 55%|█████▍    | 19667/36052 [00:41<00:32, 498.18it/s]\u001b[A\n",
      " 55%|█████▍    | 19717/36052 [00:41<00:32, 498.34it/s]\u001b[A\n",
      " 55%|█████▍    | 19767/36052 [00:41<00:33, 489.57it/s]\u001b[A\n",
      " 55%|█████▍    | 19818/36052 [00:41<00:32, 495.06it/s]\u001b[A\n",
      " 55%|█████▌    | 19870/36052 [00:41<00:32, 499.10it/s]\u001b[A\n",
      " 55%|█████▌    | 19922/36052 [00:41<00:32, 497.62it/s]\u001b[A\n",
      " 55%|█████▌    | 19972/36052 [00:41<00:32, 488.06it/s]\u001b[A\n",
      " 56%|█████▌    | 20021/36052 [00:41<00:33, 471.68it/s]\u001b[A\n",
      " 56%|█████▌    | 20070/36052 [00:41<00:33, 475.32it/s]\u001b[A\n",
      " 56%|█████▌    | 20118/36052 [00:42<00:33, 472.92it/s]\u001b[A\n",
      " 56%|█████▌    | 20166/36052 [00:42<00:33, 468.33it/s]\u001b[A\n",
      " 56%|█████▌    | 20216/36052 [00:42<00:33, 477.34it/s]\u001b[A\n",
      " 56%|█████▌    | 20271/36052 [00:42<00:31, 495.96it/s]\u001b[A\n",
      " 56%|█████▋    | 20321/36052 [00:42<00:32, 482.62it/s]\u001b[A\n",
      " 57%|█████▋    | 20370/36052 [00:42<00:32, 483.62it/s]\u001b[A\n",
      " 57%|█████▋    | 20420/36052 [00:42<00:32, 487.67it/s]\u001b[A\n",
      " 57%|█████▋    | 20469/36052 [00:42<00:32, 478.22it/s]\u001b[A\n",
      " 57%|█████▋    | 20517/36052 [00:42<00:32, 471.38it/s]\u001b[A\n",
      " 57%|█████▋    | 20569/36052 [00:42<00:32, 483.08it/s]\u001b[A\n",
      " 57%|█████▋    | 20622/36052 [00:43<00:31, 494.55it/s]\u001b[A\n",
      " 57%|█████▋    | 20672/36052 [00:43<00:31, 491.54it/s]\u001b[A\n",
      " 57%|█████▋    | 20722/36052 [00:43<00:31, 490.85it/s]\u001b[A\n",
      " 58%|█████▊    | 20772/36052 [00:43<00:31, 483.67it/s]\u001b[A\n",
      " 58%|█████▊    | 20821/36052 [00:43<00:33, 459.49it/s]\u001b[A\n",
      " 58%|█████▊    | 20872/36052 [00:43<00:32, 467.91it/s]\u001b[A\n",
      " 58%|█████▊    | 20920/36052 [00:43<00:32, 469.69it/s]\u001b[A\n",
      " 58%|█████▊    | 20969/36052 [00:43<00:32, 469.56it/s]\u001b[A\n",
      " 58%|█████▊    | 21017/36052 [00:43<00:32, 469.10it/s]\u001b[A\n",
      " 58%|█████▊    | 21066/36052 [00:44<00:31, 473.74it/s]\u001b[A\n",
      " 59%|█████▊    | 21114/36052 [00:44<00:31, 475.36it/s]\u001b[A\n",
      " 59%|█████▊    | 21165/36052 [00:44<00:30, 484.48it/s]\u001b[A\n",
      " 59%|█████▉    | 21219/36052 [00:44<00:29, 499.33it/s]\u001b[A\n",
      " 59%|█████▉    | 21270/36052 [00:44<00:30, 492.18it/s]\u001b[A\n",
      " 59%|█████▉    | 21324/36052 [00:44<00:29, 501.96it/s]\u001b[A\n",
      " 59%|█████▉    | 21375/36052 [00:44<00:30, 488.62it/s]\u001b[A\n",
      " 59%|█████▉    | 21425/36052 [00:44<00:29, 490.52it/s]\u001b[A\n",
      " 60%|█████▉    | 21475/36052 [00:44<00:30, 475.91it/s]\u001b[A\n",
      " 60%|█████▉    | 21525/36052 [00:44<00:30, 480.13it/s]\u001b[A\n",
      " 60%|█████▉    | 21574/36052 [00:45<00:30, 481.94it/s]\u001b[A\n",
      " 60%|█████▉    | 21623/36052 [00:45<00:30, 479.27it/s]\u001b[A\n",
      " 60%|██████    | 21671/36052 [00:45<00:31, 461.27it/s]\u001b[A\n",
      " 60%|██████    | 21722/36052 [00:45<00:30, 474.85it/s]\u001b[A\n",
      " 60%|██████    | 21771/36052 [00:45<00:29, 478.87it/s]\u001b[A\n",
      " 61%|██████    | 21820/36052 [00:45<00:30, 469.37it/s]\u001b[A\n",
      " 61%|██████    | 21873/36052 [00:45<00:29, 484.91it/s]\u001b[A\n",
      " 61%|██████    | 21922/36052 [00:45<00:30, 470.43it/s]\u001b[A\n",
      " 61%|██████    | 21974/36052 [00:45<00:29, 481.83it/s]\u001b[A\n",
      " 61%|██████    | 22023/36052 [00:46<00:29, 481.64it/s]\u001b[A\n",
      " 61%|██████    | 22072/36052 [00:46<00:28, 482.85it/s]\u001b[A\n",
      " 61%|██████▏   | 22121/36052 [00:46<00:28, 483.76it/s]\u001b[A\n",
      " 61%|██████▏   | 22170/36052 [00:46<00:29, 474.25it/s]\u001b[A\n",
      " 62%|██████▏   | 22221/36052 [00:46<00:28, 482.67it/s]\u001b[A\n",
      " 62%|██████▏   | 22270/36052 [00:46<00:29, 468.02it/s]\u001b[A\n",
      " 62%|██████▏   | 22320/36052 [00:46<00:28, 475.45it/s]\u001b[A\n",
      " 62%|██████▏   | 22368/36052 [00:46<00:28, 473.38it/s]\u001b[A\n",
      " 62%|██████▏   | 22418/36052 [00:46<00:28, 480.85it/s]\u001b[A\n",
      " 62%|██████▏   | 22467/36052 [00:46<00:28, 473.72it/s]\u001b[A\n",
      " 62%|██████▏   | 22515/36052 [00:47<00:28, 475.20it/s]\u001b[A\n",
      " 63%|██████▎   | 22563/36052 [00:47<00:28, 469.33it/s]\u001b[A\n",
      " 63%|██████▎   | 22613/36052 [00:47<00:28, 477.89it/s]\u001b[A\n",
      " 63%|██████▎   | 22664/36052 [00:47<00:27, 484.67it/s]\u001b[A\n",
      " 63%|██████▎   | 22713/36052 [00:47<00:28, 469.48it/s]\u001b[A\n",
      " 63%|██████▎   | 22765/36052 [00:47<00:27, 482.12it/s]\u001b[A\n",
      " 63%|██████▎   | 22814/36052 [00:47<00:27, 476.95it/s]\u001b[A\n",
      " 63%|██████▎   | 22862/36052 [00:47<00:27, 474.43it/s]\u001b[A\n",
      " 64%|██████▎   | 22910/36052 [00:47<00:27, 473.76it/s]\u001b[A\n",
      " 64%|██████▎   | 22959/36052 [00:47<00:27, 475.82it/s]\u001b[A\n",
      " 64%|██████▍   | 23007/36052 [00:48<00:27, 466.12it/s]\u001b[A\n",
      " 64%|██████▍   | 23058/36052 [00:48<00:27, 478.19it/s]\u001b[A\n",
      " 64%|██████▍   | 23107/36052 [00:48<00:26, 481.55it/s]\u001b[A\n",
      " 64%|██████▍   | 23156/36052 [00:48<00:27, 465.17it/s]\u001b[A\n",
      " 64%|██████▍   | 23203/36052 [00:48<00:27, 462.54it/s]\u001b[A\n",
      " 65%|██████▍   | 23254/36052 [00:48<00:26, 474.99it/s]\u001b[A\n",
      " 65%|██████▍   | 23302/36052 [00:48<00:27, 468.80it/s]\u001b[A\n",
      " 65%|██████▍   | 23351/36052 [00:48<00:26, 473.64it/s]\u001b[A\n",
      " 65%|██████▍   | 23401/36052 [00:48<00:26, 480.25it/s]\u001b[A\n",
      " 65%|██████▌   | 23450/36052 [00:49<00:26, 472.83it/s]\u001b[A\n",
      " 65%|██████▌   | 23501/36052 [00:49<00:26, 481.80it/s]\u001b[A\n",
      " 65%|██████▌   | 23550/36052 [00:49<00:26, 477.85it/s]\u001b[A\n",
      " 65%|██████▌   | 23598/36052 [00:49<00:26, 471.79it/s]\u001b[A\n",
      " 66%|██████▌   | 23646/36052 [00:49<00:26, 468.43it/s]\u001b[A\n",
      " 66%|██████▌   | 23702/36052 [00:49<00:25, 491.58it/s]\u001b[A\n",
      " 66%|██████▌   | 23754/36052 [00:49<00:24, 497.73it/s]\u001b[A\n",
      " 66%|██████▌   | 23805/36052 [00:49<00:24, 499.08it/s]\u001b[A\n",
      " 66%|██████▌   | 23856/36052 [00:49<00:25, 482.80it/s]\u001b[A\n",
      " 66%|██████▋   | 23910/36052 [00:49<00:24, 498.42it/s]\u001b[A\n",
      " 66%|██████▋   | 23961/36052 [00:50<00:24, 499.34it/s]\u001b[A\n",
      " 67%|██████▋   | 24012/36052 [00:50<00:24, 481.68it/s]\u001b[A\n",
      " 67%|██████▋   | 24061/36052 [00:50<00:24, 479.65it/s]\u001b[A\n",
      " 67%|██████▋   | 24115/36052 [00:50<00:24, 495.17it/s]\u001b[A\n",
      " 67%|██████▋   | 24165/36052 [00:50<00:24, 494.09it/s]\u001b[A\n",
      " 67%|██████▋   | 24217/36052 [00:50<00:23, 495.91it/s]\u001b[A\n",
      " 67%|██████▋   | 24267/36052 [00:50<00:24, 486.52it/s]\u001b[A\n",
      " 67%|██████▋   | 24316/36052 [00:50<00:24, 469.89it/s]\u001b[A\n",
      " 68%|██████▊   | 24364/36052 [00:50<00:25, 464.08it/s]\u001b[A\n",
      " 68%|██████▊   | 24411/36052 [00:51<00:25, 462.14it/s]\u001b[A\n",
      " 68%|██████▊   | 24458/36052 [00:51<00:25, 461.02it/s]\u001b[A\n",
      " 68%|██████▊   | 24505/36052 [00:51<00:25, 459.43it/s]\u001b[A\n",
      " 68%|██████▊   | 24554/36052 [00:51<00:24, 466.13it/s]\u001b[A\n",
      " 68%|██████▊   | 24601/36052 [00:51<00:24, 464.92it/s]\u001b[A\n",
      " 68%|██████▊   | 24651/36052 [00:51<00:24, 473.72it/s]\u001b[A\n",
      " 69%|██████▊   | 24701/36052 [00:51<00:23, 479.79it/s]\u001b[A\n",
      " 69%|██████▊   | 24756/36052 [00:51<00:22, 496.89it/s]\u001b[A\n",
      " 69%|██████▉   | 24807/36052 [00:51<00:22, 497.77it/s]\u001b[A\n",
      " 69%|██████▉   | 24861/36052 [00:51<00:22, 506.93it/s]\u001b[A\n",
      " 69%|██████▉   | 24912/36052 [00:52<00:22, 505.26it/s]\u001b[A\n",
      " 69%|██████▉   | 24964/36052 [00:52<00:21, 506.41it/s]\u001b[A\n",
      " 69%|██████▉   | 25015/36052 [00:52<00:22, 493.16it/s]\u001b[A\n",
      " 70%|██████▉   | 25065/36052 [00:52<00:22, 493.40it/s]\u001b[A\n",
      " 70%|██████▉   | 25117/36052 [00:52<00:21, 499.95it/s]\u001b[A\n",
      " 70%|██████▉   | 25168/36052 [00:52<00:22, 491.57it/s]\u001b[A\n",
      " 70%|██████▉   | 25221/36052 [00:52<00:21, 500.08it/s]\u001b[A\n",
      " 70%|███████   | 25272/36052 [00:52<00:21, 498.33it/s]\u001b[A\n",
      " 70%|███████   | 25323/36052 [00:52<00:21, 501.32it/s]\u001b[A\n",
      " 70%|███████   | 25374/36052 [00:52<00:22, 474.19it/s]\u001b[A\n",
      " 71%|███████   | 25427/36052 [00:53<00:21, 487.70it/s]\u001b[A\n",
      " 71%|███████   | 25477/36052 [00:53<00:21, 483.11it/s]\u001b[A\n",
      " 71%|███████   | 25526/36052 [00:53<00:22, 465.10it/s]\u001b[A\n",
      " 71%|███████   | 25573/36052 [00:53<00:22, 463.29it/s]\u001b[A\n",
      " 71%|███████   | 25620/36052 [00:53<00:22, 465.06it/s]\u001b[A\n",
      " 71%|███████   | 25667/36052 [00:53<00:23, 451.07it/s]\u001b[A\n",
      " 71%|███████▏  | 25716/36052 [00:53<00:22, 459.43it/s]\u001b[A\n",
      " 71%|███████▏  | 25764/36052 [00:53<00:22, 461.31it/s]\u001b[A\n",
      " 72%|███████▏  | 25811/36052 [00:53<00:22, 460.65it/s]\u001b[A\n",
      " 72%|███████▏  | 25860/36052 [00:54<00:21, 469.06it/s]\u001b[A\n",
      " 72%|███████▏  | 25908/36052 [00:54<00:21, 471.46it/s]\u001b[A\n",
      " 72%|███████▏  | 25956/36052 [00:54<00:21, 466.18it/s]\u001b[A\n",
      " 72%|███████▏  | 26003/36052 [00:54<00:21, 458.55it/s]\u001b[A\n",
      " 72%|███████▏  | 26052/36052 [00:54<00:21, 467.46it/s]\u001b[A\n",
      " 72%|███████▏  | 26105/36052 [00:54<00:20, 482.39it/s]\u001b[A\n",
      " 73%|███████▎  | 26154/36052 [00:54<00:20, 480.08it/s]\u001b[A\n",
      " 73%|███████▎  | 26203/36052 [00:54<00:20, 481.48it/s]\u001b[A\n",
      " 73%|███████▎  | 26257/36052 [00:54<00:19, 493.50it/s]\u001b[A\n",
      " 73%|███████▎  | 26307/36052 [00:54<00:20, 476.09it/s]\u001b[A\n",
      " 73%|███████▎  | 26355/36052 [00:55<00:20, 469.67it/s]\u001b[A\n",
      " 73%|███████▎  | 26403/36052 [00:55<00:21, 458.68it/s]\u001b[A\n",
      " 73%|███████▎  | 26450/36052 [00:55<00:21, 452.79it/s]\u001b[A\n",
      " 74%|███████▎  | 26499/36052 [00:55<00:20, 459.32it/s]\u001b[A\n",
      " 74%|███████▎  | 26546/36052 [00:55<00:20, 455.69it/s]\u001b[A\n",
      " 74%|███████▍  | 26593/36052 [00:55<00:20, 459.16it/s]\u001b[A\n",
      " 74%|███████▍  | 26641/36052 [00:55<00:20, 464.62it/s]\u001b[A\n",
      " 74%|███████▍  | 26688/36052 [00:55<00:20, 452.30it/s]\u001b[A\n",
      " 74%|███████▍  | 26740/36052 [00:55<00:19, 469.90it/s]\u001b[A\n",
      " 74%|███████▍  | 26788/36052 [00:56<00:20, 454.92it/s]\u001b[A\n",
      " 74%|███████▍  | 26840/36052 [00:56<00:19, 469.14it/s]\u001b[A\n",
      " 75%|███████▍  | 26888/36052 [00:56<00:19, 463.16it/s]\u001b[A\n",
      " 75%|███████▍  | 26938/36052 [00:56<00:19, 471.65it/s]\u001b[A\n",
      " 75%|███████▍  | 26989/36052 [00:56<00:18, 480.42it/s]\u001b[A\n",
      " 75%|███████▌  | 27039/36052 [00:56<00:18, 483.62it/s]\u001b[A\n",
      " 75%|███████▌  | 27088/36052 [00:56<00:19, 471.71it/s]\u001b[A\n",
      " 75%|███████▌  | 27136/36052 [00:56<00:19, 466.37it/s]\u001b[A\n",
      " 75%|███████▌  | 27186/36052 [00:56<00:18, 475.36it/s]\u001b[A\n",
      " 76%|███████▌  | 27234/36052 [00:56<00:19, 460.75it/s]\u001b[A\n",
      " 76%|███████▌  | 27281/36052 [00:57<00:19, 456.82it/s]\u001b[A\n",
      " 76%|███████▌  | 27333/36052 [00:57<00:18, 473.25it/s]\u001b[A\n",
      " 76%|███████▌  | 27381/36052 [00:57<00:18, 467.05it/s]\u001b[A\n",
      " 76%|███████▌  | 27428/36052 [00:57<00:18, 467.55it/s]\u001b[A\n",
      " 76%|███████▌  | 27475/36052 [00:57<00:18, 465.82it/s]\u001b[A\n",
      " 76%|███████▋  | 27523/36052 [00:57<00:18, 468.85it/s]\u001b[A\n",
      " 76%|███████▋  | 27575/36052 [00:57<00:17, 480.84it/s]\u001b[A\n",
      " 77%|███████▋  | 27630/36052 [00:57<00:16, 497.00it/s]\u001b[A\n",
      " 77%|███████▋  | 27680/36052 [00:57<00:17, 487.00it/s]\u001b[A\n",
      " 77%|███████▋  | 27730/36052 [00:57<00:17, 488.99it/s]\u001b[A\n",
      " 77%|███████▋  | 27780/36052 [00:58<00:17, 482.56it/s]\u001b[A\n",
      " 77%|███████▋  | 27829/36052 [00:58<00:17, 483.59it/s]\u001b[A\n",
      " 77%|███████▋  | 27882/36052 [00:58<00:16, 494.75it/s]\u001b[A\n",
      " 77%|███████▋  | 27936/36052 [00:58<00:16, 502.39it/s]\u001b[A\n",
      " 78%|███████▊  | 27987/36052 [00:58<00:16, 487.59it/s]\u001b[A\n",
      " 78%|███████▊  | 28037/36052 [00:58<00:16, 486.01it/s]\u001b[A\n",
      " 78%|███████▊  | 28086/36052 [00:58<00:16, 485.47it/s]\u001b[A\n",
      " 78%|███████▊  | 28135/36052 [00:58<00:16, 483.13it/s]\u001b[A\n",
      " 78%|███████▊  | 28187/36052 [00:58<00:16, 491.07it/s]\u001b[A\n",
      " 78%|███████▊  | 28237/36052 [00:59<00:15, 491.88it/s]\u001b[A\n",
      " 78%|███████▊  | 28287/36052 [00:59<00:15, 490.23it/s]\u001b[A\n",
      " 79%|███████▊  | 28337/36052 [00:59<00:15, 492.97it/s]\u001b[A\n",
      " 79%|███████▊  | 28387/36052 [00:59<00:15, 483.90it/s]\u001b[A\n",
      " 79%|███████▉  | 28438/36052 [00:59<00:15, 491.20it/s]\u001b[A\n",
      " 79%|███████▉  | 28488/36052 [00:59<00:15, 485.94it/s]\u001b[A\n",
      " 79%|███████▉  | 28537/36052 [00:59<00:15, 481.56it/s]\u001b[A\n",
      " 79%|███████▉  | 28586/36052 [00:59<00:15, 476.40it/s]\u001b[A\n",
      " 79%|███████▉  | 28634/36052 [00:59<00:16, 458.76it/s]\u001b[A\n",
      " 80%|███████▉  | 28683/36052 [00:59<00:15, 465.90it/s]\u001b[A\n",
      " 80%|███████▉  | 28730/36052 [01:00<00:15, 465.29it/s]\u001b[A\n",
      " 80%|███████▉  | 28777/36052 [01:00<00:15, 455.39it/s]\u001b[A\n",
      " 80%|███████▉  | 28830/36052 [01:00<00:15, 474.33it/s]\u001b[A\n",
      " 80%|████████  | 28878/36052 [01:00<00:15, 460.95it/s]\u001b[A\n",
      " 80%|████████  | 28929/36052 [01:00<00:15, 472.87it/s]\u001b[A\n",
      " 80%|████████  | 28985/36052 [01:00<00:14, 494.23it/s]\u001b[A\n",
      " 81%|████████  | 29035/36052 [01:00<00:14, 486.19it/s]\u001b[A\n",
      " 81%|████████  | 29084/36052 [01:00<00:14, 485.41it/s]\u001b[A\n",
      " 81%|████████  | 29137/36052 [01:00<00:13, 496.30it/s]\u001b[A\n",
      " 81%|████████  | 29191/36052 [01:00<00:13, 506.96it/s]\u001b[A\n",
      " 81%|████████  | 29242/36052 [01:01<00:14, 479.23it/s]\u001b[A\n",
      " 81%|████████▏ | 29293/36052 [01:01<00:13, 487.95it/s]\u001b[A\n",
      " 81%|████████▏ | 29344/36052 [01:01<00:13, 492.32it/s]\u001b[A\n",
      " 82%|████████▏ | 29394/36052 [01:01<00:13, 484.17it/s]\u001b[A\n",
      " 82%|████████▏ | 29443/36052 [01:01<00:13, 474.93it/s]\u001b[A\n",
      " 82%|████████▏ | 29492/36052 [01:01<00:13, 477.03it/s]\u001b[A\n",
      " 82%|████████▏ | 29540/36052 [01:01<00:13, 477.63it/s]\u001b[A\n",
      " 82%|████████▏ | 29589/36052 [01:01<00:13, 478.77it/s]\u001b[A\n",
      " 82%|████████▏ | 29637/36052 [01:01<00:13, 478.28it/s]\u001b[A\n",
      " 82%|████████▏ | 29686/36052 [01:02<00:13, 480.46it/s]\u001b[A\n",
      " 82%|████████▏ | 29735/36052 [01:02<00:13, 474.41it/s]\u001b[A\n",
      " 83%|████████▎ | 29785/36052 [01:02<00:13, 481.70it/s]\u001b[A\n",
      " 83%|████████▎ | 29835/36052 [01:02<00:12, 486.76it/s]\u001b[A\n",
      " 83%|████████▎ | 29884/36052 [01:02<00:12, 486.73it/s]\u001b[A\n",
      " 83%|████████▎ | 29933/36052 [01:02<00:12, 472.71it/s]\u001b[A\n",
      " 83%|████████▎ | 29981/36052 [01:02<00:12, 474.86it/s]\u001b[A\n",
      " 83%|████████▎ | 30032/36052 [01:02<00:12, 482.38it/s]\u001b[A\n",
      " 83%|████████▎ | 30083/36052 [01:02<00:12, 487.72it/s]\u001b[A\n",
      " 84%|████████▎ | 30132/36052 [01:02<00:12, 477.88it/s]\u001b[A\n",
      " 84%|████████▎ | 30180/36052 [01:03<00:12, 472.29it/s]\u001b[A\n",
      " 84%|████████▍ | 30230/36052 [01:03<00:12, 479.85it/s]\u001b[A\n",
      " 84%|████████▍ | 30280/36052 [01:03<00:11, 484.57it/s]\u001b[A\n",
      " 84%|████████▍ | 30329/36052 [01:03<00:11, 482.83it/s]\u001b[A\n",
      " 84%|████████▍ | 30382/36052 [01:03<00:11, 494.98it/s]\u001b[A\n",
      " 84%|████████▍ | 30432/36052 [01:03<00:11, 485.16it/s]\u001b[A\n",
      " 85%|████████▍ | 30486/36052 [01:03<00:11, 494.44it/s]\u001b[A\n",
      " 85%|████████▍ | 30536/36052 [01:03<00:11, 488.82it/s]\u001b[A\n",
      " 85%|████████▍ | 30585/36052 [01:03<00:11, 472.62it/s]\u001b[A\n",
      " 85%|████████▍ | 30636/36052 [01:03<00:11, 483.01it/s]\u001b[A\n",
      " 85%|████████▌ | 30685/36052 [01:04<00:11, 475.51it/s]\u001b[A\n",
      " 85%|████████▌ | 30734/36052 [01:04<00:11, 478.38it/s]\u001b[A\n",
      " 85%|████████▌ | 30782/36052 [01:04<00:11, 475.88it/s]\u001b[A\n",
      " 86%|████████▌ | 30837/36052 [01:04<00:10, 494.09it/s]\u001b[A\n",
      " 86%|████████▌ | 30887/36052 [01:04<00:10, 492.81it/s]\u001b[A\n",
      " 86%|████████▌ | 30937/36052 [01:04<00:10, 482.12it/s]\u001b[A\n",
      " 86%|████████▌ | 30986/36052 [01:04<00:10, 479.91it/s]\u001b[A\n",
      " 86%|████████▌ | 31041/36052 [01:04<00:10, 498.72it/s]\u001b[A\n",
      " 86%|████████▋ | 31097/36052 [01:04<00:09, 515.07it/s]\u001b[A\n",
      " 86%|████████▋ | 31149/36052 [01:05<00:09, 496.79it/s]\u001b[A\n",
      " 87%|████████▋ | 31200/36052 [01:05<00:10, 480.74it/s]\u001b[A\n",
      " 87%|████████▋ | 31249/36052 [01:05<00:09, 481.97it/s]\u001b[A\n",
      " 87%|████████▋ | 31298/36052 [01:05<00:09, 479.81it/s]\u001b[A\n",
      " 87%|████████▋ | 31348/36052 [01:05<00:09, 478.20it/s]\u001b[A\n",
      " 87%|████████▋ | 31396/36052 [01:05<00:09, 475.00it/s]\u001b[A\n",
      " 87%|████████▋ | 31444/36052 [01:05<00:09, 476.37it/s]\u001b[A\n",
      " 87%|████████▋ | 31492/36052 [01:05<00:09, 462.78it/s]\u001b[A\n",
      " 87%|████████▋ | 31543/36052 [01:05<00:09, 475.84it/s]\u001b[A\n",
      " 88%|████████▊ | 31595/36052 [01:05<00:09, 487.01it/s]\u001b[A\n",
      " 88%|████████▊ | 31644/36052 [01:06<00:09, 472.16it/s]\u001b[A\n",
      " 88%|████████▊ | 31693/36052 [01:06<00:09, 474.42it/s]\u001b[A\n",
      " 88%|████████▊ | 31746/36052 [01:06<00:08, 485.95it/s]\u001b[A\n",
      " 88%|████████▊ | 31795/36052 [01:06<00:08, 474.68it/s]\u001b[A\n",
      " 88%|████████▊ | 31847/36052 [01:06<00:08, 484.55it/s]\u001b[A\n",
      " 88%|████████▊ | 31896/36052 [01:06<00:08, 471.30it/s]\u001b[A\n",
      " 89%|████████▊ | 31944/36052 [01:06<00:08, 468.66it/s]\u001b[A\n",
      " 89%|████████▊ | 31996/36052 [01:06<00:08, 477.87it/s]\u001b[A\n",
      " 89%|████████▉ | 32049/36052 [01:06<00:08, 490.95it/s]\u001b[A\n",
      " 89%|████████▉ | 32099/36052 [01:07<00:08, 486.80it/s]\u001b[A\n",
      " 89%|████████▉ | 32151/36052 [01:07<00:07, 492.42it/s]\u001b[A\n",
      " 89%|████████▉ | 32201/36052 [01:07<00:08, 474.98it/s]\u001b[A\n",
      " 89%|████████▉ | 32249/36052 [01:07<00:07, 476.05it/s]\u001b[A\n",
      " 90%|████████▉ | 32300/36052 [01:07<00:07, 482.55it/s]\u001b[A\n",
      " 90%|████████▉ | 32349/36052 [01:07<00:07, 478.28it/s]\u001b[A\n",
      " 90%|████████▉ | 32397/36052 [01:07<00:07, 468.95it/s]\u001b[A\n",
      " 90%|████████▉ | 32445/36052 [01:07<00:07, 452.16it/s]\u001b[A\n",
      " 90%|█████████ | 32492/36052 [01:07<00:07, 455.71it/s]\u001b[A\n",
      " 90%|█████████ | 32541/36052 [01:07<00:07, 463.47it/s]\u001b[A\n",
      " 90%|█████████ | 32592/36052 [01:08<00:07, 475.96it/s]\u001b[A\n",
      " 91%|█████████ | 32640/36052 [01:08<00:07, 476.78it/s]\u001b[A\n",
      " 91%|█████████ | 32691/36052 [01:08<00:06, 485.17it/s]\u001b[A\n",
      " 91%|█████████ | 32747/36052 [01:08<00:06, 504.34it/s]\u001b[A\n",
      " 91%|█████████ | 32798/36052 [01:08<00:06, 497.10it/s]\u001b[A\n",
      " 91%|█████████ | 32848/36052 [01:08<00:06, 472.96it/s]\u001b[A\n",
      " 91%|█████████ | 32896/36052 [01:08<00:06, 466.86it/s]\u001b[A\n",
      " 91%|█████████▏| 32949/36052 [01:08<00:06, 483.68it/s]\u001b[A\n",
      " 92%|█████████▏| 33003/36052 [01:08<00:06, 498.49it/s]\u001b[A\n",
      " 92%|█████████▏| 33054/36052 [01:09<00:06, 482.91it/s]\u001b[A\n",
      " 92%|█████████▏| 33103/36052 [01:09<00:06, 483.58it/s]\u001b[A\n",
      " 92%|█████████▏| 33152/36052 [01:09<00:06, 469.55it/s]\u001b[A\n",
      " 92%|█████████▏| 33205/36052 [01:09<00:05, 486.12it/s]\u001b[A\n",
      " 92%|█████████▏| 33255/36052 [01:09<00:05, 486.27it/s]\u001b[A\n",
      " 92%|█████████▏| 33308/36052 [01:09<00:05, 497.40it/s]\u001b[A\n",
      " 93%|█████████▎| 33358/36052 [01:09<00:05, 487.33it/s]\u001b[A\n",
      " 93%|█████████▎| 33407/36052 [01:09<00:05, 473.59it/s]\u001b[A\n",
      " 93%|█████████▎| 33455/36052 [01:09<00:05, 448.57it/s]\u001b[A\n",
      " 93%|█████████▎| 33504/36052 [01:09<00:05, 459.40it/s]\u001b[A\n",
      " 93%|█████████▎| 33556/36052 [01:10<00:05, 475.24it/s]\u001b[A\n",
      " 93%|█████████▎| 33606/36052 [01:10<00:05, 481.07it/s]\u001b[A\n",
      " 93%|█████████▎| 33657/36052 [01:10<00:04, 489.06it/s]\u001b[A\n",
      " 93%|█████████▎| 33707/36052 [01:10<00:04, 492.24it/s]\u001b[A\n",
      " 94%|█████████▎| 33765/36052 [01:10<00:04, 514.86it/s]\u001b[A\n",
      " 94%|█████████▍| 33817/36052 [01:10<00:04, 511.96it/s]\u001b[A\n",
      " 94%|█████████▍| 33869/36052 [01:10<00:04, 495.14it/s]\u001b[A\n",
      " 94%|█████████▍| 33919/36052 [01:10<00:04, 478.96it/s]\u001b[A\n",
      " 94%|█████████▍| 33968/36052 [01:10<00:04, 470.12it/s]\u001b[A\n",
      " 94%|█████████▍| 34016/36052 [01:11<00:04, 472.65it/s]\u001b[A\n",
      " 94%|█████████▍| 34064/36052 [01:11<00:04, 469.72it/s]\u001b[A\n",
      " 95%|█████████▍| 34115/36052 [01:11<00:04, 480.36it/s]\u001b[A\n",
      " 95%|█████████▍| 34169/36052 [01:11<00:03, 493.96it/s]\u001b[A\n",
      " 95%|█████████▍| 34219/36052 [01:11<00:03, 492.18it/s]\u001b[A\n",
      " 95%|█████████▌| 34269/36052 [01:11<00:03, 491.43it/s]\u001b[A\n",
      " 95%|█████████▌| 34319/36052 [01:11<00:03, 476.54it/s]\u001b[A\n",
      " 95%|█████████▌| 34371/36052 [01:11<00:03, 487.02it/s]\u001b[A\n",
      " 95%|█████████▌| 34420/36052 [01:11<00:03, 478.38it/s]\u001b[A\n",
      " 96%|█████████▌| 34470/36052 [01:11<00:03, 482.55it/s]\u001b[A\n",
      " 96%|█████████▌| 34519/36052 [01:12<00:03, 470.93it/s]\u001b[A\n",
      " 96%|█████████▌| 34567/36052 [01:12<00:03, 463.79it/s]\u001b[A\n",
      " 96%|█████████▌| 34614/36052 [01:12<00:03, 465.34it/s]\u001b[A\n",
      " 96%|█████████▌| 34662/36052 [01:12<00:02, 468.02it/s]\u001b[A\n",
      " 96%|█████████▋| 34710/36052 [01:12<00:02, 470.01it/s]\u001b[A\n",
      " 96%|█████████▋| 34761/36052 [01:12<00:02, 480.01it/s]\u001b[A\n",
      " 97%|█████████▋| 34812/36052 [01:12<00:02, 487.26it/s]\u001b[A\n",
      " 97%|█████████▋| 34861/36052 [01:12<00:02, 475.52it/s]\u001b[A\n",
      " 97%|█████████▋| 34911/36052 [01:12<00:02, 481.40it/s]\u001b[A\n",
      " 97%|█████████▋| 34963/36052 [01:12<00:02, 490.91it/s]\u001b[A\n",
      " 97%|█████████▋| 35015/36052 [01:13<00:02, 498.15it/s]\u001b[A\n",
      " 97%|█████████▋| 35065/36052 [01:13<00:02, 492.52it/s]\u001b[A\n",
      " 97%|█████████▋| 35115/36052 [01:13<00:01, 490.69it/s]\u001b[A\n",
      " 98%|█████████▊| 35165/36052 [01:13<00:01, 489.99it/s]\u001b[A\n",
      " 98%|█████████▊| 35215/36052 [01:13<00:01, 489.77it/s]\u001b[A\n",
      " 98%|█████████▊| 35268/36052 [01:13<00:01, 499.96it/s]\u001b[A\n",
      " 98%|█████████▊| 35319/36052 [01:13<00:01, 490.99it/s]\u001b[A\n",
      " 98%|█████████▊| 35369/36052 [01:13<00:01, 481.67it/s]\u001b[A\n",
      " 98%|█████████▊| 35418/36052 [01:13<00:01, 458.79it/s]\u001b[A\n",
      " 98%|█████████▊| 35465/36052 [01:14<00:01, 459.82it/s]\u001b[A\n",
      " 99%|█████████▊| 35515/36052 [01:14<00:01, 469.33it/s]\u001b[A\n",
      " 99%|█████████▊| 35567/36052 [01:14<00:01, 483.46it/s]\u001b[A\n",
      " 99%|█████████▉| 35622/36052 [01:14<00:00, 499.45it/s]\u001b[A\n",
      " 99%|█████████▉| 35673/36052 [01:14<00:00, 485.87it/s]\u001b[A\n",
      " 99%|█████████▉| 35722/36052 [01:14<00:00, 472.89it/s]\u001b[A\n",
      " 99%|█████████▉| 35770/36052 [01:14<00:00, 473.06it/s]\u001b[A\n",
      " 99%|█████████▉| 35818/36052 [01:14<00:00, 466.09it/s]\u001b[A\n",
      " 99%|█████████▉| 35865/36052 [01:14<00:00, 464.85it/s]\u001b[A\n",
      "100%|█████████▉| 35912/36052 [01:14<00:00, 454.39it/s]\u001b[A\n",
      "100%|█████████▉| 35962/36052 [01:15<00:00, 465.40it/s]\u001b[A\n",
      "100%|█████████▉| 36009/36052 [01:15<00:00, 466.76it/s]\u001b[A\n",
      "100%|██████████| 36052/36052 [01:15<00:00, 479.01it/s]\u001b[A"
     ]
    }
   ],
   "source": [
    "# TFIDF Word2Vec\n",
    "# compute TFIDF word2vec for each review.\n",
    "X_train_essay_tfidf_w2v = []; # the avg-w2v for each sentence/review is stored in this list\n",
    "for sentence in tqdm(X_train['essay']): # for each review/sentence\n",
    "    vector = np.zeros(300) # as word vectors are of zero length\n",
    "    tf_idf_weight =0; # num of words with a valid vector in the sentence/review\n",
    "    for word in sentence.split(): # for each word in a review/sentence\n",
    "        if (word in glove_words) and (word in tf_idf_words):\n",
    "            vec = model[word] # getting the vector for each word\n",
    "            # here we are multiplying idf value(dictionary[word]) and the tf value((sentence.count(word)/len(sentence.split())))\n",
    "            tf_idf = dictionary[word]*(sentence.count(word)/len(sentence.split())) # getting the tfidf value for each word\n",
    "            vector += (vec * tf_idf) # calculating tfidf weighted w2v\n",
    "            tf_idf_weight += tf_idf\n",
    "    if tf_idf_weight != 0:\n",
    "        vector /= tf_idf_weight\n",
    "    X_train_essay_tfidf_w2v.append(vector)\n",
    "    \n",
    "    \n",
    "X_test_essay_tfidf_w2v = []; # the avg-w2v for each sentence/review is stored in this list\n",
    "for sentence in tqdm(X_test['essay']): # for each review/sentence\n",
    "    vector = np.zeros(300) # as word vectors are of zero length\n",
    "    tf_idf_weight =0; # num of words with a valid vector in the sentence/review\n",
    "    for word in sentence.split(): # for each word in a review/sentence\n",
    "        if (word in glove_words) and (word in tf_idf_words):\n",
    "            vec = model[word] # getting the vector for each word\n",
    "            # here we are multiplying idf value(dictionary[word]) and the tf value((sentence.count(word)/len(sentence.split())))\n",
    "            tf_idf = dictionary[word]*(sentence.count(word)/len(sentence.split())) # getting the tfidf value for each word\n",
    "            vector += (vec * tf_idf) # calculating tfidf weighted w2v\n",
    "            tf_idf_weight += tf_idf\n",
    "    if tf_idf_weight != 0:\n",
    "        vector /= tf_idf_weight\n",
    "    X_test_essay_tfidf_w2v.append(vector)"
   ]
  },
  {
   "cell_type": "code",
   "execution_count": 38,
   "metadata": {
    "colab": {
     "base_uri": "https://localhost:8080/",
     "height": 51
    },
    "colab_type": "code",
    "id": "ywlULY5UkPTp",
    "outputId": "ef3b21ca-3e5f-425c-abbc-a41f6cc63de9"
   },
   "outputs": [
    {
     "name": "stdout",
     "output_type": "stream",
     "text": [
      "73196\n",
      "36052\n"
     ]
    }
   ],
   "source": [
    "print(len(X_train_essay_tfidf_w2v))\n",
    "print(len(X_test_essay_tfidf_w2v))"
   ]
  },
  {
   "cell_type": "markdown",
   "metadata": {
    "colab_type": "text",
    "id": "1CKgjpY9kPTq"
   },
   "source": [
    "### 1.7 Project Title"
   ]
  },
  {
   "cell_type": "markdown",
   "metadata": {
    "colab_type": "text",
    "id": "yul6OOdSkPTr"
   },
   "source": [
    "#### 1.7.1 BOW"
   ]
  },
  {
   "cell_type": "code",
   "execution_count": 0,
   "metadata": {
    "colab": {},
    "colab_type": "code",
    "id": "ZDPNtoqlkPTr"
   },
   "outputs": [],
   "source": [
    "vectorizer_8 = CountVectorizer(list(X_train['title'].values), min_df=10)"
   ]
  },
  {
   "cell_type": "code",
   "execution_count": 0,
   "metadata": {
    "colab": {},
    "colab_type": "code",
    "id": "z4AyjV4xkPTt"
   },
   "outputs": [],
   "source": [
    "X_train_title_bow = vectorizer_8.fit_transform(X_train['title'].values)\n",
    "X_test_title_bow = vectorizer_8.transform(X_test['title'].values)"
   ]
  },
  {
   "cell_type": "code",
   "execution_count": 41,
   "metadata": {
    "colab": {
     "base_uri": "https://localhost:8080/",
     "height": 51
    },
    "colab_type": "code",
    "id": "VfeODUv9kPTu",
    "outputId": "b81706eb-833a-4fca-bc4d-4d6d806d06df"
   },
   "outputs": [
    {
     "name": "stdout",
     "output_type": "stream",
     "text": [
      "(73196, 2617)\n",
      "(36052, 2617)\n"
     ]
    }
   ],
   "source": [
    "print(X_train_title_bow.shape)\n",
    "print(X_test_title_bow.shape)"
   ]
  },
  {
   "cell_type": "markdown",
   "metadata": {
    "colab_type": "text",
    "id": "seHl9Tn-kPTw"
   },
   "source": [
    "#### 1.7.2 TFIDF"
   ]
  },
  {
   "cell_type": "code",
   "execution_count": 0,
   "metadata": {
    "colab": {},
    "colab_type": "code",
    "id": "zt2VcwR2kPTx"
   },
   "outputs": [],
   "source": [
    "vectorizer_9 = TfidfVectorizer(list(X_train['title'].values), min_df=10)"
   ]
  },
  {
   "cell_type": "code",
   "execution_count": 0,
   "metadata": {
    "colab": {},
    "colab_type": "code",
    "id": "UXVq7pP7kPTy"
   },
   "outputs": [],
   "source": [
    "X_train_title_tfidf = vectorizer_9.fit_transform(X_train['title'].values)\n",
    "X_test_title_tfidf = vectorizer_9.transform(X_test['title'].values)"
   ]
  },
  {
   "cell_type": "code",
   "execution_count": 44,
   "metadata": {
    "colab": {
     "base_uri": "https://localhost:8080/",
     "height": 51
    },
    "colab_type": "code",
    "id": "1mXNlCI0kPT1",
    "outputId": "6358f76a-a5eb-4e89-aba2-c7128cef7989"
   },
   "outputs": [
    {
     "name": "stdout",
     "output_type": "stream",
     "text": [
      "(73196, 2617)\n",
      "(36052, 2617)\n"
     ]
    }
   ],
   "source": [
    "print(X_train_title_tfidf.shape)\n",
    "print(X_test_title_tfidf.shape)"
   ]
  },
  {
   "cell_type": "markdown",
   "metadata": {
    "colab_type": "text",
    "id": "MmcK7QZCkPT2"
   },
   "source": [
    "#### 1.7.3 AvgW2V"
   ]
  },
  {
   "cell_type": "code",
   "execution_count": 45,
   "metadata": {
    "colab": {
     "base_uri": "https://localhost:8080/",
     "height": 374
    },
    "colab_type": "code",
    "id": "z8g55-lzkPT2",
    "outputId": "a5bf3f84-279c-4bae-e6c5-fda85c510011"
   },
   "outputs": [
    {
     "name": "stderr",
     "output_type": "stream",
     "text": [
      "\n",
      "  0%|          | 0/73196 [00:00<?, ?it/s]\u001b[A\n",
      "  8%|▊         | 5900/73196 [00:00<00:01, 58999.21it/s]\u001b[A\n",
      " 16%|█▋        | 12064/73196 [00:00<00:01, 59765.70it/s]\u001b[A\n",
      " 25%|██▍       | 18285/73196 [00:00<00:00, 60477.76it/s]\u001b[A\n",
      " 34%|███▎      | 24580/73196 [00:00<00:00, 61196.56it/s]\u001b[A\n",
      " 42%|████▏     | 30978/73196 [00:00<00:00, 62003.56it/s]\u001b[A\n",
      " 51%|█████     | 36964/73196 [00:00<00:00, 61342.36it/s]\u001b[A\n",
      " 59%|█████▉    | 43322/73196 [00:00<00:00, 61996.87it/s]\u001b[A\n",
      " 67%|██████▋   | 49307/73196 [00:00<00:00, 61335.75it/s]\u001b[A\n",
      " 76%|███████▌  | 55577/73196 [00:00<00:00, 61738.59it/s]\u001b[A\n",
      " 85%|████████▍ | 61884/73196 [00:01<00:00, 62130.17it/s]\u001b[A\n",
      " 93%|█████████▎| 68179/73196 [00:01<00:00, 62373.09it/s]\u001b[A\n",
      "100%|██████████| 73196/73196 [00:01<00:00, 61880.89it/s]\u001b[A\n",
      "  0%|          | 0/36052 [00:00<?, ?it/s]\u001b[A\n",
      " 18%|█▊        | 6430/36052 [00:00<00:00, 64297.92it/s]\u001b[A\n",
      " 35%|███▍      | 12501/36052 [00:00<00:00, 63165.16it/s]\u001b[A\n",
      " 51%|█████▏    | 18519/36052 [00:00<00:00, 62236.83it/s]\u001b[A\n",
      " 69%|██████▉   | 24846/36052 [00:00<00:00, 62543.15it/s]\u001b[A\n",
      " 87%|████████▋ | 31326/36052 [00:00<00:00, 63202.13it/s]\u001b[A\n",
      "100%|██████████| 36052/36052 [00:00<00:00, 62748.43it/s]\u001b[A"
     ]
    }
   ],
   "source": [
    "#Avgw2V vector for preprcessed essay\n",
    "\n",
    "X_train_title_avg_w2v = []\n",
    "X_test_title_avg_w2v = []\n",
    "\n",
    "for i in tqdm(X_train['title']):\n",
    "    vector = np.zeros(300)\n",
    "    cnt_words = 0\n",
    "    \n",
    "    for word in i.split():\n",
    "        if word in glove_words:\n",
    "            vector += model[word]\n",
    "            cnt_words +=1\n",
    "            \n",
    "    if cnt_words !=0:\n",
    "            vector /= cnt_words\n",
    "            \n",
    "    X_train_title_avg_w2v.append(vector)\n",
    "    \n",
    "for i in tqdm(X_test['title']):\n",
    "    vector = np.zeros(300)\n",
    "    cnt_words = 0\n",
    "    \n",
    "    for word in i.split():\n",
    "        if word in glove_words:\n",
    "            vector += model[word]\n",
    "            cnt_words +=1\n",
    "            \n",
    "    if cnt_words !=0:\n",
    "            vector /= cnt_words\n",
    "            \n",
    "    X_test_title_avg_w2v.append(vector)"
   ]
  },
  {
   "cell_type": "code",
   "execution_count": 46,
   "metadata": {
    "colab": {
     "base_uri": "https://localhost:8080/",
     "height": 102
    },
    "colab_type": "code",
    "id": "q_TFHxBpkPT4",
    "outputId": "0acaf2d5-5fd2-4346-ed70-accb10c09584"
   },
   "outputs": [
    {
     "name": "stdout",
     "output_type": "stream",
     "text": [
      "73196\n",
      "300\n",
      "==================================================\n",
      "36052\n",
      "300\n"
     ]
    }
   ],
   "source": [
    "print(len(X_train_title_avg_w2v))\n",
    "print(len(X_train_title_avg_w2v[0]))\n",
    "print('='*50)\n",
    "print(len(X_test_title_avg_w2v))\n",
    "print(len(X_test_title_avg_w2v[0]))\n"
   ]
  },
  {
   "cell_type": "markdown",
   "metadata": {
    "colab_type": "text",
    "id": "ocButPSpkPT7"
   },
   "source": [
    "#### 1.7.4TFIDFW2V"
   ]
  },
  {
   "cell_type": "code",
   "execution_count": 0,
   "metadata": {
    "colab": {},
    "colab_type": "code",
    "id": "wR-bFZTfkPT7"
   },
   "outputs": [],
   "source": [
    "#Training\n",
    "Tf_idf_model = TfidfVectorizer()\n",
    "Tf_idf_model.fit(X_train['title'])\n",
    "\n",
    "dictionary = dict(zip(Tf_idf_model.get_feature_names(), Tf_idf_model.idf_))\n",
    "tf_idf_words = set(Tf_idf_model.get_feature_names())"
   ]
  },
  {
   "cell_type": "code",
   "execution_count": 48,
   "metadata": {
    "colab": {
     "base_uri": "https://localhost:8080/",
     "height": 765
    },
    "colab_type": "code",
    "id": "FfnBRU9nkPT8",
    "outputId": "934fa81e-fd99-48ee-99d5-a297b340aca6"
   },
   "outputs": [
    {
     "name": "stderr",
     "output_type": "stream",
     "text": [
      "\n",
      "  0%|          | 0/73196 [00:00<?, ?it/s]\u001b[A\n",
      "  2%|▏         | 1528/73196 [00:00<00:04, 15275.21it/s]\u001b[A\n",
      "  6%|▌         | 4458/73196 [00:00<00:03, 17836.06it/s]\u001b[A\n",
      " 10%|█         | 7436/73196 [00:00<00:03, 20274.81it/s]\u001b[A\n",
      " 14%|█▍        | 10452/73196 [00:00<00:02, 22484.84it/s]\u001b[A\n",
      " 17%|█▋        | 12570/73196 [00:00<00:03, 19202.99it/s]\u001b[A\n",
      " 20%|█▉        | 14483/73196 [00:00<00:03, 19155.14it/s]\u001b[A\n",
      " 24%|██▍       | 17460/73196 [00:00<00:02, 21449.30it/s]\u001b[A\n",
      " 28%|██▊       | 20509/73196 [00:00<00:02, 23543.07it/s]\u001b[A\n",
      " 31%|███▏      | 22985/73196 [00:00<00:02, 21503.43it/s]\u001b[A\n",
      " 35%|███▍      | 25255/73196 [00:01<00:02, 20804.59it/s]\u001b[A\n",
      " 38%|███▊      | 27810/73196 [00:01<00:02, 22031.45it/s]\u001b[A\n",
      " 42%|████▏     | 30811/73196 [00:01<00:01, 23940.54it/s]\u001b[A\n",
      " 46%|████▌     | 33311/73196 [00:01<00:01, 23959.11it/s]\u001b[A\n",
      " 49%|████▉     | 35781/73196 [00:01<00:01, 23972.76it/s]\u001b[A\n",
      " 52%|█████▏    | 38230/73196 [00:01<00:01, 22576.53it/s]\u001b[A\n",
      " 56%|█████▌    | 40633/73196 [00:01<00:01, 22992.97it/s]\u001b[A\n",
      " 59%|█████▉    | 43073/73196 [00:01<00:01, 23395.70it/s]\u001b[A\n",
      " 63%|██████▎   | 46109/73196 [00:01<00:01, 25124.68it/s]\u001b[A\n",
      " 67%|██████▋   | 48992/73196 [00:02<00:00, 26131.63it/s]\u001b[A\n",
      " 71%|███████   | 51751/73196 [00:02<00:00, 26549.52it/s]\u001b[A\n",
      " 75%|███████▍  | 54664/73196 [00:02<00:00, 27274.34it/s]\u001b[A\n",
      " 79%|███████▊  | 57468/73196 [00:02<00:00, 27497.82it/s]\u001b[A\n",
      " 82%|████████▏ | 60240/73196 [00:02<00:00, 26415.13it/s]\u001b[A\n",
      " 86%|████████▌ | 62906/73196 [00:02<00:00, 25877.69it/s]\u001b[A\n",
      " 90%|████████▉ | 65514/73196 [00:02<00:00, 25138.57it/s]\u001b[A\n",
      " 93%|█████████▎| 68366/73196 [00:02<00:00, 26065.50it/s]\u001b[A\n",
      " 97%|█████████▋| 70995/73196 [00:02<00:00, 25369.42it/s]\u001b[A\n",
      "100%|██████████| 73196/73196 [00:02<00:00, 24772.80it/s]\u001b[A\n",
      "  0%|          | 0/36052 [00:00<?, ?it/s]\u001b[A\n",
      "  8%|▊         | 2939/36052 [00:00<00:01, 29387.65it/s]\u001b[A\n",
      " 16%|█▌        | 5793/36052 [00:00<00:01, 29123.78it/s]\u001b[A\n",
      " 24%|██▍       | 8715/36052 [00:00<00:00, 29152.17it/s]\u001b[A\n",
      " 31%|███       | 11086/36052 [00:00<00:00, 27272.07it/s]\u001b[A\n",
      " 39%|███▉      | 13987/36052 [00:00<00:00, 27770.68it/s]\u001b[A\n",
      " 45%|████▌     | 16290/36052 [00:00<00:00, 26095.08it/s]\u001b[A\n",
      " 52%|█████▏    | 18879/36052 [00:00<00:00, 26031.18it/s]\u001b[A\n",
      " 61%|██████    | 21939/36052 [00:00<00:00, 27251.12it/s]\u001b[A\n",
      " 68%|██████▊   | 24527/36052 [00:00<00:00, 26154.01it/s]\u001b[A\n",
      " 76%|███████▋  | 27507/36052 [00:01<00:00, 27148.64it/s]\u001b[A\n",
      " 84%|████████▍ | 30413/36052 [00:01<00:00, 27694.80it/s]\u001b[A\n",
      " 92%|█████████▏| 33305/36052 [00:01<00:00, 28050.96it/s]\u001b[A\n",
      "100%|██████████| 36052/36052 [00:01<00:00, 27674.61it/s]\u001b[A"
     ]
    }
   ],
   "source": [
    "# TFIDF Word2Vec\n",
    "# compute TFIDF word2vec for each review.\n",
    "X_train_title_tfidf_w2v = []; # the avg-w2v for each sentence/review is stored in this list\n",
    "for sentence in tqdm(X_train['title']): # for each review/sentence\n",
    "    vector = np.zeros(300) # as word vectors are of zero length\n",
    "    tf_idf_weight =0; # num of words with a valid vector in the sentence/review\n",
    "    for word in sentence.split(): # for each word in a review/sentence\n",
    "        if (word in glove_words) and (word in tf_idf_words):\n",
    "            vec = model[word] # getting the vector for each word\n",
    "            # here we are multiplying idf value(dictionary[word]) and the tf value((sentence.count(word)/len(sentence.split())))\n",
    "            tf_idf = dictionary[word]*(sentence.count(word)/len(sentence.split())) # getting the tfidf value for each word\n",
    "            vector += (vec * tf_idf) # calculating tfidf weighted w2v\n",
    "            tf_idf_weight += tf_idf\n",
    "    if tf_idf_weight != 0:\n",
    "        vector /= tf_idf_weight\n",
    "    X_train_title_tfidf_w2v.append(vector)\n",
    "    \n",
    "    \n",
    "X_test_title_tfidf_w2v = []; # the avg-w2v for each sentence/review is stored in this list\n",
    "for sentence in tqdm(X_test['title']): # for each review/sentence\n",
    "    vector = np.zeros(300) # as word vectors are of zero length\n",
    "    tf_idf_weight =0; # num of words with a valid vector in the sentence/review\n",
    "    for word in sentence.split(): # for each word in a review/sentence\n",
    "        if (word in glove_words) and (word in tf_idf_words):\n",
    "            vec = model[word] # getting the vector for each word\n",
    "            # here we are multiplying idf value(dictionary[word]) and the tf value((sentence.count(word)/len(sentence.split())))\n",
    "            tf_idf = dictionary[word]*(sentence.count(word)/len(sentence.split())) # getting the tfidf value for each word\n",
    "            vector += (vec * tf_idf) # calculating tfidf weighted w2v\n",
    "            tf_idf_weight += tf_idf\n",
    "    if tf_idf_weight != 0:\n",
    "        vector /= tf_idf_weight\n",
    "    X_test_title_tfidf_w2v.append(vector)"
   ]
  },
  {
   "cell_type": "code",
   "execution_count": 49,
   "metadata": {
    "colab": {
     "base_uri": "https://localhost:8080/",
     "height": 51
    },
    "colab_type": "code",
    "id": "yIpgGkMOkPT9",
    "outputId": "b373d1ee-105e-4d8f-bec3-716fdc2ccc4e"
   },
   "outputs": [
    {
     "name": "stdout",
     "output_type": "stream",
     "text": [
      "73196\n",
      "36052\n"
     ]
    }
   ],
   "source": [
    "print(len(X_train_title_tfidf_w2v))\n",
    "print(len(X_test_title_tfidf_w2v))"
   ]
  },
  {
   "cell_type": "markdown",
   "metadata": {
    "colab_type": "text",
    "id": "v7bAeavBkPT_"
   },
   "source": [
    "### 1.8 Price"
   ]
  },
  {
   "cell_type": "markdown",
   "metadata": {
    "colab_type": "text",
    "id": "kg14HPvykPT_"
   },
   "source": [
    "#### 1.8.1 Price Unstandardised"
   ]
  },
  {
   "cell_type": "code",
   "execution_count": 0,
   "metadata": {
    "colab": {},
    "colab_type": "code",
    "id": "FfBONHPKkPT_"
   },
   "outputs": [],
   "source": [
    "X_train_price_unstandardized = X_train['price'].values.reshape(-1,1)\n",
    "X_test_price_unstandardized = X_test['price'].values.reshape(-1,1)"
   ]
  },
  {
   "cell_type": "code",
   "execution_count": 51,
   "metadata": {
    "colab": {
     "base_uri": "https://localhost:8080/",
     "height": 51
    },
    "colab_type": "code",
    "id": "W1qjsjFFkPUB",
    "outputId": "723b41dc-8d7e-485c-dd1f-d3e7c630dd2b"
   },
   "outputs": [
    {
     "name": "stdout",
     "output_type": "stream",
     "text": [
      "(73196, 1)\n",
      "(36052, 1)\n"
     ]
    }
   ],
   "source": [
    "print(X_train_price_unstandardized.shape)\n",
    "print(X_test_price_unstandardized.shape)"
   ]
  },
  {
   "cell_type": "markdown",
   "metadata": {
    "colab_type": "text",
    "id": "9pDadAVZkPUC"
   },
   "source": [
    "#### 1.8.2 Price Standardized"
   ]
  },
  {
   "cell_type": "code",
   "execution_count": 0,
   "metadata": {
    "colab": {},
    "colab_type": "code",
    "id": "Uc-mJjR6kPUC"
   },
   "outputs": [],
   "source": [
    "from sklearn.preprocessing import StandardScaler\n",
    "sc_price = StandardScaler()\n",
    "X_train_price = sc_price.fit_transform(X_train['price'].values.reshape(-1,1))\n",
    "X_test_price = sc_price.transform(X_test['price'].values.reshape(-1,1))"
   ]
  },
  {
   "cell_type": "code",
   "execution_count": 53,
   "metadata": {
    "colab": {
     "base_uri": "https://localhost:8080/",
     "height": 51
    },
    "colab_type": "code",
    "id": "bJWXhrdzkPUE",
    "outputId": "d406fe03-d484-4200-e436-dc75f12669cd"
   },
   "outputs": [
    {
     "name": "stdout",
     "output_type": "stream",
     "text": [
      "(73196, 1)\n",
      "(36052, 1)\n"
     ]
    }
   ],
   "source": [
    "print(X_train_price.shape)\n",
    "print(X_test_price.shape)"
   ]
  },
  {
   "cell_type": "markdown",
   "metadata": {
    "colab_type": "text",
    "id": "vy05JvvFkPUF"
   },
   "source": [
    "### 1.9 Previously posted Projects"
   ]
  },
  {
   "cell_type": "code",
   "execution_count": 0,
   "metadata": {
    "colab": {},
    "colab_type": "code",
    "id": "5shaPGWtkPUF"
   },
   "outputs": [],
   "source": [
    "X_train_previous = X_train['teacher_number_of_previously_posted_projects'].values.reshape(-1,1)\n",
    "X_test_previous = X_test['teacher_number_of_previously_posted_projects'].values.reshape(-1,1)"
   ]
  },
  {
   "cell_type": "code",
   "execution_count": 55,
   "metadata": {
    "colab": {
     "base_uri": "https://localhost:8080/",
     "height": 51
    },
    "colab_type": "code",
    "id": "6bACbR0MkPUG",
    "outputId": "fa10f05d-9428-4e13-d9d7-edc883fb2a02"
   },
   "outputs": [
    {
     "name": "stdout",
     "output_type": "stream",
     "text": [
      "(73196, 1)\n",
      "(36052, 1)\n"
     ]
    }
   ],
   "source": [
    "print(X_train_previous.shape)\n",
    "print(X_test_previous.shape)"
   ]
  },
  {
   "cell_type": "markdown",
   "metadata": {
    "colab_type": "text",
    "id": "kHF7PrGvkPUH"
   },
   "source": [
    "### 1.10 Quantity"
   ]
  },
  {
   "cell_type": "code",
   "execution_count": 0,
   "metadata": {
    "colab": {},
    "colab_type": "code",
    "id": "qDKNbBKYkPUI"
   },
   "outputs": [],
   "source": [
    "X_train_quantity = X_train['quantity'].values.reshape(-1,1)\n",
    "X_test_quantity = X_test['quantity'].values.reshape(-1,1)"
   ]
  },
  {
   "cell_type": "code",
   "execution_count": 57,
   "metadata": {
    "colab": {
     "base_uri": "https://localhost:8080/",
     "height": 51
    },
    "colab_type": "code",
    "id": "8h2n8OvQkPUJ",
    "outputId": "eab53ac6-d2d9-4404-d770-95d18ab27fc6"
   },
   "outputs": [
    {
     "name": "stdout",
     "output_type": "stream",
     "text": [
      "(73196, 1)\n",
      "(36052, 1)\n"
     ]
    }
   ],
   "source": [
    "print(X_train_quantity.shape)\n",
    "print(X_test_quantity.shape)"
   ]
  },
  {
   "cell_type": "markdown",
   "metadata": {
    "colab_type": "text",
    "id": "4iJqe0ctkPUM"
   },
   "source": [
    "### 1.11 Sentiment Score"
   ]
  },
  {
   "cell_type": "code",
   "execution_count": 0,
   "metadata": {
    "colab": {},
    "colab_type": "code",
    "id": "fZXOfbInkPUM"
   },
   "outputs": [],
   "source": [
    "X_train_sentiment = X_train['sentiment_score'].values.reshape(-1,1)\n",
    "X_test_sentiment = X_test['sentiment_score'].values.reshape(-1,1)"
   ]
  },
  {
   "cell_type": "code",
   "execution_count": 59,
   "metadata": {
    "colab": {
     "base_uri": "https://localhost:8080/",
     "height": 51
    },
    "colab_type": "code",
    "id": "7oLPWxAckPUN",
    "outputId": "b05d523a-95e4-4584-eb2f-73b1419cffdd"
   },
   "outputs": [
    {
     "name": "stdout",
     "output_type": "stream",
     "text": [
      "(73196, 1)\n",
      "(36052, 1)\n"
     ]
    }
   ],
   "source": [
    "print(X_train_sentiment.shape)\n",
    "print(X_test_sentiment.shape)"
   ]
  },
  {
   "cell_type": "markdown",
   "metadata": {
    "colab_type": "text",
    "id": "HpGwC3NBkPUP"
   },
   "source": [
    "### 1.12 Number of Words in the title"
   ]
  },
  {
   "cell_type": "code",
   "execution_count": 0,
   "metadata": {
    "colab": {},
    "colab_type": "code",
    "id": "jVJsBavMkPUP"
   },
   "outputs": [],
   "source": [
    "X_train_words_title = X_train['No of words in project title'].values.reshape(-1,1)\n",
    "X_test_words_title = X_test['No of words in project title'].values.reshape(-1,1)"
   ]
  },
  {
   "cell_type": "code",
   "execution_count": 61,
   "metadata": {
    "colab": {
     "base_uri": "https://localhost:8080/",
     "height": 51
    },
    "colab_type": "code",
    "id": "GEJIAvg4kPUQ",
    "outputId": "0e64a1c1-5b77-49c9-9b67-64ba93d26009"
   },
   "outputs": [
    {
     "name": "stdout",
     "output_type": "stream",
     "text": [
      "(73196, 1)\n",
      "(36052, 1)\n"
     ]
    }
   ],
   "source": [
    "print(X_train_words_title.shape)\n",
    "print(X_test_words_title.shape)"
   ]
  },
  {
   "cell_type": "markdown",
   "metadata": {
    "colab_type": "text",
    "id": "oAmTCMpmkPUR"
   },
   "source": [
    "### 1.13 Number of Words in the essay"
   ]
  },
  {
   "cell_type": "code",
   "execution_count": 0,
   "metadata": {
    "colab": {},
    "colab_type": "code",
    "id": "IP8YgsfHkPUR"
   },
   "outputs": [],
   "source": [
    "X_train_words_essay = X_train['No of words in essay'].values.reshape(-1,1)\n",
    "X_test_words_essay = X_test['No of words in essay'].values.reshape(-1,1)"
   ]
  },
  {
   "cell_type": "code",
   "execution_count": 63,
   "metadata": {
    "colab": {
     "base_uri": "https://localhost:8080/",
     "height": 51
    },
    "colab_type": "code",
    "id": "zEk3WWJukPUS",
    "outputId": "ffee6e1e-d1a4-4a47-cba9-48859a749695"
   },
   "outputs": [
    {
     "name": "stdout",
     "output_type": "stream",
     "text": [
      "(73196, 1)\n",
      "(36052, 1)\n"
     ]
    }
   ],
   "source": [
    "print(X_train_words_essay.shape)\n",
    "print(X_test_words_essay.shape)"
   ]
  },
  {
   "cell_type": "markdown",
   "metadata": {
    "colab_type": "text",
    "id": "_wbCLUEDkPUX"
   },
   "source": [
    "### 1.14 Applying Truncated SVD in TFIDF essay for set-5"
   ]
  },
  {
   "cell_type": "code",
   "execution_count": 0,
   "metadata": {
    "colab": {},
    "colab_type": "code",
    "id": "m7Y8xDdckPUX"
   },
   "outputs": [],
   "source": [
    "X_train_essay_tfidf.shape"
   ]
  },
  {
   "cell_type": "code",
   "execution_count": 0,
   "metadata": {
    "colab": {},
    "colab_type": "code",
    "id": "MUOzKQpFkPUZ"
   },
   "outputs": [],
   "source": [
    "n_comp = [i for i in range(1, 100, 7)]\n",
    "print(n_comp)"
   ]
  },
  {
   "cell_type": "markdown",
   "metadata": {
    "colab_type": "text",
    "id": "fIsqSEH0kPUa"
   },
   "source": [
    "#### 1.14.1 Elbow's Method"
   ]
  },
  {
   "cell_type": "code",
   "execution_count": 0,
   "metadata": {
    "colab": {},
    "colab_type": "code",
    "id": "rT5GXUX1jfw1"
   },
   "outputs": [],
   "source": [
    "from sklearn.decomposition import TruncatedSVD\n",
    "exp_var = []\n",
    "for i in n_comp:\n",
    "    svd = TruncatedSVD(n_components=i)\n",
    "    svd.fit(X_train_essay_tfidf)\n",
    "    tqdm(exp_var.append(svd.explained_variance_ratio_.sum()))"
   ]
  },
  {
   "cell_type": "markdown",
   "metadata": {
    "colab_type": "text",
    "id": "Z8jPXr0kkPUb"
   },
   "source": [
    "#### Note:\n",
    "    - The number of components which can explain the maximum variance is the good one but here we take less components because it takes more memory and gives the memory error while modelling"
   ]
  },
  {
   "cell_type": "code",
   "execution_count": 0,
   "metadata": {
    "colab": {
     "base_uri": "https://localhost:8080/",
     "height": 279
    },
    "colab_type": "code",
    "id": "a0QR0m0okPUc",
    "outputId": "cd5fc3ab-2daf-42e9-ae25-f2bf1002c078"
   },
   "outputs": [
    {
     "data": {
      "image/png": "[encoded data removed]",
      "text/plain": [
       "<Figure size 432x288 with 1 Axes>"
      ]
     },
     "metadata": {
      "tags": []
     },
     "output_type": "display_data"
    }
   ],
   "source": [
    "plt.plot(n_comp, exp_var)\n",
    "plt.scatter(n_comp, exp_var)\n",
    "\n",
    "plt.xlabel('Number of Components')\n",
    "plt.ylabel('Explained Variance')\n",
    "plt.xticks(ticks=n_comp)\n",
    "plt.grid()\n",
    "plt.show()"
   ]
  },
  {
   "cell_type": "markdown",
   "metadata": {
    "colab_type": "text",
    "id": "CZ6EafQZkPUd"
   },
   "source": [
    "### Summary:\n",
    "    - We can see in the curve that the max variance for the components we mentioned is explained by around 100 points"
   ]
  },
  {
   "cell_type": "markdown",
   "metadata": {
    "colab_type": "text",
    "id": "vBGTbAlRkPUd"
   },
   "source": [
    "#### 1.14.2 Truncated SVD on Essay_tfidf"
   ]
  },
  {
   "cell_type": "code",
   "execution_count": 0,
   "metadata": {
    "colab": {},
    "colab_type": "code",
    "id": "OZffHbvMkPUe"
   },
   "outputs": [],
   "source": [
    "from sklearn.decomposition import TruncatedSVD\n",
    "svd = TruncatedSVD(n_components=100)\n",
    "X_train_essay_tfidf_truncated = svd.fit_transform(X_train_essay_tfidf)\n",
    "X_test_essay_tfidf_truncated = svd.transform(X_test_essay_tfidf)"
   ]
  },
  {
   "cell_type": "code",
   "execution_count": 65,
   "metadata": {
    "colab": {
     "base_uri": "https://localhost:8080/",
     "height": 102
    },
    "colab_type": "code",
    "id": "ssb585UPkPUf",
    "outputId": "1c72b548-fb85-44e7-f664-23f3e2f40c21"
   },
   "outputs": [
    {
     "name": "stdout",
     "output_type": "stream",
     "text": [
      "(73196, 14266)\n",
      "(36052, 14266)\n",
      "==================================================\n",
      "(73196, 100)\n",
      "(36052, 100)\n"
     ]
    }
   ],
   "source": [
    "print(X_train_essay_tfidf.shape)\n",
    "print(X_test_essay_tfidf.shape)\n",
    "print('='*50)\n",
    "print(X_train_essay_tfidf_truncated.shape)\n",
    "print(X_test_essay_tfidf_truncated.shape)"
   ]
  },
  {
   "cell_type": "code",
   "execution_count": 66,
   "metadata": {
    "colab": {
     "base_uri": "https://localhost:8080/",
     "height": 34
    },
    "colab_type": "code",
    "id": "io1n8XcBkPUg",
    "outputId": "f58ce427-dba7-436c-a5ce-38dc2fbc1b3a"
   },
   "outputs": [
    {
     "name": "stdout",
     "output_type": "stream",
     "text": [
      "0.18578622950281934\n"
     ]
    }
   ],
   "source": [
    "print(svd.explained_variance_ratio_.sum())"
   ]
  },
  {
   "cell_type": "markdown",
   "metadata": {
    "colab_type": "text",
    "id": "v4BZySJikPUi"
   },
   "source": [
    "### Summary : \n",
    "    - It shows that 100 features gives 18.58% of expalined variance"
   ]
  },
  {
   "cell_type": "code",
   "execution_count": 67,
   "metadata": {
    "colab": {
     "base_uri": "https://localhost:8080/",
     "height": 663
    },
    "colab_type": "code",
    "id": "BV49-Ji4kPUi",
    "outputId": "22295601-f2fb-44b5-cb05-da6de95dd404"
   },
   "outputs": [
    {
     "name": "stdout",
     "output_type": "stream",
     "text": [
      "(73196, 51)\n",
      "(73196, 9)\n",
      "(73196, 30)\n",
      "(73196, 4)\n",
      "(73196, 5)\n",
      "(73196, 1)\n",
      "(73196, 1)\n",
      "(73196, 14266)\n",
      "(73196, 14266)\n",
      "73196\n",
      "73196\n",
      "(73196, 2617)\n",
      "(73196, 2617)\n",
      "73196\n",
      "(73196, 1)\n",
      "(73196, 1)\n",
      "(73196, 1)\n",
      "(73196, 1)\n",
      "==================================================\n",
      "(36052, 51)\n",
      "(36052, 9)\n",
      "(36052, 30)\n",
      "(36052, 4)\n",
      "(36052, 5)\n",
      "(36052, 1)\n",
      "(36052, 1)\n",
      "(36052, 14266)\n",
      "(36052, 14266)\n",
      "36052\n",
      "36052\n",
      "(36052, 2617)\n",
      "(36052, 2617)\n",
      "36052\n",
      "36052\n",
      "(36052, 1)\n",
      "(36052, 1)\n",
      "(36052, 1)\n",
      "(36052, 1)\n"
     ]
    }
   ],
   "source": [
    "print(X_train_Sstate.shape)\n",
    "print(X_train_cat.shape)\n",
    "print(X_train_subcat.shape)\n",
    "print(X_train_grade.shape)\n",
    "print(X_train_prefix.shape)\n",
    "print(X_train_price.shape)\n",
    "print(X_train_previous.shape)\n",
    "\n",
    "print(X_train_essay_bow.shape)\n",
    "print(X_train_essay_tfidf.shape)\n",
    "print(len(X_train_essay_avg_w2v))\n",
    "print(len(X_train_essay_tfidf_w2v))\n",
    "\n",
    "print(X_train_title_bow.shape)\n",
    "print(X_train_title_tfidf.shape)\n",
    "print(len(X_train_title_avg_w2v))\n",
    "\n",
    "print(X_train_quantity.shape)\n",
    "print(X_train_sentiment.shape)\n",
    "print(X_train_words_essay.shape)\n",
    "print(X_train_words_title.shape)\n",
    "\n",
    "print('='*50)\n",
    "print(X_test_Sstate.shape)\n",
    "print(X_test_cat.shape)\n",
    "print(X_test_subcat.shape)\n",
    "print(X_test_grade.shape)\n",
    "print(X_test_prefix.shape)\n",
    "print(X_test_price.shape)\n",
    "print(X_test_previous.shape)\n",
    "\n",
    "print(X_test_essay_bow.shape)\n",
    "print(X_test_essay_tfidf.shape)\n",
    "print(len(X_test_essay_avg_w2v))\n",
    "print(len(X_test_essay_tfidf_w2v))\n",
    "\n",
    "print(X_test_title_bow.shape)\n",
    "print(X_test_title_tfidf.shape)\n",
    "print(len(X_test_title_avg_w2v))\n",
    "print(len(X_test_title_tfidf_w2v))\n",
    "\n",
    "print(X_test_quantity.shape)\n",
    "print(X_test_sentiment.shape)\n",
    "print(X_test_words_essay.shape)\n",
    "print(X_test_words_title.shape)"
   ]
  },
  {
   "cell_type": "markdown",
   "metadata": {
    "colab_type": "text",
    "id": "PxTb-iulkPUj"
   },
   "source": [
    "## 2. Set - 1"
   ]
  },
  {
   "cell_type": "markdown",
   "metadata": {
    "colab_type": "text",
    "id": "N24snr25kPUj"
   },
   "source": [
    "### 2.1 Merging the above features required for Set-1"
   ]
  },
  {
   "cell_type": "markdown",
   "metadata": {
    "colab_type": "text",
    "id": "_KfeDoZxkPUk"
   },
   "source": [
    "- we need to merge all the numerical vectors i.e catogorical, text, numerical vectors"
   ]
  },
  {
   "cell_type": "markdown",
   "metadata": {
    "colab_type": "text",
    "id": "TIs7eS7_kPUk"
   },
   "source": [
    "### 2.2 Merging the BOW for processed essays"
   ]
  },
  {
   "cell_type": "code",
   "execution_count": 0,
   "metadata": {
    "colab": {},
    "colab_type": "code",
    "id": "6PXdJbATkPUk"
   },
   "outputs": [],
   "source": [
    "#MERGING all together\n",
    "from scipy.sparse import hstack\n",
    "X_train_1 = hstack((X_train_Sstate, X_train_cat, X_train_subcat, X_train_grade, X_train_prefix,X_train_previous, X_train_price, X_train_essay_bow, X_train_title_bow)).tocsr()\n",
    "X_test_1 = hstack((X_test_Sstate, X_test_cat, X_test_subcat, X_test_grade, X_test_prefix,X_test_previous, X_test_price, X_test_essay_bow, X_test_title_bow)).tocsr()\n"
   ]
  },
  {
   "cell_type": "code",
   "execution_count": 71,
   "metadata": {
    "colab": {
     "base_uri": "https://localhost:8080/",
     "height": 51
    },
    "colab_type": "code",
    "id": "vc5HTEZCkPUl",
    "outputId": "675ef6e5-4905-450b-c234-dcf454f998fd"
   },
   "outputs": [
    {
     "name": "stdout",
     "output_type": "stream",
     "text": [
      "(73196, 16984)\n",
      "(36052, 16984)\n"
     ]
    }
   ],
   "source": [
    "print(X_train_1.shape)\n",
    "print(X_test_1.shape)"
   ]
  },
  {
   "cell_type": "markdown",
   "metadata": {
    "colab_type": "text",
    "id": "-SscpJwPkPUm"
   },
   "source": [
    "### 2.3 Grid Search CV"
   ]
  },
  {
   "cell_type": "code",
   "execution_count": 0,
   "metadata": {
    "colab": {},
    "colab_type": "code",
    "id": "GLcApuurkPUo"
   },
   "outputs": [],
   "source": [
    "from sklearn.linear_model import SGDClassifier\n",
    "classifier_1 = SGDClassifier(loss='hinge', n_jobs=-1, class_weight='balanced')"
   ]
  },
  {
   "cell_type": "code",
   "execution_count": 0,
   "metadata": {
    "colab": {},
    "colab_type": "code",
    "id": "4njwGolKkPUo"
   },
   "outputs": [],
   "source": [
    "from sklearn.model_selection import GridSearchCV\n",
    "parameters = [\n",
    "                {\n",
    "                    'alpha' : [0.0001, 0.001, 0.01, 0.1, 1, 10, 100, 1000, 10000],\n",
    "                    'penalty' : ['l1', 'l2']\n",
    "                }\n",
    "            ]\n",
    "gridsearch_1 = GridSearchCV(estimator=classifier_1, param_grid=parameters, scoring='roc_auc', cv=2, n_jobs=-1, return_train_score=True)"
   ]
  },
  {
   "cell_type": "markdown",
   "metadata": {
    "colab_type": "text",
    "id": "qf5a1r8ukPUq"
   },
   "source": [
    "### Note:\n",
    "    - I have used cv=2 because SVM is computationally very expensive."
   ]
  },
  {
   "cell_type": "code",
   "execution_count": 0,
   "metadata": {
    "colab": {},
    "colab_type": "code",
    "id": "jF1w2PLckPUq"
   },
   "outputs": [],
   "source": [
    "gridsearch_1 = gridsearch_1.fit(X_train_1, y_train)"
   ]
  },
  {
   "cell_type": "code",
   "execution_count": 75,
   "metadata": {
    "colab": {
     "base_uri": "https://localhost:8080/",
     "height": 479
    },
    "colab_type": "code",
    "id": "bkOgbfFHkPUr",
    "outputId": "504a77b3-91d4-4393-8d15-23df44997969"
   },
   "outputs": [
    {
     "data": {
      "text/html": [
       "<div>\n",
       "<style scoped>\n",
       "    .dataframe tbody tr th:only-of-type {\n",
       "        vertical-align: middle;\n",
       "    }\n",
       "\n",
       "    .dataframe tbody tr th {\n",
       "        vertical-align: top;\n",
       "    }\n",
       "\n",
       "    .dataframe thead th {\n",
       "        text-align: right;\n",
       "    }\n",
       "</style>\n",
       "<table border=\"1\" class=\"dataframe\">\n",
       "  <thead>\n",
       "    <tr style=\"text-align: right;\">\n",
       "      <th></th>\n",
       "      <th>mean_fit_time</th>\n",
       "      <th>std_fit_time</th>\n",
       "      <th>mean_score_time</th>\n",
       "      <th>std_score_time</th>\n",
       "      <th>param_alpha</th>\n",
       "      <th>param_penalty</th>\n",
       "      <th>params</th>\n",
       "      <th>split0_test_score</th>\n",
       "      <th>split1_test_score</th>\n",
       "      <th>mean_test_score</th>\n",
       "      <th>std_test_score</th>\n",
       "      <th>rank_test_score</th>\n",
       "      <th>split0_train_score</th>\n",
       "      <th>split1_train_score</th>\n",
       "      <th>mean_train_score</th>\n",
       "      <th>std_train_score</th>\n",
       "    </tr>\n",
       "  </thead>\n",
       "  <tbody>\n",
       "    <tr>\n",
       "      <th>0</th>\n",
       "      <td>38.986708</td>\n",
       "      <td>5.820302</td>\n",
       "      <td>0.047053</td>\n",
       "      <td>0.001020</td>\n",
       "      <td>0.0001</td>\n",
       "      <td>l1</td>\n",
       "      <td>{'alpha': 0.0001, 'penalty': 'l1'}</td>\n",
       "      <td>0.634888</td>\n",
       "      <td>0.635918</td>\n",
       "      <td>0.635403</td>\n",
       "      <td>0.000515</td>\n",
       "      <td>9</td>\n",
       "      <td>0.846074</td>\n",
       "      <td>0.844192</td>\n",
       "      <td>0.845133</td>\n",
       "      <td>0.000941</td>\n",
       "    </tr>\n",
       "    <tr>\n",
       "      <th>1</th>\n",
       "      <td>2.238752</td>\n",
       "      <td>0.377747</td>\n",
       "      <td>0.047302</td>\n",
       "      <td>0.001133</td>\n",
       "      <td>0.0001</td>\n",
       "      <td>l2</td>\n",
       "      <td>{'alpha': 0.0001, 'penalty': 'l2'}</td>\n",
       "      <td>0.663070</td>\n",
       "      <td>0.656190</td>\n",
       "      <td>0.659630</td>\n",
       "      <td>0.003440</td>\n",
       "      <td>6</td>\n",
       "      <td>0.892185</td>\n",
       "      <td>0.920705</td>\n",
       "      <td>0.906445</td>\n",
       "      <td>0.014260</td>\n",
       "    </tr>\n",
       "    <tr>\n",
       "      <th>2</th>\n",
       "      <td>31.714369</td>\n",
       "      <td>3.370111</td>\n",
       "      <td>0.045500</td>\n",
       "      <td>0.000382</td>\n",
       "      <td>0.001</td>\n",
       "      <td>l1</td>\n",
       "      <td>{'alpha': 0.001, 'penalty': 'l1'}</td>\n",
       "      <td>0.670312</td>\n",
       "      <td>0.658370</td>\n",
       "      <td>0.664341</td>\n",
       "      <td>0.005971</td>\n",
       "      <td>5</td>\n",
       "      <td>0.719977</td>\n",
       "      <td>0.716098</td>\n",
       "      <td>0.718037</td>\n",
       "      <td>0.001939</td>\n",
       "    </tr>\n",
       "    <tr>\n",
       "      <th>3</th>\n",
       "      <td>2.138949</td>\n",
       "      <td>0.277485</td>\n",
       "      <td>0.045437</td>\n",
       "      <td>0.002033</td>\n",
       "      <td>0.001</td>\n",
       "      <td>l2</td>\n",
       "      <td>{'alpha': 0.001, 'penalty': 'l2'}</td>\n",
       "      <td>0.684356</td>\n",
       "      <td>0.689616</td>\n",
       "      <td>0.686986</td>\n",
       "      <td>0.002630</td>\n",
       "      <td>3</td>\n",
       "      <td>0.876496</td>\n",
       "      <td>0.897550</td>\n",
       "      <td>0.887023</td>\n",
       "      <td>0.010527</td>\n",
       "    </tr>\n",
       "    <tr>\n",
       "      <th>4</th>\n",
       "      <td>9.688318</td>\n",
       "      <td>6.135098</td>\n",
       "      <td>0.047219</td>\n",
       "      <td>0.000229</td>\n",
       "      <td>0.01</td>\n",
       "      <td>l1</td>\n",
       "      <td>{'alpha': 0.01, 'penalty': 'l1'}</td>\n",
       "      <td>0.649820</td>\n",
       "      <td>0.651590</td>\n",
       "      <td>0.650705</td>\n",
       "      <td>0.000885</td>\n",
       "      <td>7</td>\n",
       "      <td>0.651825</td>\n",
       "      <td>0.656602</td>\n",
       "      <td>0.654213</td>\n",
       "      <td>0.002388</td>\n",
       "    </tr>\n",
       "  </tbody>\n",
       "</table>\n",
       "</div>"
      ],
      "text/plain": [
       "   mean_fit_time  std_fit_time  ...  mean_train_score  std_train_score\n",
       "0      38.986708      5.820302  ...          0.845133         0.000941\n",
       "1       2.238752      0.377747  ...          0.906445         0.014260\n",
       "2      31.714369      3.370111  ...          0.718037         0.001939\n",
       "3       2.138949      0.277485  ...          0.887023         0.010527\n",
       "4       9.688318      6.135098  ...          0.654213         0.002388\n",
       "\n",
       "[5 rows x 16 columns]"
      ]
     },
     "execution_count": 75,
     "metadata": {
      "tags": []
     },
     "output_type": "execute_result"
    }
   ],
   "source": [
    "results = pd.DataFrame.from_dict(gridsearch_1.cv_results_)\n",
    "results = results.sort_values(['param_alpha'])\n",
    "results.head()"
   ]
  },
  {
   "cell_type": "code",
   "execution_count": 76,
   "metadata": {
    "colab": {
     "base_uri": "https://localhost:8080/",
     "height": 51
    },
    "colab_type": "code",
    "id": "ertz8CXKkPUs",
    "outputId": "1db56f35-d302-411f-fe71-ae70d03ce2d5"
   },
   "outputs": [
    {
     "name": "stdout",
     "output_type": "stream",
     "text": [
      "Best Alpha: 0.1\n",
      "Best Penalty: l2\n"
     ]
    }
   ],
   "source": [
    "best_alpha_1 = gridsearch_1.best_params_['alpha']\n",
    "best_penalty_1 = gridsearch_1.best_params_['penalty']\n",
    "print('Best Alpha:', best_alpha_1)\n",
    "print('Best Penalty:', best_penalty_1)"
   ]
  },
  {
   "cell_type": "markdown",
   "metadata": {
    "colab_type": "text",
    "id": "-RBKWXRRkPUt"
   },
   "source": [
    "#### Note:\n",
    "    - We can see that the best alpha is 0.1 and Regulariser is 'L2'"
   ]
  },
  {
   "cell_type": "code",
   "execution_count": 0,
   "metadata": {
    "colab": {},
    "colab_type": "code",
    "id": "HPHCTJGSkPUt"
   },
   "outputs": [],
   "source": [
    "train_auc_1 = results['mean_train_score']\n",
    "test_auc_1 = results['mean_test_score']\n",
    "alpha_1 = results['param_alpha']"
   ]
  },
  {
   "cell_type": "code",
   "execution_count": 78,
   "metadata": {
    "colab": {
     "base_uri": "https://localhost:8080/",
     "height": 299
    },
    "colab_type": "code",
    "id": "TKSESm7_kPUv",
    "outputId": "4b1da607-7a4e-4d2a-95f1-abebf067796e"
   },
   "outputs": [
    {
     "data": {
      "image/png": "[encoded data removed]",
      "text/plain": [
       "<Figure size 432x288 with 1 Axes>"
      ]
     },
     "metadata": {
      "tags": []
     },
     "output_type": "display_data"
    }
   ],
   "source": [
    "#plotting\n",
    "plt.plot(alpha_1, train_auc_1, label='Train AUC')\n",
    "plt.plot(alpha_1, test_auc_1, label='Test AUC')\n",
    "plt.scatter(alpha_1, train_auc_1, label='Train AUC points')\n",
    "plt.scatter(alpha_1, test_auc_1, label='Test AUC points')\n",
    "plt.legend()\n",
    "plt.xlabel('Alpha')\n",
    "plt.xscale('log')\n",
    "plt.ylabel('AUC')\n",
    "plt.title('ERROR PLOT :AUC vs Hyperparameter')\n",
    "plt.grid()\n",
    "plt.show()"
   ]
  },
  {
   "cell_type": "markdown",
   "metadata": {
    "colab_type": "text",
    "id": "Wa8ZkcnMkPUw"
   },
   "source": [
    "### 2.4 Modelling with best Alpha and penalty to find best AUC"
   ]
  },
  {
   "cell_type": "code",
   "execution_count": 0,
   "metadata": {
    "colab": {},
    "colab_type": "code",
    "id": "K9518DrgkPUx",
    "outputId": "29b36230-b8f2-485b-cb0e-22f661fdd43c"
   },
   "outputs": [
    {
     "data": {
      "text/plain": [
       "SGDClassifier(alpha=0.0001, average=False, class_weight='balanced',\n",
       "              early_stopping=False, epsilon=0.1, eta0=0.0, fit_intercept=True,\n",
       "              l1_ratio=0.15, learning_rate='optimal', loss='hinge',\n",
       "              max_iter=1000, n_iter_no_change=5, n_jobs=None, penalty='l2',\n",
       "              power_t=0.5, random_state=None, shuffle=True, tol=0.001,\n",
       "              validation_fraction=0.1, verbose=0, warm_start=False)"
      ]
     },
     "execution_count": 80,
     "metadata": {
      "tags": []
     },
     "output_type": "execute_result"
    }
   ],
   "source": [
    "classifier_withParam_1 = SGDClassifier(loss='hinge', alpha=best_alpha_1, penalty=best_penalty_1, class_weight='balanced')\n",
    "classifier_withParam_1.fit(X_train_1, y_train)"
   ]
  },
  {
   "cell_type": "markdown",
   "metadata": {
    "colab_type": "text",
    "id": "hZOeUiWvkPUy"
   },
   "source": [
    "### 2.5 Cross Validation"
   ]
  },
  {
   "cell_type": "code",
   "execution_count": 0,
   "metadata": {
    "colab": {},
    "colab_type": "code",
    "id": "NgRlWZIxkPU0"
   },
   "outputs": [],
   "source": [
    "from sklearn.model_selection import cross_val_score\n",
    "cv_1 = cross_val_score(estimator=classifier_withParam_1, X=X_train_1, y=y_train, cv=5, scoring='roc_auc')"
   ]
  },
  {
   "cell_type": "code",
   "execution_count": 0,
   "metadata": {
    "colab": {},
    "colab_type": "code",
    "id": "aeCd2Zd2kPU1",
    "outputId": "7f0808e2-848e-49e9-eea9-0df0ca071ef9"
   },
   "outputs": [
    {
     "name": "stdout",
     "output_type": "stream",
     "text": [
      "Best AUC: 0.639346\n"
     ]
    }
   ],
   "source": [
    "best_auc_1 = cv_1.mean()\n",
    "print('Best AUC: %4f' %best_auc_1)"
   ]
  },
  {
   "cell_type": "markdown",
   "metadata": {
    "colab_type": "text",
    "id": "8YXyEFXOkPU3"
   },
   "source": [
    "### 2.6 HyperParamter vs AUC"
   ]
  },
  {
   "cell_type": "markdown",
   "metadata": {
    "colab_type": "text",
    "id": "HCfDLXa7kPU3"
   },
   "source": [
    "#### Note:\n",
    "    - Since the \"SVM\" model doesn't give the predicted probabilites we can't use model.predict_proba and that's \n",
    "      why we use calibrated model"
   ]
  },
  {
   "cell_type": "code",
   "execution_count": 0,
   "metadata": {
    "colab": {},
    "colab_type": "code",
    "id": "PGifCdSdkPU4",
    "outputId": "d99c5548-e96f-4584-ea93-9fe4e316e4b4"
   },
   "outputs": [
    {
     "data": {
      "text/plain": [
       "CalibratedClassifierCV(base_estimator=SGDClassifier(alpha=0.0001, average=False,\n",
       "                                                    class_weight='balanced',\n",
       "                                                    early_stopping=False,\n",
       "                                                    epsilon=0.1, eta0=0.0,\n",
       "                                                    fit_intercept=True,\n",
       "                                                    l1_ratio=0.15,\n",
       "                                                    learning_rate='optimal',\n",
       "                                                    loss='hinge', max_iter=1000,\n",
       "                                                    n_iter_no_change=5,\n",
       "                                                    n_jobs=None, penalty='l2',\n",
       "                                                    power_t=0.5,\n",
       "                                                    random_state=None,\n",
       "                                                    shuffle=True, tol=0.001,\n",
       "                                                    validation_fraction=0.1,\n",
       "                                                    verbose=0,\n",
       "                                                    warm_start=False),\n",
       "                       cv=3, method='sigmoid')"
      ]
     },
     "execution_count": 86,
     "metadata": {
      "tags": []
     },
     "output_type": "execute_result"
    }
   ],
   "source": [
    "from sklearn.calibration import CalibratedClassifierCV\n",
    "classifier_calib_1 = CalibratedClassifierCV(base_estimator = classifier_withParam_1, method='sigmoid', cv=3)\n",
    "classifier_calib_1.fit(X_train_1, y_train)"
   ]
  },
  {
   "cell_type": "code",
   "execution_count": 0,
   "metadata": {
    "colab": {},
    "colab_type": "code",
    "id": "sLrpPZDekPU4"
   },
   "outputs": [],
   "source": [
    "def batch_predict(clf, data):\n",
    "    # roc_auc_score(y_true, y_score) the 2nd parameter should be probability estimates of the positive class\n",
    "    # not the predicted outputs\n",
    "\n",
    "    y_data_pred = []\n",
    "    tr_loop = data.shape[0] - data.shape[0]%1000\n",
    "    \n",
    "    # consider you X_tr shape is 49041, then your tr_loop will be 49041 - 49041%1000 = 49000\n",
    "    # in this for loop we will iterate unti the last 1000 multiplier\n",
    "    for i in range(0, tr_loop, 1000):\n",
    "        y_data_pred.extend(clf.predict_proba(data[i:i+1000])[:,1])\n",
    "    \n",
    "    # we will be predicting for the last data points\n",
    "    if data.shape[0]%1000 !=0:\n",
    "        y_data_pred.extend(clf.predict_proba(data[tr_loop:])[:,1])\n",
    "    \n",
    "    return y_data_pred"
   ]
  },
  {
   "cell_type": "code",
   "execution_count": 0,
   "metadata": {
    "colab": {},
    "colab_type": "code",
    "id": "qRUkJVXMkPU6"
   },
   "outputs": [],
   "source": [
    "y_train_pred_1 = batch_predict(classifier_calib_1, X_train_1)\n",
    "y_test_pred_1 = batch_predict(classifier_calib_1, X_test_1)"
   ]
  },
  {
   "cell_type": "code",
   "execution_count": 0,
   "metadata": {
    "colab": {},
    "colab_type": "code",
    "id": "HWPBBWydkPU7"
   },
   "outputs": [],
   "source": [
    "from sklearn.metrics import roc_curve, auc\n",
    "train_fpr_1, train_tpr_1, train_thresh_1 = roc_curve(y_train, y_train_pred_1)\n",
    "test_fpr_1, test_tpr_1, test_thresh_1 = roc_curve(y_test, y_test_pred_1)"
   ]
  },
  {
   "cell_type": "code",
   "execution_count": 0,
   "metadata": {
    "colab": {},
    "colab_type": "code",
    "id": "jaLP-klOkPU7",
    "outputId": "fd770b8c-db74-41d0-b879-bdf49d8739db"
   },
   "outputs": [
    {
     "data": {
      "image/png": "[encoded data removed]",
      "text/plain": [
       "<Figure size 432x288 with 1 Axes>"
      ]
     },
     "metadata": {
      "needs_background": "light",
      "tags": []
     },
     "output_type": "display_data"
    }
   ],
   "source": [
    "plt.plot(train_fpr_1, train_tpr_1, label='Train AUC:%4f'%auc(train_fpr_1, train_tpr_1))\n",
    "plt.plot(test_fpr_1, test_tpr_1, label='Test AUC:%4f'%auc(test_fpr_1, test_tpr_1))\n",
    "\n",
    "plt.title('AUC curve of Test and Train Data')\n",
    "plt.xlabel('False Positive Rate')\n",
    "plt.ylabel('True Positive Rate')\n",
    "plt.legend()\n",
    "plt.grid()\n",
    "plt.show()"
   ]
  },
  {
   "cell_type": "markdown",
   "metadata": {
    "colab_type": "text",
    "id": "8oIJsM_zkPU8"
   },
   "source": [
    "### 2.7 Finding Confusion Matrix"
   ]
  },
  {
   "cell_type": "code",
   "execution_count": 0,
   "metadata": {
    "colab": {},
    "colab_type": "code",
    "id": "kkqu_iHhkPU8"
   },
   "outputs": [],
   "source": [
    "def find_best_threshold( fpr, tpr, threshold):\n",
    "    t = threshold[np.argmax(tpr*(1-fpr))]\n",
    "    print('the maximum tpr*(1-fpr) is :', max(tpr*(1-fpr)), 'for threshold', np.round(t,3))\n",
    "    return t"
   ]
  },
  {
   "cell_type": "code",
   "execution_count": 0,
   "metadata": {
    "colab": {},
    "colab_type": "code",
    "id": "LWwLnA10kPU9",
    "outputId": "9402bc78-ecaf-4bfb-ba8d-528e4af46816"
   },
   "outputs": [
    {
     "name": "stdout",
     "output_type": "stream",
     "text": [
      "the maximum tpr*(1-fpr) is : 0.4536464662418969 for threshold 0.844\n"
     ]
    }
   ],
   "source": [
    "best_t = find_best_threshold(train_fpr_1, train_tpr_1, train_thresh_1)"
   ]
  },
  {
   "cell_type": "code",
   "execution_count": 0,
   "metadata": {
    "colab": {},
    "colab_type": "code",
    "id": "MWBV1_F2kPU-"
   },
   "outputs": [],
   "source": [
    "def predict_with_threshold(proba, threshold):\n",
    "    predictions = []\n",
    "    for i in proba:\n",
    "        if i>=threshold:\n",
    "            predictions.append(1)\n",
    "        else:\n",
    "            predictions.append(0)\n",
    "            \n",
    "    return predictions"
   ]
  },
  {
   "cell_type": "code",
   "execution_count": 0,
   "metadata": {
    "colab": {},
    "colab_type": "code",
    "id": "0e8UtNQikPU-"
   },
   "outputs": [],
   "source": [
    "from sklearn.metrics import confusion_matrix\n",
    "\n",
    "cm_train_1 = confusion_matrix(y_train, predict_with_threshold(y_train_pred_1, best_t))\n",
    "cm_test_1 = confusion_matrix(y_test, predict_with_threshold(y_test_pred_1, best_t))"
   ]
  },
  {
   "cell_type": "code",
   "execution_count": 0,
   "metadata": {
    "colab": {},
    "colab_type": "code",
    "id": "cUXvmfPNkPU_",
    "outputId": "4c5def8d-5a9d-412f-8507-ca2e024ea885"
   },
   "outputs": [
    {
     "data": {
      "image/png": "[encoded data removed]",
      "text/plain": [
       "<Figure size 432x288 with 2 Axes>"
      ]
     },
     "metadata": {
      "needs_background": "light",
      "tags": []
     },
     "output_type": "display_data"
    }
   ],
   "source": [
    "sns.heatmap(cm_train_1, annot=True, fmt='.2f')\n",
    "plt.title('Train Data: confusion matrix')\n",
    "plt.xlabel('Predicted Label')\n",
    "plt.ylabel('Actual label')\n",
    "plt.show()"
   ]
  },
  {
   "cell_type": "code",
   "execution_count": 0,
   "metadata": {
    "colab": {},
    "colab_type": "code",
    "id": "OmMKVbgXkPVB",
    "outputId": "7901b142-2285-4422-e033-1235d004972d"
   },
   "outputs": [
    {
     "data": {
      "image/png": "[encoded data removed]",
      "text/plain": [
       "<Figure size 432x288 with 2 Axes>"
      ]
     },
     "metadata": {
      "needs_background": "light",
      "tags": []
     },
     "output_type": "display_data"
    }
   ],
   "source": [
    "sns.heatmap(cm_test_1, annot=True, fmt='.2f')\n",
    "plt.title('Test Data: confusion matrix')\n",
    "plt.xlabel('Predicted Label')\n",
    "plt.ylabel('Actual label')\n",
    "plt.show()"
   ]
  },
  {
   "cell_type": "markdown",
   "metadata": {
    "colab_type": "text",
    "id": "aYtYJveUkPVC"
   },
   "source": [
    "# 3. Set-2:"
   ]
  },
  {
   "cell_type": "markdown",
   "metadata": {
    "colab_type": "text",
    "id": "mU5eR5LxkPVD"
   },
   "source": [
    "    - we need Project_title_tfidf, Project_essay_tfidf"
   ]
  },
  {
   "cell_type": "code",
   "execution_count": 0,
   "metadata": {
    "colab": {},
    "colab_type": "code",
    "id": "HVU486EskPVD",
    "outputId": "29403a68-c0b8-440d-ad20-cb8b0d292081"
   },
   "outputs": [
    {
     "name": "stdout",
     "output_type": "stream",
     "text": [
      "(73196, 51)\n",
      "(73196, 9)\n",
      "(73196, 30)\n",
      "(73196, 4)\n",
      "(73196, 5)\n",
      "(73196, 14266)\n",
      "(73196, 14266)\n",
      "(73196, 2617)\n",
      "(73196, 2617)\n",
      "(73196, 1)\n",
      "(73196, 1)\n",
      "(73196, 1)\n",
      "==================================================\n",
      "(36052, 51)\n",
      "(36052, 9)\n",
      "(36052, 30)\n",
      "(36052, 4)\n",
      "(36052, 5)\n",
      "(36052, 14266)\n",
      "(36052, 14266)\n",
      "(36052, 2617)\n",
      "(36052, 2617)\n",
      "(36052, 1)\n",
      "(36052, 1)\n",
      "(36052, 1)\n"
     ]
    }
   ],
   "source": [
    "print(X_train_Sstate.shape)\n",
    "print(X_train_cat.shape)\n",
    "print(X_train_subcat.shape)\n",
    "print(X_train_grade.shape)\n",
    "print(X_train_prefix.shape)\n",
    "print(X_train_essay_bow.shape)\n",
    "print(X_train_essay_tfidf.shape)\n",
    "print(X_train_title_bow.shape)\n",
    "print(X_train_title_tfidf.shape)\n",
    "print(X_train_price.shape)\n",
    "print(X_train_previous.shape)\n",
    "print(X_train_price_unstandardized.shape)\n",
    "\n",
    "print('='*50)\n",
    "print(X_test_Sstate.shape)\n",
    "print(X_test_cat.shape)\n",
    "print(X_test_subcat.shape)\n",
    "print(X_test_grade.shape)\n",
    "print(X_test_prefix.shape)\n",
    "print(X_test_essay_bow.shape)\n",
    "print(X_test_essay_tfidf.shape)\n",
    "print(X_test_title_bow.shape)\n",
    "print(X_test_title_tfidf.shape)\n",
    "print(X_test_price.shape)\n",
    "print(X_test_previous.shape)\n",
    "print(X_test_price_unstandardized.shape)"
   ]
  },
  {
   "cell_type": "code",
   "execution_count": 0,
   "metadata": {
    "colab": {},
    "colab_type": "code",
    "id": "UwdRL2pHkPVE"
   },
   "outputs": [],
   "source": [
    "# Merging all features\n",
    "from scipy.sparse import hstack\n",
    "X_train_2 = hstack((X_train_Sstate, X_train_cat, X_train_subcat, X_train_grade, X_train_prefix, X_train_previous, \n",
    "                       X_train_price, X_train_essay_tfidf, X_train_title_tfidf)).tocsr()\n",
    "\n",
    "X_test_2 = hstack((X_test_Sstate, X_test_cat, X_test_subcat, X_test_grade, X_test_prefix, X_test_previous, \n",
    "                     X_test_price, X_test_essay_tfidf, X_test_title_tfidf)).tocsr()"
   ]
  },
  {
   "cell_type": "code",
   "execution_count": 80,
   "metadata": {
    "colab": {
     "base_uri": "https://localhost:8080/",
     "height": 51
    },
    "colab_type": "code",
    "id": "Be8B_yXYkPVE",
    "outputId": "0585da60-bf05-4efd-a406-56baf096d098"
   },
   "outputs": [
    {
     "name": "stdout",
     "output_type": "stream",
     "text": [
      "(73196, 16984)\n",
      "(36052, 16984)\n"
     ]
    }
   ],
   "source": [
    "print(X_train_2.shape)\n",
    "print(X_test_2.shape)"
   ]
  },
  {
   "cell_type": "code",
   "execution_count": 81,
   "metadata": {
    "colab": {
     "base_uri": "https://localhost:8080/",
     "height": 51
    },
    "colab_type": "code",
    "id": "R32Mv9-vkPVG",
    "outputId": "d9a1b0b3-3dec-4a2b-8eec-b99cb3972731"
   },
   "outputs": [
    {
     "name": "stdout",
     "output_type": "stream",
     "text": [
      "(73196, 1)\n",
      "(36052, 1)\n"
     ]
    }
   ],
   "source": [
    "print(y_train.shape)\n",
    "print(y_test.shape)"
   ]
  },
  {
   "cell_type": "markdown",
   "metadata": {
    "colab_type": "text",
    "id": "q94jDA9jkPVG"
   },
   "source": [
    "### 2.2.2 Grid Search"
   ]
  },
  {
   "cell_type": "code",
   "execution_count": 0,
   "metadata": {
    "colab": {},
    "colab_type": "code",
    "id": "dG4sbOvCkPVH"
   },
   "outputs": [],
   "source": [
    "classifier_2 = SGDClassifier(loss='hinge', n_jobs=-1, class_weight='balanced')"
   ]
  },
  {
   "cell_type": "code",
   "execution_count": 0,
   "metadata": {
    "colab": {},
    "colab_type": "code",
    "id": "WsoTRsqIkPVH"
   },
   "outputs": [],
   "source": [
    "from sklearn.model_selection import GridSearchCV\n",
    "parameters = [\n",
    "                {\n",
    "                    'alpha' : [0.0001, 0.001, 0.01, 0.1, 1, 10, 100, 1000, 10000],\n",
    "                    'penalty' : ['l1', 'l2']\n",
    "                }\n",
    "            ]\n",
    "gridsearch_2 = GridSearchCV(estimator=classifier_2, param_grid=parameters, scoring='roc_auc', cv=2, n_jobs=-1, return_train_score=True)"
   ]
  },
  {
   "cell_type": "code",
   "execution_count": 0,
   "metadata": {
    "colab": {},
    "colab_type": "code",
    "id": "OvRA6uiakPVI"
   },
   "outputs": [],
   "source": [
    "gridsearch_2 = gridsearch_2.fit(X_train_2 ,y_train)"
   ]
  },
  {
   "cell_type": "code",
   "execution_count": 0,
   "metadata": {
    "colab": {},
    "colab_type": "code",
    "id": "pFGelGjxkPVJ",
    "outputId": "4fa0db45-bda8-46f6-9e8a-cdd184a95b85"
   },
   "outputs": [
    {
     "name": "stdout",
     "output_type": "stream",
     "text": [
      "Best alpha: 0.0001\n",
      "Best Penalty: l1\n"
     ]
    }
   ],
   "source": [
    "best_alpha_2 = gridsearch_2.best_params_['alpha']\n",
    "best_penalty_2 = gridsearch_2.best_params_['penalty']\n",
    "print('Best alpha:', best_alpha_2)\n",
    "print('Best Penalty:', best_penalty_2)"
   ]
  },
  {
   "cell_type": "markdown",
   "metadata": {
    "colab_type": "text",
    "id": "DpoBxC50kPVK"
   },
   "source": [
    "### Summary:\n",
    "    - it shows that the best alpha= 0.0001 and best regularizer = 'l1'"
   ]
  },
  {
   "cell_type": "code",
   "execution_count": 85,
   "metadata": {
    "colab": {
     "base_uri": "https://localhost:8080/",
     "height": 479
    },
    "colab_type": "code",
    "id": "qFSXl9htkPVL",
    "outputId": "172a12df-2f71-419f-e848-e23af88cb33e"
   },
   "outputs": [
    {
     "data": {
      "text/html": [
       "<div>\n",
       "<style scoped>\n",
       "    .dataframe tbody tr th:only-of-type {\n",
       "        vertical-align: middle;\n",
       "    }\n",
       "\n",
       "    .dataframe tbody tr th {\n",
       "        vertical-align: top;\n",
       "    }\n",
       "\n",
       "    .dataframe thead th {\n",
       "        text-align: right;\n",
       "    }\n",
       "</style>\n",
       "<table border=\"1\" class=\"dataframe\">\n",
       "  <thead>\n",
       "    <tr style=\"text-align: right;\">\n",
       "      <th></th>\n",
       "      <th>mean_fit_time</th>\n",
       "      <th>std_fit_time</th>\n",
       "      <th>mean_score_time</th>\n",
       "      <th>std_score_time</th>\n",
       "      <th>param_alpha</th>\n",
       "      <th>param_penalty</th>\n",
       "      <th>params</th>\n",
       "      <th>split0_test_score</th>\n",
       "      <th>split1_test_score</th>\n",
       "      <th>mean_test_score</th>\n",
       "      <th>std_test_score</th>\n",
       "      <th>rank_test_score</th>\n",
       "      <th>split0_train_score</th>\n",
       "      <th>split1_train_score</th>\n",
       "      <th>mean_train_score</th>\n",
       "      <th>std_train_score</th>\n",
       "    </tr>\n",
       "  </thead>\n",
       "  <tbody>\n",
       "    <tr>\n",
       "      <th>0</th>\n",
       "      <td>6.313538</td>\n",
       "      <td>0.261264</td>\n",
       "      <td>0.050541</td>\n",
       "      <td>0.003552</td>\n",
       "      <td>0.0001</td>\n",
       "      <td>l1</td>\n",
       "      <td>{'alpha': 0.0001, 'penalty': 'l1'}</td>\n",
       "      <td>0.664867</td>\n",
       "      <td>0.681799</td>\n",
       "      <td>0.673333</td>\n",
       "      <td>0.008466</td>\n",
       "      <td>1</td>\n",
       "      <td>0.718772</td>\n",
       "      <td>0.765125</td>\n",
       "      <td>0.741948</td>\n",
       "      <td>0.023176</td>\n",
       "    </tr>\n",
       "    <tr>\n",
       "      <th>1</th>\n",
       "      <td>1.864721</td>\n",
       "      <td>0.481270</td>\n",
       "      <td>0.046038</td>\n",
       "      <td>0.000681</td>\n",
       "      <td>0.0001</td>\n",
       "      <td>l2</td>\n",
       "      <td>{'alpha': 0.0001, 'penalty': 'l2'}</td>\n",
       "      <td>0.578707</td>\n",
       "      <td>0.534879</td>\n",
       "      <td>0.556793</td>\n",
       "      <td>0.021914</td>\n",
       "      <td>14</td>\n",
       "      <td>0.676115</td>\n",
       "      <td>0.608854</td>\n",
       "      <td>0.642485</td>\n",
       "      <td>0.033630</td>\n",
       "    </tr>\n",
       "    <tr>\n",
       "      <th>2</th>\n",
       "      <td>2.674083</td>\n",
       "      <td>0.129233</td>\n",
       "      <td>0.046702</td>\n",
       "      <td>0.001393</td>\n",
       "      <td>0.001</td>\n",
       "      <td>l1</td>\n",
       "      <td>{'alpha': 0.001, 'penalty': 'l1'}</td>\n",
       "      <td>0.648572</td>\n",
       "      <td>0.658734</td>\n",
       "      <td>0.653653</td>\n",
       "      <td>0.005081</td>\n",
       "      <td>3</td>\n",
       "      <td>0.655823</td>\n",
       "      <td>0.659239</td>\n",
       "      <td>0.657531</td>\n",
       "      <td>0.001708</td>\n",
       "    </tr>\n",
       "    <tr>\n",
       "      <th>3</th>\n",
       "      <td>2.602619</td>\n",
       "      <td>0.704590</td>\n",
       "      <td>0.046363</td>\n",
       "      <td>0.000448</td>\n",
       "      <td>0.001</td>\n",
       "      <td>l2</td>\n",
       "      <td>{'alpha': 0.001, 'penalty': 'l2'}</td>\n",
       "      <td>0.629108</td>\n",
       "      <td>0.689000</td>\n",
       "      <td>0.659054</td>\n",
       "      <td>0.029946</td>\n",
       "      <td>2</td>\n",
       "      <td>0.690026</td>\n",
       "      <td>0.737287</td>\n",
       "      <td>0.713657</td>\n",
       "      <td>0.023631</td>\n",
       "    </tr>\n",
       "    <tr>\n",
       "      <th>4</th>\n",
       "      <td>1.789262</td>\n",
       "      <td>0.194896</td>\n",
       "      <td>0.047624</td>\n",
       "      <td>0.001276</td>\n",
       "      <td>0.01</td>\n",
       "      <td>l1</td>\n",
       "      <td>{'alpha': 0.01, 'penalty': 'l1'}</td>\n",
       "      <td>0.607587</td>\n",
       "      <td>0.608713</td>\n",
       "      <td>0.608150</td>\n",
       "      <td>0.000563</td>\n",
       "      <td>7</td>\n",
       "      <td>0.607851</td>\n",
       "      <td>0.608915</td>\n",
       "      <td>0.608383</td>\n",
       "      <td>0.000532</td>\n",
       "    </tr>\n",
       "  </tbody>\n",
       "</table>\n",
       "</div>"
      ],
      "text/plain": [
       "   mean_fit_time  std_fit_time  ...  mean_train_score  std_train_score\n",
       "0       6.313538      0.261264  ...          0.741948         0.023176\n",
       "1       1.864721      0.481270  ...          0.642485         0.033630\n",
       "2       2.674083      0.129233  ...          0.657531         0.001708\n",
       "3       2.602619      0.704590  ...          0.713657         0.023631\n",
       "4       1.789262      0.194896  ...          0.608383         0.000532\n",
       "\n",
       "[5 rows x 16 columns]"
      ]
     },
     "execution_count": 85,
     "metadata": {
      "tags": []
     },
     "output_type": "execute_result"
    }
   ],
   "source": [
    "results = pd.DataFrame.from_dict(gridsearch_2.cv_results_)\n",
    "results = results.sort_values(['param_alpha'])\n",
    "results.head()"
   ]
  },
  {
   "cell_type": "code",
   "execution_count": 0,
   "metadata": {
    "colab": {},
    "colab_type": "code",
    "id": "dLaiGEd6kPVM"
   },
   "outputs": [],
   "source": [
    "train_auc_2 = results['mean_train_score']\n",
    "test_auc_2 = results['mean_test_score']\n",
    "alpha_2 = results['param_alpha']"
   ]
  },
  {
   "cell_type": "code",
   "execution_count": 87,
   "metadata": {
    "colab": {
     "base_uri": "https://localhost:8080/",
     "height": 299
    },
    "colab_type": "code",
    "id": "D24bPj68kPVN",
    "outputId": "8d3cf011-5310-4335-ac86-dbe868334eb7"
   },
   "outputs": [
    {
     "data": {
      "image/png": "[encoded data removed]",
      "text/plain": [
       "<Figure size 432x288 with 1 Axes>"
      ]
     },
     "metadata": {
      "tags": []
     },
     "output_type": "display_data"
    }
   ],
   "source": [
    "plt.plot(alpha_2, train_auc_2, label='Train AUC')\n",
    "plt.plot(alpha_2, test_auc_2, label='Test AUC')\n",
    "plt.scatter(alpha_2, train_auc_2)\n",
    "plt.scatter(alpha_2, test_auc_2)\n",
    "\n",
    "plt.title('HYPERPARMETER vs AUC')\n",
    "plt.xlabel('Hyperparameter: C')\n",
    "plt.xscale('log')\n",
    "plt.ylabel('AUC')\n",
    "plt.legend()\n",
    "plt.grid()\n",
    "plt.show()"
   ]
  },
  {
   "cell_type": "markdown",
   "metadata": {
    "colab_type": "text",
    "id": "packKT2SkPVO"
   },
   "source": [
    "### 2.2.3 Modelling with Parameters"
   ]
  },
  {
   "cell_type": "code",
   "execution_count": 0,
   "metadata": {
    "colab": {},
    "colab_type": "code",
    "id": "eGiMkjNxkPVO",
    "outputId": "4cf606d1-21a7-4bcc-cedd-e623c445d948"
   },
   "outputs": [
    {
     "data": {
      "text/plain": [
       "SGDClassifier(alpha=0.0001, average=False, class_weight='balanced',\n",
       "              early_stopping=False, epsilon=0.1, eta0=0.0, fit_intercept=True,\n",
       "              l1_ratio=0.15, learning_rate='optimal', loss='hinge',\n",
       "              max_iter=1000, n_iter_no_change=5, n_jobs=-1, penalty='l1',\n",
       "              power_t=0.5, random_state=None, shuffle=True, tol=0.001,\n",
       "              validation_fraction=0.1, verbose=0, warm_start=False)"
      ]
     },
     "execution_count": 119,
     "metadata": {
      "tags": []
     },
     "output_type": "execute_result"
    }
   ],
   "source": [
    "classifier_withParam_2 = SGDClassifier(loss='hinge',alpha=best_alpha_2, penalty=best_penalty_2, class_weight='balanced', n_jobs=-1)\n",
    "classifier_withParam_2.fit(X_train_2, y_train)"
   ]
  },
  {
   "cell_type": "markdown",
   "metadata": {
    "colab_type": "text",
    "id": "P6JXfnbfkPVP"
   },
   "source": [
    "### 2.2.4 Cross Validation"
   ]
  },
  {
   "cell_type": "code",
   "execution_count": 0,
   "metadata": {
    "colab": {},
    "colab_type": "code",
    "id": "V0_2PLvLkPVP"
   },
   "outputs": [],
   "source": [
    "from sklearn.model_selection import cross_val_score\n",
    "cv_2 = cross_val_score(estimator=classifier_withParam_2, X=X_train_2, y=y_train,cv=5, scoring='roc_auc')"
   ]
  },
  {
   "cell_type": "code",
   "execution_count": 0,
   "metadata": {
    "colab": {},
    "colab_type": "code",
    "id": "-hwyG16GkPVQ",
    "outputId": "af419401-f8d1-40c6-ccb9-1793b2d01b20"
   },
   "outputs": [
    {
     "name": "stdout",
     "output_type": "stream",
     "text": [
      "Best AUC:0.639346\n"
     ]
    }
   ],
   "source": [
    "best_auc_2 = cv_1.mean()\n",
    "print('Best AUC:%4f' %best_auc_2)"
   ]
  },
  {
   "cell_type": "markdown",
   "metadata": {
    "colab_type": "text",
    "id": "vrgsNcORkPVR"
   },
   "source": [
    "### 2.2.5 ROC curve on Train and Test Data"
   ]
  },
  {
   "cell_type": "code",
   "execution_count": 0,
   "metadata": {
    "colab": {},
    "colab_type": "code",
    "id": "nQHE7hr5kPVR",
    "outputId": "cfb83d7f-987c-4cb1-e831-2817d5d4d558"
   },
   "outputs": [
    {
     "data": {
      "text/plain": [
       "CalibratedClassifierCV(base_estimator=SGDClassifier(alpha=0.0001, average=False,\n",
       "                                                    class_weight='balanced',\n",
       "                                                    early_stopping=False,\n",
       "                                                    epsilon=0.1, eta0=0.0,\n",
       "                                                    fit_intercept=True,\n",
       "                                                    l1_ratio=0.15,\n",
       "                                                    learning_rate='optimal',\n",
       "                                                    loss='hinge', max_iter=1000,\n",
       "                                                    n_iter_no_change=5,\n",
       "                                                    n_jobs=-1, penalty='l1',\n",
       "                                                    power_t=0.5,\n",
       "                                                    random_state=None,\n",
       "                                                    shuffle=True, tol=0.001,\n",
       "                                                    validation_fraction=0.1,\n",
       "                                                    verbose=0,\n",
       "                                                    warm_start=False),\n",
       "                       cv=3, method='sigmoid')"
      ]
     },
     "execution_count": 122,
     "metadata": {
      "tags": []
     },
     "output_type": "execute_result"
    }
   ],
   "source": [
    "classifier_calib_2 = CalibratedClassifierCV(base_estimator=classifier_withParam_2, method='sigmoid', cv=3)\n",
    "classifier_calib_2.fit(X_train_2, y_train)"
   ]
  },
  {
   "cell_type": "code",
   "execution_count": 0,
   "metadata": {
    "colab": {},
    "colab_type": "code",
    "id": "-YzrSGf4kPVR"
   },
   "outputs": [],
   "source": [
    "def batch_predict(clf, data):\n",
    "    y_data_pred = []\n",
    "    tr_loop = data.shape[0] - data.shape[0]%1000\n",
    "    for i in range(0,tr_loop, 1000):\n",
    "        y_data_pred.extend(clf.predict_proba(data[i:i+1000])[:,1])\n",
    "    if data.shape[0]%1000 != 0:\n",
    "        y_data_pred.extend(clf.predict_proba(data[tr_loop:])[:,1])\n",
    "        \n",
    "    return y_data_pred"
   ]
  },
  {
   "cell_type": "code",
   "execution_count": 0,
   "metadata": {
    "colab": {},
    "colab_type": "code",
    "id": "1nchNhoGkPVS"
   },
   "outputs": [],
   "source": [
    "y_train_pred_2 = batch_predict(classifier_calib_2, X_train_2)\n",
    "y_test_pred_2 = batch_predict(classifier_calib_2, X_test_2)"
   ]
  },
  {
   "cell_type": "code",
   "execution_count": 0,
   "metadata": {
    "colab": {},
    "colab_type": "code",
    "id": "925g-lsVkPVT"
   },
   "outputs": [],
   "source": [
    "from sklearn.metrics import roc_curve, auc\n",
    "train_fpr_2, train_tpr_2, train_thresh_2 = roc_curve(y_train, y_train_pred_2)\n",
    "test_fpr_2, test_tpr_2, test_thresh_2 = roc_curve(y_test, y_test_pred_2)"
   ]
  },
  {
   "cell_type": "code",
   "execution_count": 0,
   "metadata": {
    "colab": {},
    "colab_type": "code",
    "id": "fDKR2PxckPVT",
    "outputId": "47e5f452-c681-4d4b-bce3-f003635cadd1"
   },
   "outputs": [
    {
     "data": {
      "image/png": "[encoded data removed]",
      "text/plain": [
       "<Figure size 432x288 with 1 Axes>"
      ]
     },
     "metadata": {
      "needs_background": "light",
      "tags": []
     },
     "output_type": "display_data"
    }
   ],
   "source": [
    "plt.plot(train_fpr_2, train_tpr_2, label='Train AUC:%4f'%auc(train_fpr_2, train_tpr_2))\n",
    "plt.plot(test_fpr_2, test_tpr_2, label='Test AUC:%4f'%auc(test_fpr_2, test_tpr_2))\n",
    "\n",
    "plt.title('AUC curve of Test and Train Data')\n",
    "plt.xlabel('False Positive Rate')\n",
    "plt.ylabel('True Positive Rate')\n",
    "plt.legend()\n",
    "plt.grid()\n",
    "plt.show()"
   ]
  },
  {
   "cell_type": "markdown",
   "metadata": {
    "colab_type": "text",
    "id": "vDd1kp1FkPVV"
   },
   "source": [
    "### 2.2.6 Confusion Matrix"
   ]
  },
  {
   "cell_type": "code",
   "execution_count": 0,
   "metadata": {
    "colab": {},
    "colab_type": "code",
    "id": "x96lzyczkPVV"
   },
   "outputs": [],
   "source": [
    "def find_best_threshold(fpr, tpr, threshold):\n",
    "    t = threshold[np.argmax(tpr*(1-fpr))]\n",
    "    print('the maximum tpr*(1-fpr) is :', max(tpr*(1-fpr)), 'for threshold', np.round(t,3))\n",
    "    return t"
   ]
  },
  {
   "cell_type": "code",
   "execution_count": 0,
   "metadata": {
    "colab": {},
    "colab_type": "code",
    "id": "gJsT_tp2kPVW",
    "outputId": "eb397a50-16e8-481b-e128-4fd4758e3a0c"
   },
   "outputs": [
    {
     "name": "stdout",
     "output_type": "stream",
     "text": [
      "the maximum tpr*(1-fpr) is : 0.46576396717517543 for threshold 0.834\n"
     ]
    }
   ],
   "source": [
    "best_t = find_best_threshold(train_fpr_2, train_tpr_2, train_thresh_2)"
   ]
  },
  {
   "cell_type": "code",
   "execution_count": 0,
   "metadata": {
    "colab": {},
    "colab_type": "code",
    "id": "ooCqX2-XkPVX"
   },
   "outputs": [],
   "source": [
    "def predict_with_threshold(proba, threshold):\n",
    "    predictions = []\n",
    "    for i in proba:\n",
    "        if i>=threshold:\n",
    "            predictions.append(1)\n",
    "        else:\n",
    "            predictions.append(0)\n",
    "            \n",
    "    return predictions"
   ]
  },
  {
   "cell_type": "code",
   "execution_count": 0,
   "metadata": {
    "colab": {},
    "colab_type": "code",
    "id": "rFi9AnnWkPVY"
   },
   "outputs": [],
   "source": [
    "from sklearn.metrics import confusion_matrix\n",
    "\n",
    "cm_train_2 = confusion_matrix(y_train, predict_with_threshold(y_train_pred_2, best_t))\n",
    "cm_test_2 = confusion_matrix(y_test, predict_with_threshold(y_test_pred_2, best_t))"
   ]
  },
  {
   "cell_type": "code",
   "execution_count": 0,
   "metadata": {
    "colab": {},
    "colab_type": "code",
    "id": "gnnm34eSkPVY",
    "outputId": "de4bfa94-5302-4d7e-ac66-d0f72e8071ae"
   },
   "outputs": [
    {
     "data": {
      "image/png": "[encoded data removed]",
      "text/plain": [
       "<Figure size 432x288 with 2 Axes>"
      ]
     },
     "metadata": {
      "needs_background": "light",
      "tags": []
     },
     "output_type": "display_data"
    }
   ],
   "source": [
    "sns.heatmap(cm_train_2, annot=True, fmt='.2f')\n",
    "plt.title('Test Data: confusion matrix')\n",
    "plt.xlabel('Predicted Label')\n",
    "plt.ylabel('Actual label')\n",
    "plt.show()"
   ]
  },
  {
   "cell_type": "code",
   "execution_count": 0,
   "metadata": {
    "colab": {},
    "colab_type": "code",
    "id": "lAIv8gd6kPVZ",
    "outputId": "48e46f50-6d6e-4f75-eb63-334e214c51e3"
   },
   "outputs": [
    {
     "data": {
      "image/png": "[encoded data removed]",
      "text/plain": [
       "<Figure size 432x288 with 2 Axes>"
      ]
     },
     "metadata": {
      "needs_background": "light",
      "tags": []
     },
     "output_type": "display_data"
    }
   ],
   "source": [
    "sns.heatmap(cm_test_2, annot=True, fmt='.2f')\n",
    "plt.title('Test Data: confusion matrix')\n",
    "plt.xlabel('Predicted Label')\n",
    "plt.ylabel('Actual label')\n",
    "plt.show()"
   ]
  },
  {
   "cell_type": "markdown",
   "metadata": {
    "colab_type": "text",
    "id": "yKlaWvwKkPVa"
   },
   "source": [
    "# 3.1 Set - 3"
   ]
  },
  {
   "cell_type": "code",
   "execution_count": 0,
   "metadata": {
    "colab": {},
    "colab_type": "code",
    "id": "J2ir-rcKkPVa"
   },
   "outputs": [],
   "source": [
    "from scipy.sparse import hstack\n",
    "X_train_3 = hstack((X_train_Sstate, X_train_cat, X_train_subcat, X_train_grade, X_train_prefix, X_train_previous, X_train_price, X_train_essay_avg_w2v, X_train_title_avg_w2v)).tocsr()\n",
    "X_test_3 = hstack((X_test_Sstate, X_test_cat, X_test_subcat, X_test_grade, X_test_prefix, X_test_previous, X_test_price, X_test_essay_avg_w2v, X_test_title_avg_w2v)).tocsr()"
   ]
  },
  {
   "cell_type": "code",
   "execution_count": 89,
   "metadata": {
    "colab": {
     "base_uri": "https://localhost:8080/",
     "height": 51
    },
    "colab_type": "code",
    "id": "Pw3Qa0czkPVb",
    "outputId": "a6188217-cda2-4e1a-c7b8-e4ec7d7d1838"
   },
   "outputs": [
    {
     "name": "stdout",
     "output_type": "stream",
     "text": [
      "(73196, 701)\n",
      "(36052, 701)\n"
     ]
    }
   ],
   "source": [
    "print(X_train_3.shape)\n",
    "print(X_test_3.shape)"
   ]
  },
  {
   "cell_type": "code",
   "execution_count": 0,
   "metadata": {
    "colab": {},
    "colab_type": "code",
    "id": "QUWGpMoFkPVb",
    "outputId": "54972320-c5d3-4cca-b580-7e03d34b6e1d"
   },
   "outputs": [
    {
     "name": "stdout",
     "output_type": "stream",
     "text": [
      "(73196, 1)\n",
      "(36052, 1)\n"
     ]
    }
   ],
   "source": [
    "print(y_train.shape)\n",
    "print(y_test.shape)"
   ]
  },
  {
   "cell_type": "markdown",
   "metadata": {
    "colab_type": "text",
    "id": "XXFfWXpvkPVc"
   },
   "source": [
    "### 3.1.3 Grid Search"
   ]
  },
  {
   "cell_type": "code",
   "execution_count": 0,
   "metadata": {
    "colab": {},
    "colab_type": "code",
    "id": "bojHkKnKkPVc"
   },
   "outputs": [],
   "source": [
    "classifier_3 = SGDClassifier(loss='hinge', n_jobs=-1, class_weight='balanced')"
   ]
  },
  {
   "cell_type": "code",
   "execution_count": 0,
   "metadata": {
    "colab": {},
    "colab_type": "code",
    "id": "4OT47TYFkPVd"
   },
   "outputs": [],
   "source": [
    "from sklearn.model_selection import GridSearchCV\n",
    "parameters = [\n",
    "                {\n",
    "                    'alpha' : [0.0001, 0.001, 0.01, 0.1, 1, 10, 100, 1000, 10000],\n",
    "                    'penalty' : ['l1' , 'l2']\n",
    "                }\n",
    "            ]\n",
    "gridsearch_3 = GridSearchCV(estimator=classifier_3, param_grid=parameters, scoring='roc_auc', cv=2, n_jobs=-1, return_train_score=True)"
   ]
  },
  {
   "cell_type": "code",
   "execution_count": 0,
   "metadata": {
    "colab": {},
    "colab_type": "code",
    "id": "qsGThgn3kPVd"
   },
   "outputs": [],
   "source": [
    "gridsearch_3 = gridsearch_3.fit(X_train_3 ,y_train)"
   ]
  },
  {
   "cell_type": "code",
   "execution_count": 0,
   "metadata": {
    "colab": {},
    "colab_type": "code",
    "id": "9fQDuU9KkPVe",
    "outputId": "9f59b2de-50a3-4201-806f-848a4044ed0d"
   },
   "outputs": [
    {
     "name": "stdout",
     "output_type": "stream",
     "text": [
      "Best alpha: 0.0001\n",
      "Best Penalty: l1\n"
     ]
    }
   ],
   "source": [
    "best_alpha_3 = gridsearch_3.best_params_['alpha']\n",
    "best_penalty_3 = gridsearch_3.best_params_['penalty']\n",
    "print('Best alpha:', best_alpha_3)\n",
    "print('Best Penalty:', best_penalty_3)"
   ]
  },
  {
   "cell_type": "markdown",
   "metadata": {
    "colab_type": "text",
    "id": "OhDOeIbwkPVf"
   },
   "source": [
    "### Summary:\n",
    "    - it shows that the best alpha=0.0001 and best regularizer is 'l1'."
   ]
  },
  {
   "cell_type": "code",
   "execution_count": 93,
   "metadata": {
    "colab": {
     "base_uri": "https://localhost:8080/",
     "height": 479
    },
    "colab_type": "code",
    "id": "RzS216mkkPVg",
    "outputId": "d362ba72-db1f-43a7-ac0b-59a268ac2bb0"
   },
   "outputs": [
    {
     "data": {
      "text/html": [
       "<div>\n",
       "<style scoped>\n",
       "    .dataframe tbody tr th:only-of-type {\n",
       "        vertical-align: middle;\n",
       "    }\n",
       "\n",
       "    .dataframe tbody tr th {\n",
       "        vertical-align: top;\n",
       "    }\n",
       "\n",
       "    .dataframe thead th {\n",
       "        text-align: right;\n",
       "    }\n",
       "</style>\n",
       "<table border=\"1\" class=\"dataframe\">\n",
       "  <thead>\n",
       "    <tr style=\"text-align: right;\">\n",
       "      <th></th>\n",
       "      <th>mean_fit_time</th>\n",
       "      <th>std_fit_time</th>\n",
       "      <th>mean_score_time</th>\n",
       "      <th>std_score_time</th>\n",
       "      <th>param_alpha</th>\n",
       "      <th>param_penalty</th>\n",
       "      <th>params</th>\n",
       "      <th>split0_test_score</th>\n",
       "      <th>split1_test_score</th>\n",
       "      <th>mean_test_score</th>\n",
       "      <th>std_test_score</th>\n",
       "      <th>rank_test_score</th>\n",
       "      <th>split0_train_score</th>\n",
       "      <th>split1_train_score</th>\n",
       "      <th>mean_train_score</th>\n",
       "      <th>std_train_score</th>\n",
       "    </tr>\n",
       "  </thead>\n",
       "  <tbody>\n",
       "    <tr>\n",
       "      <th>0</th>\n",
       "      <td>21.614720</td>\n",
       "      <td>0.251105</td>\n",
       "      <td>0.088774</td>\n",
       "      <td>0.000468</td>\n",
       "      <td>0.0001</td>\n",
       "      <td>l1</td>\n",
       "      <td>{'alpha': 0.0001, 'penalty': 'l1'}</td>\n",
       "      <td>0.672967</td>\n",
       "      <td>0.682684</td>\n",
       "      <td>0.677825</td>\n",
       "      <td>0.004859</td>\n",
       "      <td>2</td>\n",
       "      <td>0.706349</td>\n",
       "      <td>0.719493</td>\n",
       "      <td>0.712921</td>\n",
       "      <td>0.006572</td>\n",
       "    </tr>\n",
       "    <tr>\n",
       "      <th>1</th>\n",
       "      <td>6.859199</td>\n",
       "      <td>0.556081</td>\n",
       "      <td>0.090964</td>\n",
       "      <td>0.003289</td>\n",
       "      <td>0.0001</td>\n",
       "      <td>l2</td>\n",
       "      <td>{'alpha': 0.0001, 'penalty': 'l2'}</td>\n",
       "      <td>0.560504</td>\n",
       "      <td>0.683089</td>\n",
       "      <td>0.621797</td>\n",
       "      <td>0.061292</td>\n",
       "      <td>4</td>\n",
       "      <td>0.583149</td>\n",
       "      <td>0.705985</td>\n",
       "      <td>0.644567</td>\n",
       "      <td>0.061418</td>\n",
       "    </tr>\n",
       "    <tr>\n",
       "      <th>2</th>\n",
       "      <td>16.511947</td>\n",
       "      <td>1.554221</td>\n",
       "      <td>0.095344</td>\n",
       "      <td>0.001379</td>\n",
       "      <td>0.001</td>\n",
       "      <td>l1</td>\n",
       "      <td>{'alpha': 0.001, 'penalty': 'l1'}</td>\n",
       "      <td>0.674759</td>\n",
       "      <td>0.672677</td>\n",
       "      <td>0.673718</td>\n",
       "      <td>0.001041</td>\n",
       "      <td>3</td>\n",
       "      <td>0.684369</td>\n",
       "      <td>0.684422</td>\n",
       "      <td>0.684396</td>\n",
       "      <td>0.000027</td>\n",
       "    </tr>\n",
       "    <tr>\n",
       "      <th>3</th>\n",
       "      <td>7.003289</td>\n",
       "      <td>0.836922</td>\n",
       "      <td>0.089966</td>\n",
       "      <td>0.000481</td>\n",
       "      <td>0.001</td>\n",
       "      <td>l2</td>\n",
       "      <td>{'alpha': 0.001, 'penalty': 'l2'}</td>\n",
       "      <td>0.683181</td>\n",
       "      <td>0.676040</td>\n",
       "      <td>0.679610</td>\n",
       "      <td>0.003570</td>\n",
       "      <td>1</td>\n",
       "      <td>0.715118</td>\n",
       "      <td>0.698870</td>\n",
       "      <td>0.706994</td>\n",
       "      <td>0.008124</td>\n",
       "    </tr>\n",
       "    <tr>\n",
       "      <th>4</th>\n",
       "      <td>9.801193</td>\n",
       "      <td>0.945046</td>\n",
       "      <td>0.090203</td>\n",
       "      <td>0.000315</td>\n",
       "      <td>0.01</td>\n",
       "      <td>l1</td>\n",
       "      <td>{'alpha': 0.01, 'penalty': 'l1'}</td>\n",
       "      <td>0.580056</td>\n",
       "      <td>0.601535</td>\n",
       "      <td>0.590796</td>\n",
       "      <td>0.010740</td>\n",
       "      <td>8</td>\n",
       "      <td>0.580053</td>\n",
       "      <td>0.601239</td>\n",
       "      <td>0.590646</td>\n",
       "      <td>0.010593</td>\n",
       "    </tr>\n",
       "  </tbody>\n",
       "</table>\n",
       "</div>"
      ],
      "text/plain": [
       "   mean_fit_time  std_fit_time  ...  mean_train_score  std_train_score\n",
       "0      21.614720      0.251105  ...          0.712921         0.006572\n",
       "1       6.859199      0.556081  ...          0.644567         0.061418\n",
       "2      16.511947      1.554221  ...          0.684396         0.000027\n",
       "3       7.003289      0.836922  ...          0.706994         0.008124\n",
       "4       9.801193      0.945046  ...          0.590646         0.010593\n",
       "\n",
       "[5 rows x 16 columns]"
      ]
     },
     "execution_count": 93,
     "metadata": {
      "tags": []
     },
     "output_type": "execute_result"
    }
   ],
   "source": [
    "results = pd.DataFrame.from_dict(gridsearch_3.cv_results_)\n",
    "results = results.sort_values(['param_alpha'])\n",
    "results.head()"
   ]
  },
  {
   "cell_type": "code",
   "execution_count": 0,
   "metadata": {
    "colab": {},
    "colab_type": "code",
    "id": "3usj52eokPVh"
   },
   "outputs": [],
   "source": [
    "train_auc_3 = results['mean_train_score']\n",
    "test_auc_3 = results['mean_test_score']\n",
    "alpha_3 = results['param_alpha']"
   ]
  },
  {
   "cell_type": "code",
   "execution_count": 95,
   "metadata": {
    "colab": {
     "base_uri": "https://localhost:8080/",
     "height": 299
    },
    "colab_type": "code",
    "id": "FTbZcYKUkPVh",
    "outputId": "4e98336a-cf61-4108-cbaa-faab974eb183"
   },
   "outputs": [
    {
     "data": {
      "image/png": "[encoded data removed]",
      "text/plain": [
       "<Figure size 432x288 with 1 Axes>"
      ]
     },
     "metadata": {
      "tags": []
     },
     "output_type": "display_data"
    }
   ],
   "source": [
    "plt.plot(alpha_3, train_auc_3, label='Train AUC')\n",
    "plt.plot(alpha_3, test_auc_3, label='Test AUC')\n",
    "plt.scatter(alpha_3, train_auc_3)\n",
    "plt.scatter(alpha_3, test_auc_3)\n",
    "\n",
    "plt.title('HYPERPARMETER vs AUC')\n",
    "plt.xlabel('Hyperparameter: C')\n",
    "plt.xscale('log')\n",
    "plt.ylabel('AUC')\n",
    "plt.legend()\n",
    "plt.grid()\n",
    "plt.show()"
   ]
  },
  {
   "cell_type": "markdown",
   "metadata": {
    "colab_type": "text",
    "id": "VBuEoW1ZkPVi"
   },
   "source": [
    "### 3.1.4 Modelling with Parameters"
   ]
  },
  {
   "cell_type": "code",
   "execution_count": 0,
   "metadata": {
    "colab": {},
    "colab_type": "code",
    "id": "B-jzjjqJkPVi",
    "outputId": "828a49ca-71ce-46a8-a083-142afc254416"
   },
   "outputs": [
    {
     "data": {
      "text/plain": [
       "SGDClassifier(alpha=0.0001, average=False, class_weight='balanced',\n",
       "              early_stopping=False, epsilon=0.1, eta0=0.0, fit_intercept=True,\n",
       "              l1_ratio=0.15, learning_rate='optimal', loss='hinge',\n",
       "              max_iter=1000, n_iter_no_change=5, n_jobs=-1, penalty='l1',\n",
       "              power_t=0.5, random_state=None, shuffle=True, tol=0.001,\n",
       "              validation_fraction=0.1, verbose=0, warm_start=False)"
      ]
     },
     "execution_count": 146,
     "metadata": {
      "tags": []
     },
     "output_type": "execute_result"
    }
   ],
   "source": [
    "classifier_withParam_3 = SGDClassifier(loss='hinge', alpha=best_alpha_3,  penalty=best_penalty_3, class_weight='balanced', n_jobs=-1)\n",
    "classifier_withParam_3.fit(X_train_3, y_train)"
   ]
  },
  {
   "cell_type": "markdown",
   "metadata": {
    "colab_type": "text",
    "id": "KuiZrwO-kPVj"
   },
   "source": [
    "### 3.1.5 Cross Validation"
   ]
  },
  {
   "cell_type": "code",
   "execution_count": 0,
   "metadata": {
    "colab": {},
    "colab_type": "code",
    "id": "ZpQoWU2RkPVk"
   },
   "outputs": [],
   "source": [
    "from sklearn.model_selection import cross_val_score\n",
    "cv_3 = cross_val_score(estimator=classifier_withParam_3, X=X_train_3, y=y_train,cv=5, scoring='roc_auc')"
   ]
  },
  {
   "cell_type": "code",
   "execution_count": 0,
   "metadata": {
    "colab": {},
    "colab_type": "code",
    "id": "rUXubkmMkPVl",
    "outputId": "48f7a93c-2732-4540-9051-5b7f007bc92b"
   },
   "outputs": [
    {
     "name": "stdout",
     "output_type": "stream",
     "text": [
      "Best AUC:0.639346\n"
     ]
    }
   ],
   "source": [
    "best_auc_3 = cv_1.mean()\n",
    "print('Best AUC:%4f' %best_auc_3)"
   ]
  },
  {
   "cell_type": "markdown",
   "metadata": {
    "colab_type": "text",
    "id": "eNGUYnt8kPVo"
   },
   "source": [
    "### 3.1.6 ROC curve on Train and Test Data"
   ]
  },
  {
   "cell_type": "code",
   "execution_count": 0,
   "metadata": {
    "colab": {},
    "colab_type": "code",
    "id": "Wi9ecHGhkPVo",
    "outputId": "b682203b-b884-4162-c724-f8e05185fee3"
   },
   "outputs": [
    {
     "data": {
      "text/plain": [
       "CalibratedClassifierCV(base_estimator=SGDClassifier(alpha=0.0001, average=False,\n",
       "                                                    class_weight='balanced',\n",
       "                                                    early_stopping=False,\n",
       "                                                    epsilon=0.1, eta0=0.0,\n",
       "                                                    fit_intercept=True,\n",
       "                                                    l1_ratio=0.15,\n",
       "                                                    learning_rate='optimal',\n",
       "                                                    loss='hinge', max_iter=1000,\n",
       "                                                    n_iter_no_change=5,\n",
       "                                                    n_jobs=-1, penalty='l1',\n",
       "                                                    power_t=0.5,\n",
       "                                                    random_state=None,\n",
       "                                                    shuffle=True, tol=0.001,\n",
       "                                                    validation_fraction=0.1,\n",
       "                                                    verbose=0,\n",
       "                                                    warm_start=False),\n",
       "                       cv=3, method='sigmoid')"
      ]
     },
     "execution_count": 149,
     "metadata": {
      "tags": []
     },
     "output_type": "execute_result"
    }
   ],
   "source": [
    "classifier_calib_3 = CalibratedClassifierCV(base_estimator=classifier_withParam_3, method='sigmoid', cv=3)\n",
    "classifier_calib_3.fit(X_train_3, y_train)"
   ]
  },
  {
   "cell_type": "code",
   "execution_count": 0,
   "metadata": {
    "colab": {},
    "colab_type": "code",
    "id": "E4nGN3qGkPVr"
   },
   "outputs": [],
   "source": [
    "def batch_predict(clf, data):\n",
    "    y_data_pred = []\n",
    "    tr_loop = data.shape[0] - data.shape[0]%1000\n",
    "    for i in range(0,tr_loop, 1000):\n",
    "        y_data_pred.extend(clf.predict_proba(data[i:i+1000])[:,1])\n",
    "    if data.shape[0]%1000 != 0:\n",
    "        y_data_pred.extend(clf.predict_proba(data[tr_loop:])[:,1])\n",
    "        \n",
    "    return y_data_pred"
   ]
  },
  {
   "cell_type": "code",
   "execution_count": 0,
   "metadata": {
    "colab": {},
    "colab_type": "code",
    "id": "RDKiS2-ekPVs"
   },
   "outputs": [],
   "source": [
    "y_train_pred_3 = batch_predict(classifier_calib_3, X_train_3)\n",
    "y_test_pred_3 = batch_predict(classifier_calib_3, X_test_3)"
   ]
  },
  {
   "cell_type": "code",
   "execution_count": 0,
   "metadata": {
    "colab": {},
    "colab_type": "code",
    "id": "svbWdoKtkPVu"
   },
   "outputs": [],
   "source": [
    "from sklearn.metrics import roc_curve, auc\n",
    "train_fpr_3, train_tpr_3, train_thresh_3 = roc_curve(y_train, y_train_pred_3)\n",
    "test_fpr_3, test_tpr_3, test_thresh_3 = roc_curve(y_test, y_test_pred_3)"
   ]
  },
  {
   "cell_type": "code",
   "execution_count": 0,
   "metadata": {
    "colab": {},
    "colab_type": "code",
    "id": "aVF8VbyFkPVv",
    "outputId": "101a9fdf-508d-47fd-d729-77c1cbd453ec"
   },
   "outputs": [
    {
     "data": {
      "image/png": "[encoded data removed]",
      "text/plain": [
       "<Figure size 432x288 with 1 Axes>"
      ]
     },
     "metadata": {
      "needs_background": "light",
      "tags": []
     },
     "output_type": "display_data"
    }
   ],
   "source": [
    "plt.plot(train_fpr_3, train_tpr_3, label='Train AUC:%4f'%auc(train_fpr_3, train_tpr_3))\n",
    "plt.plot(test_fpr_3, test_tpr_3, label='Test AUC:%4f'%auc(test_fpr_3, test_tpr_3))\n",
    "\n",
    "plt.title('AUC curve of Test and Train Data')\n",
    "plt.xlabel('False Positive Rate')\n",
    "plt.ylabel('True Positive Rate')\n",
    "plt.legend()\n",
    "plt.grid()\n",
    "plt.show()"
   ]
  },
  {
   "cell_type": "markdown",
   "metadata": {
    "colab_type": "text",
    "id": "NWJ40fOIkPVw"
   },
   "source": [
    "### 3.1.7 Confusion Matrix"
   ]
  },
  {
   "cell_type": "code",
   "execution_count": 0,
   "metadata": {
    "colab": {},
    "colab_type": "code",
    "id": "v2RzWIHSkPVy"
   },
   "outputs": [],
   "source": [
    "def find_best_threshold(fpr, tpr, threshold):\n",
    "    t = threshold[np.argmax(tpr*(1-fpr))]\n",
    "    print('the maximum tpr*(1-fpr) is :', max(tpr*(1-fpr)), 'for threshold', np.round(t,3))\n",
    "    return t"
   ]
  },
  {
   "cell_type": "code",
   "execution_count": 0,
   "metadata": {
    "colab": {},
    "colab_type": "code",
    "id": "OGOM1kOikPVz",
    "outputId": "18fbfaf7-fdc0-43e0-b19f-de30ae84d618"
   },
   "outputs": [
    {
     "name": "stdout",
     "output_type": "stream",
     "text": [
      "the maximum tpr*(1-fpr) is : 0.4435081811835586 for threshold 0.831\n"
     ]
    }
   ],
   "source": [
    "best_t = find_best_threshold(train_fpr_3, train_tpr_3, train_thresh_3)"
   ]
  },
  {
   "cell_type": "code",
   "execution_count": 0,
   "metadata": {
    "colab": {},
    "colab_type": "code",
    "id": "HS9IqfH-kPV1"
   },
   "outputs": [],
   "source": [
    "def predict_with_threshold(proba, threshold):\n",
    "    predictions = []\n",
    "    for i in proba:\n",
    "        if i>=threshold:\n",
    "            predictions.append(1)\n",
    "        else:\n",
    "            predictions.append(0)\n",
    "            \n",
    "    return predictions"
   ]
  },
  {
   "cell_type": "code",
   "execution_count": 0,
   "metadata": {
    "colab": {},
    "colab_type": "code",
    "id": "GIoVjfH8kPV1"
   },
   "outputs": [],
   "source": [
    "from sklearn.metrics import confusion_matrix\n",
    "\n",
    "cm_train_3 = confusion_matrix(y_train, predict_with_threshold(y_train_pred_3, best_t))\n",
    "cm_test_3 = confusion_matrix(y_test, predict_with_threshold(y_test_pred_3, best_t))"
   ]
  },
  {
   "cell_type": "code",
   "execution_count": 0,
   "metadata": {
    "colab": {},
    "colab_type": "code",
    "id": "TS2YW2cDkPV2",
    "outputId": "bfb3038a-c6c7-425f-b079-fdf647c13457"
   },
   "outputs": [
    {
     "data": {
      "image/png": "[encoded data removed]",
      "text/plain": [
       "<Figure size 432x288 with 2 Axes>"
      ]
     },
     "metadata": {
      "needs_background": "light",
      "tags": []
     },
     "output_type": "display_data"
    }
   ],
   "source": [
    "sns.heatmap(cm_train_3, annot=True, fmt='.2f')\n",
    "plt.title('Test Data: confusion matrix')\n",
    "plt.xlabel('Predicted Label')\n",
    "plt.ylabel('Actual label')\n",
    "plt.show()"
   ]
  },
  {
   "cell_type": "code",
   "execution_count": 0,
   "metadata": {
    "colab": {},
    "colab_type": "code",
    "id": "DRY1bDHikPV3",
    "outputId": "450b9e0e-d8d3-4d58-ef5a-faa376229e1a"
   },
   "outputs": [
    {
     "data": {
      "image/png": "[encoded data removed]",
      "text/plain": [
       "<Figure size 432x288 with 2 Axes>"
      ]
     },
     "metadata": {
      "needs_background": "light",
      "tags": []
     },
     "output_type": "display_data"
    }
   ],
   "source": [
    "sns.heatmap(cm_test_3, annot=True, fmt='.2f')\n",
    "plt.title('Test Data: confusion matrix')\n",
    "plt.xlabel('Predicted Label')\n",
    "plt.ylabel('Actual label')\n",
    "plt.show()"
   ]
  },
  {
   "cell_type": "markdown",
   "metadata": {
    "colab_type": "text",
    "id": "ATST9lZlkPV4"
   },
   "source": [
    "# 4. Set -4"
   ]
  },
  {
   "cell_type": "markdown",
   "metadata": {
    "colab_type": "text",
    "id": "_HUYfG8dkPV4"
   },
   "source": [
    "### 4.1 Merging all the columns"
   ]
  },
  {
   "cell_type": "code",
   "execution_count": 0,
   "metadata": {
    "colab": {},
    "colab_type": "code",
    "id": "jkUS3NC6kPV4"
   },
   "outputs": [],
   "source": [
    "from scipy.sparse import hstack\n",
    "X_train_4 = hstack((X_train_Sstate, X_train_cat, X_train_subcat, X_train_grade, X_train_prefix, X_train_previous, X_train_price, X_train_essay_tfidf_w2v, X_train_title_tfidf_w2v)).tocsr()\n",
    "X_test_4 = hstack((X_test_Sstate, X_test_cat, X_test_subcat, X_test_grade, X_test_prefix, X_test_previous, X_test_price, X_test_essay_tfidf_w2v, X_test_title_tfidf_w2v)).tocsr()"
   ]
  },
  {
   "cell_type": "code",
   "execution_count": 97,
   "metadata": {
    "colab": {
     "base_uri": "https://localhost:8080/",
     "height": 51
    },
    "colab_type": "code",
    "id": "8j7DBubrkPV5",
    "outputId": "70110b4a-117b-4c06-a988-2fbca2fa0dc2"
   },
   "outputs": [
    {
     "name": "stdout",
     "output_type": "stream",
     "text": [
      "(73196, 701)\n",
      "(36052, 701)\n"
     ]
    }
   ],
   "source": [
    "print(X_train_4.shape)\n",
    "print(X_test_4.shape)"
   ]
  },
  {
   "cell_type": "markdown",
   "metadata": {
    "colab_type": "text",
    "id": "WjVtgQsAkPV7"
   },
   "source": [
    "### 4.2 Grid Search CV"
   ]
  },
  {
   "cell_type": "code",
   "execution_count": 0,
   "metadata": {
    "colab": {},
    "colab_type": "code",
    "id": "FGHmiVnikPV7"
   },
   "outputs": [],
   "source": [
    "classifier_4 = SGDClassifier(loss='hinge', class_weight = 'balanced', n_jobs=-1)"
   ]
  },
  {
   "cell_type": "code",
   "execution_count": 0,
   "metadata": {
    "colab": {},
    "colab_type": "code",
    "id": "tiLN2dEHkPV7"
   },
   "outputs": [],
   "source": [
    "parameters = [\n",
    "                {\n",
    "                    'alpha': [0.0001, 0.001, 0.01, 0.1, 1, 10, 100, 1000, 10000],\n",
    "                    'penalty' : ['l1', 'l2']\n",
    "                }\n",
    "            ]\n",
    "grid_search_4 = GridSearchCV(estimator=classifier_4, param_grid=parameters, scoring='roc_auc', cv=2, n_jobs=-1, return_train_score=True)"
   ]
  },
  {
   "cell_type": "code",
   "execution_count": 0,
   "metadata": {
    "colab": {},
    "colab_type": "code",
    "id": "5pVxTKFfkPV8"
   },
   "outputs": [],
   "source": [
    "grid_search_4 = grid_search_4.fit(X=X_train_4, y=y_train)"
   ]
  },
  {
   "cell_type": "code",
   "execution_count": 101,
   "metadata": {
    "colab": {
     "base_uri": "https://localhost:8080/",
     "height": 479
    },
    "colab_type": "code",
    "id": "eNCnx_JtkPV9",
    "outputId": "e1d01922-f398-48f5-8478-9293db0d6afe"
   },
   "outputs": [
    {
     "data": {
      "text/html": [
       "<div>\n",
       "<style scoped>\n",
       "    .dataframe tbody tr th:only-of-type {\n",
       "        vertical-align: middle;\n",
       "    }\n",
       "\n",
       "    .dataframe tbody tr th {\n",
       "        vertical-align: top;\n",
       "    }\n",
       "\n",
       "    .dataframe thead th {\n",
       "        text-align: right;\n",
       "    }\n",
       "</style>\n",
       "<table border=\"1\" class=\"dataframe\">\n",
       "  <thead>\n",
       "    <tr style=\"text-align: right;\">\n",
       "      <th></th>\n",
       "      <th>mean_fit_time</th>\n",
       "      <th>std_fit_time</th>\n",
       "      <th>mean_score_time</th>\n",
       "      <th>std_score_time</th>\n",
       "      <th>param_alpha</th>\n",
       "      <th>param_penalty</th>\n",
       "      <th>params</th>\n",
       "      <th>split0_test_score</th>\n",
       "      <th>split1_test_score</th>\n",
       "      <th>mean_test_score</th>\n",
       "      <th>std_test_score</th>\n",
       "      <th>rank_test_score</th>\n",
       "      <th>split0_train_score</th>\n",
       "      <th>split1_train_score</th>\n",
       "      <th>mean_train_score</th>\n",
       "      <th>std_train_score</th>\n",
       "    </tr>\n",
       "  </thead>\n",
       "  <tbody>\n",
       "    <tr>\n",
       "      <th>0</th>\n",
       "      <td>19.015590</td>\n",
       "      <td>0.310503</td>\n",
       "      <td>0.092224</td>\n",
       "      <td>0.002597</td>\n",
       "      <td>0.0001</td>\n",
       "      <td>l1</td>\n",
       "      <td>{'alpha': 0.0001, 'penalty': 'l1'}</td>\n",
       "      <td>0.676914</td>\n",
       "      <td>0.648776</td>\n",
       "      <td>0.662845</td>\n",
       "      <td>0.014069</td>\n",
       "      <td>5</td>\n",
       "      <td>0.710562</td>\n",
       "      <td>0.665215</td>\n",
       "      <td>0.687888</td>\n",
       "      <td>0.022674</td>\n",
       "    </tr>\n",
       "    <tr>\n",
       "      <th>1</th>\n",
       "      <td>8.122140</td>\n",
       "      <td>0.907848</td>\n",
       "      <td>0.090846</td>\n",
       "      <td>0.002074</td>\n",
       "      <td>0.0001</td>\n",
       "      <td>l2</td>\n",
       "      <td>{'alpha': 0.0001, 'penalty': 'l2'}</td>\n",
       "      <td>0.670734</td>\n",
       "      <td>0.656427</td>\n",
       "      <td>0.663581</td>\n",
       "      <td>0.007153</td>\n",
       "      <td>4</td>\n",
       "      <td>0.704798</td>\n",
       "      <td>0.677224</td>\n",
       "      <td>0.691011</td>\n",
       "      <td>0.013787</td>\n",
       "    </tr>\n",
       "    <tr>\n",
       "      <th>2</th>\n",
       "      <td>12.771864</td>\n",
       "      <td>2.657170</td>\n",
       "      <td>0.089949</td>\n",
       "      <td>0.000406</td>\n",
       "      <td>0.001</td>\n",
       "      <td>l1</td>\n",
       "      <td>{'alpha': 0.001, 'penalty': 'l1'}</td>\n",
       "      <td>0.687621</td>\n",
       "      <td>0.678834</td>\n",
       "      <td>0.683228</td>\n",
       "      <td>0.004394</td>\n",
       "      <td>2</td>\n",
       "      <td>0.699481</td>\n",
       "      <td>0.692757</td>\n",
       "      <td>0.696119</td>\n",
       "      <td>0.003362</td>\n",
       "    </tr>\n",
       "    <tr>\n",
       "      <th>3</th>\n",
       "      <td>6.693758</td>\n",
       "      <td>1.926015</td>\n",
       "      <td>0.095923</td>\n",
       "      <td>0.001910</td>\n",
       "      <td>0.001</td>\n",
       "      <td>l2</td>\n",
       "      <td>{'alpha': 0.001, 'penalty': 'l2'}</td>\n",
       "      <td>0.686450</td>\n",
       "      <td>0.691893</td>\n",
       "      <td>0.689171</td>\n",
       "      <td>0.002722</td>\n",
       "      <td>1</td>\n",
       "      <td>0.719763</td>\n",
       "      <td>0.723273</td>\n",
       "      <td>0.721518</td>\n",
       "      <td>0.001755</td>\n",
       "    </tr>\n",
       "    <tr>\n",
       "      <th>4</th>\n",
       "      <td>8.116126</td>\n",
       "      <td>0.055323</td>\n",
       "      <td>0.091778</td>\n",
       "      <td>0.001841</td>\n",
       "      <td>0.01</td>\n",
       "      <td>l1</td>\n",
       "      <td>{'alpha': 0.01, 'penalty': 'l1'}</td>\n",
       "      <td>0.597022</td>\n",
       "      <td>0.601397</td>\n",
       "      <td>0.599210</td>\n",
       "      <td>0.002187</td>\n",
       "      <td>8</td>\n",
       "      <td>0.598103</td>\n",
       "      <td>0.600127</td>\n",
       "      <td>0.599115</td>\n",
       "      <td>0.001012</td>\n",
       "    </tr>\n",
       "  </tbody>\n",
       "</table>\n",
       "</div>"
      ],
      "text/plain": [
       "   mean_fit_time  std_fit_time  ...  mean_train_score  std_train_score\n",
       "0      19.015590      0.310503  ...          0.687888         0.022674\n",
       "1       8.122140      0.907848  ...          0.691011         0.013787\n",
       "2      12.771864      2.657170  ...          0.696119         0.003362\n",
       "3       6.693758      1.926015  ...          0.721518         0.001755\n",
       "4       8.116126      0.055323  ...          0.599115         0.001012\n",
       "\n",
       "[5 rows x 16 columns]"
      ]
     },
     "execution_count": 101,
     "metadata": {
      "tags": []
     },
     "output_type": "execute_result"
    }
   ],
   "source": [
    "results = pd.DataFrame.from_dict(grid_search_4.cv_results_)\n",
    "results = results.sort_values(['param_alpha'])\n",
    "results.head()"
   ]
  },
  {
   "cell_type": "code",
   "execution_count": 0,
   "metadata": {
    "colab": {},
    "colab_type": "code",
    "id": "tjM_lPP9kPV_"
   },
   "outputs": [],
   "source": [
    "train_auc_4 = results['mean_train_score']\n",
    "test_auc_4 = results['mean_test_score']\n",
    "best_alpha_4 = results['param_alpha']"
   ]
  },
  {
   "cell_type": "code",
   "execution_count": 103,
   "metadata": {
    "colab": {
     "base_uri": "https://localhost:8080/",
     "height": 299
    },
    "colab_type": "code",
    "id": "RZdt4IEvkPV_",
    "outputId": "c3af741f-358b-48ca-e0e0-36f01e2dbb7b"
   },
   "outputs": [
    {
     "data": {
      "image/png": "[encoded data removed]",
      "text/plain": [
       "<Figure size 432x288 with 1 Axes>"
      ]
     },
     "metadata": {
      "tags": []
     },
     "output_type": "display_data"
    }
   ],
   "source": [
    "plt.plot(best_alpha_4, train_auc_4, label='Train AUC')\n",
    "plt.plot(best_alpha_4, test_auc_4, label='Test AUC')\n",
    "plt.scatter(best_alpha_4, train_auc_4)\n",
    "plt.scatter(best_alpha_4, test_auc_4)\n",
    "\n",
    "plt.title('Hyperparameter vs AUC')\n",
    "plt.xlabel('Hyperparameter')\n",
    "plt.xscale('log')\n",
    "plt.ylabel('AUC')\n",
    "plt.legend()\n",
    "plt.grid()\n",
    "plt.show()"
   ]
  },
  {
   "cell_type": "code",
   "execution_count": 0,
   "metadata": {
    "colab": {},
    "colab_type": "code",
    "id": "yP5ZREbUkPV_",
    "outputId": "6e175864-2255-4f38-b77c-3dea96a42b51"
   },
   "outputs": [
    {
     "name": "stdout",
     "output_type": "stream",
     "text": [
      "Best_alpha: 0.001\n",
      "Best penalty: l1\n"
     ]
    }
   ],
   "source": [
    "best_alpha_4 = grid_search_4.best_params_['alpha']\n",
    "best_penalty_4 = grid_search_4.best_params_['penalty']\n",
    "print('Best_alpha:', best_alpha_4)\n",
    "print('Best penalty:', best_penalty_4)"
   ]
  },
  {
   "cell_type": "markdown",
   "metadata": {
    "colab_type": "text",
    "id": "aTfdKgcKkPWA"
   },
   "source": [
    "### 4.3 Modelling with Parameters"
   ]
  },
  {
   "cell_type": "code",
   "execution_count": 0,
   "metadata": {
    "colab": {},
    "colab_type": "code",
    "id": "wgMRP9ALkPWA",
    "outputId": "47e212fb-c8b2-4738-b38a-eeb4779403fb"
   },
   "outputs": [
    {
     "data": {
      "text/plain": [
       "SGDClassifier(alpha=0.001, average=False, class_weight='balanced',\n",
       "              early_stopping=False, epsilon=0.1, eta0=0.0, fit_intercept=True,\n",
       "              l1_ratio=0.15, learning_rate='optimal', loss='hinge',\n",
       "              max_iter=1000, n_iter_no_change=5, n_jobs=-1, penalty='l1',\n",
       "              power_t=0.5, random_state=None, shuffle=True, tol=0.001,\n",
       "              validation_fraction=0.1, verbose=0, warm_start=False)"
      ]
     },
     "execution_count": 173,
     "metadata": {
      "tags": []
     },
     "output_type": "execute_result"
    }
   ],
   "source": [
    "classifier_4_withParam = SGDClassifier(loss='hinge', alpha=best_alpha_4, penalty=best_penalty_4, class_weight='balanced', n_jobs=-1)\n",
    "classifier_4_withParam.fit(X_train_4, y_train)"
   ]
  },
  {
   "cell_type": "markdown",
   "metadata": {
    "colab_type": "text",
    "id": "O6GCtRTCkPWB"
   },
   "source": [
    "### 4.4 Cross validate"
   ]
  },
  {
   "cell_type": "code",
   "execution_count": 0,
   "metadata": {
    "colab": {},
    "colab_type": "code",
    "id": "Kbjcs8VokPWB"
   },
   "outputs": [],
   "source": [
    "cv_4 = cross_val_score(estimator=classifier_4_withParam, X=X_train_4, y=y_train, cv=5, n_jobs=-1)"
   ]
  },
  {
   "cell_type": "code",
   "execution_count": 0,
   "metadata": {
    "colab": {},
    "colab_type": "code",
    "id": "wLA-q9rakPWC",
    "outputId": "71878edc-28e9-49bc-a80c-f6ff9b92e4ec"
   },
   "outputs": [
    {
     "name": "stdout",
     "output_type": "stream",
     "text": [
      "Best AUC: 0.529483\n"
     ]
    }
   ],
   "source": [
    "best_auc_4 = cv_4.mean()\n",
    "print('Best AUC: %4f' %best_auc_4)"
   ]
  },
  {
   "cell_type": "markdown",
   "metadata": {
    "colab_type": "text",
    "id": "Rrgg7cglkPWC"
   },
   "source": [
    "### 4.5 AUC CURVE"
   ]
  },
  {
   "cell_type": "code",
   "execution_count": 0,
   "metadata": {
    "colab": {},
    "colab_type": "code",
    "id": "vGs3OqajkPWC",
    "outputId": "b31647e9-20a5-4eae-e1a8-e4b684c6ef9c"
   },
   "outputs": [
    {
     "data": {
      "text/plain": [
       "CalibratedClassifierCV(base_estimator=SGDClassifier(alpha=0.001, average=False,\n",
       "                                                    class_weight='balanced',\n",
       "                                                    early_stopping=False,\n",
       "                                                    epsilon=0.1, eta0=0.0,\n",
       "                                                    fit_intercept=True,\n",
       "                                                    l1_ratio=0.15,\n",
       "                                                    learning_rate='optimal',\n",
       "                                                    loss='hinge', max_iter=1000,\n",
       "                                                    n_iter_no_change=5,\n",
       "                                                    n_jobs=-1, penalty='l1',\n",
       "                                                    power_t=0.5,\n",
       "                                                    random_state=None,\n",
       "                                                    shuffle=True, tol=0.001,\n",
       "                                                    validation_fraction=0.1,\n",
       "                                                    verbose=0,\n",
       "                                                    warm_start=False),\n",
       "                       cv=3, method='sigmoid')"
      ]
     },
     "execution_count": 180,
     "metadata": {
      "tags": []
     },
     "output_type": "execute_result"
    }
   ],
   "source": [
    "classifier_calib_4 = CalibratedClassifierCV(base_estimator=classifier_4_withParam ,method='sigmoid', cv=3)\n",
    "classifier_calib_4.fit(X_train_4,y_train)"
   ]
  },
  {
   "cell_type": "code",
   "execution_count": 0,
   "metadata": {
    "colab": {},
    "colab_type": "code",
    "id": "SCLHoyedkPWD"
   },
   "outputs": [],
   "source": [
    "def batch_predict(clf, data):\n",
    "    y_data_pred = []\n",
    "    tr_loop = data.shape[0] - data.shape[0]%1000\n",
    "    for i in range(0,tr_loop,1000):\n",
    "        y_data_pred.extend(clf.predict_proba(data[i:i+1000])[:,1])\n",
    "    if data.shape[0]%1000 !=0:\n",
    "        y_data_pred.extend(clf.predict_proba(data[tr_loop:])[:,1])\n",
    "    return y_data_pred"
   ]
  },
  {
   "cell_type": "code",
   "execution_count": 0,
   "metadata": {
    "colab": {},
    "colab_type": "code",
    "id": "Kya9Ul5KkPWE"
   },
   "outputs": [],
   "source": [
    "y_train_pred_4 = batch_predict(classifier_calib_4, X_train_4)\n",
    "y_test_pred_4 = batch_predict(classifier_calib_4, X_test_4)"
   ]
  },
  {
   "cell_type": "code",
   "execution_count": 0,
   "metadata": {
    "colab": {},
    "colab_type": "code",
    "id": "EzaHe-lKkPWE"
   },
   "outputs": [],
   "source": [
    "train_fpr_4, train_tpr_4, train_threshold_4 = roc_curve(y_train, y_train_pred_4)\n",
    "test_fpr_4, test_tpr_4, train_threshold_4 = roc_curve(y_test, y_test_pred_4)"
   ]
  },
  {
   "cell_type": "code",
   "execution_count": 0,
   "metadata": {
    "colab": {},
    "colab_type": "code",
    "id": "N0YJHm8ikPWF",
    "outputId": "8282b084-0b70-4a4c-8cea-de907c1cca5b"
   },
   "outputs": [
    {
     "data": {
      "image/png": "[encoded data removed]",
      "text/plain": [
       "<Figure size 432x288 with 1 Axes>"
      ]
     },
     "metadata": {
      "needs_background": "light",
      "tags": []
     },
     "output_type": "display_data"
    }
   ],
   "source": [
    "plt.plot(train_fpr_4, train_tpr_4, label='Train_AUC: %4f' %auc(train_fpr_4, train_tpr_4))\n",
    "plt.plot(test_fpr_4, test_tpr_4, label='Test_AUC: %4f' %auc(test_fpr_4, test_tpr_4))\n",
    "\n",
    "plt.title('AUC curve')\n",
    "plt.xlabel('FPR')\n",
    "plt.ylabel('TPR')\n",
    "plt.legend()\n",
    "plt.grid()\n",
    "plt.show()"
   ]
  },
  {
   "cell_type": "markdown",
   "metadata": {
    "colab_type": "text",
    "id": "SvTTD5vukPWG"
   },
   "source": [
    "### 4.1.10 Confusion matrix"
   ]
  },
  {
   "cell_type": "code",
   "execution_count": 0,
   "metadata": {
    "colab": {},
    "colab_type": "code",
    "id": "DO4_azqXkPWH"
   },
   "outputs": [],
   "source": [
    "def find_best_threshold( fpr, tpr, threshold):\n",
    "    t = threshold[np.argmax(tpr*(1-fpr))]\n",
    "    print('the maximum tpr*(1-fpr) is :', max(tpr*(1-fpr)), 'for threshold', np.round(t,3))\n",
    "    return t"
   ]
  },
  {
   "cell_type": "code",
   "execution_count": 0,
   "metadata": {
    "colab": {},
    "colab_type": "code",
    "id": "QXqKns85kPWH",
    "outputId": "f8bbb6b6-4eb6-4efe-bc3d-facc83235129"
   },
   "outputs": [
    {
     "name": "stdout",
     "output_type": "stream",
     "text": [
      "the maximum tpr*(1-fpr) is : 0.4233043741667497 for threshold 0.753\n"
     ]
    }
   ],
   "source": [
    "best_t = find_best_threshold(train_fpr_4, train_tpr_4, train_threshold_4)"
   ]
  },
  {
   "cell_type": "code",
   "execution_count": 0,
   "metadata": {
    "colab": {},
    "colab_type": "code",
    "id": "crPzImYKkPWI"
   },
   "outputs": [],
   "source": [
    "def predict_with_threshold(proba, threshold):\n",
    "    predictions = []\n",
    "    for i in proba:\n",
    "        if i>=threshold:\n",
    "            predictions.append(1)\n",
    "        else:\n",
    "            predictions.append(0)\n",
    "            \n",
    "    return predictions"
   ]
  },
  {
   "cell_type": "code",
   "execution_count": 0,
   "metadata": {
    "colab": {},
    "colab_type": "code",
    "id": "CmJ9eDohkPWJ",
    "scrolled": true
   },
   "outputs": [],
   "source": [
    "from sklearn.metrics import confusion_matrix\n",
    "\n",
    "cm_train_4 = confusion_matrix(y_train, predict_with_threshold(y_train_pred_4, best_t))\n",
    "cm_test_4 = confusion_matrix(y_test, predict_with_threshold(y_test_pred_4, best_t))"
   ]
  },
  {
   "cell_type": "code",
   "execution_count": 0,
   "metadata": {
    "colab": {},
    "colab_type": "code",
    "id": "CXjlIXoFkPWJ",
    "outputId": "3f3fd0c7-5d89-4c37-86de-df2a5160b8b9"
   },
   "outputs": [
    {
     "data": {
      "image/png": "[encoded data removed]",
      "text/plain": [
       "<Figure size 432x288 with 2 Axes>"
      ]
     },
     "metadata": {
      "needs_background": "light",
      "tags": []
     },
     "output_type": "display_data"
    }
   ],
   "source": [
    "sns.heatmap(cm_train_4, annot=True, fmt='.2f')\n",
    "plt.title('Test Data: confusion matrix')\n",
    "plt.xlabel('Predicted Label')\n",
    "plt.ylabel('Actual label')\n",
    "plt.show()"
   ]
  },
  {
   "cell_type": "code",
   "execution_count": 0,
   "metadata": {
    "colab": {},
    "colab_type": "code",
    "id": "5fsUSxUrkPWK",
    "outputId": "1a41d66a-94bd-4423-874f-86822894549b"
   },
   "outputs": [
    {
     "data": {
      "image/png": "[encoded data removed]",
      "text/plain": [
       "<Figure size 432x288 with 2 Axes>"
      ]
     },
     "metadata": {
      "needs_background": "light",
      "tags": []
     },
     "output_type": "display_data"
    }
   ],
   "source": [
    "sns.heatmap(cm_test_4, annot=True, fmt='.2f')\n",
    "plt.title('Test Data: confusion matrix')\n",
    "plt.xlabel('Predicted Label')\n",
    "plt.ylabel('Actual label')\n",
    "plt.show()"
   ]
  },
  {
   "cell_type": "markdown",
   "metadata": {
    "colab_type": "text",
    "id": "EC7J2AxgkPWL"
   },
   "source": [
    "## 5. Set-5"
   ]
  },
  {
   "cell_type": "markdown",
   "metadata": {
    "colab_type": "text",
    "id": "bkNMd1w1kPWL"
   },
   "source": [
    "### 5.1 Merging all the columns"
   ]
  },
  {
   "cell_type": "code",
   "execution_count": 0,
   "metadata": {
    "colab": {},
    "colab_type": "code",
    "id": "vnpFW367kPWL"
   },
   "outputs": [],
   "source": [
    "from scipy.sparse import hstack\n",
    "X_train_5 = hstack((X_train_Sstate, X_train_cat, X_train_subcat, X_train_grade, X_train_prefix, X_train_previous, X_train_price, X_train_sentiment, X_train_words_essay, X_train_words_title, X_train_essay_tfidf_truncated)).tocsr()\n",
    "X_test_5 = hstack((X_test_Sstate, X_test_cat, X_test_subcat, X_test_grade, X_test_prefix, X_test_previous, X_test_price, X_test_sentiment, X_test_words_essay, X_test_words_title, X_test_essay_tfidf_truncated)).tocsr()"
   ]
  },
  {
   "cell_type": "code",
   "execution_count": 105,
   "metadata": {
    "colab": {
     "base_uri": "https://localhost:8080/",
     "height": 51
    },
    "colab_type": "code",
    "id": "DOlTg-w2kPWM",
    "outputId": "918fdf3f-baaa-4cee-fa5d-7d7690fcda72"
   },
   "outputs": [
    {
     "name": "stdout",
     "output_type": "stream",
     "text": [
      "(73196, 204)\n",
      "(36052, 204)\n"
     ]
    }
   ],
   "source": [
    "print(X_train_5.shape)\n",
    "print(X_test_5.shape)"
   ]
  },
  {
   "cell_type": "markdown",
   "metadata": {
    "colab_type": "text",
    "id": "ZlX9jAbZkPWM"
   },
   "source": [
    "### 4.2 Grid Search CV"
   ]
  },
  {
   "cell_type": "code",
   "execution_count": 0,
   "metadata": {
    "colab": {},
    "colab_type": "code",
    "id": "W2WN5985kPWM"
   },
   "outputs": [],
   "source": [
    "from sklearn.linear_model import SGDClassifier\n",
    "classifier_5 = SGDClassifier(loss='hinge', class_weight='balanced', n_jobs=-1)"
   ]
  },
  {
   "cell_type": "code",
   "execution_count": 0,
   "metadata": {
    "colab": {},
    "colab_type": "code",
    "id": "q2GwQyZ8kPWM"
   },
   "outputs": [],
   "source": [
    "from sklearn.model_selection import GridSearchCV\n",
    "parameters = [\n",
    "                {\n",
    "                    'alpha': [0.0001, 0.001, 0.01, 0.1, 1, 10, 100, 1000, 10000],\n",
    "                    'penalty' : ['l1', 'l2']\n",
    "                }\n",
    "            ]\n",
    "grid_search_5 = GridSearchCV(estimator=classifier_5, param_grid=parameters, scoring='roc_auc', cv=2, n_jobs=-1, return_train_score=True)"
   ]
  },
  {
   "cell_type": "code",
   "execution_count": 0,
   "metadata": {
    "colab": {},
    "colab_type": "code",
    "id": "YWaI9wbykPWN"
   },
   "outputs": [],
   "source": [
    "grid_search_5 = grid_search_5.fit(X=X_train_5, y=y_train)"
   ]
  },
  {
   "cell_type": "code",
   "execution_count": 109,
   "metadata": {
    "colab": {
     "base_uri": "https://localhost:8080/",
     "height": 479
    },
    "colab_type": "code",
    "id": "rnum6xStkPWN",
    "outputId": "f0686492-35f7-419e-ad6b-7e6be9c2b1cb"
   },
   "outputs": [
    {
     "data": {
      "text/html": [
       "<div>\n",
       "<style scoped>\n",
       "    .dataframe tbody tr th:only-of-type {\n",
       "        vertical-align: middle;\n",
       "    }\n",
       "\n",
       "    .dataframe tbody tr th {\n",
       "        vertical-align: top;\n",
       "    }\n",
       "\n",
       "    .dataframe thead th {\n",
       "        text-align: right;\n",
       "    }\n",
       "</style>\n",
       "<table border=\"1\" class=\"dataframe\">\n",
       "  <thead>\n",
       "    <tr style=\"text-align: right;\">\n",
       "      <th></th>\n",
       "      <th>mean_fit_time</th>\n",
       "      <th>std_fit_time</th>\n",
       "      <th>mean_score_time</th>\n",
       "      <th>std_score_time</th>\n",
       "      <th>param_alpha</th>\n",
       "      <th>param_penalty</th>\n",
       "      <th>params</th>\n",
       "      <th>split0_test_score</th>\n",
       "      <th>split1_test_score</th>\n",
       "      <th>mean_test_score</th>\n",
       "      <th>std_test_score</th>\n",
       "      <th>rank_test_score</th>\n",
       "      <th>split0_train_score</th>\n",
       "      <th>split1_train_score</th>\n",
       "      <th>mean_train_score</th>\n",
       "      <th>std_train_score</th>\n",
       "    </tr>\n",
       "  </thead>\n",
       "  <tbody>\n",
       "    <tr>\n",
       "      <th>0</th>\n",
       "      <td>10.340929</td>\n",
       "      <td>0.075042</td>\n",
       "      <td>0.031564</td>\n",
       "      <td>0.000454</td>\n",
       "      <td>0.0001</td>\n",
       "      <td>l1</td>\n",
       "      <td>{'alpha': 0.0001, 'penalty': 'l1'}</td>\n",
       "      <td>0.662826</td>\n",
       "      <td>0.674167</td>\n",
       "      <td>0.668496</td>\n",
       "      <td>0.005671</td>\n",
       "      <td>1</td>\n",
       "      <td>0.674479</td>\n",
       "      <td>0.683561</td>\n",
       "      <td>0.679020</td>\n",
       "      <td>0.004541</td>\n",
       "    </tr>\n",
       "    <tr>\n",
       "      <th>1</th>\n",
       "      <td>6.930590</td>\n",
       "      <td>0.208327</td>\n",
       "      <td>0.031741</td>\n",
       "      <td>0.000266</td>\n",
       "      <td>0.0001</td>\n",
       "      <td>l2</td>\n",
       "      <td>{'alpha': 0.0001, 'penalty': 'l2'}</td>\n",
       "      <td>0.668593</td>\n",
       "      <td>0.539998</td>\n",
       "      <td>0.604295</td>\n",
       "      <td>0.064298</td>\n",
       "      <td>6</td>\n",
       "      <td>0.681187</td>\n",
       "      <td>0.536620</td>\n",
       "      <td>0.608903</td>\n",
       "      <td>0.072284</td>\n",
       "    </tr>\n",
       "    <tr>\n",
       "      <th>2</th>\n",
       "      <td>11.350521</td>\n",
       "      <td>0.693001</td>\n",
       "      <td>0.033103</td>\n",
       "      <td>0.000213</td>\n",
       "      <td>0.001</td>\n",
       "      <td>l1</td>\n",
       "      <td>{'alpha': 0.001, 'penalty': 'l1'}</td>\n",
       "      <td>0.662138</td>\n",
       "      <td>0.643130</td>\n",
       "      <td>0.652634</td>\n",
       "      <td>0.009504</td>\n",
       "      <td>2</td>\n",
       "      <td>0.664709</td>\n",
       "      <td>0.649904</td>\n",
       "      <td>0.657307</td>\n",
       "      <td>0.007403</td>\n",
       "    </tr>\n",
       "    <tr>\n",
       "      <th>3</th>\n",
       "      <td>7.214486</td>\n",
       "      <td>0.184703</td>\n",
       "      <td>0.031401</td>\n",
       "      <td>0.000529</td>\n",
       "      <td>0.001</td>\n",
       "      <td>l2</td>\n",
       "      <td>{'alpha': 0.001, 'penalty': 'l2'}</td>\n",
       "      <td>0.647872</td>\n",
       "      <td>0.652828</td>\n",
       "      <td>0.650350</td>\n",
       "      <td>0.002478</td>\n",
       "      <td>3</td>\n",
       "      <td>0.651495</td>\n",
       "      <td>0.660629</td>\n",
       "      <td>0.656062</td>\n",
       "      <td>0.004567</td>\n",
       "    </tr>\n",
       "    <tr>\n",
       "      <th>4</th>\n",
       "      <td>3.530934</td>\n",
       "      <td>0.387456</td>\n",
       "      <td>0.031235</td>\n",
       "      <td>0.000941</td>\n",
       "      <td>0.01</td>\n",
       "      <td>l1</td>\n",
       "      <td>{'alpha': 0.01, 'penalty': 'l1'}</td>\n",
       "      <td>0.591339</td>\n",
       "      <td>0.592987</td>\n",
       "      <td>0.592163</td>\n",
       "      <td>0.000824</td>\n",
       "      <td>9</td>\n",
       "      <td>0.595332</td>\n",
       "      <td>0.592116</td>\n",
       "      <td>0.593724</td>\n",
       "      <td>0.001608</td>\n",
       "    </tr>\n",
       "  </tbody>\n",
       "</table>\n",
       "</div>"
      ],
      "text/plain": [
       "   mean_fit_time  std_fit_time  ...  mean_train_score  std_train_score\n",
       "0      10.340929      0.075042  ...          0.679020         0.004541\n",
       "1       6.930590      0.208327  ...          0.608903         0.072284\n",
       "2      11.350521      0.693001  ...          0.657307         0.007403\n",
       "3       7.214486      0.184703  ...          0.656062         0.004567\n",
       "4       3.530934      0.387456  ...          0.593724         0.001608\n",
       "\n",
       "[5 rows x 16 columns]"
      ]
     },
     "execution_count": 109,
     "metadata": {
      "tags": []
     },
     "output_type": "execute_result"
    }
   ],
   "source": [
    "results = pd.DataFrame.from_dict(grid_search_5.cv_results_)\n",
    "results = results.sort_values(['param_alpha'])\n",
    "results.head()"
   ]
  },
  {
   "cell_type": "code",
   "execution_count": 0,
   "metadata": {
    "colab": {},
    "colab_type": "code",
    "id": "Na6OZgbkkPWQ"
   },
   "outputs": [],
   "source": [
    "train_auc_5 = results['mean_train_score']\n",
    "test_auc_5 = results['mean_test_score']\n",
    "best_alpha_5 = results['param_alpha']"
   ]
  },
  {
   "cell_type": "code",
   "execution_count": 111,
   "metadata": {
    "colab": {
     "base_uri": "https://localhost:8080/",
     "height": 299
    },
    "colab_type": "code",
    "id": "ZoWpsG8nkPWQ",
    "outputId": "c1c86846-13a1-4b77-a396-8e2969d014eb"
   },
   "outputs": [
    {
     "data": {
      "image/png": "[encoded data removed]",
      "text/plain": [
       "<Figure size 432x288 with 1 Axes>"
      ]
     },
     "metadata": {
      "tags": []
     },
     "output_type": "display_data"
    }
   ],
   "source": [
    "plt.plot(best_alpha_5, train_auc_5, label='Train AUC')\n",
    "plt.plot(best_alpha_5, test_auc_5, label='Test AUC')\n",
    "plt.scatter(best_alpha_5, train_auc_5)\n",
    "plt.scatter(best_alpha_5, test_auc_5)\n",
    "\n",
    "plt.title('Hyperparameter vs AUC')\n",
    "plt.xlabel('Hyperparameter')\n",
    "plt.xscale('log')\n",
    "plt.ylabel('AUC')\n",
    "plt.legend()\n",
    "plt.grid()\n",
    "plt.show()"
   ]
  },
  {
   "cell_type": "code",
   "execution_count": 0,
   "metadata": {
    "colab": {
     "base_uri": "https://localhost:8080/",
     "height": 51
    },
    "colab_type": "code",
    "id": "cOrekb6mkPWQ",
    "outputId": "944daf27-c129-458f-9cf1-723411b1a2fa"
   },
   "outputs": [
    {
     "name": "stdout",
     "output_type": "stream",
     "text": [
      "Best_alpha: 0.0001\n",
      "Best penalty: l1\n"
     ]
    }
   ],
   "source": [
    "best_alpha_5 = grid_search_5.best_params_['alpha']\n",
    "best_penalty_5 = grid_search_5.best_params_['penalty']\n",
    "print('Best_alpha:', best_alpha_5)\n",
    "print('Best penalty:', best_penalty_5)"
   ]
  },
  {
   "cell_type": "markdown",
   "metadata": {
    "colab_type": "text",
    "id": "YHqIfWMOkPWS"
   },
   "source": [
    "### 4.3 Modelling with Parameters"
   ]
  },
  {
   "cell_type": "code",
   "execution_count": 0,
   "metadata": {
    "colab": {
     "base_uri": "https://localhost:8080/",
     "height": 119
    },
    "colab_type": "code",
    "id": "bg5pcB69kPWT",
    "outputId": "dfdc67d6-32ee-4ad4-aa4e-627edca8a1d3"
   },
   "outputs": [
    {
     "data": {
      "text/plain": [
       "SGDClassifier(alpha=0.0001, average=False, class_weight='balanced',\n",
       "              early_stopping=False, epsilon=0.1, eta0=0.0, fit_intercept=True,\n",
       "              l1_ratio=0.15, learning_rate='optimal', loss='hinge',\n",
       "              max_iter=1000, n_iter_no_change=5, n_jobs=-1, penalty='l1',\n",
       "              power_t=0.5, random_state=None, shuffle=True, tol=0.001,\n",
       "              validation_fraction=0.1, verbose=0, warm_start=False)"
      ]
     },
     "execution_count": 88,
     "metadata": {
      "tags": []
     },
     "output_type": "execute_result"
    }
   ],
   "source": [
    "classifier_5_withParam = SGDClassifier(loss='hinge', alpha=best_alpha_5, penalty=best_penalty_5, class_weight='balanced', n_jobs=-1)\n",
    "classifier_5_withParam.fit(X_train_5, y_train)"
   ]
  },
  {
   "cell_type": "markdown",
   "metadata": {
    "colab_type": "text",
    "id": "SiYN70eMkPWU"
   },
   "source": [
    "### 4.4 Cross validate"
   ]
  },
  {
   "cell_type": "code",
   "execution_count": 0,
   "metadata": {
    "colab": {},
    "colab_type": "code",
    "id": "LwsI8Ye_kPWU"
   },
   "outputs": [],
   "source": [
    "from sklearn.model_selection import cross_val_score\n",
    "cv_5 = cross_val_score(estimator=classifier_5_withParam, X=X_train_5, y=y_train, cv=5, n_jobs=-1)"
   ]
  },
  {
   "cell_type": "code",
   "execution_count": 0,
   "metadata": {
    "colab": {
     "base_uri": "https://localhost:8080/",
     "height": 34
    },
    "colab_type": "code",
    "id": "SYTpe5hukPWV",
    "outputId": "3a39bdd3-f6d3-4f22-dc38-fec200e46058"
   },
   "outputs": [
    {
     "name": "stdout",
     "output_type": "stream",
     "text": [
      "Best AUC: 0.700952\n"
     ]
    }
   ],
   "source": [
    "best_auc_5 = cv_5.mean()\n",
    "print('Best AUC: %4f' %best_auc_5)"
   ]
  },
  {
   "cell_type": "markdown",
   "metadata": {
    "colab_type": "text",
    "id": "KtbC10ickPWV"
   },
   "source": [
    "### 4.5 AUC CURVE"
   ]
  },
  {
   "cell_type": "code",
   "execution_count": 0,
   "metadata": {
    "colab": {
     "base_uri": "https://localhost:8080/",
     "height": 306
    },
    "colab_type": "code",
    "id": "ZUlxvfDxtndq",
    "outputId": "52ceb0a7-9a1d-456f-e17d-e7675e7f0557"
   },
   "outputs": [
    {
     "data": {
      "text/plain": [
       "CalibratedClassifierCV(base_estimator=SGDClassifier(alpha=0.0001, average=False,\n",
       "                                                    class_weight='balanced',\n",
       "                                                    early_stopping=False,\n",
       "                                                    epsilon=0.1, eta0=0.0,\n",
       "                                                    fit_intercept=True,\n",
       "                                                    l1_ratio=0.15,\n",
       "                                                    learning_rate='optimal',\n",
       "                                                    loss='hinge', max_iter=1000,\n",
       "                                                    n_iter_no_change=5,\n",
       "                                                    n_jobs=-1, penalty='l1',\n",
       "                                                    power_t=0.5,\n",
       "                                                    random_state=None,\n",
       "                                                    shuffle=True, tol=0.001,\n",
       "                                                    validation_fraction=0.1,\n",
       "                                                    verbose=0,\n",
       "                                                    warm_start=False),\n",
       "                       cv=3, method='sigmoid')"
      ]
     },
     "execution_count": 94,
     "metadata": {
      "tags": []
     },
     "output_type": "execute_result"
    }
   ],
   "source": [
    "from sklearn.calibration import CalibratedClassifierCV\n",
    "classifier_calib_5 = CalibratedClassifierCV(base_estimator = classifier_5_withParam, method='sigmoid', cv=3)\n",
    "classifier_calib_5.fit(X_train_5, y_train)"
   ]
  },
  {
   "cell_type": "code",
   "execution_count": 0,
   "metadata": {
    "colab": {},
    "colab_type": "code",
    "id": "jThG_2WmkPWV"
   },
   "outputs": [],
   "source": [
    "def batch_predict(clf, data):\n",
    "    y_data_pred = []\n",
    "    tr_loop = data.shape[0] - data.shape[0]%1000\n",
    "    for i in range(0,tr_loop,1000):\n",
    "        y_data_pred.extend(clf.predict_proba(data[i:i+1000])[:,1])\n",
    "    if data.shape[0]%1000 !=0:\n",
    "        y_data_pred.extend(clf.predict_proba(data[tr_loop:])[:,1])\n",
    "    return y_data_pred"
   ]
  },
  {
   "cell_type": "code",
   "execution_count": 0,
   "metadata": {
    "colab": {},
    "colab_type": "code",
    "id": "H6fmwXWekPWW"
   },
   "outputs": [],
   "source": [
    "y_train_pred_5 = batch_predict(classifier_calib_5, X_train_5)\n",
    "y_test_pred_5 = batch_predict(classifier_calib_5, X_test_5)"
   ]
  },
  {
   "cell_type": "code",
   "execution_count": 0,
   "metadata": {
    "colab": {},
    "colab_type": "code",
    "id": "LvEO3sb1kPWX"
   },
   "outputs": [],
   "source": [
    "from sklearn.metrics import roc_curve, auc\n",
    "train_fpr_5, train_tpr_5, train_threshold_5 = roc_curve(y_train, y_train_pred_5)\n",
    "test_fpr_5, test_tpr_5, train_threshold_5 = roc_curve(y_test, y_test_pred_5)"
   ]
  },
  {
   "cell_type": "code",
   "execution_count": 0,
   "metadata": {
    "colab": {
     "base_uri": "https://localhost:8080/",
     "height": 295
    },
    "colab_type": "code",
    "id": "kA9ZoNjekPWZ",
    "outputId": "58d67e4e-5318-4c80-c0c8-fff46adc486d"
   },
   "outputs": [
    {
     "data": {
      "image/png": "[encoded data removed]",
      "text/plain": [
       "<Figure size 432x288 with 1 Axes>"
      ]
     },
     "metadata": {
      "tags": []
     },
     "output_type": "display_data"
    }
   ],
   "source": [
    "plt.plot(train_fpr_5, train_tpr_5, label='Train_AUC: %4f' %auc(train_fpr_5, train_tpr_5))\n",
    "plt.plot(test_fpr_5, test_tpr_5, label='Test_AUC: %4f' %auc(test_fpr_5, test_tpr_5))\n",
    "\n",
    "plt.title('AUC curve')\n",
    "plt.xlabel('FPR')\n",
    "plt.ylabel('TPR')\n",
    "plt.legend()\n",
    "plt.grid()\n",
    "plt.show()"
   ]
  },
  {
   "cell_type": "markdown",
   "metadata": {
    "colab_type": "text",
    "id": "ySuzkarCkPWa"
   },
   "source": [
    "### 4.1.10 Confusion matrix"
   ]
  },
  {
   "cell_type": "code",
   "execution_count": 0,
   "metadata": {
    "colab": {},
    "colab_type": "code",
    "id": "1H6rtSFruKwB"
   },
   "outputs": [],
   "source": [
    "def find_best_threshold( fpr, tpr, threshold):\n",
    "    t = threshold[np.argmax(tpr*(1-fpr))]\n",
    "    print('the maximum tpr*(1-fpr) is :', max(tpr*(1-fpr)), 'for threshold', np.round(t,3))\n",
    "    return t"
   ]
  },
  {
   "cell_type": "code",
   "execution_count": 0,
   "metadata": {
    "colab": {
     "base_uri": "https://localhost:8080/",
     "height": 34
    },
    "colab_type": "code",
    "id": "lXJuAqdSuMi5",
    "outputId": "69918efe-8a76-4930-b8e6-4200ffe50bfb"
   },
   "outputs": [
    {
     "name": "stdout",
     "output_type": "stream",
     "text": [
      "the maximum tpr*(1-fpr) is : 0.40771797343235755 for threshold 0.721\n"
     ]
    }
   ],
   "source": [
    "best_t = find_best_threshold(train_fpr_5, train_tpr_5, train_threshold_5)"
   ]
  },
  {
   "cell_type": "code",
   "execution_count": 0,
   "metadata": {
    "colab": {},
    "colab_type": "code",
    "id": "DPONhJF3uRcy"
   },
   "outputs": [],
   "source": [
    "def predict_with_threshold(proba, threshold):\n",
    "    predictions = []\n",
    "    for i in proba:\n",
    "        if i>=threshold:\n",
    "            predictions.append(1)\n",
    "        else:\n",
    "            predictions.append(0)\n",
    "            \n",
    "    return predictions"
   ]
  },
  {
   "cell_type": "code",
   "execution_count": 0,
   "metadata": {
    "colab": {},
    "colab_type": "code",
    "id": "3Xw-eD7VkPWa",
    "scrolled": true
   },
   "outputs": [],
   "source": [
    "from sklearn.metrics import confusion_matrix\n",
    "\n",
    "cm_train_5 = confusion_matrix(y_train, predict_with_threshold(y_train_pred_5, best_t))\n",
    "cm_test_5 = confusion_matrix(y_test, predict_with_threshold(y_test_pred_5, best_t))"
   ]
  },
  {
   "cell_type": "code",
   "execution_count": 0,
   "metadata": {
    "colab": {
     "base_uri": "https://localhost:8080/",
     "height": 295
    },
    "colab_type": "code",
    "id": "j1B0134IkPWb",
    "outputId": "53a9fd68-4dc3-4fb0-aa66-21d01822edf5"
   },
   "outputs": [
    {
     "data": {
      "image/png": "[encoded data removed]",
      "text/plain": [
       "<Figure size 432x288 with 2 Axes>"
      ]
     },
     "metadata": {
      "tags": []
     },
     "output_type": "display_data"
    }
   ],
   "source": [
    "sns.heatmap(cm_train_5, annot=True, fmt='.2f')\n",
    "plt.title('Test Data: confusion matrix')\n",
    "plt.xlabel('Predicted Label')\n",
    "plt.ylabel('Actual label')\n",
    "plt.show()"
   ]
  },
  {
   "cell_type": "code",
   "execution_count": 0,
   "metadata": {
    "colab": {
     "base_uri": "https://localhost:8080/",
     "height": 295
    },
    "colab_type": "code",
    "id": "HJVs2COMkPWb",
    "outputId": "9b780dfd-ce09-4596-ca50-d9336168b580"
   },
   "outputs": [
    {
     "data": {
      "image/png": "[encoded data removed]",
      "text/plain": [
       "<Figure size 432x288 with 2 Axes>"
      ]
     },
     "metadata": {
      "tags": []
     },
     "output_type": "display_data"
    }
   ],
   "source": [
    "sns.heatmap(cm_test_5, annot=True, fmt='.2f')\n",
    "plt.title('Test Data: confusion matrix')\n",
    "plt.xlabel('Predicted Label')\n",
    "plt.ylabel('Actual label')\n",
    "plt.show()"
   ]
  },
  {
   "cell_type": "markdown",
   "metadata": {
    "colab_type": "text",
    "id": "KIQq0p0MkPWc"
   },
   "source": [
    "## Summary:"
   ]
  },
  {
   "cell_type": "code",
   "execution_count": 0,
   "metadata": {
    "colab": {
     "base_uri": "https://localhost:8080/",
     "height": 190
    },
    "colab_type": "code",
    "id": "0cjSSSMCkPWc",
    "outputId": "4a925699-861d-434b-ff56-0c7e73ac689a"
   },
   "outputs": [
    {
     "name": "stdout",
     "output_type": "stream",
     "text": [
      "+------------+----------------+-------+-----------+----------------------------+------------------------------+----------+\n",
      "| Set Number |   Vectorizer   | Model | Algorithm | Best Hyperparameter: Alpha | Best Hyperparameter: Penalty | Best AUC |\n",
      "+------------+----------------+-------+-----------+----------------------------+------------------------------+----------+\n",
      "|   Set-1    |      BOW       |  SVM  |   linear  |           0.0001           |              l1              | 0.69123  |\n",
      "|   Set-2    |     TFIDF      |  SVM  |   linear  |           0.0001           |              l1              | 0.69123  |\n",
      "|   Set-3    |     AvgW2V     |  SVM  |   linear  |           0.0001           |              l1              | 0.69123  |\n",
      "|   Set-4    |    TFIDFW2V    |  SVM  |   linear  |           0.0001           |              l1              | 0.77607  |\n",
      "|   Set-5    | Trucated TFIDF |  SVM  |   linear  |           0.0001           |              l1              | 0.70095  |\n",
      "+------------+----------------+-------+-----------+----------------------------+------------------------------+----------+\n"
     ]
    }
   ],
   "source": [
    "from prettytable import PrettyTable\n",
    "x = PrettyTable()\n",
    "x.field_names = ['Set Number', 'Vectorizer', 'Model', 'Algorithm', 'Best Hyperparameter: Alpha', 'Best Hyperparameter: Penalty', 'Best AUC']\n",
    "x.add_row(['Set-1', 'BOW', 'SVM', 'linear', str(best_alpha_1), str(best_penalty_1), '%4f'%best_auc_1])\n",
    "x.add_row(['Set-2', 'TFIDF', 'SVM', 'linear', str(best_alpha_2), str(best_penalty_2), '%4f'%best_auc_2])\n",
    "x.add_row(['Set-3', 'AvgW2V', 'SVM', 'linear', str(best_alpha_3), str(best_penalty_3), '%4f'%best_auc_3])\n",
    "x.add_row(['Set-4', 'TFIDFW2V', 'SVM', 'linear', str(best_alpha_4), str(best_penalty_4), '%4f'%best_auc_4])\n",
    "x.add_row(['Set-5', 'Trucated TFIDF', 'SVM', 'linear', str(best_alpha_5), str(best_penalty_5), '%4f'%best_auc_5])\n",
    "\n",
    "print(x)"
   ]
  },
  {
   "cell_type": "code",
   "execution_count": 0,
   "metadata": {
    "colab": {},
    "colab_type": "code",
    "id": "sM8SsDOSzbLN"
   },
   "outputs": [],
   "source": []
  },
  {
   "cell_type": "markdown",
   "metadata": {
    "colab_type": "text",
    "id": "Gk9afthqkPWd"
   },
   "source": [
    "# That's the end of the code"
   ]
  }
 ],
 "metadata": {
  "accelerator": "GPU",
  "colab": {
   "collapsed_sections": [
    "0WANDDPekPTd",
    "Wa8ZkcnMkPUw",
    "hZOeUiWvkPUy",
    "8YXyEFXOkPU3",
    "HCfDLXa7kPU3",
    "8oIJsM_zkPU8",
    "packKT2SkPVO",
    "P6JXfnbfkPVP",
    "vrgsNcORkPVR",
    "vDd1kp1FkPVV",
    "VBuEoW1ZkPVi",
    "KuiZrwO-kPVj",
    "eNGUYnt8kPVo",
    "NWJ40fOIkPVw",
    "aTfdKgcKkPWA",
    "O6GCtRTCkPWB",
    "Rrgg7cglkPWC",
    "SvTTD5vukPWG"
   ],
   "machine_shape": "hm",
   "name": "premkumarkaliyamoorthy_SVM.ipynb",
   "provenance": []
  },
  "kernelspec": {
   "display_name": "Python 3",
   "language": "python",
   "name": "python3"
  },
  "language_info": {
   "codemirror_mode": {
    "name": "ipython",
    "version": 3
   },
   "file_extension": ".py",
   "mimetype": "text/x-python",
   "name": "python",
   "nbconvert_exporter": "python",
   "pygments_lexer": "ipython3",
   "version": "3.6.9"
  }
 },
 "nbformat": 4,
 "nbformat_minor": 1
}
