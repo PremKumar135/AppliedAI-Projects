{
 "cells": [
  {
   "cell_type": "markdown",
   "metadata": {
    "colab_type": "text",
    "id": "mCfaj6gxkPSn"
   },
   "source": [
    "# LOGISTIC REGRESSION"
   ]
  },
  {
   "cell_type": "markdown",
   "metadata": {
    "colab_type": "text",
    "id": "2nobWVeHkPSq"
   },
   "source": [
    "### Note:\n",
    "    - Since we already did all these in previous assignments and we can use the same from it."
   ]
  },
  {
   "cell_type": "code",
   "execution_count": 0,
   "metadata": {
    "colab": {},
    "colab_type": "code",
    "id": "Qyp9peRYkPSr"
   },
   "outputs": [],
   "source": [
    "#importing libraries\n",
    "import numpy as np\n",
    "import pandas as pd\n",
    "import matplotlib.pyplot as plt\n",
    "%matplotlib inline\n",
    "import seaborn as sns\n",
    "import warnings\n",
    "warnings.filterwarnings('ignore')\n",
    "from tqdm import tqdm"
   ]
  },
  {
   "cell_type": "code",
   "execution_count": 2,
   "metadata": {
    "colab": {
     "base_uri": "https://localhost:8080/",
     "height": 122
    },
    "colab_type": "code",
    "id": "l-Mwd9sKlMt9",
    "outputId": "65c59064-d0c8-4e4a-cdce-cb5a4676fbaf"
   },
   "outputs": [
    {
     "name": "stdout",
     "output_type": "stream",
     "text": [
      "Go to this URL in a browser: https://accounts.google.com/o/oauth2/auth?client_id=947318989803-6bn6qk8qdgf4n4g3pfee6491hc0brc4i.apps.googleusercontent.com&redirect_uri=urn%3aietf%3awg%3aoauth%3a2.0%3aoob&response_type=code&scope=email%20https%3a%2f%2fwww.googleapis.com%2fauth%2fdocs.test%20https%3a%2f%2fwww.googleapis.com%2fauth%2fdrive%20https%3a%2f%2fwww.googleapis.com%2fauth%2fdrive.photos.readonly%20https%3a%2f%2fwww.googleapis.com%2fauth%2fpeopleapi.readonly\n",
      "\n",
      "Enter your authorization code:\n",
      "··········\n",
      "Mounted at /content/drive\n"
     ]
    }
   ],
   "source": [
    "from google.colab import drive\n",
    "drive.mount('/content/drive')"
   ]
  },
  {
   "cell_type": "code",
   "execution_count": 3,
   "metadata": {
    "colab": {
     "base_uri": "https://localhost:8080/",
     "height": 51
    },
    "colab_type": "code",
    "id": "XaOO-l7YlqSr",
    "outputId": "e53d8686-269f-4b37-ec54-a8cb45b2b9b3"
   },
   "outputs": [
    {
     "name": "stdout",
     "output_type": "stream",
     "text": [
      "glove_vectors\t  Preprocessed_inc_others.csv  train_data.csv\n",
      "PreProcessed.csv  resources.csv\n"
     ]
    }
   ],
   "source": [
    "! ls '/content/drive/My Drive/Applied AI/Datasets/New Donors/'"
   ]
  },
  {
   "cell_type": "code",
   "execution_count": 4,
   "metadata": {
    "colab": {
     "base_uri": "https://localhost:8080/",
     "height": 717
    },
    "colab_type": "code",
    "id": "i8Us0JTAkPSt",
    "outputId": "58d8be2b-dbf6-41d5-c389-c3ddbd91683b",
    "scrolled": true
   },
   "outputs": [
    {
     "data": {
      "text/html": [
       "<div>\n",
       "<style scoped>\n",
       "    .dataframe tbody tr th:only-of-type {\n",
       "        vertical-align: middle;\n",
       "    }\n",
       "\n",
       "    .dataframe tbody tr th {\n",
       "        vertical-align: top;\n",
       "    }\n",
       "\n",
       "    .dataframe thead th {\n",
       "        text-align: right;\n",
       "    }\n",
       "</style>\n",
       "<table border=\"1\" class=\"dataframe\">\n",
       "  <thead>\n",
       "    <tr style=\"text-align: right;\">\n",
       "      <th></th>\n",
       "      <th>Unnamed: 0</th>\n",
       "      <th>school_state</th>\n",
       "      <th>teacher_prefix</th>\n",
       "      <th>project_grade_category</th>\n",
       "      <th>teacher_number_of_previously_posted_projects</th>\n",
       "      <th>project_is_approved</th>\n",
       "      <th>clean_categories</th>\n",
       "      <th>clean_subcategories</th>\n",
       "      <th>essay</th>\n",
       "      <th>price</th>\n",
       "      <th>title</th>\n",
       "      <th>quantity</th>\n",
       "      <th>sentiment_score</th>\n",
       "      <th>No of words in project title</th>\n",
       "      <th>No of words in essay</th>\n",
       "    </tr>\n",
       "  </thead>\n",
       "  <tbody>\n",
       "    <tr>\n",
       "      <th>0</th>\n",
       "      <td>0</td>\n",
       "      <td>ca</td>\n",
       "      <td>mrs</td>\n",
       "      <td>grades_prek_2</td>\n",
       "      <td>53</td>\n",
       "      <td>1</td>\n",
       "      <td>math_science</td>\n",
       "      <td>appliedsciences health_lifescience</td>\n",
       "      <td>i fortunate enough use fairy tale stem kits cl...</td>\n",
       "      <td>725.05</td>\n",
       "      <td>educational support english learners home</td>\n",
       "      <td>23</td>\n",
       "      <td>0.323506</td>\n",
       "      <td>5</td>\n",
       "      <td>175</td>\n",
       "    </tr>\n",
       "    <tr>\n",
       "      <th>1</th>\n",
       "      <td>1</td>\n",
       "      <td>ut</td>\n",
       "      <td>ms</td>\n",
       "      <td>grades_3_5</td>\n",
       "      <td>4</td>\n",
       "      <td>1</td>\n",
       "      <td>specialneeds</td>\n",
       "      <td>specialneeds</td>\n",
       "      <td>imagine 8 9 years old you third grade classroo...</td>\n",
       "      <td>213.03</td>\n",
       "      <td>wanted projector hungry learners</td>\n",
       "      <td>1</td>\n",
       "      <td>0.293008</td>\n",
       "      <td>4</td>\n",
       "      <td>179</td>\n",
       "    </tr>\n",
       "    <tr>\n",
       "      <th>2</th>\n",
       "      <td>2</td>\n",
       "      <td>ca</td>\n",
       "      <td>mrs</td>\n",
       "      <td>grades_prek_2</td>\n",
       "      <td>10</td>\n",
       "      <td>1</td>\n",
       "      <td>literacy_language</td>\n",
       "      <td>literacy</td>\n",
       "      <td>having class 24 students comes diverse learner...</td>\n",
       "      <td>329.00</td>\n",
       "      <td>soccer equipment awesome middle school students</td>\n",
       "      <td>22</td>\n",
       "      <td>0.313000</td>\n",
       "      <td>6</td>\n",
       "      <td>116</td>\n",
       "    </tr>\n",
       "    <tr>\n",
       "      <th>3</th>\n",
       "      <td>3</td>\n",
       "      <td>ga</td>\n",
       "      <td>mrs</td>\n",
       "      <td>grades_prek_2</td>\n",
       "      <td>2</td>\n",
       "      <td>1</td>\n",
       "      <td>appliedlearning</td>\n",
       "      <td>earlydevelopment</td>\n",
       "      <td>i recently read article giving students choice...</td>\n",
       "      <td>481.04</td>\n",
       "      <td>techie kindergarteners</td>\n",
       "      <td>4</td>\n",
       "      <td>0.123264</td>\n",
       "      <td>2</td>\n",
       "      <td>127</td>\n",
       "    </tr>\n",
       "    <tr>\n",
       "      <th>4</th>\n",
       "      <td>4</td>\n",
       "      <td>wa</td>\n",
       "      <td>mrs</td>\n",
       "      <td>grades_3_5</td>\n",
       "      <td>2</td>\n",
       "      <td>1</td>\n",
       "      <td>literacy_language</td>\n",
       "      <td>literacy</td>\n",
       "      <td>my students crave challenge eat obstacles brea...</td>\n",
       "      <td>17.74</td>\n",
       "      <td>interactive math tools</td>\n",
       "      <td>4</td>\n",
       "      <td>0.160651</td>\n",
       "      <td>3</td>\n",
       "      <td>114</td>\n",
       "    </tr>\n",
       "  </tbody>\n",
       "</table>\n",
       "</div>"
      ],
      "text/plain": [
       "   Unnamed: 0 school_state  ... No of words in project title No of words in essay\n",
       "0           0           ca  ...                            5                  175\n",
       "1           1           ut  ...                            4                  179\n",
       "2           2           ca  ...                            6                  116\n",
       "3           3           ga  ...                            2                  127\n",
       "4           4           wa  ...                            3                  114\n",
       "\n",
       "[5 rows x 15 columns]"
      ]
     },
     "execution_count": 4,
     "metadata": {
      "tags": []
     },
     "output_type": "execute_result"
    }
   ],
   "source": [
    "data = pd.read_csv('/content/drive/My Drive/Applied AI/Datasets/New Donors/Preprocessed_inc_others.csv')\n",
    "data.head()"
   ]
  },
  {
   "cell_type": "code",
   "execution_count": 5,
   "metadata": {
    "colab": {
     "base_uri": "https://localhost:8080/",
     "height": 351
    },
    "colab_type": "code",
    "id": "0NERy6FwBorG",
    "outputId": "8628a698-c7c8-4d35-de01-f62db4067343"
   },
   "outputs": [
    {
     "data": {
      "text/html": [
       "<div>\n",
       "<style scoped>\n",
       "    .dataframe tbody tr th:only-of-type {\n",
       "        vertical-align: middle;\n",
       "    }\n",
       "\n",
       "    .dataframe tbody tr th {\n",
       "        vertical-align: top;\n",
       "    }\n",
       "\n",
       "    .dataframe thead th {\n",
       "        text-align: right;\n",
       "    }\n",
       "</style>\n",
       "<table border=\"1\" class=\"dataframe\">\n",
       "  <thead>\n",
       "    <tr style=\"text-align: right;\">\n",
       "      <th></th>\n",
       "      <th>Unnamed: 0</th>\n",
       "      <th>teacher_number_of_previously_posted_projects</th>\n",
       "      <th>project_is_approved</th>\n",
       "      <th>price</th>\n",
       "      <th>quantity</th>\n",
       "      <th>sentiment_score</th>\n",
       "      <th>No of words in project title</th>\n",
       "      <th>No of words in essay</th>\n",
       "    </tr>\n",
       "  </thead>\n",
       "  <tbody>\n",
       "    <tr>\n",
       "      <th>count</th>\n",
       "      <td>109248.000000</td>\n",
       "      <td>109248.000000</td>\n",
       "      <td>109248.000000</td>\n",
       "      <td>109248.000000</td>\n",
       "      <td>109248.000000</td>\n",
       "      <td>109248.000000</td>\n",
       "      <td>109248.000000</td>\n",
       "      <td>109248.000000</td>\n",
       "    </tr>\n",
       "    <tr>\n",
       "      <th>mean</th>\n",
       "      <td>54623.500000</td>\n",
       "      <td>11.153165</td>\n",
       "      <td>0.848583</td>\n",
       "      <td>298.119343</td>\n",
       "      <td>16.965610</td>\n",
       "      <td>0.210069</td>\n",
       "      <td>4.329754</td>\n",
       "      <td>151.406369</td>\n",
       "    </tr>\n",
       "    <tr>\n",
       "      <th>std</th>\n",
       "      <td>31537.325441</td>\n",
       "      <td>27.777154</td>\n",
       "      <td>0.358456</td>\n",
       "      <td>367.498030</td>\n",
       "      <td>26.182942</td>\n",
       "      <td>0.083568</td>\n",
       "      <td>1.779834</td>\n",
       "      <td>38.986772</td>\n",
       "    </tr>\n",
       "    <tr>\n",
       "      <th>min</th>\n",
       "      <td>0.000000</td>\n",
       "      <td>0.000000</td>\n",
       "      <td>0.000000</td>\n",
       "      <td>0.660000</td>\n",
       "      <td>1.000000</td>\n",
       "      <td>-0.189744</td>\n",
       "      <td>1.000000</td>\n",
       "      <td>76.000000</td>\n",
       "    </tr>\n",
       "    <tr>\n",
       "      <th>25%</th>\n",
       "      <td>27311.750000</td>\n",
       "      <td>0.000000</td>\n",
       "      <td>1.000000</td>\n",
       "      <td>104.310000</td>\n",
       "      <td>4.000000</td>\n",
       "      <td>0.154350</td>\n",
       "      <td>3.000000</td>\n",
       "      <td>121.000000</td>\n",
       "    </tr>\n",
       "    <tr>\n",
       "      <th>50%</th>\n",
       "      <td>54623.500000</td>\n",
       "      <td>2.000000</td>\n",
       "      <td>1.000000</td>\n",
       "      <td>206.220000</td>\n",
       "      <td>9.000000</td>\n",
       "      <td>0.208285</td>\n",
       "      <td>4.000000</td>\n",
       "      <td>141.000000</td>\n",
       "    </tr>\n",
       "    <tr>\n",
       "      <th>75%</th>\n",
       "      <td>81935.250000</td>\n",
       "      <td>9.000000</td>\n",
       "      <td>1.000000</td>\n",
       "      <td>379.000000</td>\n",
       "      <td>21.000000</td>\n",
       "      <td>0.264347</td>\n",
       "      <td>5.000000</td>\n",
       "      <td>172.000000</td>\n",
       "    </tr>\n",
       "    <tr>\n",
       "      <th>max</th>\n",
       "      <td>109247.000000</td>\n",
       "      <td>451.000000</td>\n",
       "      <td>1.000000</td>\n",
       "      <td>9999.000000</td>\n",
       "      <td>930.000000</td>\n",
       "      <td>0.663333</td>\n",
       "      <td>18.000000</td>\n",
       "      <td>339.000000</td>\n",
       "    </tr>\n",
       "  </tbody>\n",
       "</table>\n",
       "</div>"
      ],
      "text/plain": [
       "          Unnamed: 0  ...  No of words in essay\n",
       "count  109248.000000  ...         109248.000000\n",
       "mean    54623.500000  ...            151.406369\n",
       "std     31537.325441  ...             38.986772\n",
       "min         0.000000  ...             76.000000\n",
       "25%     27311.750000  ...            121.000000\n",
       "50%     54623.500000  ...            141.000000\n",
       "75%     81935.250000  ...            172.000000\n",
       "max    109247.000000  ...            339.000000\n",
       "\n",
       "[8 rows x 8 columns]"
      ]
     },
     "execution_count": 5,
     "metadata": {
      "tags": []
     },
     "output_type": "execute_result"
    }
   ],
   "source": [
    "data.describe()"
   ]
  },
  {
   "cell_type": "code",
   "execution_count": 6,
   "metadata": {
    "colab": {
     "base_uri": "https://localhost:8080/",
     "height": 352
    },
    "colab_type": "code",
    "id": "ptbi4736kPSw",
    "outputId": "655084a1-f81f-41bc-e209-c8fd5b5490fb",
    "scrolled": true
   },
   "outputs": [
    {
     "data": {
      "text/html": [
       "<div>\n",
       "<style scoped>\n",
       "    .dataframe tbody tr th:only-of-type {\n",
       "        vertical-align: middle;\n",
       "    }\n",
       "\n",
       "    .dataframe tbody tr th {\n",
       "        vertical-align: top;\n",
       "    }\n",
       "\n",
       "    .dataframe thead th {\n",
       "        text-align: right;\n",
       "    }\n",
       "</style>\n",
       "<table border=\"1\" class=\"dataframe\">\n",
       "  <thead>\n",
       "    <tr style=\"text-align: right;\">\n",
       "      <th></th>\n",
       "      <th>Unnamed: 0</th>\n",
       "      <th>school_state</th>\n",
       "      <th>teacher_prefix</th>\n",
       "      <th>project_grade_category</th>\n",
       "      <th>teacher_number_of_previously_posted_projects</th>\n",
       "      <th>clean_categories</th>\n",
       "      <th>clean_subcategories</th>\n",
       "      <th>essay</th>\n",
       "      <th>price</th>\n",
       "      <th>title</th>\n",
       "      <th>quantity</th>\n",
       "      <th>sentiment_score</th>\n",
       "      <th>No of words in project title</th>\n",
       "      <th>No of words in essay</th>\n",
       "    </tr>\n",
       "  </thead>\n",
       "  <tbody>\n",
       "    <tr>\n",
       "      <th>0</th>\n",
       "      <td>0</td>\n",
       "      <td>ca</td>\n",
       "      <td>mrs</td>\n",
       "      <td>grades_prek_2</td>\n",
       "      <td>53</td>\n",
       "      <td>math_science</td>\n",
       "      <td>appliedsciences health_lifescience</td>\n",
       "      <td>i fortunate enough use fairy tale stem kits cl...</td>\n",
       "      <td>725.05</td>\n",
       "      <td>educational support english learners home</td>\n",
       "      <td>23</td>\n",
       "      <td>0.323506</td>\n",
       "      <td>5</td>\n",
       "      <td>175</td>\n",
       "    </tr>\n",
       "    <tr>\n",
       "      <th>1</th>\n",
       "      <td>1</td>\n",
       "      <td>ut</td>\n",
       "      <td>ms</td>\n",
       "      <td>grades_3_5</td>\n",
       "      <td>4</td>\n",
       "      <td>specialneeds</td>\n",
       "      <td>specialneeds</td>\n",
       "      <td>imagine 8 9 years old you third grade classroo...</td>\n",
       "      <td>213.03</td>\n",
       "      <td>wanted projector hungry learners</td>\n",
       "      <td>1</td>\n",
       "      <td>0.293008</td>\n",
       "      <td>4</td>\n",
       "      <td>179</td>\n",
       "    </tr>\n",
       "  </tbody>\n",
       "</table>\n",
       "</div>"
      ],
      "text/plain": [
       "   Unnamed: 0 school_state  ... No of words in project title No of words in essay\n",
       "0           0           ca  ...                            5                  175\n",
       "1           1           ut  ...                            4                  179\n",
       "\n",
       "[2 rows x 14 columns]"
      ]
     },
     "execution_count": 6,
     "metadata": {
      "tags": []
     },
     "output_type": "execute_result"
    }
   ],
   "source": [
    "y = data['project_is_approved'].values\n",
    "X = data.drop(['project_is_approved'], axis=1)\n",
    "X.head(2)"
   ]
  },
  {
   "cell_type": "code",
   "execution_count": 7,
   "metadata": {
    "colab": {
     "base_uri": "https://localhost:8080/",
     "height": 34
    },
    "colab_type": "code",
    "id": "3mw3Q87KkPSx",
    "outputId": "efa925ed-fc1b-466c-e4cb-511ffea71b5d"
   },
   "outputs": [
    {
     "name": "stdout",
     "output_type": "stream",
     "text": [
      "(109248, 1)\n"
     ]
    }
   ],
   "source": [
    "y = y.reshape(-1,1)\n",
    "print(y.shape)"
   ]
  },
  {
   "cell_type": "markdown",
   "metadata": {
    "colab_type": "text",
    "id": "V-nnlOFJkPSz"
   },
   "source": [
    "### Splitting the data"
   ]
  },
  {
   "cell_type": "code",
   "execution_count": 0,
   "metadata": {
    "colab": {},
    "colab_type": "code",
    "id": "mFwGfiJmkPS0"
   },
   "outputs": [],
   "source": [
    "from sklearn.model_selection import train_test_split\n",
    "data_train, data_test, label_train, label_test = train_test_split(X, y, test_size=0.33, stratify=y, random_state=42)"
   ]
  },
  {
   "cell_type": "code",
   "execution_count": 9,
   "metadata": {
    "colab": {
     "base_uri": "https://localhost:8080/",
     "height": 85
    },
    "colab_type": "code",
    "id": "cGxuiqikkPS1",
    "outputId": "53dbe30b-6ede-4fe3-c99f-2e5467510f0d"
   },
   "outputs": [
    {
     "name": "stdout",
     "output_type": "stream",
     "text": [
      "(73196, 14)\n",
      "(36052, 14)\n",
      "(73196, 1)\n",
      "(36052, 1)\n"
     ]
    }
   ],
   "source": [
    "print(data_train.shape)\n",
    "print(data_test.shape)\n",
    "print(label_train.shape)\n",
    "print(label_test.shape)"
   ]
  },
  {
   "cell_type": "code",
   "execution_count": 0,
   "metadata": {
    "colab": {},
    "colab_type": "code",
    "id": "RkAq5aHpkPS3"
   },
   "outputs": [],
   "source": [
    "X_train = data_train\n",
    "X_test = data_test\n",
    "y_train = label_train\n",
    "y_test = label_test"
   ]
  },
  {
   "cell_type": "code",
   "execution_count": 0,
   "metadata": {
    "colab": {
     "base_uri": "https://localhost:8080/",
     "height": 85
    },
    "colab_type": "code",
    "id": "ekVEiaqGkPS4",
    "outputId": "e79ea1c1-d8af-4f08-9a00-d4c6e4f5f580"
   },
   "outputs": [
    {
     "name": "stdout",
     "output_type": "stream",
     "text": [
      "(73196, 14)\n",
      "(36052, 14)\n",
      "(73196, 1)\n",
      "(36052, 1)\n"
     ]
    }
   ],
   "source": [
    "print(X_train.shape)\n",
    "print(X_test.shape)\n",
    "print(y_train.shape)\n",
    "print(y_test.shape)"
   ]
  },
  {
   "cell_type": "markdown",
   "metadata": {
    "colab_type": "text",
    "id": "vFPlG-ldkPS7"
   },
   "source": [
    "## 1. Vectorizing all features"
   ]
  },
  {
   "cell_type": "markdown",
   "metadata": {
    "colab_type": "text",
    "id": "YiowPl4-kPS7"
   },
   "source": [
    "### 1.1 School State"
   ]
  },
  {
   "cell_type": "code",
   "execution_count": 0,
   "metadata": {
    "colab": {},
    "colab_type": "code",
    "id": "Sb2Qmf6CkPS8"
   },
   "outputs": [],
   "source": [
    "from sklearn.feature_extraction.text import CountVectorizer\n",
    "vectorizer_1 = CountVectorizer(list(X_train['school_state'].values), lowercase=False, binary=True)"
   ]
  },
  {
   "cell_type": "code",
   "execution_count": 0,
   "metadata": {
    "colab": {},
    "colab_type": "code",
    "id": "7Oe5ICY8kPS9"
   },
   "outputs": [],
   "source": [
    "X_train_Sstate = vectorizer_1.fit_transform(X_train['school_state'].values)\n",
    "X_test_Sstate = vectorizer_1.transform(X_test['school_state'].values)"
   ]
  },
  {
   "cell_type": "code",
   "execution_count": 13,
   "metadata": {
    "colab": {
     "base_uri": "https://localhost:8080/",
     "height": 51
    },
    "colab_type": "code",
    "id": "4iMJhj4TkPS_",
    "outputId": "ffe253f9-5726-44c4-8910-dd9dd865b178"
   },
   "outputs": [
    {
     "name": "stdout",
     "output_type": "stream",
     "text": [
      "(73196, 51)\n",
      "(36052, 51)\n"
     ]
    }
   ],
   "source": [
    "print(X_train_Sstate.shape)\n",
    "print(X_test_Sstate.shape)"
   ]
  },
  {
   "cell_type": "markdown",
   "metadata": {
    "colab_type": "text",
    "id": "itg5xoYdkPTA"
   },
   "source": [
    "### 1.2 Clean Categories"
   ]
  },
  {
   "cell_type": "code",
   "execution_count": 0,
   "metadata": {
    "colab": {},
    "colab_type": "code",
    "id": "DXBaOzH5kPTB"
   },
   "outputs": [],
   "source": [
    "vectorizer_2 = CountVectorizer(list(X_train['clean_categories'].values), lowercase=False, binary=True)"
   ]
  },
  {
   "cell_type": "code",
   "execution_count": 0,
   "metadata": {
    "colab": {},
    "colab_type": "code",
    "id": "05bFtKmykPTD"
   },
   "outputs": [],
   "source": [
    "X_train_cat = vectorizer_2.fit_transform(X_train['clean_categories'].values)\n",
    "X_test_cat = vectorizer_2.transform(X_test['clean_categories'].values)"
   ]
  },
  {
   "cell_type": "code",
   "execution_count": 16,
   "metadata": {
    "colab": {
     "base_uri": "https://localhost:8080/",
     "height": 51
    },
    "colab_type": "code",
    "id": "LHvsgL8ykPTE",
    "outputId": "d3887656-672b-4533-afa2-d121901b53d4"
   },
   "outputs": [
    {
     "name": "stdout",
     "output_type": "stream",
     "text": [
      "(73196, 9)\n",
      "(36052, 9)\n"
     ]
    }
   ],
   "source": [
    "print(X_train_cat.shape)\n",
    "print(X_test_cat.shape)"
   ]
  },
  {
   "cell_type": "markdown",
   "metadata": {
    "colab_type": "text",
    "id": "ZNkT6tWCkPTG"
   },
   "source": [
    "### 1.3 Clean Sub categories"
   ]
  },
  {
   "cell_type": "code",
   "execution_count": 0,
   "metadata": {
    "colab": {},
    "colab_type": "code",
    "id": "g2sV3oilkPTG"
   },
   "outputs": [],
   "source": [
    "vectorizer_3 = CountVectorizer(list(X_train['clean_subcategories'].values), lowercase=False, binary=True)"
   ]
  },
  {
   "cell_type": "code",
   "execution_count": 0,
   "metadata": {
    "colab": {},
    "colab_type": "code",
    "id": "pmQBb1vskPTI"
   },
   "outputs": [],
   "source": [
    "X_train_subcat = vectorizer_3.fit_transform(X_train['clean_subcategories'].values)\n",
    "X_test_subcat = vectorizer_3.transform(X_test['clean_subcategories'].values)"
   ]
  },
  {
   "cell_type": "code",
   "execution_count": 19,
   "metadata": {
    "colab": {
     "base_uri": "https://localhost:8080/",
     "height": 51
    },
    "colab_type": "code",
    "id": "0I5z-z9KkPTJ",
    "outputId": "c1eb0779-b1a5-4136-e442-e3bfc6ac968d"
   },
   "outputs": [
    {
     "name": "stdout",
     "output_type": "stream",
     "text": [
      "(73196, 30)\n",
      "(36052, 30)\n"
     ]
    }
   ],
   "source": [
    "print(X_train_subcat.shape)\n",
    "print(X_test_subcat.shape)"
   ]
  },
  {
   "cell_type": "markdown",
   "metadata": {
    "colab_type": "text",
    "id": "PD6k6Qq1kPTL"
   },
   "source": [
    "### 1.4 Project Grade Category"
   ]
  },
  {
   "cell_type": "code",
   "execution_count": 0,
   "metadata": {
    "colab": {},
    "colab_type": "code",
    "id": "M_2W9-5dkPTL"
   },
   "outputs": [],
   "source": [
    "vectorizer_4 = CountVectorizer(list(X_train['project_grade_category'].values), lowercase=False, binary=True)"
   ]
  },
  {
   "cell_type": "code",
   "execution_count": 0,
   "metadata": {
    "colab": {},
    "colab_type": "code",
    "id": "_-jIDHovkPTO"
   },
   "outputs": [],
   "source": [
    "X_train_grade = vectorizer_4.fit_transform(X_train['project_grade_category'].values)\n",
    "X_test_grade = vectorizer_4.transform(X_test['project_grade_category'].values)"
   ]
  },
  {
   "cell_type": "code",
   "execution_count": 22,
   "metadata": {
    "colab": {
     "base_uri": "https://localhost:8080/",
     "height": 51
    },
    "colab_type": "code",
    "id": "qOjcqZyskPTQ",
    "outputId": "0f7ed96a-5fee-4ba9-bc91-ed849e999813"
   },
   "outputs": [
    {
     "name": "stdout",
     "output_type": "stream",
     "text": [
      "(73196, 4)\n",
      "(36052, 4)\n"
     ]
    }
   ],
   "source": [
    "print(X_train_grade.shape)\n",
    "print(X_test_grade.shape)"
   ]
  },
  {
   "cell_type": "markdown",
   "metadata": {
    "colab_type": "text",
    "id": "QbIV3s87kPTR"
   },
   "source": [
    "### 1.5 Teacher Prefix"
   ]
  },
  {
   "cell_type": "code",
   "execution_count": 0,
   "metadata": {
    "colab": {},
    "colab_type": "code",
    "id": "sV7P4e5dkPTS"
   },
   "outputs": [],
   "source": [
    "vectorizer_5 = CountVectorizer(list(X_train['teacher_prefix'].values), lowercase=False, binary=True)"
   ]
  },
  {
   "cell_type": "code",
   "execution_count": 0,
   "metadata": {
    "colab": {},
    "colab_type": "code",
    "id": "FfXs-oCHkPTT"
   },
   "outputs": [],
   "source": [
    "X_train_prefix = vectorizer_5.fit_transform(X_train['teacher_prefix'].values)\n",
    "X_test_prefix = vectorizer_5.transform(X_test['teacher_prefix'].values)"
   ]
  },
  {
   "cell_type": "code",
   "execution_count": 25,
   "metadata": {
    "colab": {
     "base_uri": "https://localhost:8080/",
     "height": 51
    },
    "colab_type": "code",
    "id": "OauPPjaYkPTV",
    "outputId": "902a1389-0453-4e26-92e5-9e9171f2e777"
   },
   "outputs": [
    {
     "name": "stdout",
     "output_type": "stream",
     "text": [
      "(73196, 5)\n",
      "(36052, 5)\n"
     ]
    }
   ],
   "source": [
    "print(X_train_prefix.shape)\n",
    "print(X_test_prefix.shape)"
   ]
  },
  {
   "cell_type": "markdown",
   "metadata": {
    "colab_type": "text",
    "id": "GKRJQN3lkPTX"
   },
   "source": [
    "### 1.6 Essay"
   ]
  },
  {
   "cell_type": "markdown",
   "metadata": {
    "colab_type": "text",
    "id": "BaijcImmkPTX"
   },
   "source": [
    "#### 1.6.1 BOW"
   ]
  },
  {
   "cell_type": "code",
   "execution_count": 0,
   "metadata": {
    "colab": {},
    "colab_type": "code",
    "id": "HE8B7gUSkPTX"
   },
   "outputs": [],
   "source": [
    "vectorizer_6 = CountVectorizer(list(X_train['essay'].values), min_df=10, max_features=5000,ngram_range=(2,2))"
   ]
  },
  {
   "cell_type": "code",
   "execution_count": 0,
   "metadata": {
    "colab": {},
    "colab_type": "code",
    "id": "wbAFFEjJkPTZ"
   },
   "outputs": [],
   "source": [
    "#We are considering the words which occur in atleat 10 documents and max_features=5000 because we need only those important 5000 words\n",
    "X_train_essay_bow = vectorizer_6.fit_transform(X_train['essay'].values)\n",
    "X_test_essay_bow = vectorizer_6.transform(X_test['essay'].values)"
   ]
  },
  {
   "cell_type": "code",
   "execution_count": 28,
   "metadata": {
    "colab": {
     "base_uri": "https://localhost:8080/",
     "height": 51
    },
    "colab_type": "code",
    "id": "_B5ypzuVkPTc",
    "outputId": "9db95a39-dfdd-4252-8095-78784a1355fd"
   },
   "outputs": [
    {
     "name": "stdout",
     "output_type": "stream",
     "text": [
      "(73196, 5000)\n",
      "(36052, 5000)\n"
     ]
    }
   ],
   "source": [
    "print(X_train_essay_bow.shape)\n",
    "print(X_test_essay_bow.shape)"
   ]
  },
  {
   "cell_type": "markdown",
   "metadata": {
    "colab_type": "text",
    "id": "0WANDDPekPTd"
   },
   "source": [
    "#### 1.6.2 TFIDF "
   ]
  },
  {
   "cell_type": "code",
   "execution_count": 0,
   "metadata": {
    "colab": {},
    "colab_type": "code",
    "id": "NhWSmgw4kPTe"
   },
   "outputs": [],
   "source": [
    "from sklearn.feature_extraction.text import TfidfVectorizer\n",
    "vectorizer_7 = TfidfVectorizer(list(X_train['essay'].values), min_df=10, max_features=5000, ngram_range=(2,2))"
   ]
  },
  {
   "cell_type": "code",
   "execution_count": 0,
   "metadata": {
    "colab": {},
    "colab_type": "code",
    "id": "HlhyQM_RkPTf"
   },
   "outputs": [],
   "source": [
    "X_train_essay_tfidf = vectorizer_7.fit_transform(X_train['essay'].values)\n",
    "X_test_essay_tfidf = vectorizer_7.transform(X_test['essay'].values)"
   ]
  },
  {
   "cell_type": "code",
   "execution_count": 31,
   "metadata": {
    "colab": {
     "base_uri": "https://localhost:8080/",
     "height": 51
    },
    "colab_type": "code",
    "id": "g4MmCRiZkPTh",
    "outputId": "5ece8e2d-70d3-42df-8648-7ea00242d006"
   },
   "outputs": [
    {
     "name": "stdout",
     "output_type": "stream",
     "text": [
      "(73196, 5000)\n",
      "(36052, 5000)\n"
     ]
    }
   ],
   "source": [
    "print(X_train_essay_tfidf.shape)\n",
    "print(X_test_essay_tfidf.shape)"
   ]
  },
  {
   "cell_type": "markdown",
   "metadata": {
    "colab_type": "text",
    "id": "aqNIMYtBkPTi"
   },
   "source": [
    "#### 1.6.3 AvgW2V"
   ]
  },
  {
   "cell_type": "code",
   "execution_count": 0,
   "metadata": {
    "colab": {},
    "colab_type": "code",
    "id": "-RSwnOZnkPTj"
   },
   "outputs": [],
   "source": [
    "#Unpickling\n",
    "import pickle\n",
    "with open('/content/drive/My Drive/Applied AI/Datasets/New Donors/glove_vectors', 'rb') as f:\n",
    "    model = pickle.load(f)\n",
    "    glove_words = set(model.keys())"
   ]
  },
  {
   "cell_type": "code",
   "execution_count": 33,
   "metadata": {
    "colab": {
     "base_uri": "https://localhost:8080/",
     "height": 51
    },
    "colab_type": "code",
    "id": "XdsuYhdMkPTk",
    "outputId": "aa4917f9-7263-4e7c-c630-a1e24b18f2d7"
   },
   "outputs": [
    {
     "name": "stderr",
     "output_type": "stream",
     "text": [
      "100%|██████████| 73196/73196 [00:22<00:00, 3299.28it/s]\n",
      "100%|██████████| 36052/36052 [00:11<00:00, 3228.37it/s]\n"
     ]
    }
   ],
   "source": [
    "X_train_essay_avg_w2v = []\n",
    "X_test_essay_avg_w2v = []\n",
    "\n",
    "for i in tqdm(X_train['essay']):\n",
    "    vector = np.zeros(300)\n",
    "    cnt_words = 0\n",
    "    \n",
    "    for word in i.split():\n",
    "        if word in glove_words:\n",
    "            vector += model[word]\n",
    "            cnt_words +=1\n",
    "            \n",
    "    if cnt_words !=0:\n",
    "            vector /= cnt_words\n",
    "            \n",
    "    X_train_essay_avg_w2v.append(vector)\n",
    "    \n",
    "for i in tqdm(X_test['essay']):\n",
    "    vector = np.zeros(300)\n",
    "    cnt_words = 0\n",
    "    for word in i.split():\n",
    "        if word in glove_words :\n",
    "            vector += model[word]\n",
    "            cnt_words += 1\n",
    "            \n",
    "    if cnt_words != 0:\n",
    "        vector /= cnt_words\n",
    "    X_test_essay_avg_w2v.append(vector)"
   ]
  },
  {
   "cell_type": "code",
   "execution_count": 34,
   "metadata": {
    "colab": {
     "base_uri": "https://localhost:8080/",
     "height": 102
    },
    "colab_type": "code",
    "id": "vBUFXLeEkPTl",
    "outputId": "a7b700e3-fc0b-46b8-ffa4-529c9179985a"
   },
   "outputs": [
    {
     "name": "stdout",
     "output_type": "stream",
     "text": [
      "73196\n",
      "300\n",
      "==================================================\n",
      "36052\n",
      "300\n"
     ]
    }
   ],
   "source": [
    "print(len(X_train_essay_avg_w2v))\n",
    "print(len(X_train_essay_avg_w2v[0]))\n",
    "print('='*50)\n",
    "print(len(X_test_essay_avg_w2v))\n",
    "print(len(X_test_essay_avg_w2v[0]))"
   ]
  },
  {
   "cell_type": "markdown",
   "metadata": {
    "colab_type": "text",
    "id": "sV6V_D79kPTn"
   },
   "source": [
    "#### 1.6.4 TFIDF W2V"
   ]
  },
  {
   "cell_type": "code",
   "execution_count": 0,
   "metadata": {
    "colab": {},
    "colab_type": "code",
    "id": "xB5AzRLpkPTn"
   },
   "outputs": [],
   "source": [
    "from sklearn.feature_extraction.text import TfidfVectorizer\n",
    "Tf_idf_model = TfidfVectorizer()\n",
    "Tf_idf_model.fit(X_train['essay'])\n",
    "\n",
    "dictionary = dict(zip(Tf_idf_model.get_feature_names(), Tf_idf_model.idf_))\n",
    "tf_idf_words = set(Tf_idf_model.get_feature_names())"
   ]
  },
  {
   "cell_type": "code",
   "execution_count": 36,
   "metadata": {
    "colab": {
     "base_uri": "https://localhost:8080/",
     "height": 51
    },
    "colab_type": "code",
    "id": "q5OGzXk4kPTo",
    "outputId": "f8d422ef-2a34-45a9-b81a-ae1033d6cdbe"
   },
   "outputs": [
    {
     "name": "stderr",
     "output_type": "stream",
     "text": [
      "100%|██████████| 73196/73196 [02:35<00:00, 472.09it/s]\n",
      "100%|██████████| 36052/36052 [01:14<00:00, 467.14it/s]\n"
     ]
    }
   ],
   "source": [
    "# TFIDF Word2Vec\n",
    "# compute TFIDF word2vec for each review.\n",
    "X_train_essay_tfidf_w2v = []; # the avg-w2v for each sentence/review is stored in this list\n",
    "for sentence in tqdm(X_train['essay']): # for each review/sentence\n",
    "    vector = np.zeros(300) # as word vectors are of zero length\n",
    "    tf_idf_weight =0; # num of words with a valid vector in the sentence/review\n",
    "    for word in sentence.split(): # for each word in a review/sentence\n",
    "        if (word in glove_words) and (word in tf_idf_words):\n",
    "            vec = model[word] # getting the vector for each word\n",
    "            # here we are multiplying idf value(dictionary[word]) and the tf value((sentence.count(word)/len(sentence.split())))\n",
    "            tf_idf = dictionary[word]*(sentence.count(word)/len(sentence.split())) # getting the tfidf value for each word\n",
    "            vector += (vec * tf_idf) # calculating tfidf weighted w2v\n",
    "            tf_idf_weight += tf_idf\n",
    "    if tf_idf_weight != 0:\n",
    "        vector /= tf_idf_weight\n",
    "    X_train_essay_tfidf_w2v.append(vector)\n",
    "    \n",
    "    \n",
    "X_test_essay_tfidf_w2v = []; # the avg-w2v for each sentence/review is stored in this list\n",
    "for sentence in tqdm(X_test['essay']): # for each review/sentence\n",
    "    vector = np.zeros(300) # as word vectors are of zero length\n",
    "    tf_idf_weight =0; # num of words with a valid vector in the sentence/review\n",
    "    for word in sentence.split(): # for each word in a review/sentence\n",
    "        if (word in glove_words) and (word in tf_idf_words):\n",
    "            vec = model[word] # getting the vector for each word\n",
    "            # here we are multiplying idf value(dictionary[word]) and the tf value((sentence.count(word)/len(sentence.split())))\n",
    "            tf_idf = dictionary[word]*(sentence.count(word)/len(sentence.split())) # getting the tfidf value for each word\n",
    "            vector += (vec * tf_idf) # calculating tfidf weighted w2v\n",
    "            tf_idf_weight += tf_idf\n",
    "    if tf_idf_weight != 0:\n",
    "        vector /= tf_idf_weight\n",
    "    X_test_essay_tfidf_w2v.append(vector)"
   ]
  },
  {
   "cell_type": "code",
   "execution_count": 37,
   "metadata": {
    "colab": {
     "base_uri": "https://localhost:8080/",
     "height": 51
    },
    "colab_type": "code",
    "id": "ywlULY5UkPTp",
    "outputId": "70907959-0b32-4201-ad29-f6a10717cc64"
   },
   "outputs": [
    {
     "name": "stdout",
     "output_type": "stream",
     "text": [
      "73196\n",
      "36052\n"
     ]
    }
   ],
   "source": [
    "print(len(X_train_essay_tfidf_w2v))\n",
    "print(len(X_test_essay_tfidf_w2v))"
   ]
  },
  {
   "cell_type": "markdown",
   "metadata": {
    "colab_type": "text",
    "id": "1CKgjpY9kPTq"
   },
   "source": [
    "### 1.7 Project Title"
   ]
  },
  {
   "cell_type": "markdown",
   "metadata": {
    "colab_type": "text",
    "id": "yul6OOdSkPTr"
   },
   "source": [
    "#### 1.7.1 BOW"
   ]
  },
  {
   "cell_type": "code",
   "execution_count": 0,
   "metadata": {
    "colab": {},
    "colab_type": "code",
    "id": "ZDPNtoqlkPTr"
   },
   "outputs": [],
   "source": [
    "vectorizer_8 = CountVectorizer(list(X_train['title'].values), min_df=10)"
   ]
  },
  {
   "cell_type": "code",
   "execution_count": 0,
   "metadata": {
    "colab": {},
    "colab_type": "code",
    "id": "z4AyjV4xkPTt"
   },
   "outputs": [],
   "source": [
    "X_train_title_bow = vectorizer_8.fit_transform(X_train['title'].values)\n",
    "X_test_title_bow = vectorizer_8.transform(X_test['title'].values)"
   ]
  },
  {
   "cell_type": "code",
   "execution_count": 40,
   "metadata": {
    "colab": {
     "base_uri": "https://localhost:8080/",
     "height": 51
    },
    "colab_type": "code",
    "id": "VfeODUv9kPTu",
    "outputId": "e5519c14-92be-4947-d166-7f1e636e9637"
   },
   "outputs": [
    {
     "name": "stdout",
     "output_type": "stream",
     "text": [
      "(73196, 2617)\n",
      "(36052, 2617)\n"
     ]
    }
   ],
   "source": [
    "print(X_train_title_bow.shape)\n",
    "print(X_test_title_bow.shape)"
   ]
  },
  {
   "cell_type": "markdown",
   "metadata": {
    "colab_type": "text",
    "id": "seHl9Tn-kPTw"
   },
   "source": [
    "#### 1.7.2 TFIDF"
   ]
  },
  {
   "cell_type": "code",
   "execution_count": 0,
   "metadata": {
    "colab": {},
    "colab_type": "code",
    "id": "zt2VcwR2kPTx"
   },
   "outputs": [],
   "source": [
    "vectorizer_9 = TfidfVectorizer(list(X_train['title'].values), min_df=10)"
   ]
  },
  {
   "cell_type": "code",
   "execution_count": 0,
   "metadata": {
    "colab": {},
    "colab_type": "code",
    "id": "UXVq7pP7kPTy"
   },
   "outputs": [],
   "source": [
    "X_train_title_tfidf = vectorizer_9.fit_transform(X_train['title'].values)\n",
    "X_test_title_tfidf = vectorizer_9.transform(X_test['title'].values)"
   ]
  },
  {
   "cell_type": "code",
   "execution_count": 43,
   "metadata": {
    "colab": {
     "base_uri": "https://localhost:8080/",
     "height": 51
    },
    "colab_type": "code",
    "id": "1mXNlCI0kPT1",
    "outputId": "c9c7d1b1-6fdc-47d7-c56e-4b517106b2f3"
   },
   "outputs": [
    {
     "name": "stdout",
     "output_type": "stream",
     "text": [
      "(73196, 2617)\n",
      "(36052, 2617)\n"
     ]
    }
   ],
   "source": [
    "print(X_train_title_tfidf.shape)\n",
    "print(X_test_title_tfidf.shape)"
   ]
  },
  {
   "cell_type": "markdown",
   "metadata": {
    "colab_type": "text",
    "id": "MmcK7QZCkPT2"
   },
   "source": [
    "#### 1.7.3 AvgW2V"
   ]
  },
  {
   "cell_type": "code",
   "execution_count": 44,
   "metadata": {
    "colab": {
     "base_uri": "https://localhost:8080/",
     "height": 51
    },
    "colab_type": "code",
    "id": "z8g55-lzkPT2",
    "outputId": "11307545-5fe3-4876-9b55-5b433a691589"
   },
   "outputs": [
    {
     "name": "stderr",
     "output_type": "stream",
     "text": [
      "100%|██████████| 73196/73196 [00:01<00:00, 58663.26it/s]\n",
      "100%|██████████| 36052/36052 [00:00<00:00, 58402.45it/s]\n"
     ]
    }
   ],
   "source": [
    "#Avgw2V vector for preprcessed essay\n",
    "\n",
    "X_train_title_avg_w2v = []\n",
    "X_test_title_avg_w2v = []\n",
    "\n",
    "for i in tqdm(X_train['title']):\n",
    "    vector = np.zeros(300)\n",
    "    cnt_words = 0\n",
    "    \n",
    "    for word in i.split():\n",
    "        if word in glove_words:\n",
    "            vector += model[word]\n",
    "            cnt_words +=1\n",
    "            \n",
    "    if cnt_words !=0:\n",
    "            vector /= cnt_words\n",
    "            \n",
    "    X_train_title_avg_w2v.append(vector)\n",
    "    \n",
    "for i in tqdm(X_test['title']):\n",
    "    vector = np.zeros(300)\n",
    "    cnt_words = 0\n",
    "    \n",
    "    for word in i.split():\n",
    "        if word in glove_words:\n",
    "            vector += model[word]\n",
    "            cnt_words +=1\n",
    "            \n",
    "    if cnt_words !=0:\n",
    "            vector /= cnt_words\n",
    "            \n",
    "    X_test_title_avg_w2v.append(vector)"
   ]
  },
  {
   "cell_type": "code",
   "execution_count": 45,
   "metadata": {
    "colab": {
     "base_uri": "https://localhost:8080/",
     "height": 102
    },
    "colab_type": "code",
    "id": "q_TFHxBpkPT4",
    "outputId": "8116687e-f0c6-4b71-9b4b-e228aaffcc0d"
   },
   "outputs": [
    {
     "name": "stdout",
     "output_type": "stream",
     "text": [
      "73196\n",
      "300\n",
      "==================================================\n",
      "36052\n",
      "300\n"
     ]
    }
   ],
   "source": [
    "print(len(X_train_title_avg_w2v))\n",
    "print(len(X_train_title_avg_w2v[0]))\n",
    "print('='*50)\n",
    "print(len(X_test_title_avg_w2v))\n",
    "print(len(X_test_title_avg_w2v[0]))\n"
   ]
  },
  {
   "cell_type": "markdown",
   "metadata": {
    "colab_type": "text",
    "id": "ocButPSpkPT7"
   },
   "source": [
    "#### 1.7.4 TFIDFW2V"
   ]
  },
  {
   "cell_type": "code",
   "execution_count": 0,
   "metadata": {
    "colab": {},
    "colab_type": "code",
    "id": "wR-bFZTfkPT7"
   },
   "outputs": [],
   "source": [
    "#Training\n",
    "Tf_idf_model = TfidfVectorizer()\n",
    "Tf_idf_model.fit(X_train['title'])\n",
    "\n",
    "dictionary = dict(zip(Tf_idf_model.get_feature_names(), Tf_idf_model.idf_))\n",
    "tf_idf_words = set(Tf_idf_model.get_feature_names())"
   ]
  },
  {
   "cell_type": "code",
   "execution_count": 47,
   "metadata": {
    "colab": {
     "base_uri": "https://localhost:8080/",
     "height": 51
    },
    "colab_type": "code",
    "id": "FfnBRU9nkPT8",
    "outputId": "bea40732-ba76-4f20-add6-c492e5b880a3"
   },
   "outputs": [
    {
     "name": "stderr",
     "output_type": "stream",
     "text": [
      "100%|██████████| 73196/73196 [00:02<00:00, 27822.45it/s]\n",
      "100%|██████████| 36052/36052 [00:01<00:00, 27338.38it/s]\n"
     ]
    }
   ],
   "source": [
    "# TFIDF Word2Vec\n",
    "# compute TFIDF word2vec for each review.\n",
    "X_train_title_tfidf_w2v = []; # the avg-w2v for each sentence/review is stored in this list\n",
    "for sentence in tqdm(X_train['title']): # for each review/sentence\n",
    "    vector = np.zeros(300) # as word vectors are of zero length\n",
    "    tf_idf_weight =0; # num of words with a valid vector in the sentence/review\n",
    "    for word in sentence.split(): # for each word in a review/sentence\n",
    "        if (word in glove_words) and (word in tf_idf_words):\n",
    "            vec = model[word] # getting the vector for each word\n",
    "            # here we are multiplying idf value(dictionary[word]) and the tf value((sentence.count(word)/len(sentence.split())))\n",
    "            tf_idf = dictionary[word]*(sentence.count(word)/len(sentence.split())) # getting the tfidf value for each word\n",
    "            vector += (vec * tf_idf) # calculating tfidf weighted w2v\n",
    "            tf_idf_weight += tf_idf\n",
    "    if tf_idf_weight != 0:\n",
    "        vector /= tf_idf_weight\n",
    "    X_train_title_tfidf_w2v.append(vector)\n",
    "    \n",
    "    \n",
    "X_test_title_tfidf_w2v = []; # the avg-w2v for each sentence/review is stored in this list\n",
    "for sentence in tqdm(X_test['title']): # for each review/sentence\n",
    "    vector = np.zeros(300) # as word vectors are of zero length\n",
    "    tf_idf_weight =0; # num of words with a valid vector in the sentence/review\n",
    "    for word in sentence.split(): # for each word in a review/sentence\n",
    "        if (word in glove_words) and (word in tf_idf_words):\n",
    "            vec = model[word] # getting the vector for each word\n",
    "            # here we are multiplying idf value(dictionary[word]) and the tf value((sentence.count(word)/len(sentence.split())))\n",
    "            tf_idf = dictionary[word]*(sentence.count(word)/len(sentence.split())) # getting the tfidf value for each word\n",
    "            vector += (vec * tf_idf) # calculating tfidf weighted w2v\n",
    "            tf_idf_weight += tf_idf\n",
    "    if tf_idf_weight != 0:\n",
    "        vector /= tf_idf_weight\n",
    "    X_test_title_tfidf_w2v.append(vector)"
   ]
  },
  {
   "cell_type": "code",
   "execution_count": 48,
   "metadata": {
    "colab": {
     "base_uri": "https://localhost:8080/",
     "height": 51
    },
    "colab_type": "code",
    "id": "yIpgGkMOkPT9",
    "outputId": "139128db-8044-41e3-c918-3ada38361f56"
   },
   "outputs": [
    {
     "name": "stdout",
     "output_type": "stream",
     "text": [
      "73196\n",
      "36052\n"
     ]
    }
   ],
   "source": [
    "print(len(X_train_title_tfidf_w2v))\n",
    "print(len(X_test_title_tfidf_w2v))"
   ]
  },
  {
   "cell_type": "markdown",
   "metadata": {
    "colab_type": "text",
    "id": "v7bAeavBkPT_"
   },
   "source": [
    "### 1.8 Price"
   ]
  },
  {
   "cell_type": "markdown",
   "metadata": {
    "colab_type": "text",
    "id": "kg14HPvykPT_"
   },
   "source": [
    "#### 1.8.1 Price Unstandardised"
   ]
  },
  {
   "cell_type": "code",
   "execution_count": 0,
   "metadata": {
    "colab": {},
    "colab_type": "code",
    "id": "FfBONHPKkPT_"
   },
   "outputs": [],
   "source": [
    "X_train_price_unstandardized = X_train['price'].values.reshape(-1,1)\n",
    "X_test_price_unstandardized = X_test['price'].values.reshape(-1,1)"
   ]
  },
  {
   "cell_type": "code",
   "execution_count": 50,
   "metadata": {
    "colab": {
     "base_uri": "https://localhost:8080/",
     "height": 51
    },
    "colab_type": "code",
    "id": "W1qjsjFFkPUB",
    "outputId": "5d103582-e75a-4967-f38c-6b24426d453e"
   },
   "outputs": [
    {
     "name": "stdout",
     "output_type": "stream",
     "text": [
      "(73196, 1)\n",
      "(36052, 1)\n"
     ]
    }
   ],
   "source": [
    "print(X_train_price_unstandardized.shape)\n",
    "print(X_test_price_unstandardized.shape)"
   ]
  },
  {
   "cell_type": "markdown",
   "metadata": {
    "colab_type": "text",
    "id": "9pDadAVZkPUC"
   },
   "source": [
    "#### 1.8.2 Price Standardized"
   ]
  },
  {
   "cell_type": "code",
   "execution_count": 0,
   "metadata": {
    "colab": {},
    "colab_type": "code",
    "id": "Uc-mJjR6kPUC"
   },
   "outputs": [],
   "source": [
    "from sklearn.preprocessing import StandardScaler\n",
    "sc_price = StandardScaler()\n",
    "X_train_price = sc_price.fit_transform(X_train['price'].values.reshape(-1,1))\n",
    "X_test_price = sc_price.transform(X_test['price'].values.reshape(-1,1))"
   ]
  },
  {
   "cell_type": "code",
   "execution_count": 52,
   "metadata": {
    "colab": {
     "base_uri": "https://localhost:8080/",
     "height": 51
    },
    "colab_type": "code",
    "id": "bJWXhrdzkPUE",
    "outputId": "cb91da20-3164-43a8-8c82-879b14c1fa8d"
   },
   "outputs": [
    {
     "name": "stdout",
     "output_type": "stream",
     "text": [
      "(73196, 1)\n",
      "(36052, 1)\n"
     ]
    }
   ],
   "source": [
    "print(X_train_price.shape)\n",
    "print(X_test_price.shape)"
   ]
  },
  {
   "cell_type": "markdown",
   "metadata": {
    "colab_type": "text",
    "id": "vy05JvvFkPUF"
   },
   "source": [
    "### 1.9 Previously posted Projects"
   ]
  },
  {
   "cell_type": "markdown",
   "metadata": {
    "colab_type": "text",
    "id": "HJbQ_ahvEprZ"
   },
   "source": [
    "#### 1.9.1 Unstandardized"
   ]
  },
  {
   "cell_type": "code",
   "execution_count": 0,
   "metadata": {
    "colab": {},
    "colab_type": "code",
    "id": "AdtOCQhcEk4W"
   },
   "outputs": [],
   "source": [
    "X_train_previous_unstandardized = X_train['teacher_number_of_previously_posted_projects'].values.reshape(-1,1)\n",
    "X_test_previous_unstandardized = X_test['teacher_number_of_previously_posted_projects'].values.reshape(-1,1)"
   ]
  },
  {
   "cell_type": "code",
   "execution_count": 54,
   "metadata": {
    "colab": {
     "base_uri": "https://localhost:8080/",
     "height": 51
    },
    "colab_type": "code",
    "id": "WJbc4_FYEwBP",
    "outputId": "3e9b25be-d3b5-43c4-cbe2-eaf059c24df1"
   },
   "outputs": [
    {
     "name": "stdout",
     "output_type": "stream",
     "text": [
      "(73196, 1)\n",
      "(36052, 1)\n"
     ]
    }
   ],
   "source": [
    "print(X_train_previous_unstandardized.shape)\n",
    "print(X_test_previous_unstandardized.shape)"
   ]
  },
  {
   "cell_type": "markdown",
   "metadata": {
    "colab_type": "text",
    "id": "vaBoyNvpE0_u"
   },
   "source": [
    "####1.9.2 Standardized"
   ]
  },
  {
   "cell_type": "code",
   "execution_count": 0,
   "metadata": {
    "colab": {},
    "colab_type": "code",
    "id": "5shaPGWtkPUF"
   },
   "outputs": [],
   "source": [
    "from sklearn.preprocessing import StandardScaler\n",
    "sc_previous = StandardScaler()\n",
    "X_train_previous = sc_previous.fit_transform(X_train['teacher_number_of_previously_posted_projects'].values.reshape(-1,1))\n",
    "X_test_previous = sc_previous.transform(X_test['teacher_number_of_previously_posted_projects'].values.reshape(-1,1))"
   ]
  },
  {
   "cell_type": "code",
   "execution_count": 57,
   "metadata": {
    "colab": {
     "base_uri": "https://localhost:8080/",
     "height": 51
    },
    "colab_type": "code",
    "id": "6bACbR0MkPUG",
    "outputId": "89dd461d-5845-491e-abd2-ea0142a73246"
   },
   "outputs": [
    {
     "name": "stdout",
     "output_type": "stream",
     "text": [
      "(73196, 1)\n",
      "(36052, 1)\n"
     ]
    }
   ],
   "source": [
    "print(X_train_previous.shape)\n",
    "print(X_test_previous.shape)"
   ]
  },
  {
   "cell_type": "markdown",
   "metadata": {
    "colab_type": "text",
    "id": "kHF7PrGvkPUH"
   },
   "source": [
    "### 1.10 Quantity"
   ]
  },
  {
   "cell_type": "markdown",
   "metadata": {
    "colab_type": "text",
    "id": "gPa-quIJFPiW"
   },
   "source": [
    "#### 1.10.1 Unstandardized"
   ]
  },
  {
   "cell_type": "code",
   "execution_count": 0,
   "metadata": {
    "colab": {},
    "colab_type": "code",
    "id": "qDKNbBKYkPUI"
   },
   "outputs": [],
   "source": [
    "X_train_quantity_unstandardized = X_train['quantity'].values.reshape(-1,1)\n",
    "X_test_quantity_unstandardized = X_test['quantity'].values.reshape(-1,1)"
   ]
  },
  {
   "cell_type": "code",
   "execution_count": 59,
   "metadata": {
    "colab": {
     "base_uri": "https://localhost:8080/",
     "height": 51
    },
    "colab_type": "code",
    "id": "8h2n8OvQkPUJ",
    "outputId": "db47f11e-70fe-4537-b86a-73f850148aae"
   },
   "outputs": [
    {
     "name": "stdout",
     "output_type": "stream",
     "text": [
      "(73196, 1)\n",
      "(36052, 1)\n"
     ]
    }
   ],
   "source": [
    "print(X_train_quantity_unstandardized.shape)\n",
    "print(X_test_quantity_unstandardized.shape)"
   ]
  },
  {
   "cell_type": "markdown",
   "metadata": {
    "colab_type": "text",
    "id": "E-qb488AFZE8"
   },
   "source": [
    "#### 1.10.2 Standardized"
   ]
  },
  {
   "cell_type": "code",
   "execution_count": 0,
   "metadata": {
    "colab": {},
    "colab_type": "code",
    "id": "B66HpEiLFT-X"
   },
   "outputs": [],
   "source": [
    "sc_quantity = StandardScaler()\n",
    "X_train_quantity = sc_quantity.fit_transform(X_train['quantity'].values.reshape(-1,1))\n",
    "X_test_quantity = sc_quantity.transform(X_test['quantity'].values.reshape(-1,1))"
   ]
  },
  {
   "cell_type": "code",
   "execution_count": 61,
   "metadata": {
    "colab": {
     "base_uri": "https://localhost:8080/",
     "height": 51
    },
    "colab_type": "code",
    "id": "kB3hOsSLFsM5",
    "outputId": "24bb1d07-e6a2-4569-9ead-3f8729c70133"
   },
   "outputs": [
    {
     "name": "stdout",
     "output_type": "stream",
     "text": [
      "(73196, 1)\n",
      "(36052, 1)\n"
     ]
    }
   ],
   "source": [
    "print(X_train_quantity.shape)\n",
    "print(X_test_quantity.shape)"
   ]
  },
  {
   "cell_type": "markdown",
   "metadata": {
    "colab_type": "text",
    "id": "4iJqe0ctkPUM"
   },
   "source": [
    "### 1.11 Sentiment Score"
   ]
  },
  {
   "cell_type": "code",
   "execution_count": 0,
   "metadata": {
    "colab": {},
    "colab_type": "code",
    "id": "fZXOfbInkPUM"
   },
   "outputs": [],
   "source": [
    "X_train_sentiment = X_train['sentiment_score'].values.reshape(-1,1)\n",
    "X_test_sentiment = X_test['sentiment_score'].values.reshape(-1,1)"
   ]
  },
  {
   "cell_type": "code",
   "execution_count": 63,
   "metadata": {
    "colab": {
     "base_uri": "https://localhost:8080/",
     "height": 51
    },
    "colab_type": "code",
    "id": "7oLPWxAckPUN",
    "outputId": "b8c8c03f-2ba9-4061-8087-0e5bc1e633ce"
   },
   "outputs": [
    {
     "name": "stdout",
     "output_type": "stream",
     "text": [
      "(73196, 1)\n",
      "(36052, 1)\n"
     ]
    }
   ],
   "source": [
    "print(X_train_sentiment.shape)\n",
    "print(X_test_sentiment.shape)"
   ]
  },
  {
   "cell_type": "markdown",
   "metadata": {
    "colab_type": "text",
    "id": "HpGwC3NBkPUP"
   },
   "source": [
    "### 1.12 Number of Words in the title"
   ]
  },
  {
   "cell_type": "markdown",
   "metadata": {
    "colab_type": "text",
    "id": "Kds2SdehFzf1"
   },
   "source": [
    "#### 1.12.1 Unstandardized"
   ]
  },
  {
   "cell_type": "code",
   "execution_count": 0,
   "metadata": {
    "colab": {},
    "colab_type": "code",
    "id": "jVJsBavMkPUP"
   },
   "outputs": [],
   "source": [
    "X_train_words_title_unstandardized = X_train['No of words in project title'].values.reshape(-1,1)\n",
    "X_test_words_title_unstandardized = X_test['No of words in project title'].values.reshape(-1,1)"
   ]
  },
  {
   "cell_type": "code",
   "execution_count": 65,
   "metadata": {
    "colab": {
     "base_uri": "https://localhost:8080/",
     "height": 51
    },
    "colab_type": "code",
    "id": "GEJIAvg4kPUQ",
    "outputId": "242e8946-27dd-44e1-948f-5a65aa1c6a2e"
   },
   "outputs": [
    {
     "name": "stdout",
     "output_type": "stream",
     "text": [
      "(73196, 1)\n",
      "(36052, 1)\n"
     ]
    }
   ],
   "source": [
    "print(X_train_words_title_unstandardized.shape)\n",
    "print(X_test_words_title_unstandardized.shape)"
   ]
  },
  {
   "cell_type": "markdown",
   "metadata": {
    "colab_type": "text",
    "id": "qoxry-fRGABG"
   },
   "source": [
    "#### 1.12.2 Standardized"
   ]
  },
  {
   "cell_type": "code",
   "execution_count": 0,
   "metadata": {
    "colab": {},
    "colab_type": "code",
    "id": "-S0u5IbQGDze"
   },
   "outputs": [],
   "source": [
    "sc_title_words = StandardScaler()\n",
    "X_train_words_title = sc_title_words.fit_transform(X_train['No of words in project title'].values.reshape(-1,1))\n",
    "X_test_words_title = sc_title_words.transform(X_test['No of words in project title'].values.reshape(-1,1))"
   ]
  },
  {
   "cell_type": "code",
   "execution_count": 68,
   "metadata": {
    "colab": {
     "base_uri": "https://localhost:8080/",
     "height": 51
    },
    "colab_type": "code",
    "id": "LIbM_36lGbAV",
    "outputId": "a0c4b2aa-3946-4cdf-d32c-00e95ae1ace3"
   },
   "outputs": [
    {
     "name": "stdout",
     "output_type": "stream",
     "text": [
      "(73196, 1)\n",
      "(36052, 1)\n"
     ]
    }
   ],
   "source": [
    "print(X_train_words_title.shape)\n",
    "print(X_test_words_title.shape)"
   ]
  },
  {
   "cell_type": "markdown",
   "metadata": {
    "colab_type": "text",
    "id": "oAmTCMpmkPUR"
   },
   "source": [
    "### 1.13 Number of Words in the essay"
   ]
  },
  {
   "cell_type": "markdown",
   "metadata": {
    "colab_type": "text",
    "id": "R7kMVIVZGpBx"
   },
   "source": [
    "#### 1.13.1 Unstandardized"
   ]
  },
  {
   "cell_type": "code",
   "execution_count": 0,
   "metadata": {
    "colab": {},
    "colab_type": "code",
    "id": "IP8YgsfHkPUR"
   },
   "outputs": [],
   "source": [
    "X_train_words_essay_unstandardized = X_train['No of words in essay'].values.reshape(-1,1)\n",
    "X_test_words_essay_unstandardized = X_test['No of words in essay'].values.reshape(-1,1)"
   ]
  },
  {
   "cell_type": "code",
   "execution_count": 0,
   "metadata": {
    "colab": {
     "base_uri": "https://localhost:8080/",
     "height": 51
    },
    "colab_type": "code",
    "id": "zEk3WWJukPUS",
    "outputId": "4120f7ba-4e61-48c8-ad9e-4748deaa1f36"
   },
   "outputs": [
    {
     "name": "stdout",
     "output_type": "stream",
     "text": [
      "(73196, 1)\n",
      "(36052, 1)\n"
     ]
    }
   ],
   "source": [
    "print(X_train_words_essay_unstandardized.shape)\n",
    "print(X_test_words_essay_unstandardized.shape)"
   ]
  },
  {
   "cell_type": "markdown",
   "metadata": {
    "colab_type": "text",
    "id": "Dmocs2gCGoc2"
   },
   "source": [
    "#### 1.13.2 Standardized"
   ]
  },
  {
   "cell_type": "code",
   "execution_count": 0,
   "metadata": {
    "colab": {},
    "colab_type": "code",
    "id": "ina3KDrBGkt5"
   },
   "outputs": [],
   "source": [
    "sc_essay_words = StandardScaler()\n",
    "X_train_words_essay = sc_essay_words.fit_transform( X_train['No of words in essay'].values.reshape(-1,1))\n",
    "X_test_words_essay = sc_essay_words.transform(X_test['No of words in essay'].values.reshape(-1,1))"
   ]
  },
  {
   "cell_type": "code",
   "execution_count": 70,
   "metadata": {
    "colab": {
     "base_uri": "https://localhost:8080/",
     "height": 51
    },
    "colab_type": "code",
    "id": "AWkMfzxKHA99",
    "outputId": "85fb0704-1791-4fd3-d7f4-929715c4f109"
   },
   "outputs": [
    {
     "name": "stdout",
     "output_type": "stream",
     "text": [
      "(73196, 1)\n",
      "(36052, 1)\n"
     ]
    }
   ],
   "source": [
    "print(X_train_words_essay.shape)\n",
    "print(X_test_words_essay.shape)"
   ]
  },
  {
   "cell_type": "code",
   "execution_count": 71,
   "metadata": {
    "colab": {
     "base_uri": "https://localhost:8080/",
     "height": 663
    },
    "colab_type": "code",
    "id": "BV49-Ji4kPUi",
    "outputId": "b339575b-d392-4972-8963-b199221662f7"
   },
   "outputs": [
    {
     "name": "stdout",
     "output_type": "stream",
     "text": [
      "(73196, 51)\n",
      "(73196, 9)\n",
      "(73196, 30)\n",
      "(73196, 4)\n",
      "(73196, 5)\n",
      "(73196, 1)\n",
      "(73196, 1)\n",
      "(73196, 5000)\n",
      "(73196, 5000)\n",
      "73196\n",
      "73196\n",
      "(73196, 2617)\n",
      "(73196, 2617)\n",
      "73196\n",
      "(73196, 1)\n",
      "(73196, 1)\n",
      "(73196, 1)\n",
      "(73196, 1)\n",
      "==================================================\n",
      "(36052, 51)\n",
      "(36052, 9)\n",
      "(36052, 30)\n",
      "(36052, 4)\n",
      "(36052, 5)\n",
      "(36052, 1)\n",
      "(36052, 1)\n",
      "(36052, 5000)\n",
      "(36052, 5000)\n",
      "36052\n",
      "36052\n",
      "(36052, 2617)\n",
      "(36052, 2617)\n",
      "36052\n",
      "36052\n",
      "(36052, 1)\n",
      "(36052, 1)\n",
      "(36052, 1)\n",
      "(36052, 1)\n"
     ]
    }
   ],
   "source": [
    "print(X_train_Sstate.shape)\n",
    "print(X_train_cat.shape)\n",
    "print(X_train_subcat.shape)\n",
    "print(X_train_grade.shape)\n",
    "print(X_train_prefix.shape)\n",
    "print(X_train_price.shape)\n",
    "print(X_train_previous.shape)\n",
    "\n",
    "print(X_train_essay_bow.shape)\n",
    "print(X_train_essay_tfidf.shape)\n",
    "print(len(X_train_essay_avg_w2v))\n",
    "print(len(X_train_essay_tfidf_w2v))\n",
    "\n",
    "print(X_train_title_bow.shape)\n",
    "print(X_train_title_tfidf.shape)\n",
    "print(len(X_train_title_avg_w2v))\n",
    "\n",
    "print(X_train_quantity.shape)\n",
    "print(X_train_sentiment.shape)\n",
    "print(X_train_words_essay.shape)\n",
    "print(X_train_words_title.shape)\n",
    "\n",
    "print('='*50)\n",
    "print(X_test_Sstate.shape)\n",
    "print(X_test_cat.shape)\n",
    "print(X_test_subcat.shape)\n",
    "print(X_test_grade.shape)\n",
    "print(X_test_prefix.shape)\n",
    "print(X_test_price.shape)\n",
    "print(X_test_previous.shape)\n",
    "\n",
    "print(X_test_essay_bow.shape)\n",
    "print(X_test_essay_tfidf.shape)\n",
    "print(len(X_test_essay_avg_w2v))\n",
    "print(len(X_test_essay_tfidf_w2v))\n",
    "\n",
    "print(X_test_title_bow.shape)\n",
    "print(X_test_title_tfidf.shape)\n",
    "print(len(X_test_title_avg_w2v))\n",
    "print(len(X_test_title_tfidf_w2v))\n",
    "\n",
    "print(X_test_quantity.shape)\n",
    "print(X_test_sentiment.shape)\n",
    "print(X_test_words_essay.shape)\n",
    "print(X_test_words_title.shape)"
   ]
  },
  {
   "cell_type": "markdown",
   "metadata": {
    "colab_type": "text",
    "id": "PxTb-iulkPUj"
   },
   "source": [
    "## 2. Set - 1"
   ]
  },
  {
   "cell_type": "markdown",
   "metadata": {
    "colab_type": "text",
    "id": "N24snr25kPUj"
   },
   "source": [
    "### 2.1 Merging the above features required for Set-1"
   ]
  },
  {
   "cell_type": "code",
   "execution_count": 0,
   "metadata": {
    "colab": {},
    "colab_type": "code",
    "id": "6PXdJbATkPUk"
   },
   "outputs": [],
   "source": [
    "from scipy.sparse import hstack\n",
    "X_train_1 = hstack((X_train_Sstate, X_train_cat, X_train_subcat, X_train_grade, X_train_prefix, X_train_essay_bow, X_train_title_bow, X_train_previous, X_train_price)).tocsr()\n",
    "X_test_1 = hstack((X_test_Sstate, X_test_cat, X_test_subcat, X_test_grade, X_test_prefix, X_test_essay_bow, X_test_title_bow, X_test_previous, X_test_price)).tocsr()"
   ]
  },
  {
   "cell_type": "code",
   "execution_count": 75,
   "metadata": {
    "colab": {
     "base_uri": "https://localhost:8080/",
     "height": 51
    },
    "colab_type": "code",
    "id": "vc5HTEZCkPUl",
    "outputId": "997756e5-ad15-4956-88c1-d6f2d1b435ad"
   },
   "outputs": [
    {
     "name": "stdout",
     "output_type": "stream",
     "text": [
      "(73196, 7718)\n",
      "(36052, 7718)\n"
     ]
    }
   ],
   "source": [
    "print(X_train_1.shape)\n",
    "print(X_test_1.shape)"
   ]
  },
  {
   "cell_type": "markdown",
   "metadata": {
    "colab_type": "text",
    "id": "-SscpJwPkPUm"
   },
   "source": [
    "### 2.2 Grid Search CV"
   ]
  },
  {
   "cell_type": "code",
   "execution_count": 0,
   "metadata": {
    "colab": {},
    "colab_type": "code",
    "id": "GLcApuurkPUo"
   },
   "outputs": [],
   "source": [
    "from sklearn.linear_model import LogisticRegression\n",
    "classifier_1 = LogisticRegression()"
   ]
  },
  {
   "cell_type": "code",
   "execution_count": 0,
   "metadata": {
    "colab": {},
    "colab_type": "code",
    "id": "4njwGolKkPUo"
   },
   "outputs": [],
   "source": [
    "from sklearn.model_selection import GridSearchCV\n",
    "parameters = [\n",
    "                {\n",
    "                    'C' : [0.00001, 0.0001, 0.001, 0.01, 0.1, 1, 10, 100, 1000, 10000],\n",
    "                    'penalty' : ['l1', 'l2']\n",
    "                }\n",
    "            ]\n",
    "gridsearch_1 = GridSearchCV(estimator=classifier_1, param_grid=parameters, scoring='roc_auc', cv=2, n_jobs=-1, return_train_score=True)"
   ]
  },
  {
   "cell_type": "code",
   "execution_count": 0,
   "metadata": {
    "colab": {},
    "colab_type": "code",
    "id": "jF1w2PLckPUq"
   },
   "outputs": [],
   "source": [
    "gridsearch_1 = gridsearch_1.fit(X_train_1, y_train)"
   ]
  },
  {
   "cell_type": "code",
   "execution_count": 82,
   "metadata": {
    "colab": {
     "base_uri": "https://localhost:8080/",
     "height": 479
    },
    "colab_type": "code",
    "id": "bkOgbfFHkPUr",
    "outputId": "cee36058-f3f9-42b3-b624-ed0400f572eb"
   },
   "outputs": [
    {
     "data": {
      "text/html": [
       "<div>\n",
       "<style scoped>\n",
       "    .dataframe tbody tr th:only-of-type {\n",
       "        vertical-align: middle;\n",
       "    }\n",
       "\n",
       "    .dataframe tbody tr th {\n",
       "        vertical-align: top;\n",
       "    }\n",
       "\n",
       "    .dataframe thead th {\n",
       "        text-align: right;\n",
       "    }\n",
       "</style>\n",
       "<table border=\"1\" class=\"dataframe\">\n",
       "  <thead>\n",
       "    <tr style=\"text-align: right;\">\n",
       "      <th></th>\n",
       "      <th>mean_fit_time</th>\n",
       "      <th>std_fit_time</th>\n",
       "      <th>mean_score_time</th>\n",
       "      <th>std_score_time</th>\n",
       "      <th>param_C</th>\n",
       "      <th>param_penalty</th>\n",
       "      <th>params</th>\n",
       "      <th>split0_test_score</th>\n",
       "      <th>split1_test_score</th>\n",
       "      <th>mean_test_score</th>\n",
       "      <th>std_test_score</th>\n",
       "      <th>rank_test_score</th>\n",
       "      <th>split0_train_score</th>\n",
       "      <th>split1_train_score</th>\n",
       "      <th>mean_train_score</th>\n",
       "      <th>std_train_score</th>\n",
       "    </tr>\n",
       "  </thead>\n",
       "  <tbody>\n",
       "    <tr>\n",
       "      <th>0</th>\n",
       "      <td>0.028398</td>\n",
       "      <td>0.000469</td>\n",
       "      <td>0.000000</td>\n",
       "      <td>0.000000</td>\n",
       "      <td>1e-05</td>\n",
       "      <td>l1</td>\n",
       "      <td>{'C': 1e-05, 'penalty': 'l1'}</td>\n",
       "      <td>NaN</td>\n",
       "      <td>NaN</td>\n",
       "      <td>NaN</td>\n",
       "      <td>NaN</td>\n",
       "      <td>20</td>\n",
       "      <td>NaN</td>\n",
       "      <td>NaN</td>\n",
       "      <td>NaN</td>\n",
       "      <td>NaN</td>\n",
       "    </tr>\n",
       "    <tr>\n",
       "      <th>1</th>\n",
       "      <td>0.297417</td>\n",
       "      <td>0.006274</td>\n",
       "      <td>0.032599</td>\n",
       "      <td>0.004696</td>\n",
       "      <td>1e-05</td>\n",
       "      <td>l2</td>\n",
       "      <td>{'C': 1e-05, 'penalty': 'l2'}</td>\n",
       "      <td>0.635354</td>\n",
       "      <td>0.642124</td>\n",
       "      <td>0.638739</td>\n",
       "      <td>0.003385</td>\n",
       "      <td>5</td>\n",
       "      <td>0.652444</td>\n",
       "      <td>0.653340</td>\n",
       "      <td>0.652892</td>\n",
       "      <td>0.000448</td>\n",
       "    </tr>\n",
       "    <tr>\n",
       "      <th>2</th>\n",
       "      <td>0.022233</td>\n",
       "      <td>0.001241</td>\n",
       "      <td>0.000000</td>\n",
       "      <td>0.000000</td>\n",
       "      <td>0.0001</td>\n",
       "      <td>l1</td>\n",
       "      <td>{'C': 0.0001, 'penalty': 'l1'}</td>\n",
       "      <td>NaN</td>\n",
       "      <td>NaN</td>\n",
       "      <td>NaN</td>\n",
       "      <td>NaN</td>\n",
       "      <td>16</td>\n",
       "      <td>NaN</td>\n",
       "      <td>NaN</td>\n",
       "      <td>NaN</td>\n",
       "      <td>NaN</td>\n",
       "    </tr>\n",
       "    <tr>\n",
       "      <th>3</th>\n",
       "      <td>0.329449</td>\n",
       "      <td>0.010884</td>\n",
       "      <td>0.032196</td>\n",
       "      <td>0.006696</td>\n",
       "      <td>0.0001</td>\n",
       "      <td>l2</td>\n",
       "      <td>{'C': 0.0001, 'penalty': 'l2'}</td>\n",
       "      <td>0.645100</td>\n",
       "      <td>0.650416</td>\n",
       "      <td>0.647758</td>\n",
       "      <td>0.002658</td>\n",
       "      <td>4</td>\n",
       "      <td>0.666193</td>\n",
       "      <td>0.666866</td>\n",
       "      <td>0.666529</td>\n",
       "      <td>0.000337</td>\n",
       "    </tr>\n",
       "    <tr>\n",
       "      <th>4</th>\n",
       "      <td>0.021930</td>\n",
       "      <td>0.001393</td>\n",
       "      <td>0.000000</td>\n",
       "      <td>0.000000</td>\n",
       "      <td>0.001</td>\n",
       "      <td>l1</td>\n",
       "      <td>{'C': 0.001, 'penalty': 'l1'}</td>\n",
       "      <td>NaN</td>\n",
       "      <td>NaN</td>\n",
       "      <td>NaN</td>\n",
       "      <td>NaN</td>\n",
       "      <td>14</td>\n",
       "      <td>NaN</td>\n",
       "      <td>NaN</td>\n",
       "      <td>NaN</td>\n",
       "      <td>NaN</td>\n",
       "    </tr>\n",
       "  </tbody>\n",
       "</table>\n",
       "</div>"
      ],
      "text/plain": [
       "   mean_fit_time  std_fit_time  ...  mean_train_score  std_train_score\n",
       "0       0.028398      0.000469  ...               NaN              NaN\n",
       "1       0.297417      0.006274  ...          0.652892         0.000448\n",
       "2       0.022233      0.001241  ...               NaN              NaN\n",
       "3       0.329449      0.010884  ...          0.666529         0.000337\n",
       "4       0.021930      0.001393  ...               NaN              NaN\n",
       "\n",
       "[5 rows x 16 columns]"
      ]
     },
     "execution_count": 82,
     "metadata": {
      "tags": []
     },
     "output_type": "execute_result"
    }
   ],
   "source": [
    "results = pd.DataFrame.from_dict(gridsearch_1.cv_results_)\n",
    "results = results.sort_values(['param_C'])\n",
    "results.head()"
   ]
  },
  {
   "cell_type": "code",
   "execution_count": 83,
   "metadata": {
    "colab": {
     "base_uri": "https://localhost:8080/",
     "height": 51
    },
    "colab_type": "code",
    "id": "ertz8CXKkPUs",
    "outputId": "daf3a733-b4ab-44c5-8e13-e7be9f1cb02f"
   },
   "outputs": [
    {
     "name": "stdout",
     "output_type": "stream",
     "text": [
      "Best C: 0.01\n",
      "Best Penalty: l2\n"
     ]
    }
   ],
   "source": [
    "best_C_1 = gridsearch_1.best_params_['C']\n",
    "best_penalty_1 = gridsearch_1.best_params_['penalty']\n",
    "print('Best C:', best_C_1)\n",
    "print('Best Penalty:', best_penalty_1)"
   ]
  },
  {
   "cell_type": "markdown",
   "metadata": {
    "colab_type": "text",
    "id": "-RBKWXRRkPUt"
   },
   "source": [
    "#### Note:\n",
    "    - We can see that the best C is 0.01 and Regulariser is 'L2'"
   ]
  },
  {
   "cell_type": "markdown",
   "metadata": {
    "colab_type": "text",
    "id": "aIKEock6Iebo"
   },
   "source": [
    "### 2.3 AUC vs Hyperparameter"
   ]
  },
  {
   "cell_type": "code",
   "execution_count": 0,
   "metadata": {
    "colab": {},
    "colab_type": "code",
    "id": "HPHCTJGSkPUt"
   },
   "outputs": [],
   "source": [
    "train_auc_1 = results['mean_train_score']\n",
    "test_auc_1 = results['mean_test_score']\n",
    "C_1 = results['param_C']"
   ]
  },
  {
   "cell_type": "code",
   "execution_count": 91,
   "metadata": {
    "colab": {
     "base_uri": "https://localhost:8080/",
     "height": 299
    },
    "colab_type": "code",
    "id": "TKSESm7_kPUv",
    "outputId": "e733e18c-fee7-4c1c-8477-8a9490c7b9b6"
   },
   "outputs": [
    {
     "data": {
      "image/png": "[encoded data removed]",
      "text/plain": [
       "<Figure size 432x288 with 1 Axes>"
      ]
     },
     "metadata": {
      "tags": []
     },
     "output_type": "display_data"
    }
   ],
   "source": [
    "plt.plot(C_1, train_auc_1, label='Train AUC')\n",
    "plt.plot(C_1, test_auc_1, label='Test AUC')\n",
    "plt.scatter(C_1, train_auc_1)\n",
    "plt.scatter(C_1, test_auc_1)\n",
    "\n",
    "plt.title('HYPERPARMETER vs AUC')\n",
    "plt.xlabel('Hyperparameter: C')\n",
    "plt.ylabel('AUC')\n",
    "plt.xscale('log')\n",
    "plt.legend()\n",
    "plt.grid()\n",
    "plt.show()"
   ]
  },
  {
   "cell_type": "markdown",
   "metadata": {
    "colab_type": "text",
    "id": "Wa8ZkcnMkPUw"
   },
   "source": [
    "### 2.4 Modelling with best C and penalty to find best AUC"
   ]
  },
  {
   "cell_type": "code",
   "execution_count": 92,
   "metadata": {
    "colab": {
     "base_uri": "https://localhost:8080/",
     "height": 102
    },
    "colab_type": "code",
    "id": "K9518DrgkPUx",
    "outputId": "2a75dbe4-fa54-438f-fb9a-53db448cfd56"
   },
   "outputs": [
    {
     "data": {
      "text/plain": [
       "LogisticRegression(C=0.01, class_weight=None, dual=False, fit_intercept=True,\n",
       "                   intercept_scaling=1, l1_ratio=None, max_iter=100,\n",
       "                   multi_class='auto', n_jobs=None, penalty='l2',\n",
       "                   random_state=None, solver='lbfgs', tol=0.0001, verbose=0,\n",
       "                   warm_start=False)"
      ]
     },
     "execution_count": 92,
     "metadata": {
      "tags": []
     },
     "output_type": "execute_result"
    }
   ],
   "source": [
    "classifier_withParam_1 = LogisticRegression(penalty=best_penalty_1, C=best_C_1)\n",
    "classifier_withParam_1.fit(X_train_1, y_train)"
   ]
  },
  {
   "cell_type": "markdown",
   "metadata": {
    "colab_type": "text",
    "id": "hZOeUiWvkPUy"
   },
   "source": [
    "### 2.5 Cross Validation"
   ]
  },
  {
   "cell_type": "code",
   "execution_count": 0,
   "metadata": {
    "colab": {},
    "colab_type": "code",
    "id": "NgRlWZIxkPU0"
   },
   "outputs": [],
   "source": [
    "from sklearn.model_selection import cross_val_score\n",
    "cv_1 = cross_val_score(estimator=classifier_withParam_1, X=X_train_1, y=y_train, cv=5, scoring='roc_auc')"
   ]
  },
  {
   "cell_type": "code",
   "execution_count": 94,
   "metadata": {
    "colab": {
     "base_uri": "https://localhost:8080/",
     "height": 34
    },
    "colab_type": "code",
    "id": "aeCd2Zd2kPU1",
    "outputId": "23684c58-572d-4616-c4a2-25e7897dfdac"
   },
   "outputs": [
    {
     "name": "stdout",
     "output_type": "stream",
     "text": [
      "Best AUC: 0.688205\n"
     ]
    }
   ],
   "source": [
    "best_auc_1 = cv_1.mean()\n",
    "print('Best AUC: %4f' %best_auc_1)"
   ]
  },
  {
   "cell_type": "markdown",
   "metadata": {
    "colab_type": "text",
    "id": "8YXyEFXOkPU3"
   },
   "source": [
    "### 2.6  ROC curve on train and test data"
   ]
  },
  {
   "cell_type": "code",
   "execution_count": 0,
   "metadata": {
    "colab": {},
    "colab_type": "code",
    "id": "cKZqKtLgKhDq"
   },
   "outputs": [],
   "source": [
    "def batch_predict(clf, data):\n",
    "    y_data_pred = []\n",
    "    tr_loop = data.shape[0] - data.shape[0]%1000\n",
    "    for i in range(0,tr_loop, 1000):\n",
    "        y_data_pred.extend(clf.predict_proba(data[i:i+1000])[:,1])\n",
    "    if data.shape[0]%1000 != 0:\n",
    "        y_data_pred.extend(clf.predict_proba(data[tr_loop:])[:,1])\n",
    "        \n",
    "    return y_data_pred"
   ]
  },
  {
   "cell_type": "code",
   "execution_count": 0,
   "metadata": {
    "colab": {},
    "colab_type": "code",
    "id": "pT_6GH2UKlML"
   },
   "outputs": [],
   "source": [
    "y_train_pred_1 = batch_predict(classifier_withParam_1, X_train_1)\n",
    "y_test_pred_1 = batch_predict(classifier_withParam_1, X_test_1)"
   ]
  },
  {
   "cell_type": "code",
   "execution_count": 0,
   "metadata": {
    "colab": {},
    "colab_type": "code",
    "id": "pGc_7QxLKnsu"
   },
   "outputs": [],
   "source": [
    "from sklearn.metrics import roc_curve, auc\n",
    "train_fpr_1, train_tpr_1, train_thresh_1 = roc_curve(y_train, y_train_pred_1)\n",
    "test_fpr_1, test_tpr_1, test_thresh_1 = roc_curve(y_test, y_test_pred_1)"
   ]
  },
  {
   "cell_type": "code",
   "execution_count": 98,
   "metadata": {
    "colab": {
     "base_uri": "https://localhost:8080/",
     "height": 295
    },
    "colab_type": "code",
    "id": "epDHJr8MKp4u",
    "outputId": "1593ba80-e954-4cbf-e1ef-836c4497292b"
   },
   "outputs": [
    {
     "data": {
      "image/png": "[encoded data removed]",
      "text/plain": [
       "<Figure size 432x288 with 1 Axes>"
      ]
     },
     "metadata": {
      "tags": []
     },
     "output_type": "display_data"
    }
   ],
   "source": [
    "plt.plot(train_fpr_1, train_tpr_1, label='Train AUC:%4f'%auc(train_fpr_1, train_tpr_1))\n",
    "plt.plot(test_fpr_1, test_tpr_1, label='Test AUC:%4f'%auc(test_fpr_1, test_tpr_1))\n",
    "\n",
    "plt.title('AUC curve of Test and Train Data')\n",
    "plt.xlabel('False Positive Rate')\n",
    "plt.ylabel('True Positive Rate')\n",
    "plt.legend()\n",
    "plt.grid()\n",
    "plt.show()"
   ]
  },
  {
   "cell_type": "markdown",
   "metadata": {
    "colab_type": "text",
    "id": "8oIJsM_zkPU8"
   },
   "source": [
    "### 2.7 Finding Confusion Matrix"
   ]
  },
  {
   "cell_type": "code",
   "execution_count": 0,
   "metadata": {
    "colab": {},
    "colab_type": "code",
    "id": "kkqu_iHhkPU8"
   },
   "outputs": [],
   "source": [
    "def find_best_threshold( fpr, tpr, threshold):\n",
    "    t = threshold[np.argmax(tpr*(1-fpr))]\n",
    "    print('the maximum tpr*(1-fpr) is :', max(tpr*(1-fpr)), 'for threshold', np.round(t,3))\n",
    "    return t"
   ]
  },
  {
   "cell_type": "code",
   "execution_count": 100,
   "metadata": {
    "colab": {
     "base_uri": "https://localhost:8080/",
     "height": 34
    },
    "colab_type": "code",
    "id": "LWwLnA10kPU9",
    "outputId": "932a8e4a-d8bf-4ab4-c4ea-21fe61603ba2"
   },
   "outputs": [
    {
     "name": "stdout",
     "output_type": "stream",
     "text": [
      "the maximum tpr*(1-fpr) is : 0.4977922006408444 for threshold 0.833\n"
     ]
    }
   ],
   "source": [
    "best_t = find_best_threshold(train_fpr_1, train_tpr_1, train_thresh_1)"
   ]
  },
  {
   "cell_type": "code",
   "execution_count": 0,
   "metadata": {
    "colab": {},
    "colab_type": "code",
    "id": "MWBV1_F2kPU-"
   },
   "outputs": [],
   "source": [
    "def predict_with_threshold(proba, threshold):\n",
    "    predictions = []\n",
    "    for i in proba:\n",
    "        if i>=threshold:\n",
    "            predictions.append(1)\n",
    "        else:\n",
    "            predictions.append(0)\n",
    "            \n",
    "    return predictions"
   ]
  },
  {
   "cell_type": "code",
   "execution_count": 0,
   "metadata": {
    "colab": {},
    "colab_type": "code",
    "id": "0e8UtNQikPU-"
   },
   "outputs": [],
   "source": [
    "from sklearn.metrics import confusion_matrix\n",
    "\n",
    "cm_train_1 = confusion_matrix(y_train, predict_with_threshold(y_train_pred_1, best_t))\n",
    "cm_test_1 = confusion_matrix(y_test, predict_with_threshold(y_test_pred_1, best_t))"
   ]
  },
  {
   "cell_type": "code",
   "execution_count": 103,
   "metadata": {
    "colab": {
     "base_uri": "https://localhost:8080/",
     "height": 295
    },
    "colab_type": "code",
    "id": "cUXvmfPNkPU_",
    "outputId": "78404c6d-adbe-487b-ee04-338c85e21fe7"
   },
   "outputs": [
    {
     "data": {
      "image/png": "[encoded data removed]",
      "text/plain": [
       "<Figure size 432x288 with 2 Axes>"
      ]
     },
     "metadata": {
      "tags": []
     },
     "output_type": "display_data"
    }
   ],
   "source": [
    "sns.heatmap(cm_train_1, annot=True, fmt='.2f')\n",
    "plt.title('Train Data: confusion matrix')\n",
    "plt.xlabel('Predicted Label')\n",
    "plt.ylabel('Actual label')\n",
    "plt.show()"
   ]
  },
  {
   "cell_type": "code",
   "execution_count": 104,
   "metadata": {
    "colab": {
     "base_uri": "https://localhost:8080/",
     "height": 295
    },
    "colab_type": "code",
    "id": "OmMKVbgXkPVB",
    "outputId": "9b047376-6054-4512-ca6e-bf93ca0415a1"
   },
   "outputs": [
    {
     "data": {
      "image/png": "[encoded data removed]",
      "text/plain": [
       "<Figure size 432x288 with 2 Axes>"
      ]
     },
     "metadata": {
      "tags": []
     },
     "output_type": "display_data"
    }
   ],
   "source": [
    "sns.heatmap(cm_test_1, annot=True, fmt='.2f')\n",
    "plt.title('Test Data: confusion matrix')\n",
    "plt.xlabel('Predicted Label')\n",
    "plt.ylabel('Actual label')\n",
    "plt.show()"
   ]
  },
  {
   "cell_type": "markdown",
   "metadata": {
    "colab_type": "text",
    "id": "aYtYJveUkPVC"
   },
   "source": [
    "# 3. Set-2:"
   ]
  },
  {
   "cell_type": "code",
   "execution_count": 0,
   "metadata": {
    "colab": {},
    "colab_type": "code",
    "id": "UwdRL2pHkPVE"
   },
   "outputs": [],
   "source": [
    "from scipy.sparse import hstack\n",
    "X_train_2 = hstack((X_train_Sstate, X_train_cat, X_train_subcat, X_train_grade, X_train_prefix, X_train_essay_tfidf, X_train_title_tfidf, X_train_previous, X_train_price)).tocsr()\n",
    "X_test_2 = hstack((X_test_Sstate, X_test_cat, X_test_subcat, X_test_grade, X_test_prefix, X_test_essay_tfidf, X_test_title_tfidf, X_test_previous, X_test_price)).tocsr()"
   ]
  },
  {
   "cell_type": "code",
   "execution_count": 106,
   "metadata": {
    "colab": {
     "base_uri": "https://localhost:8080/",
     "height": 51
    },
    "colab_type": "code",
    "id": "Be8B_yXYkPVE",
    "outputId": "af8dc879-5a18-4c78-dd2b-72d064ca8c17"
   },
   "outputs": [
    {
     "name": "stdout",
     "output_type": "stream",
     "text": [
      "(73196, 7718)\n",
      "(36052, 7718)\n"
     ]
    }
   ],
   "source": [
    "print(X_train_2.shape)\n",
    "print(X_test_2.shape)"
   ]
  },
  {
   "cell_type": "code",
   "execution_count": 107,
   "metadata": {
    "colab": {
     "base_uri": "https://localhost:8080/",
     "height": 51
    },
    "colab_type": "code",
    "id": "R32Mv9-vkPVG",
    "outputId": "0b8b3c75-d332-419f-9e09-e8811f2a3bd3"
   },
   "outputs": [
    {
     "name": "stdout",
     "output_type": "stream",
     "text": [
      "(73196, 1)\n",
      "(36052, 1)\n"
     ]
    }
   ],
   "source": [
    "print(y_train.shape)\n",
    "print(y_test.shape)"
   ]
  },
  {
   "cell_type": "markdown",
   "metadata": {
    "colab_type": "text",
    "id": "q94jDA9jkPVG"
   },
   "source": [
    "### 2.2.2 Grid Search"
   ]
  },
  {
   "cell_type": "code",
   "execution_count": 0,
   "metadata": {
    "colab": {},
    "colab_type": "code",
    "id": "dG4sbOvCkPVH"
   },
   "outputs": [],
   "source": [
    "classifier_2 = LogisticRegression()"
   ]
  },
  {
   "cell_type": "code",
   "execution_count": 0,
   "metadata": {
    "colab": {},
    "colab_type": "code",
    "id": "WsoTRsqIkPVH"
   },
   "outputs": [],
   "source": [
    "from sklearn.model_selection import GridSearchCV\n",
    "parameters = [\n",
    "                {\n",
    "                    'C' : [0.00001,0.0001,0.001,0.01,0.1,1,10,100,1000,10000],\n",
    "                    'penalty' : ['l1', 'l2']\n",
    "                }\n",
    "            ]\n",
    "gridsearch_2 = GridSearchCV(estimator=classifier_2, param_grid=parameters, scoring='roc_auc', cv=2, n_jobs=-1, return_train_score=True)"
   ]
  },
  {
   "cell_type": "code",
   "execution_count": 0,
   "metadata": {
    "colab": {},
    "colab_type": "code",
    "id": "OvRA6uiakPVI"
   },
   "outputs": [],
   "source": [
    "gridsearch_2 = gridsearch_2.fit(X_train_2 ,y_train)"
   ]
  },
  {
   "cell_type": "code",
   "execution_count": 112,
   "metadata": {
    "colab": {
     "base_uri": "https://localhost:8080/",
     "height": 51
    },
    "colab_type": "code",
    "id": "pFGelGjxkPVJ",
    "outputId": "d25a1e68-baf1-4f40-c91f-d80156dbc307"
   },
   "outputs": [
    {
     "name": "stdout",
     "output_type": "stream",
     "text": [
      "Best C : 0.1\n",
      "Best Penalty: l2\n"
     ]
    }
   ],
   "source": [
    "best_C_2 = gridsearch_2.best_params_['C']\n",
    "best_penalty_2 = gridsearch_2.best_params_['penalty']\n",
    "print('Best C :', best_C_2)\n",
    "print('Best Penalty:', best_penalty_2)"
   ]
  },
  {
   "cell_type": "markdown",
   "metadata": {
    "colab_type": "text",
    "id": "DpoBxC50kPVK"
   },
   "source": [
    "### Summary:\n",
    "    - it shows that the best alpha= 0.1 and best regularizer = 'l2'"
   ]
  },
  {
   "cell_type": "code",
   "execution_count": 113,
   "metadata": {
    "colab": {
     "base_uri": "https://localhost:8080/",
     "height": 479
    },
    "colab_type": "code",
    "id": "qFSXl9htkPVL",
    "outputId": "a23147ab-978d-4023-b998-7e9afb205344"
   },
   "outputs": [
    {
     "data": {
      "text/html": [
       "<div>\n",
       "<style scoped>\n",
       "    .dataframe tbody tr th:only-of-type {\n",
       "        vertical-align: middle;\n",
       "    }\n",
       "\n",
       "    .dataframe tbody tr th {\n",
       "        vertical-align: top;\n",
       "    }\n",
       "\n",
       "    .dataframe thead th {\n",
       "        text-align: right;\n",
       "    }\n",
       "</style>\n",
       "<table border=\"1\" class=\"dataframe\">\n",
       "  <thead>\n",
       "    <tr style=\"text-align: right;\">\n",
       "      <th></th>\n",
       "      <th>mean_fit_time</th>\n",
       "      <th>std_fit_time</th>\n",
       "      <th>mean_score_time</th>\n",
       "      <th>std_score_time</th>\n",
       "      <th>param_C</th>\n",
       "      <th>param_penalty</th>\n",
       "      <th>params</th>\n",
       "      <th>split0_test_score</th>\n",
       "      <th>split1_test_score</th>\n",
       "      <th>mean_test_score</th>\n",
       "      <th>std_test_score</th>\n",
       "      <th>rank_test_score</th>\n",
       "      <th>split0_train_score</th>\n",
       "      <th>split1_train_score</th>\n",
       "      <th>mean_train_score</th>\n",
       "      <th>std_train_score</th>\n",
       "    </tr>\n",
       "  </thead>\n",
       "  <tbody>\n",
       "    <tr>\n",
       "      <th>0</th>\n",
       "      <td>0.032552</td>\n",
       "      <td>0.002066</td>\n",
       "      <td>0.000000</td>\n",
       "      <td>0.000000</td>\n",
       "      <td>1e-05</td>\n",
       "      <td>l1</td>\n",
       "      <td>{'C': 1e-05, 'penalty': 'l1'}</td>\n",
       "      <td>NaN</td>\n",
       "      <td>NaN</td>\n",
       "      <td>NaN</td>\n",
       "      <td>NaN</td>\n",
       "      <td>20</td>\n",
       "      <td>NaN</td>\n",
       "      <td>NaN</td>\n",
       "      <td>NaN</td>\n",
       "      <td>NaN</td>\n",
       "    </tr>\n",
       "    <tr>\n",
       "      <th>1</th>\n",
       "      <td>0.321316</td>\n",
       "      <td>0.000256</td>\n",
       "      <td>0.027203</td>\n",
       "      <td>0.000969</td>\n",
       "      <td>1e-05</td>\n",
       "      <td>l2</td>\n",
       "      <td>{'C': 1e-05, 'penalty': 'l2'}</td>\n",
       "      <td>0.614768</td>\n",
       "      <td>0.615486</td>\n",
       "      <td>0.615127</td>\n",
       "      <td>0.000359</td>\n",
       "      <td>8</td>\n",
       "      <td>0.618334</td>\n",
       "      <td>0.617120</td>\n",
       "      <td>0.617727</td>\n",
       "      <td>0.000607</td>\n",
       "    </tr>\n",
       "    <tr>\n",
       "      <th>2</th>\n",
       "      <td>0.023181</td>\n",
       "      <td>0.001165</td>\n",
       "      <td>0.000000</td>\n",
       "      <td>0.000000</td>\n",
       "      <td>0.0001</td>\n",
       "      <td>l1</td>\n",
       "      <td>{'C': 0.0001, 'penalty': 'l1'}</td>\n",
       "      <td>NaN</td>\n",
       "      <td>NaN</td>\n",
       "      <td>NaN</td>\n",
       "      <td>NaN</td>\n",
       "      <td>16</td>\n",
       "      <td>NaN</td>\n",
       "      <td>NaN</td>\n",
       "      <td>NaN</td>\n",
       "      <td>NaN</td>\n",
       "    </tr>\n",
       "    <tr>\n",
       "      <th>3</th>\n",
       "      <td>0.270342</td>\n",
       "      <td>0.001667</td>\n",
       "      <td>0.027768</td>\n",
       "      <td>0.000972</td>\n",
       "      <td>0.0001</td>\n",
       "      <td>l2</td>\n",
       "      <td>{'C': 0.0001, 'penalty': 'l2'}</td>\n",
       "      <td>0.615178</td>\n",
       "      <td>0.615050</td>\n",
       "      <td>0.615114</td>\n",
       "      <td>0.000064</td>\n",
       "      <td>9</td>\n",
       "      <td>0.618901</td>\n",
       "      <td>0.617722</td>\n",
       "      <td>0.618312</td>\n",
       "      <td>0.000590</td>\n",
       "    </tr>\n",
       "    <tr>\n",
       "      <th>4</th>\n",
       "      <td>0.022770</td>\n",
       "      <td>0.000911</td>\n",
       "      <td>0.000000</td>\n",
       "      <td>0.000000</td>\n",
       "      <td>0.001</td>\n",
       "      <td>l1</td>\n",
       "      <td>{'C': 0.001, 'penalty': 'l1'}</td>\n",
       "      <td>NaN</td>\n",
       "      <td>NaN</td>\n",
       "      <td>NaN</td>\n",
       "      <td>NaN</td>\n",
       "      <td>19</td>\n",
       "      <td>NaN</td>\n",
       "      <td>NaN</td>\n",
       "      <td>NaN</td>\n",
       "      <td>NaN</td>\n",
       "    </tr>\n",
       "  </tbody>\n",
       "</table>\n",
       "</div>"
      ],
      "text/plain": [
       "   mean_fit_time  std_fit_time  ...  mean_train_score  std_train_score\n",
       "0       0.032552      0.002066  ...               NaN              NaN\n",
       "1       0.321316      0.000256  ...          0.617727         0.000607\n",
       "2       0.023181      0.001165  ...               NaN              NaN\n",
       "3       0.270342      0.001667  ...          0.618312         0.000590\n",
       "4       0.022770      0.000911  ...               NaN              NaN\n",
       "\n",
       "[5 rows x 16 columns]"
      ]
     },
     "execution_count": 113,
     "metadata": {
      "tags": []
     },
     "output_type": "execute_result"
    }
   ],
   "source": [
    "results = pd.DataFrame.from_dict(gridsearch_2.cv_results_)\n",
    "results = results.sort_values(['param_C'])\n",
    "results.head()"
   ]
  },
  {
   "cell_type": "markdown",
   "metadata": {
    "colab_type": "text",
    "id": "rgUQh34GLmuY"
   },
   "source": [
    "### 2.2.3 AUC vs Hyperparameter"
   ]
  },
  {
   "cell_type": "code",
   "execution_count": 0,
   "metadata": {
    "colab": {},
    "colab_type": "code",
    "id": "dLaiGEd6kPVM"
   },
   "outputs": [],
   "source": [
    "train_auc_2 = results['mean_train_score']\n",
    "test_auc_2 = results['mean_test_score']\n",
    "C_2 = results['param_C']"
   ]
  },
  {
   "cell_type": "code",
   "execution_count": 116,
   "metadata": {
    "colab": {
     "base_uri": "https://localhost:8080/",
     "height": 299
    },
    "colab_type": "code",
    "id": "D24bPj68kPVN",
    "outputId": "56b4e1a8-8463-490e-c5b2-ce7ce97cc82a"
   },
   "outputs": [
    {
     "data": {
      "image/png": "[encoded data removed]",
      "text/plain": [
       "<Figure size 432x288 with 1 Axes>"
      ]
     },
     "metadata": {
      "tags": []
     },
     "output_type": "display_data"
    }
   ],
   "source": [
    "plt.plot(C_2, train_auc_2, label='Train AUC')\n",
    "plt.plot(C_2, test_auc_2, label='Test AUC')\n",
    "plt.scatter(C_2, train_auc_2)\n",
    "plt.scatter(C_2, test_auc_2)\n",
    "\n",
    "plt.title('HYPERPARMETER vs AUC')\n",
    "plt.xlabel('Hyperparameter: ALPHA')\n",
    "plt.ylabel('AUC')\n",
    "plt.xscale('log')\n",
    "plt.legend()\n",
    "plt.grid()\n",
    "plt.show()"
   ]
  },
  {
   "cell_type": "markdown",
   "metadata": {
    "colab_type": "text",
    "id": "packKT2SkPVO"
   },
   "source": [
    "### 2.2.3 Modelling with Parameters"
   ]
  },
  {
   "cell_type": "code",
   "execution_count": 117,
   "metadata": {
    "colab": {
     "base_uri": "https://localhost:8080/",
     "height": 102
    },
    "colab_type": "code",
    "id": "eGiMkjNxkPVO",
    "outputId": "4af92d1d-46fe-423c-8f3b-237a6ae958b1"
   },
   "outputs": [
    {
     "data": {
      "text/plain": [
       "LogisticRegression(C=0.1, class_weight=None, dual=False, fit_intercept=True,\n",
       "                   intercept_scaling=1, l1_ratio=None, max_iter=100,\n",
       "                   multi_class='auto', n_jobs=None, penalty='l2',\n",
       "                   random_state=None, solver='lbfgs', tol=0.0001, verbose=0,\n",
       "                   warm_start=False)"
      ]
     },
     "execution_count": 117,
     "metadata": {
      "tags": []
     },
     "output_type": "execute_result"
    }
   ],
   "source": [
    "classifier_withParam_2 = LogisticRegression(penalty=best_penalty_2, C=best_C_2)\n",
    "classifier_withParam_2.fit(X_train_2, y_train)"
   ]
  },
  {
   "cell_type": "markdown",
   "metadata": {
    "colab_type": "text",
    "id": "P6JXfnbfkPVP"
   },
   "source": [
    "### 2.2.4 Cross Validation"
   ]
  },
  {
   "cell_type": "code",
   "execution_count": 0,
   "metadata": {
    "colab": {},
    "colab_type": "code",
    "id": "V0_2PLvLkPVP"
   },
   "outputs": [],
   "source": [
    "from sklearn.model_selection import cross_val_score\n",
    "cv_2 = cross_val_score(estimator=classifier_withParam_2, X=X_train_2, y=y_train,cv=5, scoring='roc_auc')"
   ]
  },
  {
   "cell_type": "code",
   "execution_count": 119,
   "metadata": {
    "colab": {
     "base_uri": "https://localhost:8080/",
     "height": 34
    },
    "colab_type": "code",
    "id": "-hwyG16GkPVQ",
    "outputId": "49d4df6c-a1ff-4b2d-abb9-17f9d6f2d5ee"
   },
   "outputs": [
    {
     "name": "stdout",
     "output_type": "stream",
     "text": [
      "Best AUC:0.688205\n"
     ]
    }
   ],
   "source": [
    "best_auc_2 = cv_1.mean()\n",
    "print('Best AUC:%4f' %best_auc_2)"
   ]
  },
  {
   "cell_type": "markdown",
   "metadata": {
    "colab_type": "text",
    "id": "vrgsNcORkPVR"
   },
   "source": [
    "### 2.2.5 ROC curve on Train and Test Data"
   ]
  },
  {
   "cell_type": "code",
   "execution_count": 0,
   "metadata": {
    "colab": {},
    "colab_type": "code",
    "id": "-YzrSGf4kPVR"
   },
   "outputs": [],
   "source": [
    "def batch_predict(clf, data):\n",
    "    y_data_pred = []\n",
    "    tr_loop = data.shape[0] - data.shape[0]%1000\n",
    "    for i in range(0,tr_loop, 1000):\n",
    "        y_data_pred.extend(clf.predict_proba(data[i:i+1000])[:,1])\n",
    "    if data.shape[0]%1000 != 0:\n",
    "        y_data_pred.extend(clf.predict_proba(data[tr_loop:])[:,1])\n",
    "        \n",
    "    return y_data_pred"
   ]
  },
  {
   "cell_type": "code",
   "execution_count": 0,
   "metadata": {
    "colab": {},
    "colab_type": "code",
    "id": "1nchNhoGkPVS"
   },
   "outputs": [],
   "source": [
    "y_train_pred_2 = batch_predict(classifier_withParam_2, X_train_2)\n",
    "y_test_pred_2 = batch_predict(classifier_withParam_2, X_test_2)"
   ]
  },
  {
   "cell_type": "code",
   "execution_count": 0,
   "metadata": {
    "colab": {},
    "colab_type": "code",
    "id": "925g-lsVkPVT"
   },
   "outputs": [],
   "source": [
    "from sklearn.metrics import roc_curve, auc\n",
    "train_fpr_2, train_tpr_2, train_thresh_2 = roc_curve(y_train, y_train_pred_2)\n",
    "test_fpr_2, test_tpr_2, test_thresh_2 = roc_curve(y_test, y_test_pred_2)"
   ]
  },
  {
   "cell_type": "code",
   "execution_count": 123,
   "metadata": {
    "colab": {
     "base_uri": "https://localhost:8080/",
     "height": 295
    },
    "colab_type": "code",
    "id": "fDKR2PxckPVT",
    "outputId": "fc5777f0-14e6-415b-a4ba-29c4780d6b28"
   },
   "outputs": [
    {
     "data": {
      "image/png": "[encoded data removed]",
      "text/plain": [
       "<Figure size 432x288 with 1 Axes>"
      ]
     },
     "metadata": {
      "tags": []
     },
     "output_type": "display_data"
    }
   ],
   "source": [
    "plt.plot(train_fpr_2, train_tpr_2, label='Train AUC:%4f'%auc(train_fpr_2, train_tpr_2))\n",
    "plt.plot(test_fpr_2, test_tpr_2, label='Test AUC:%4f'%auc(test_fpr_2, test_tpr_2))\n",
    "\n",
    "plt.title('AUC curve of Test and Train Data')\n",
    "plt.xlabel('False Positive Rate')\n",
    "plt.ylabel('True Positive Rate')\n",
    "plt.legend()\n",
    "plt.grid()\n",
    "plt.show()"
   ]
  },
  {
   "cell_type": "markdown",
   "metadata": {
    "colab_type": "text",
    "id": "vDd1kp1FkPVV"
   },
   "source": [
    "### 2.2.6 Confusion Matrix"
   ]
  },
  {
   "cell_type": "code",
   "execution_count": 0,
   "metadata": {
    "colab": {},
    "colab_type": "code",
    "id": "x96lzyczkPVV"
   },
   "outputs": [],
   "source": [
    "def find_best_threshold(fpr, tpr, threshold):\n",
    "    t = threshold[np.argmax(tpr*(1-fpr))]\n",
    "    print('the maximum tpr*(1-fpr) is :', max(tpr*(1-fpr)), 'for threshold', np.round(t,3))\n",
    "    return t"
   ]
  },
  {
   "cell_type": "code",
   "execution_count": 125,
   "metadata": {
    "colab": {
     "base_uri": "https://localhost:8080/",
     "height": 34
    },
    "colab_type": "code",
    "id": "gJsT_tp2kPVW",
    "outputId": "a0ed2d01-08ae-4a86-e777-4db16a46de58"
   },
   "outputs": [
    {
     "name": "stdout",
     "output_type": "stream",
     "text": [
      "the maximum tpr*(1-fpr) is : 0.47363944330264035 for threshold 0.837\n"
     ]
    }
   ],
   "source": [
    "best_t = find_best_threshold(train_fpr_2, train_tpr_2, train_thresh_2)"
   ]
  },
  {
   "cell_type": "code",
   "execution_count": 0,
   "metadata": {
    "colab": {},
    "colab_type": "code",
    "id": "ooCqX2-XkPVX"
   },
   "outputs": [],
   "source": [
    "def predict_with_threshold(proba, threshold):\n",
    "    predictions = []\n",
    "    for i in proba:\n",
    "        if i>=threshold:\n",
    "            predictions.append(1)\n",
    "        else:\n",
    "            predictions.append(0)\n",
    "            \n",
    "    return predictions"
   ]
  },
  {
   "cell_type": "code",
   "execution_count": 0,
   "metadata": {
    "colab": {},
    "colab_type": "code",
    "id": "rFi9AnnWkPVY"
   },
   "outputs": [],
   "source": [
    "from sklearn.metrics import confusion_matrix\n",
    "\n",
    "cm_train_2 = confusion_matrix(y_train, predict_with_threshold(y_train_pred_2, best_t))\n",
    "cm_test_2 = confusion_matrix(y_test, predict_with_threshold(y_test_pred_2, best_t))"
   ]
  },
  {
   "cell_type": "code",
   "execution_count": 128,
   "metadata": {
    "colab": {
     "base_uri": "https://localhost:8080/",
     "height": 295
    },
    "colab_type": "code",
    "id": "gnnm34eSkPVY",
    "outputId": "3e2b8016-5d91-4c26-dac8-6fd8fcb13f67"
   },
   "outputs": [
    {
     "data": {
      "image/png": "[encoded data removed]",
      "text/plain": [
       "<Figure size 432x288 with 2 Axes>"
      ]
     },
     "metadata": {
      "tags": []
     },
     "output_type": "display_data"
    }
   ],
   "source": [
    "sns.heatmap(cm_train_2, annot=True, fmt='.2f')\n",
    "plt.title('Test Data: confusion matrix')\n",
    "plt.xlabel('Predicted Label')\n",
    "plt.ylabel('Actual label')\n",
    "plt.show()"
   ]
  },
  {
   "cell_type": "code",
   "execution_count": 129,
   "metadata": {
    "colab": {
     "base_uri": "https://localhost:8080/",
     "height": 295
    },
    "colab_type": "code",
    "id": "lAIv8gd6kPVZ",
    "outputId": "0fbd220d-d9a8-493c-d5b2-d560a2e394fe"
   },
   "outputs": [
    {
     "data": {
      "image/png": "[encoded data removed]",
      "text/plain": [
       "<Figure size 432x288 with 2 Axes>"
      ]
     },
     "metadata": {
      "tags": []
     },
     "output_type": "display_data"
    }
   ],
   "source": [
    "sns.heatmap(cm_test_2, annot=True, fmt='.2f')\n",
    "plt.title('Test Data: confusion matrix')\n",
    "plt.xlabel('Predicted Label')\n",
    "plt.ylabel('Actual label')\n",
    "plt.show()"
   ]
  },
  {
   "cell_type": "markdown",
   "metadata": {
    "colab_type": "text",
    "id": "yKlaWvwKkPVa"
   },
   "source": [
    "# 3.1 Set - 3"
   ]
  },
  {
   "cell_type": "code",
   "execution_count": 0,
   "metadata": {
    "colab": {},
    "colab_type": "code",
    "id": "J2ir-rcKkPVa"
   },
   "outputs": [],
   "source": [
    "from scipy.sparse import hstack\n",
    "X_train_3 = hstack((X_train_Sstate, X_train_cat, X_train_subcat, X_train_grade, X_train_prefix, X_train_previous, X_train_price, X_train_essay_avg_w2v, X_train_title_avg_w2v)).tocsr()\n",
    "X_test_3 = hstack((X_test_Sstate, X_test_cat, X_test_subcat, X_test_grade, X_test_prefix, X_test_previous, X_test_price, X_test_essay_avg_w2v, X_test_title_avg_w2v)).tocsr()"
   ]
  },
  {
   "cell_type": "code",
   "execution_count": 131,
   "metadata": {
    "colab": {
     "base_uri": "https://localhost:8080/",
     "height": 51
    },
    "colab_type": "code",
    "id": "Pw3Qa0czkPVb",
    "outputId": "a92384f3-2a85-4497-959b-9d6fa9ff30ed"
   },
   "outputs": [
    {
     "name": "stdout",
     "output_type": "stream",
     "text": [
      "(73196, 701)\n",
      "(36052, 701)\n"
     ]
    }
   ],
   "source": [
    "print(X_train_3.shape)\n",
    "print(X_test_3.shape)"
   ]
  },
  {
   "cell_type": "code",
   "execution_count": 132,
   "metadata": {
    "colab": {
     "base_uri": "https://localhost:8080/",
     "height": 51
    },
    "colab_type": "code",
    "id": "QUWGpMoFkPVb",
    "outputId": "dcfa85a7-d1b3-4ac6-ec03-ffd76670c021"
   },
   "outputs": [
    {
     "name": "stdout",
     "output_type": "stream",
     "text": [
      "(73196, 1)\n",
      "(36052, 1)\n"
     ]
    }
   ],
   "source": [
    "print(y_train.shape)\n",
    "print(y_test.shape)"
   ]
  },
  {
   "cell_type": "markdown",
   "metadata": {
    "colab_type": "text",
    "id": "XXFfWXpvkPVc"
   },
   "source": [
    "### 3.1.3 Grid Search"
   ]
  },
  {
   "cell_type": "code",
   "execution_count": 0,
   "metadata": {
    "colab": {},
    "colab_type": "code",
    "id": "bojHkKnKkPVc"
   },
   "outputs": [],
   "source": [
    "classifier_3 = LogisticRegression()"
   ]
  },
  {
   "cell_type": "code",
   "execution_count": 0,
   "metadata": {
    "colab": {},
    "colab_type": "code",
    "id": "4OT47TYFkPVd"
   },
   "outputs": [],
   "source": [
    "from sklearn.model_selection import GridSearchCV\n",
    "parameters = [\n",
    "                {\n",
    "                    'C' : [0.00001,0.0001,0.001,0.01,0.1,1,10,100,1000,10000],\n",
    "                    'penalty' : ['l1' , 'l2']\n",
    "                }\n",
    "            ]\n",
    "gridsearch_3 = GridSearchCV(estimator=classifier_3, param_grid=parameters, scoring='roc_auc', cv=2, n_jobs=-1, return_train_score=True)"
   ]
  },
  {
   "cell_type": "code",
   "execution_count": 0,
   "metadata": {
    "colab": {},
    "colab_type": "code",
    "id": "qsGThgn3kPVd"
   },
   "outputs": [],
   "source": [
    "gridsearch_3 = gridsearch_3.fit(X_train_3 ,y_train)"
   ]
  },
  {
   "cell_type": "code",
   "execution_count": 138,
   "metadata": {
    "colab": {
     "base_uri": "https://localhost:8080/",
     "height": 51
    },
    "colab_type": "code",
    "id": "9fQDuU9KkPVe",
    "outputId": "6c761852-fb02-479d-d246-7fd77de8354d"
   },
   "outputs": [
    {
     "name": "stdout",
     "output_type": "stream",
     "text": [
      "Best C : 10\n",
      "Best Penalty: l2\n"
     ]
    }
   ],
   "source": [
    "best_C_3 = gridsearch_3.best_params_['C']\n",
    "best_penalty_3 = gridsearch_3.best_params_['penalty']\n",
    "print('Best C :', best_C_3)\n",
    "print('Best Penalty:', best_penalty_3)"
   ]
  },
  {
   "cell_type": "markdown",
   "metadata": {
    "colab_type": "text",
    "id": "OhDOeIbwkPVf"
   },
   "source": [
    "### Summary:\n",
    "    - it shows that the best C = 10 and best regularizer is 'l2'."
   ]
  },
  {
   "cell_type": "markdown",
   "metadata": {
    "colab_type": "text",
    "id": "_ynO-sg3NiXj"
   },
   "source": [
    "### 3.1.4 HyperParameter vs AUC"
   ]
  },
  {
   "cell_type": "code",
   "execution_count": 139,
   "metadata": {
    "colab": {
     "base_uri": "https://localhost:8080/",
     "height": 479
    },
    "colab_type": "code",
    "id": "RzS216mkkPVg",
    "outputId": "f0a31c8b-146a-44cd-a062-82c43b49c20f"
   },
   "outputs": [
    {
     "data": {
      "text/html": [
       "<div>\n",
       "<style scoped>\n",
       "    .dataframe tbody tr th:only-of-type {\n",
       "        vertical-align: middle;\n",
       "    }\n",
       "\n",
       "    .dataframe tbody tr th {\n",
       "        vertical-align: top;\n",
       "    }\n",
       "\n",
       "    .dataframe thead th {\n",
       "        text-align: right;\n",
       "    }\n",
       "</style>\n",
       "<table border=\"1\" class=\"dataframe\">\n",
       "  <thead>\n",
       "    <tr style=\"text-align: right;\">\n",
       "      <th></th>\n",
       "      <th>mean_fit_time</th>\n",
       "      <th>std_fit_time</th>\n",
       "      <th>mean_score_time</th>\n",
       "      <th>std_score_time</th>\n",
       "      <th>param_C</th>\n",
       "      <th>param_penalty</th>\n",
       "      <th>params</th>\n",
       "      <th>split0_test_score</th>\n",
       "      <th>split1_test_score</th>\n",
       "      <th>mean_test_score</th>\n",
       "      <th>std_test_score</th>\n",
       "      <th>rank_test_score</th>\n",
       "      <th>split0_train_score</th>\n",
       "      <th>split1_train_score</th>\n",
       "      <th>mean_train_score</th>\n",
       "      <th>std_train_score</th>\n",
       "    </tr>\n",
       "  </thead>\n",
       "  <tbody>\n",
       "    <tr>\n",
       "      <th>0</th>\n",
       "      <td>0.396038</td>\n",
       "      <td>0.000789</td>\n",
       "      <td>0.000000</td>\n",
       "      <td>0.000000</td>\n",
       "      <td>1e-05</td>\n",
       "      <td>l1</td>\n",
       "      <td>{'C': 1e-05, 'penalty': 'l1'}</td>\n",
       "      <td>NaN</td>\n",
       "      <td>NaN</td>\n",
       "      <td>NaN</td>\n",
       "      <td>NaN</td>\n",
       "      <td>20</td>\n",
       "      <td>NaN</td>\n",
       "      <td>NaN</td>\n",
       "      <td>NaN</td>\n",
       "      <td>NaN</td>\n",
       "    </tr>\n",
       "    <tr>\n",
       "      <th>1</th>\n",
       "      <td>2.390292</td>\n",
       "      <td>0.005105</td>\n",
       "      <td>0.110998</td>\n",
       "      <td>0.000490</td>\n",
       "      <td>1e-05</td>\n",
       "      <td>l2</td>\n",
       "      <td>{'C': 1e-05, 'penalty': 'l2'}</td>\n",
       "      <td>0.621127</td>\n",
       "      <td>0.619343</td>\n",
       "      <td>0.620235</td>\n",
       "      <td>0.000892</td>\n",
       "      <td>10</td>\n",
       "      <td>0.626228</td>\n",
       "      <td>0.627254</td>\n",
       "      <td>0.626741</td>\n",
       "      <td>0.000513</td>\n",
       "    </tr>\n",
       "    <tr>\n",
       "      <th>2</th>\n",
       "      <td>0.287748</td>\n",
       "      <td>0.004986</td>\n",
       "      <td>0.000000</td>\n",
       "      <td>0.000000</td>\n",
       "      <td>0.0001</td>\n",
       "      <td>l1</td>\n",
       "      <td>{'C': 0.0001, 'penalty': 'l1'}</td>\n",
       "      <td>NaN</td>\n",
       "      <td>NaN</td>\n",
       "      <td>NaN</td>\n",
       "      <td>NaN</td>\n",
       "      <td>18</td>\n",
       "      <td>NaN</td>\n",
       "      <td>NaN</td>\n",
       "      <td>NaN</td>\n",
       "      <td>NaN</td>\n",
       "    </tr>\n",
       "    <tr>\n",
       "      <th>3</th>\n",
       "      <td>2.800356</td>\n",
       "      <td>0.076358</td>\n",
       "      <td>0.095690</td>\n",
       "      <td>0.001003</td>\n",
       "      <td>0.0001</td>\n",
       "      <td>l2</td>\n",
       "      <td>{'C': 0.0001, 'penalty': 'l2'}</td>\n",
       "      <td>0.624016</td>\n",
       "      <td>0.620844</td>\n",
       "      <td>0.622430</td>\n",
       "      <td>0.001586</td>\n",
       "      <td>9</td>\n",
       "      <td>0.629834</td>\n",
       "      <td>0.630461</td>\n",
       "      <td>0.630147</td>\n",
       "      <td>0.000314</td>\n",
       "    </tr>\n",
       "    <tr>\n",
       "      <th>4</th>\n",
       "      <td>0.280813</td>\n",
       "      <td>0.000818</td>\n",
       "      <td>0.000000</td>\n",
       "      <td>0.000000</td>\n",
       "      <td>0.001</td>\n",
       "      <td>l1</td>\n",
       "      <td>{'C': 0.001, 'penalty': 'l1'}</td>\n",
       "      <td>NaN</td>\n",
       "      <td>NaN</td>\n",
       "      <td>NaN</td>\n",
       "      <td>NaN</td>\n",
       "      <td>15</td>\n",
       "      <td>NaN</td>\n",
       "      <td>NaN</td>\n",
       "      <td>NaN</td>\n",
       "      <td>NaN</td>\n",
       "    </tr>\n",
       "  </tbody>\n",
       "</table>\n",
       "</div>"
      ],
      "text/plain": [
       "   mean_fit_time  std_fit_time  ...  mean_train_score  std_train_score\n",
       "0       0.396038      0.000789  ...               NaN              NaN\n",
       "1       2.390292      0.005105  ...          0.626741         0.000513\n",
       "2       0.287748      0.004986  ...               NaN              NaN\n",
       "3       2.800356      0.076358  ...          0.630147         0.000314\n",
       "4       0.280813      0.000818  ...               NaN              NaN\n",
       "\n",
       "[5 rows x 16 columns]"
      ]
     },
     "execution_count": 139,
     "metadata": {
      "tags": []
     },
     "output_type": "execute_result"
    }
   ],
   "source": [
    "results = pd.DataFrame.from_dict(gridsearch_3.cv_results_)\n",
    "results = results.sort_values(['param_C'])\n",
    "results.head()"
   ]
  },
  {
   "cell_type": "code",
   "execution_count": 0,
   "metadata": {
    "colab": {},
    "colab_type": "code",
    "id": "3usj52eokPVh"
   },
   "outputs": [],
   "source": [
    "train_auc_3 = results['mean_train_score']\n",
    "test_auc_3 = results['mean_test_score']\n",
    "C_3 = results['param_C']"
   ]
  },
  {
   "cell_type": "code",
   "execution_count": 141,
   "metadata": {
    "colab": {
     "base_uri": "https://localhost:8080/",
     "height": 299
    },
    "colab_type": "code",
    "id": "FTbZcYKUkPVh",
    "outputId": "ab17c57b-1bde-45e9-97c7-231b67fec724"
   },
   "outputs": [
    {
     "data": {
      "image/png": "[encoded data removed]",
      "text/plain": [
       "<Figure size 432x288 with 1 Axes>"
      ]
     },
     "metadata": {
      "tags": []
     },
     "output_type": "display_data"
    }
   ],
   "source": [
    "plt.plot(C_3, train_auc_3, label='Train AUC')\n",
    "plt.plot(C_3, test_auc_3, label='Test AUC')\n",
    "plt.scatter(C_3, train_auc_3)\n",
    "plt.scatter(C_3, test_auc_3)\n",
    "\n",
    "plt.title('HYPERPARMETER vs AUC')\n",
    "plt.xlabel('Hyperparameter: C')\n",
    "plt.ylabel('AUC')\n",
    "plt.xscale('log')\n",
    "plt.legend()\n",
    "plt.grid()\n",
    "plt.show()"
   ]
  },
  {
   "cell_type": "markdown",
   "metadata": {
    "colab_type": "text",
    "id": "VBuEoW1ZkPVi"
   },
   "source": [
    "### 3.1.5 Modelling with Parameters"
   ]
  },
  {
   "cell_type": "code",
   "execution_count": 142,
   "metadata": {
    "colab": {
     "base_uri": "https://localhost:8080/",
     "height": 102
    },
    "colab_type": "code",
    "id": "B-jzjjqJkPVi",
    "outputId": "b6f6b173-1252-449d-9b89-38b41bc1c847"
   },
   "outputs": [
    {
     "data": {
      "text/plain": [
       "LogisticRegression(C=10, class_weight=None, dual=False, fit_intercept=True,\n",
       "                   intercept_scaling=1, l1_ratio=None, max_iter=100,\n",
       "                   multi_class='auto', n_jobs=None, penalty='l2',\n",
       "                   random_state=None, solver='lbfgs', tol=0.0001, verbose=0,\n",
       "                   warm_start=False)"
      ]
     },
     "execution_count": 142,
     "metadata": {
      "tags": []
     },
     "output_type": "execute_result"
    }
   ],
   "source": [
    "classifier_withParam_3 = LogisticRegression(penalty=best_penalty_3, C=best_C_3)\n",
    "classifier_withParam_3.fit(X_train_3, y_train)"
   ]
  },
  {
   "cell_type": "markdown",
   "metadata": {
    "colab_type": "text",
    "id": "KuiZrwO-kPVj"
   },
   "source": [
    "### 3.1.6 Cross Validation"
   ]
  },
  {
   "cell_type": "code",
   "execution_count": 0,
   "metadata": {
    "colab": {},
    "colab_type": "code",
    "id": "ZpQoWU2RkPVk"
   },
   "outputs": [],
   "source": [
    "from sklearn.model_selection import cross_val_score\n",
    "cv_3 = cross_val_score(estimator=classifier_withParam_3, X=X_train_3, y=y_train,cv=5, scoring='roc_auc')"
   ]
  },
  {
   "cell_type": "code",
   "execution_count": 144,
   "metadata": {
    "colab": {
     "base_uri": "https://localhost:8080/",
     "height": 34
    },
    "colab_type": "code",
    "id": "rUXubkmMkPVl",
    "outputId": "4180c841-6de8-4540-e7ac-4a5f908b33f8"
   },
   "outputs": [
    {
     "name": "stdout",
     "output_type": "stream",
     "text": [
      "Best AUC:0.702954\n"
     ]
    }
   ],
   "source": [
    "best_auc_3 = cv_3.mean()\n",
    "print('Best AUC:%4f' %best_auc_3)"
   ]
  },
  {
   "cell_type": "markdown",
   "metadata": {
    "colab_type": "text",
    "id": "eNGUYnt8kPVo"
   },
   "source": [
    "### 3.1.6 ROC curve on Train and Test Data"
   ]
  },
  {
   "cell_type": "code",
   "execution_count": 0,
   "metadata": {
    "colab": {},
    "colab_type": "code",
    "id": "E4nGN3qGkPVr"
   },
   "outputs": [],
   "source": [
    "def batch_predict(clf, data):\n",
    "    y_data_pred = []\n",
    "    tr_loop = data.shape[0] - data.shape[0]%1000\n",
    "    for i in range(0,tr_loop, 1000):\n",
    "        y_data_pred.extend(clf.predict_proba(data[i:i+1000])[:,1])\n",
    "    if data.shape[0]%1000 != 0:\n",
    "        y_data_pred.extend(clf.predict_proba(data[tr_loop:])[:,1])\n",
    "        \n",
    "    return y_data_pred"
   ]
  },
  {
   "cell_type": "code",
   "execution_count": 0,
   "metadata": {
    "colab": {},
    "colab_type": "code",
    "id": "RDKiS2-ekPVs"
   },
   "outputs": [],
   "source": [
    "y_train_pred_3 = batch_predict(classifier_withParam_3, X_train_3)\n",
    "y_test_pred_3 = batch_predict(classifier_withParam_3, X_test_3)"
   ]
  },
  {
   "cell_type": "code",
   "execution_count": 0,
   "metadata": {
    "colab": {},
    "colab_type": "code",
    "id": "svbWdoKtkPVu"
   },
   "outputs": [],
   "source": [
    "from sklearn.metrics import roc_curve, auc\n",
    "train_fpr_3, train_tpr_3, train_thresh_3 = roc_curve(y_train, y_train_pred_3)\n",
    "test_fpr_3, test_tpr_3, test_thresh_3 = roc_curve(y_test, y_test_pred_3)"
   ]
  },
  {
   "cell_type": "code",
   "execution_count": 148,
   "metadata": {
    "colab": {
     "base_uri": "https://localhost:8080/",
     "height": 295
    },
    "colab_type": "code",
    "id": "aVF8VbyFkPVv",
    "outputId": "d130f702-49a3-4bb3-c958-c98af851e7a6"
   },
   "outputs": [
    {
     "data": {
      "image/png": "[encoded data removed]",
      "text/plain": [
       "<Figure size 432x288 with 1 Axes>"
      ]
     },
     "metadata": {
      "tags": []
     },
     "output_type": "display_data"
    }
   ],
   "source": [
    "plt.plot(train_fpr_3, train_tpr_3, label='Train AUC:%4f'%auc(train_fpr_3, train_tpr_3))\n",
    "plt.plot(test_fpr_3, test_tpr_3, label='Test AUC:%4f'%auc(test_fpr_3, test_tpr_3))\n",
    "\n",
    "plt.title('AUC curve of Test and Train Data')\n",
    "plt.xlabel('False Positive Rate')\n",
    "plt.ylabel('True Positive Rate')\n",
    "plt.legend()\n",
    "plt.grid()\n",
    "plt.show()"
   ]
  },
  {
   "cell_type": "markdown",
   "metadata": {
    "colab_type": "text",
    "id": "NWJ40fOIkPVw"
   },
   "source": [
    "### 3.1.7 Confusion Matrix"
   ]
  },
  {
   "cell_type": "code",
   "execution_count": 0,
   "metadata": {
    "colab": {},
    "colab_type": "code",
    "id": "v2RzWIHSkPVy"
   },
   "outputs": [],
   "source": [
    "def find_best_threshold(fpr, tpr, threshold):\n",
    "    t = threshold[np.argmax(tpr*(1-fpr))]\n",
    "    print('the maximum tpr*(1-fpr) is :', max(tpr*(1-fpr)), 'for threshold', np.round(t,3))\n",
    "    return t"
   ]
  },
  {
   "cell_type": "code",
   "execution_count": 150,
   "metadata": {
    "colab": {
     "base_uri": "https://localhost:8080/",
     "height": 34
    },
    "colab_type": "code",
    "id": "OGOM1kOikPVz",
    "outputId": "8317d778-9a32-486f-d31b-52dca939b1f0"
   },
   "outputs": [
    {
     "name": "stdout",
     "output_type": "stream",
     "text": [
      "the maximum tpr*(1-fpr) is : 0.4473110591098588 for threshold 0.844\n"
     ]
    }
   ],
   "source": [
    "best_t = find_best_threshold(train_fpr_3, train_tpr_3, train_thresh_3)"
   ]
  },
  {
   "cell_type": "code",
   "execution_count": 0,
   "metadata": {
    "colab": {},
    "colab_type": "code",
    "id": "HS9IqfH-kPV1"
   },
   "outputs": [],
   "source": [
    "def predict_with_threshold(proba, threshold):\n",
    "    predictions = []\n",
    "    for i in proba:\n",
    "        if i>=threshold:\n",
    "            predictions.append(1)\n",
    "        else:\n",
    "            predictions.append(0)\n",
    "            \n",
    "    return predictions"
   ]
  },
  {
   "cell_type": "code",
   "execution_count": 0,
   "metadata": {
    "colab": {},
    "colab_type": "code",
    "id": "GIoVjfH8kPV1"
   },
   "outputs": [],
   "source": [
    "from sklearn.metrics import confusion_matrix\n",
    "\n",
    "cm_train_3 = confusion_matrix(y_train, predict_with_threshold(y_train_pred_3, best_t))\n",
    "cm_test_3 = confusion_matrix(y_test, predict_with_threshold(y_test_pred_3, best_t))"
   ]
  },
  {
   "cell_type": "code",
   "execution_count": 153,
   "metadata": {
    "colab": {
     "base_uri": "https://localhost:8080/",
     "height": 295
    },
    "colab_type": "code",
    "id": "TS2YW2cDkPV2",
    "outputId": "93937e00-43c5-43a8-8291-84fc15031d53"
   },
   "outputs": [
    {
     "data": {
      "image/png": "[encoded data removed]",
      "text/plain": [
       "<Figure size 432x288 with 2 Axes>"
      ]
     },
     "metadata": {
      "tags": []
     },
     "output_type": "display_data"
    }
   ],
   "source": [
    "sns.heatmap(cm_train_3, annot=True, fmt='.2f')\n",
    "plt.title('Test Data: confusion matrix')\n",
    "plt.xlabel('Predicted Label')\n",
    "plt.ylabel('Actual label')\n",
    "plt.show()"
   ]
  },
  {
   "cell_type": "code",
   "execution_count": 154,
   "metadata": {
    "colab": {
     "base_uri": "https://localhost:8080/",
     "height": 295
    },
    "colab_type": "code",
    "id": "DRY1bDHikPV3",
    "outputId": "c8204770-c764-4cda-fc3a-f306d1619a0f"
   },
   "outputs": [
    {
     "data": {
      "image/png": "[encoded data removed]",
      "text/plain": [
       "<Figure size 432x288 with 2 Axes>"
      ]
     },
     "metadata": {
      "tags": []
     },
     "output_type": "display_data"
    }
   ],
   "source": [
    "sns.heatmap(cm_test_3, annot=True, fmt='.2f')\n",
    "plt.title('Test Data: confusion matrix')\n",
    "plt.xlabel('Predicted Label')\n",
    "plt.ylabel('Actual label')\n",
    "plt.show()"
   ]
  },
  {
   "cell_type": "markdown",
   "metadata": {
    "colab_type": "text",
    "id": "ATST9lZlkPV4"
   },
   "source": [
    "# 4. Set -4"
   ]
  },
  {
   "cell_type": "markdown",
   "metadata": {
    "colab_type": "text",
    "id": "_HUYfG8dkPV4"
   },
   "source": [
    "### 4.1 Merging all the columns"
   ]
  },
  {
   "cell_type": "code",
   "execution_count": 0,
   "metadata": {
    "colab": {},
    "colab_type": "code",
    "id": "jkUS3NC6kPV4"
   },
   "outputs": [],
   "source": [
    "from scipy.sparse import hstack\n",
    "X_train_4 = hstack((X_train_Sstate, X_train_cat, X_train_subcat, X_train_grade, X_train_prefix, X_train_previous, X_train_price, X_train_essay_tfidf_w2v, X_train_title_tfidf_w2v)).tocsr()\n",
    "X_test_4 = hstack((X_test_Sstate, X_test_cat, X_test_subcat, X_test_grade, X_test_prefix, X_test_previous, X_test_price, X_test_essay_tfidf_w2v, X_test_title_tfidf_w2v)).tocsr()"
   ]
  },
  {
   "cell_type": "code",
   "execution_count": 156,
   "metadata": {
    "colab": {
     "base_uri": "https://localhost:8080/",
     "height": 51
    },
    "colab_type": "code",
    "id": "8j7DBubrkPV5",
    "outputId": "f910f7ee-96f5-48da-b69e-1937096cb78d"
   },
   "outputs": [
    {
     "name": "stdout",
     "output_type": "stream",
     "text": [
      "(73196, 701)\n",
      "(36052, 701)\n"
     ]
    }
   ],
   "source": [
    "print(X_train_4.shape)\n",
    "print(X_test_4.shape)"
   ]
  },
  {
   "cell_type": "markdown",
   "metadata": {
    "colab_type": "text",
    "id": "WjVtgQsAkPV7"
   },
   "source": [
    "### 4.2 Grid Search CV"
   ]
  },
  {
   "cell_type": "code",
   "execution_count": 0,
   "metadata": {
    "colab": {},
    "colab_type": "code",
    "id": "FGHmiVnikPV7"
   },
   "outputs": [],
   "source": [
    "classifier_4 = LogisticRegression()"
   ]
  },
  {
   "cell_type": "code",
   "execution_count": 0,
   "metadata": {
    "colab": {},
    "colab_type": "code",
    "id": "tiLN2dEHkPV7"
   },
   "outputs": [],
   "source": [
    "parameters = [\n",
    "                {\n",
    "                    'C': [0.00001,0.0001,0.001,0.01,0.1,1,10,100,1000,10000],\n",
    "                    'penalty' : ['l1', 'l2']\n",
    "                }\n",
    "            ]\n",
    "grid_search_4 = GridSearchCV(estimator=classifier_4, param_grid=parameters, scoring='roc_auc', cv=2, n_jobs=-1, return_train_score=True)"
   ]
  },
  {
   "cell_type": "code",
   "execution_count": 0,
   "metadata": {
    "colab": {},
    "colab_type": "code",
    "id": "5pVxTKFfkPV8"
   },
   "outputs": [],
   "source": [
    "grid_search_4 = grid_search_4.fit(X=X_train_4, y=y_train)"
   ]
  },
  {
   "cell_type": "code",
   "execution_count": 161,
   "metadata": {
    "colab": {
     "base_uri": "https://localhost:8080/",
     "height": 51
    },
    "colab_type": "code",
    "id": "XWVFmM8gPesk",
    "outputId": "d460dc28-d6c4-4825-ebce-feb72b179c9c"
   },
   "outputs": [
    {
     "name": "stdout",
     "output_type": "stream",
     "text": [
      "Best C: 1\n",
      "Best Regularizer: l2\n"
     ]
    }
   ],
   "source": [
    "best_C_4 = grid_search_4.best_params_['C']\n",
    "best_penalty_4 = grid_search_4.best_params_['penalty']\n",
    "print('Best C:', best_C_4)\n",
    "print('Best Regularizer:', best_penalty_4)"
   ]
  },
  {
   "cell_type": "markdown",
   "metadata": {
    "colab_type": "text",
    "id": "3df8U-MBPiNC"
   },
   "source": [
    "### 4.3 Hyperparameter vs AUC"
   ]
  },
  {
   "cell_type": "code",
   "execution_count": 163,
   "metadata": {
    "colab": {
     "base_uri": "https://localhost:8080/",
     "height": 479
    },
    "colab_type": "code",
    "id": "eNCnx_JtkPV9",
    "outputId": "7c2fd540-b610-4523-935d-6cc6a58ca60f"
   },
   "outputs": [
    {
     "data": {
      "text/html": [
       "<div>\n",
       "<style scoped>\n",
       "    .dataframe tbody tr th:only-of-type {\n",
       "        vertical-align: middle;\n",
       "    }\n",
       "\n",
       "    .dataframe tbody tr th {\n",
       "        vertical-align: top;\n",
       "    }\n",
       "\n",
       "    .dataframe thead th {\n",
       "        text-align: right;\n",
       "    }\n",
       "</style>\n",
       "<table border=\"1\" class=\"dataframe\">\n",
       "  <thead>\n",
       "    <tr style=\"text-align: right;\">\n",
       "      <th></th>\n",
       "      <th>mean_fit_time</th>\n",
       "      <th>std_fit_time</th>\n",
       "      <th>mean_score_time</th>\n",
       "      <th>std_score_time</th>\n",
       "      <th>param_C</th>\n",
       "      <th>param_penalty</th>\n",
       "      <th>params</th>\n",
       "      <th>split0_test_score</th>\n",
       "      <th>split1_test_score</th>\n",
       "      <th>mean_test_score</th>\n",
       "      <th>std_test_score</th>\n",
       "      <th>rank_test_score</th>\n",
       "      <th>split0_train_score</th>\n",
       "      <th>split1_train_score</th>\n",
       "      <th>mean_train_score</th>\n",
       "      <th>std_train_score</th>\n",
       "    </tr>\n",
       "  </thead>\n",
       "  <tbody>\n",
       "    <tr>\n",
       "      <th>0</th>\n",
       "      <td>0.369625</td>\n",
       "      <td>0.020564</td>\n",
       "      <td>0.000000</td>\n",
       "      <td>0.000000</td>\n",
       "      <td>1e-05</td>\n",
       "      <td>l1</td>\n",
       "      <td>{'C': 1e-05, 'penalty': 'l1'}</td>\n",
       "      <td>NaN</td>\n",
       "      <td>NaN</td>\n",
       "      <td>NaN</td>\n",
       "      <td>NaN</td>\n",
       "      <td>20</td>\n",
       "      <td>NaN</td>\n",
       "      <td>NaN</td>\n",
       "      <td>NaN</td>\n",
       "      <td>NaN</td>\n",
       "    </tr>\n",
       "    <tr>\n",
       "      <th>1</th>\n",
       "      <td>2.462661</td>\n",
       "      <td>0.070438</td>\n",
       "      <td>0.099510</td>\n",
       "      <td>0.000067</td>\n",
       "      <td>1e-05</td>\n",
       "      <td>l2</td>\n",
       "      <td>{'C': 1e-05, 'penalty': 'l2'}</td>\n",
       "      <td>0.635116</td>\n",
       "      <td>0.632478</td>\n",
       "      <td>0.633797</td>\n",
       "      <td>0.001319</td>\n",
       "      <td>10</td>\n",
       "      <td>0.640312</td>\n",
       "      <td>0.640724</td>\n",
       "      <td>0.640518</td>\n",
       "      <td>0.000206</td>\n",
       "    </tr>\n",
       "    <tr>\n",
       "      <th>2</th>\n",
       "      <td>0.226950</td>\n",
       "      <td>0.004219</td>\n",
       "      <td>0.000000</td>\n",
       "      <td>0.000000</td>\n",
       "      <td>0.0001</td>\n",
       "      <td>l1</td>\n",
       "      <td>{'C': 0.0001, 'penalty': 'l1'}</td>\n",
       "      <td>NaN</td>\n",
       "      <td>NaN</td>\n",
       "      <td>NaN</td>\n",
       "      <td>NaN</td>\n",
       "      <td>17</td>\n",
       "      <td>NaN</td>\n",
       "      <td>NaN</td>\n",
       "      <td>NaN</td>\n",
       "      <td>NaN</td>\n",
       "    </tr>\n",
       "    <tr>\n",
       "      <th>3</th>\n",
       "      <td>2.590081</td>\n",
       "      <td>0.353885</td>\n",
       "      <td>0.115953</td>\n",
       "      <td>0.020777</td>\n",
       "      <td>0.0001</td>\n",
       "      <td>l2</td>\n",
       "      <td>{'C': 0.0001, 'penalty': 'l2'}</td>\n",
       "      <td>0.641217</td>\n",
       "      <td>0.636886</td>\n",
       "      <td>0.639051</td>\n",
       "      <td>0.002166</td>\n",
       "      <td>9</td>\n",
       "      <td>0.647278</td>\n",
       "      <td>0.646656</td>\n",
       "      <td>0.646967</td>\n",
       "      <td>0.000311</td>\n",
       "    </tr>\n",
       "    <tr>\n",
       "      <th>4</th>\n",
       "      <td>0.212311</td>\n",
       "      <td>0.008434</td>\n",
       "      <td>0.000000</td>\n",
       "      <td>0.000000</td>\n",
       "      <td>0.001</td>\n",
       "      <td>l1</td>\n",
       "      <td>{'C': 0.001, 'penalty': 'l1'}</td>\n",
       "      <td>NaN</td>\n",
       "      <td>NaN</td>\n",
       "      <td>NaN</td>\n",
       "      <td>NaN</td>\n",
       "      <td>19</td>\n",
       "      <td>NaN</td>\n",
       "      <td>NaN</td>\n",
       "      <td>NaN</td>\n",
       "      <td>NaN</td>\n",
       "    </tr>\n",
       "  </tbody>\n",
       "</table>\n",
       "</div>"
      ],
      "text/plain": [
       "   mean_fit_time  std_fit_time  ...  mean_train_score  std_train_score\n",
       "0       0.369625      0.020564  ...               NaN              NaN\n",
       "1       2.462661      0.070438  ...          0.640518         0.000206\n",
       "2       0.226950      0.004219  ...               NaN              NaN\n",
       "3       2.590081      0.353885  ...          0.646967         0.000311\n",
       "4       0.212311      0.008434  ...               NaN              NaN\n",
       "\n",
       "[5 rows x 16 columns]"
      ]
     },
     "execution_count": 163,
     "metadata": {
      "tags": []
     },
     "output_type": "execute_result"
    }
   ],
   "source": [
    "results = pd.DataFrame.from_dict(grid_search_4.cv_results_)\n",
    "results = results.sort_values(['param_C'])\n",
    "results.head()"
   ]
  },
  {
   "cell_type": "code",
   "execution_count": 0,
   "metadata": {
    "colab": {},
    "colab_type": "code",
    "id": "tjM_lPP9kPV_"
   },
   "outputs": [],
   "source": [
    "train_auc_4 = results['mean_train_score']\n",
    "test_auc_4 = results['mean_test_score']\n",
    "C_4 = results['param_C']"
   ]
  },
  {
   "cell_type": "code",
   "execution_count": 165,
   "metadata": {
    "colab": {
     "base_uri": "https://localhost:8080/",
     "height": 299
    },
    "colab_type": "code",
    "id": "RZdt4IEvkPV_",
    "outputId": "099448df-4673-47f7-8883-39301e05a514"
   },
   "outputs": [
    {
     "data": {
      "image/png": "[encoded data removed]",
      "text/plain": [
       "<Figure size 432x288 with 1 Axes>"
      ]
     },
     "metadata": {
      "tags": []
     },
     "output_type": "display_data"
    }
   ],
   "source": [
    "plt.plot(C_4, train_auc_4, label='Train AUC')\n",
    "plt.plot(C_4, test_auc_4, label='Test AUC')\n",
    "plt.scatter(C_4, train_auc_4)\n",
    "plt.scatter(C_4, test_auc_4)\n",
    "\n",
    "plt.title('HYPERPARMETER vs AUC')\n",
    "plt.xlabel('Hyperparameter: C')\n",
    "plt.ylabel('AUC')\n",
    "plt.xscale('log')\n",
    "plt.legend()\n",
    "plt.grid()\n",
    "plt.show()"
   ]
  },
  {
   "cell_type": "markdown",
   "metadata": {
    "colab_type": "text",
    "id": "aTfdKgcKkPWA"
   },
   "source": [
    "### 4.4 Modelling with Parameters"
   ]
  },
  {
   "cell_type": "code",
   "execution_count": 166,
   "metadata": {
    "colab": {
     "base_uri": "https://localhost:8080/",
     "height": 102
    },
    "colab_type": "code",
    "id": "wgMRP9ALkPWA",
    "outputId": "2a16d385-bb81-429a-edc1-f542f4e57b66"
   },
   "outputs": [
    {
     "data": {
      "text/plain": [
       "LogisticRegression(C=1, class_weight=None, dual=False, fit_intercept=True,\n",
       "                   intercept_scaling=1, l1_ratio=None, max_iter=100,\n",
       "                   multi_class='auto', n_jobs=None, penalty='l2',\n",
       "                   random_state=None, solver='lbfgs', tol=0.0001, verbose=0,\n",
       "                   warm_start=False)"
      ]
     },
     "execution_count": 166,
     "metadata": {
      "tags": []
     },
     "output_type": "execute_result"
    }
   ],
   "source": [
    "classifier_withParam_4 = LogisticRegression(penalty=best_penalty_4, C=best_C_4)\n",
    "classifier_withParam_4.fit(X_train_4, y_train)"
   ]
  },
  {
   "cell_type": "markdown",
   "metadata": {
    "colab_type": "text",
    "id": "O6GCtRTCkPWB"
   },
   "source": [
    "### 4.5 Cross validate"
   ]
  },
  {
   "cell_type": "code",
   "execution_count": 0,
   "metadata": {
    "colab": {},
    "colab_type": "code",
    "id": "Kbjcs8VokPWB"
   },
   "outputs": [],
   "source": [
    "from sklearn.model_selection import cross_val_score\n",
    "cv_4 = cross_val_score(estimator=classifier_withParam_4, X=X_train_4, y=y_train,cv=5, scoring='roc_auc')"
   ]
  },
  {
   "cell_type": "code",
   "execution_count": 168,
   "metadata": {
    "colab": {
     "base_uri": "https://localhost:8080/",
     "height": 34
    },
    "colab_type": "code",
    "id": "wLA-q9rakPWC",
    "outputId": "d93143f5-e960-4b57-ef7f-9a1e142ac629"
   },
   "outputs": [
    {
     "name": "stdout",
     "output_type": "stream",
     "text": [
      "Best AUC: 0.700331\n"
     ]
    }
   ],
   "source": [
    "best_auc_4 = cv_4.mean()\n",
    "print('Best AUC: %4f' %best_auc_4)"
   ]
  },
  {
   "cell_type": "markdown",
   "metadata": {
    "colab_type": "text",
    "id": "Rrgg7cglkPWC"
   },
   "source": [
    "### 4.6 AUC CURVE"
   ]
  },
  {
   "cell_type": "code",
   "execution_count": 0,
   "metadata": {
    "colab": {},
    "colab_type": "code",
    "id": "SCLHoyedkPWD"
   },
   "outputs": [],
   "source": [
    "def batch_predict(clf, data):\n",
    "    y_data_pred = []\n",
    "    tr_loop = data.shape[0] - data.shape[0]%1000\n",
    "    for i in range(0,tr_loop,1000):\n",
    "        y_data_pred.extend(clf.predict_proba(data[i:i+1000])[:,1])\n",
    "    if data.shape[0]%1000 !=0:\n",
    "        y_data_pred.extend(clf.predict_proba(data[tr_loop:])[:,1])\n",
    "    return y_data_pred"
   ]
  },
  {
   "cell_type": "code",
   "execution_count": 0,
   "metadata": {
    "colab": {},
    "colab_type": "code",
    "id": "Kya9Ul5KkPWE"
   },
   "outputs": [],
   "source": [
    "y_train_pred_4 = batch_predict(classifier_withParam_4, X_train_4)\n",
    "y_test_pred_4 = batch_predict(classifier_withParam_4, X_test_4)"
   ]
  },
  {
   "cell_type": "code",
   "execution_count": 0,
   "metadata": {
    "colab": {},
    "colab_type": "code",
    "id": "EzaHe-lKkPWE"
   },
   "outputs": [],
   "source": [
    "train_fpr_4, train_tpr_4, train_threshold_4 = roc_curve(y_train, y_train_pred_4)\n",
    "test_fpr_4, test_tpr_4, train_threshold_4 = roc_curve(y_test, y_test_pred_4)"
   ]
  },
  {
   "cell_type": "code",
   "execution_count": 172,
   "metadata": {
    "colab": {
     "base_uri": "https://localhost:8080/",
     "height": 295
    },
    "colab_type": "code",
    "id": "N0YJHm8ikPWF",
    "outputId": "825d8fa2-9c62-4edd-8890-d0e7d8276cf6"
   },
   "outputs": [
    {
     "data": {
      "image/png": "[encoded data removed]",
      "text/plain": [
       "<Figure size 432x288 with 1 Axes>"
      ]
     },
     "metadata": {
      "tags": []
     },
     "output_type": "display_data"
    }
   ],
   "source": [
    "plt.plot(train_fpr_4, train_tpr_4, label='Train_AUC: %4f' %auc(train_fpr_4, train_tpr_4))\n",
    "plt.plot(test_fpr_4, test_tpr_4, label='Test_AUC: %4f' %auc(test_fpr_4, test_tpr_4))\n",
    "\n",
    "plt.title('AUC curve')\n",
    "plt.xlabel('FPR')\n",
    "plt.ylabel('TPR')\n",
    "plt.legend()\n",
    "plt.grid()\n",
    "plt.show()"
   ]
  },
  {
   "cell_type": "markdown",
   "metadata": {
    "colab_type": "text",
    "id": "SvTTD5vukPWG"
   },
   "source": [
    "### 4.1.10 Confusion matrix"
   ]
  },
  {
   "cell_type": "code",
   "execution_count": 0,
   "metadata": {
    "colab": {},
    "colab_type": "code",
    "id": "DO4_azqXkPWH"
   },
   "outputs": [],
   "source": [
    "def find_best_threshold( fpr, tpr, threshold):\n",
    "    t = threshold[np.argmax(tpr*(1-fpr))]\n",
    "    print('the maximum tpr*(1-fpr) is :', max(tpr*(1-fpr)), 'for threshold', np.round(t,3))\n",
    "    return t"
   ]
  },
  {
   "cell_type": "code",
   "execution_count": 174,
   "metadata": {
    "colab": {
     "base_uri": "https://localhost:8080/",
     "height": 34
    },
    "colab_type": "code",
    "id": "QXqKns85kPWH",
    "outputId": "467225b0-6f1e-4326-a140-c7c668f27ad4"
   },
   "outputs": [
    {
     "name": "stdout",
     "output_type": "stream",
     "text": [
      "the maximum tpr*(1-fpr) is : 0.44857823524886603 for threshold 0.695\n"
     ]
    }
   ],
   "source": [
    "best_t = find_best_threshold(train_fpr_4, train_tpr_4, train_threshold_4)"
   ]
  },
  {
   "cell_type": "code",
   "execution_count": 0,
   "metadata": {
    "colab": {},
    "colab_type": "code",
    "id": "crPzImYKkPWI"
   },
   "outputs": [],
   "source": [
    "def predict_with_threshold(proba, threshold):\n",
    "    predictions = []\n",
    "    for i in proba:\n",
    "        if i>=threshold:\n",
    "            predictions.append(1)\n",
    "        else:\n",
    "            predictions.append(0)\n",
    "            \n",
    "    return predictions"
   ]
  },
  {
   "cell_type": "code",
   "execution_count": 0,
   "metadata": {
    "colab": {},
    "colab_type": "code",
    "id": "CmJ9eDohkPWJ",
    "scrolled": true
   },
   "outputs": [],
   "source": [
    "from sklearn.metrics import confusion_matrix\n",
    "\n",
    "cm_train_4 = confusion_matrix(y_train, predict_with_threshold(y_train_pred_4, best_t))\n",
    "cm_test_4 = confusion_matrix(y_test, predict_with_threshold(y_test_pred_4, best_t))"
   ]
  },
  {
   "cell_type": "code",
   "execution_count": 177,
   "metadata": {
    "colab": {
     "base_uri": "https://localhost:8080/",
     "height": 295
    },
    "colab_type": "code",
    "id": "CXjlIXoFkPWJ",
    "outputId": "ef6f20c8-bdd1-4583-cb30-96f153fc541a"
   },
   "outputs": [
    {
     "data": {
      "image/png": "[encoded data removed]",
      "text/plain": [
       "<Figure size 432x288 with 2 Axes>"
      ]
     },
     "metadata": {
      "tags": []
     },
     "output_type": "display_data"
    }
   ],
   "source": [
    "sns.heatmap(cm_train_4, annot=True, fmt='.2f')\n",
    "plt.title('Test Data: confusion matrix')\n",
    "plt.xlabel('Predicted Label')\n",
    "plt.ylabel('Actual label')\n",
    "plt.show()"
   ]
  },
  {
   "cell_type": "code",
   "execution_count": 178,
   "metadata": {
    "colab": {
     "base_uri": "https://localhost:8080/",
     "height": 295
    },
    "colab_type": "code",
    "id": "5fsUSxUrkPWK",
    "outputId": "eaca8f73-66e6-48df-94b4-b5ae30c20fc0"
   },
   "outputs": [
    {
     "data": {
      "image/png": "[encoded data removed]",
      "text/plain": [
       "<Figure size 432x288 with 2 Axes>"
      ]
     },
     "metadata": {
      "tags": []
     },
     "output_type": "display_data"
    }
   ],
   "source": [
    "sns.heatmap(cm_test_4, annot=True, fmt='.2f')\n",
    "plt.title('Test Data: confusion matrix')\n",
    "plt.xlabel('Predicted Label')\n",
    "plt.ylabel('Actual label')\n",
    "plt.show()"
   ]
  },
  {
   "cell_type": "markdown",
   "metadata": {
    "colab_type": "text",
    "id": "EC7J2AxgkPWL"
   },
   "source": [
    "## 5. Set-5"
   ]
  },
  {
   "cell_type": "markdown",
   "metadata": {
    "colab_type": "text",
    "id": "bkNMd1w1kPWL"
   },
   "source": [
    "### 5.1 Merging all the columns"
   ]
  },
  {
   "cell_type": "code",
   "execution_count": 0,
   "metadata": {
    "colab": {},
    "colab_type": "code",
    "id": "vnpFW367kPWL"
   },
   "outputs": [],
   "source": [
    "from scipy.sparse import hstack\n",
    "X_train_5 = hstack((X_train_Sstate, X_train_cat, X_train_subcat, X_train_grade, X_train_prefix, X_train_previous, X_train_price, X_train_quantity, X_train_words_title, X_train_words_essay, X_train_sentiment)).tocsr()\n",
    "X_test_5 = hstack((X_test_Sstate, X_test_cat, X_test_subcat, X_test_grade, X_test_prefix, X_test_previous, X_test_price, X_test_quantity, X_test_words_title, X_test_words_essay, X_test_sentiment)).tocsr()"
   ]
  },
  {
   "cell_type": "code",
   "execution_count": 183,
   "metadata": {
    "colab": {
     "base_uri": "https://localhost:8080/",
     "height": 51
    },
    "colab_type": "code",
    "id": "DOlTg-w2kPWM",
    "outputId": "3e6dec2b-ee5f-4803-d384-18c662958a7c"
   },
   "outputs": [
    {
     "name": "stdout",
     "output_type": "stream",
     "text": [
      "(73196, 105)\n",
      "(36052, 105)\n"
     ]
    }
   ],
   "source": [
    "print(X_train_5.shape)\n",
    "print(X_test_5.shape)"
   ]
  },
  {
   "cell_type": "markdown",
   "metadata": {
    "colab_type": "text",
    "id": "ZlX9jAbZkPWM"
   },
   "source": [
    "### 5.2 Grid Search CV"
   ]
  },
  {
   "cell_type": "code",
   "execution_count": 0,
   "metadata": {
    "colab": {},
    "colab_type": "code",
    "id": "W2WN5985kPWM"
   },
   "outputs": [],
   "source": [
    "classifier_5 = LogisticRegression()"
   ]
  },
  {
   "cell_type": "code",
   "execution_count": 0,
   "metadata": {
    "colab": {},
    "colab_type": "code",
    "id": "q2GwQyZ8kPWM"
   },
   "outputs": [],
   "source": [
    "from sklearn.model_selection import GridSearchCV\n",
    "parameters = [\n",
    "                {\n",
    "                    'C': [0.00001,0.0001,0.001,0.01,0.1,1,10,100,1000,10000],\n",
    "                    'penalty' : ['l1', 'l2']\n",
    "                }\n",
    "            ]\n",
    "grid_search_5 = GridSearchCV(estimator=classifier_5, param_grid=parameters, scoring='roc_auc', cv=2, n_jobs=-1, return_train_score=True)"
   ]
  },
  {
   "cell_type": "code",
   "execution_count": 0,
   "metadata": {
    "colab": {},
    "colab_type": "code",
    "id": "YWaI9wbykPWN"
   },
   "outputs": [],
   "source": [
    "grid_search_5 = grid_search_5.fit(X=X_train_5, y=y_train)"
   ]
  },
  {
   "cell_type": "code",
   "execution_count": 194,
   "metadata": {
    "colab": {
     "base_uri": "https://localhost:8080/",
     "height": 51
    },
    "colab_type": "code",
    "id": "dBI9BGMhSooV",
    "outputId": "af8943fb-c352-460e-b447-baf2dd308f21"
   },
   "outputs": [
    {
     "name": "stdout",
     "output_type": "stream",
     "text": [
      "Best_C 0.010000:\n",
      "Best Regularizer: l2\n"
     ]
    }
   ],
   "source": [
    "best_C_5 = grid_search_5.best_params_['C']\n",
    "best_penalty_5 = grid_search_5.best_params_['penalty']\n",
    "print('Best_C %4f:' %best_C_5)\n",
    "print('Best Regularizer:', best_penalty_5)"
   ]
  },
  {
   "cell_type": "markdown",
   "metadata": {
    "colab_type": "text",
    "id": "w4gdaW7-R2C4"
   },
   "source": [
    "### 5.3 Hyperparameter vs AUC"
   ]
  },
  {
   "cell_type": "code",
   "execution_count": 190,
   "metadata": {
    "colab": {
     "base_uri": "https://localhost:8080/",
     "height": 479
    },
    "colab_type": "code",
    "id": "rnum6xStkPWN",
    "outputId": "8617f640-c9d3-4c39-9914-5821d196e12b"
   },
   "outputs": [
    {
     "data": {
      "text/html": [
       "<div>\n",
       "<style scoped>\n",
       "    .dataframe tbody tr th:only-of-type {\n",
       "        vertical-align: middle;\n",
       "    }\n",
       "\n",
       "    .dataframe tbody tr th {\n",
       "        vertical-align: top;\n",
       "    }\n",
       "\n",
       "    .dataframe thead th {\n",
       "        text-align: right;\n",
       "    }\n",
       "</style>\n",
       "<table border=\"1\" class=\"dataframe\">\n",
       "  <thead>\n",
       "    <tr style=\"text-align: right;\">\n",
       "      <th></th>\n",
       "      <th>mean_fit_time</th>\n",
       "      <th>std_fit_time</th>\n",
       "      <th>mean_score_time</th>\n",
       "      <th>std_score_time</th>\n",
       "      <th>param_C</th>\n",
       "      <th>param_penalty</th>\n",
       "      <th>params</th>\n",
       "      <th>split0_test_score</th>\n",
       "      <th>split1_test_score</th>\n",
       "      <th>mean_test_score</th>\n",
       "      <th>std_test_score</th>\n",
       "      <th>rank_test_score</th>\n",
       "      <th>split0_train_score</th>\n",
       "      <th>split1_train_score</th>\n",
       "      <th>mean_train_score</th>\n",
       "      <th>std_train_score</th>\n",
       "    </tr>\n",
       "  </thead>\n",
       "  <tbody>\n",
       "    <tr>\n",
       "      <th>0</th>\n",
       "      <td>0.014149</td>\n",
       "      <td>0.002166</td>\n",
       "      <td>0.000000</td>\n",
       "      <td>0.000000</td>\n",
       "      <td>1e-05</td>\n",
       "      <td>l1</td>\n",
       "      <td>{'C': 1e-05, 'penalty': 'l1'}</td>\n",
       "      <td>NaN</td>\n",
       "      <td>NaN</td>\n",
       "      <td>NaN</td>\n",
       "      <td>NaN</td>\n",
       "      <td>20</td>\n",
       "      <td>NaN</td>\n",
       "      <td>NaN</td>\n",
       "      <td>NaN</td>\n",
       "      <td>NaN</td>\n",
       "    </tr>\n",
       "    <tr>\n",
       "      <th>1</th>\n",
       "      <td>0.128292</td>\n",
       "      <td>0.000049</td>\n",
       "      <td>0.021569</td>\n",
       "      <td>0.000334</td>\n",
       "      <td>1e-05</td>\n",
       "      <td>l2</td>\n",
       "      <td>{'C': 1e-05, 'penalty': 'l2'}</td>\n",
       "      <td>0.627224</td>\n",
       "      <td>0.623436</td>\n",
       "      <td>0.625330</td>\n",
       "      <td>0.001894</td>\n",
       "      <td>4</td>\n",
       "      <td>0.627326</td>\n",
       "      <td>0.626850</td>\n",
       "      <td>0.627088</td>\n",
       "      <td>0.000238</td>\n",
       "    </tr>\n",
       "    <tr>\n",
       "      <th>2</th>\n",
       "      <td>0.008750</td>\n",
       "      <td>0.000076</td>\n",
       "      <td>0.000000</td>\n",
       "      <td>0.000000</td>\n",
       "      <td>0.0001</td>\n",
       "      <td>l1</td>\n",
       "      <td>{'C': 0.0001, 'penalty': 'l1'}</td>\n",
       "      <td>NaN</td>\n",
       "      <td>NaN</td>\n",
       "      <td>NaN</td>\n",
       "      <td>NaN</td>\n",
       "      <td>18</td>\n",
       "      <td>NaN</td>\n",
       "      <td>NaN</td>\n",
       "      <td>NaN</td>\n",
       "      <td>NaN</td>\n",
       "    </tr>\n",
       "    <tr>\n",
       "      <th>3</th>\n",
       "      <td>0.107303</td>\n",
       "      <td>0.000799</td>\n",
       "      <td>0.022804</td>\n",
       "      <td>0.000679</td>\n",
       "      <td>0.0001</td>\n",
       "      <td>l2</td>\n",
       "      <td>{'C': 0.0001, 'penalty': 'l2'}</td>\n",
       "      <td>0.627125</td>\n",
       "      <td>0.623905</td>\n",
       "      <td>0.625515</td>\n",
       "      <td>0.001610</td>\n",
       "      <td>2</td>\n",
       "      <td>0.627335</td>\n",
       "      <td>0.627682</td>\n",
       "      <td>0.627508</td>\n",
       "      <td>0.000173</td>\n",
       "    </tr>\n",
       "    <tr>\n",
       "      <th>4</th>\n",
       "      <td>0.009601</td>\n",
       "      <td>0.000405</td>\n",
       "      <td>0.000000</td>\n",
       "      <td>0.000000</td>\n",
       "      <td>0.001</td>\n",
       "      <td>l1</td>\n",
       "      <td>{'C': 0.001, 'penalty': 'l1'}</td>\n",
       "      <td>NaN</td>\n",
       "      <td>NaN</td>\n",
       "      <td>NaN</td>\n",
       "      <td>NaN</td>\n",
       "      <td>14</td>\n",
       "      <td>NaN</td>\n",
       "      <td>NaN</td>\n",
       "      <td>NaN</td>\n",
       "      <td>NaN</td>\n",
       "    </tr>\n",
       "  </tbody>\n",
       "</table>\n",
       "</div>"
      ],
      "text/plain": [
       "   mean_fit_time  std_fit_time  ...  mean_train_score  std_train_score\n",
       "0       0.014149      0.002166  ...               NaN              NaN\n",
       "1       0.128292      0.000049  ...          0.627088         0.000238\n",
       "2       0.008750      0.000076  ...               NaN              NaN\n",
       "3       0.107303      0.000799  ...          0.627508         0.000173\n",
       "4       0.009601      0.000405  ...               NaN              NaN\n",
       "\n",
       "[5 rows x 16 columns]"
      ]
     },
     "execution_count": 190,
     "metadata": {
      "tags": []
     },
     "output_type": "execute_result"
    }
   ],
   "source": [
    "results = pd.DataFrame.from_dict(grid_search_5.cv_results_)\n",
    "results = results.sort_values(['param_C'])\n",
    "results.head()"
   ]
  },
  {
   "cell_type": "code",
   "execution_count": 0,
   "metadata": {
    "colab": {},
    "colab_type": "code",
    "id": "Na6OZgbkkPWQ"
   },
   "outputs": [],
   "source": [
    "train_auc_5 = results['mean_train_score']\n",
    "test_auc_5 = results['mean_test_score']\n",
    "C_5 = results['param_C']"
   ]
  },
  {
   "cell_type": "code",
   "execution_count": 192,
   "metadata": {
    "colab": {
     "base_uri": "https://localhost:8080/",
     "height": 299
    },
    "colab_type": "code",
    "id": "ZoWpsG8nkPWQ",
    "outputId": "6cb928a6-f485-47ad-bc5d-5bbda72bd638"
   },
   "outputs": [
    {
     "data": {
      "image/png": "[encoded data removed]",
      "text/plain": [
       "<Figure size 432x288 with 1 Axes>"
      ]
     },
     "metadata": {
      "tags": []
     },
     "output_type": "display_data"
    }
   ],
   "source": [
    "plt.plot(C_5, train_auc_5, label='Train AUC')\n",
    "plt.plot(C_5, test_auc_5, label='Test AUC')\n",
    "plt.scatter(C_5, train_auc_5)\n",
    "plt.scatter(C_5, test_auc_5)\n",
    "\n",
    "plt.title('HYPERPARMETER vs AUC')\n",
    "plt.xlabel('Hyperparameter: C')\n",
    "plt.ylabel('AUC')\n",
    "plt.xscale('log')\n",
    "plt.legend()\n",
    "plt.grid()\n",
    "plt.show()"
   ]
  },
  {
   "cell_type": "markdown",
   "metadata": {
    "colab_type": "text",
    "id": "YHqIfWMOkPWS"
   },
   "source": [
    "### 5.4 Modelling with Parameters"
   ]
  },
  {
   "cell_type": "code",
   "execution_count": 195,
   "metadata": {
    "colab": {
     "base_uri": "https://localhost:8080/",
     "height": 102
    },
    "colab_type": "code",
    "id": "bg5pcB69kPWT",
    "outputId": "ea6d4f62-a798-4244-81ef-9c7f26e71f76"
   },
   "outputs": [
    {
     "data": {
      "text/plain": [
       "LogisticRegression(C=0.01, class_weight=None, dual=False, fit_intercept=True,\n",
       "                   intercept_scaling=1, l1_ratio=None, max_iter=100,\n",
       "                   multi_class='auto', n_jobs=None, penalty='l2',\n",
       "                   random_state=None, solver='lbfgs', tol=0.0001, verbose=0,\n",
       "                   warm_start=False)"
      ]
     },
     "execution_count": 195,
     "metadata": {
      "tags": []
     },
     "output_type": "execute_result"
    }
   ],
   "source": [
    "classifier_withParam_5 = LogisticRegression(penalty=best_penalty_5, C=best_C_5)\n",
    "classifier_withParam_5.fit(X_train_5, y_train)"
   ]
  },
  {
   "cell_type": "markdown",
   "metadata": {
    "colab_type": "text",
    "id": "SiYN70eMkPWU"
   },
   "source": [
    "### 5.5 Cross validate"
   ]
  },
  {
   "cell_type": "code",
   "execution_count": 0,
   "metadata": {
    "colab": {},
    "colab_type": "code",
    "id": "LwsI8Ye_kPWU"
   },
   "outputs": [],
   "source": [
    "from sklearn.model_selection import cross_val_score\n",
    "cv_5 = cross_val_score(estimator=classifier_withParam_5, X=X_train_5, y=y_train,cv=10, scoring='roc_auc')"
   ]
  },
  {
   "cell_type": "code",
   "execution_count": 197,
   "metadata": {
    "colab": {
     "base_uri": "https://localhost:8080/",
     "height": 34
    },
    "colab_type": "code",
    "id": "SYTpe5hukPWV",
    "outputId": "fa3cc822-6912-4d14-e17b-e5941a4c64aa"
   },
   "outputs": [
    {
     "name": "stdout",
     "output_type": "stream",
     "text": [
      "Best AUC:0.626290\n"
     ]
    }
   ],
   "source": [
    "best_auc_5 = cv_5.mean()\n",
    "print('Best AUC:%4f' %best_auc_5)"
   ]
  },
  {
   "cell_type": "markdown",
   "metadata": {
    "colab_type": "text",
    "id": "KtbC10ickPWV"
   },
   "source": [
    "### 5.6 AUC CURVE"
   ]
  },
  {
   "cell_type": "code",
   "execution_count": 0,
   "metadata": {
    "colab": {},
    "colab_type": "code",
    "id": "jThG_2WmkPWV"
   },
   "outputs": [],
   "source": [
    "def batch_predict(clf, data):\n",
    "    y_data_pred = []\n",
    "    tr_loop = data.shape[0] - data.shape[0]%1000\n",
    "    for i in range(0,tr_loop,1000):\n",
    "        y_data_pred.extend(clf.predict_proba(data[i:i+1000])[:,1])\n",
    "    if data.shape[0]%1000 !=0:\n",
    "        y_data_pred.extend(clf.predict_proba(data[tr_loop:])[:,1])\n",
    "    return y_data_pred"
   ]
  },
  {
   "cell_type": "code",
   "execution_count": 0,
   "metadata": {
    "colab": {},
    "colab_type": "code",
    "id": "H6fmwXWekPWW"
   },
   "outputs": [],
   "source": [
    "y_train_pred_5 = batch_predict(classifier_withParam_5, X_train_5)\n",
    "y_test_pred_5 = batch_predict(classifier_withParam_5, X_test_5)"
   ]
  },
  {
   "cell_type": "code",
   "execution_count": 0,
   "metadata": {
    "colab": {},
    "colab_type": "code",
    "id": "LvEO3sb1kPWX"
   },
   "outputs": [],
   "source": [
    "from sklearn.metrics import roc_curve, auc\n",
    "train_fpr_5, train_tpr_5, train_threshold_5 = roc_curve(y_train, y_train_pred_5)\n",
    "test_fpr_5, test_tpr_5, train_threshold_5 = roc_curve(y_test, y_test_pred_5)"
   ]
  },
  {
   "cell_type": "code",
   "execution_count": 201,
   "metadata": {
    "colab": {
     "base_uri": "https://localhost:8080/",
     "height": 295
    },
    "colab_type": "code",
    "id": "kA9ZoNjekPWZ",
    "outputId": "6193bb5b-fe95-4570-e035-6d1062a10e8e"
   },
   "outputs": [
    {
     "data": {
      "image/png": "[encoded data removed]",
      "text/plain": [
       "<Figure size 432x288 with 1 Axes>"
      ]
     },
     "metadata": {
      "tags": []
     },
     "output_type": "display_data"
    }
   ],
   "source": [
    "plt.plot(train_fpr_5, train_tpr_5, label='Train_AUC: %4f' %auc(train_fpr_5, train_tpr_5))\n",
    "plt.plot(test_fpr_5, test_tpr_5, label='Test_AUC: %4f' %auc(test_fpr_5, test_tpr_5))\n",
    "\n",
    "plt.title('AUC curve')\n",
    "plt.xlabel('FPR')\n",
    "plt.ylabel('TPR')\n",
    "plt.legend()\n",
    "plt.grid()\n",
    "plt.show()"
   ]
  },
  {
   "cell_type": "markdown",
   "metadata": {
    "colab_type": "text",
    "id": "ySuzkarCkPWa"
   },
   "source": [
    "### 4.1.10 Confusion matrix"
   ]
  },
  {
   "cell_type": "code",
   "execution_count": 0,
   "metadata": {
    "colab": {},
    "colab_type": "code",
    "id": "1H6rtSFruKwB"
   },
   "outputs": [],
   "source": [
    "def find_best_threshold( fpr, tpr, threshold):\n",
    "    t = threshold[np.argmax(tpr*(1-fpr))]\n",
    "    print('the maximum tpr*(1-fpr) is :', max(tpr*(1-fpr)), 'for threshold', np.round(t,3))\n",
    "    return t"
   ]
  },
  {
   "cell_type": "code",
   "execution_count": 203,
   "metadata": {
    "colab": {
     "base_uri": "https://localhost:8080/",
     "height": 34
    },
    "colab_type": "code",
    "id": "lXJuAqdSuMi5",
    "outputId": "53a162a1-39cc-4832-f493-90b089417654"
   },
   "outputs": [
    {
     "name": "stdout",
     "output_type": "stream",
     "text": [
      "the maximum tpr*(1-fpr) is : 0.35281059254208386 for threshold 0.764\n"
     ]
    }
   ],
   "source": [
    "best_t = find_best_threshold(train_fpr_5, train_tpr_5, train_threshold_5)"
   ]
  },
  {
   "cell_type": "code",
   "execution_count": 0,
   "metadata": {
    "colab": {},
    "colab_type": "code",
    "id": "DPONhJF3uRcy"
   },
   "outputs": [],
   "source": [
    "def predict_with_threshold(proba, threshold):\n",
    "    predictions = []\n",
    "    for i in proba:\n",
    "        if i>=threshold:\n",
    "            predictions.append(1)\n",
    "        else:\n",
    "            predictions.append(0)\n",
    "            \n",
    "    return predictions"
   ]
  },
  {
   "cell_type": "code",
   "execution_count": 0,
   "metadata": {
    "colab": {},
    "colab_type": "code",
    "id": "3Xw-eD7VkPWa",
    "scrolled": true
   },
   "outputs": [],
   "source": [
    "from sklearn.metrics import confusion_matrix\n",
    "\n",
    "cm_train_5 = confusion_matrix(y_train, predict_with_threshold(y_train_pred_5, best_t))\n",
    "cm_test_5 = confusion_matrix(y_test, predict_with_threshold(y_test_pred_5, best_t))"
   ]
  },
  {
   "cell_type": "code",
   "execution_count": 206,
   "metadata": {
    "colab": {
     "base_uri": "https://localhost:8080/",
     "height": 295
    },
    "colab_type": "code",
    "id": "j1B0134IkPWb",
    "outputId": "16560215-b49a-4bba-fc15-9d42ed01bb3d"
   },
   "outputs": [
    {
     "data": {
      "image/png": "[encoded data removed]",
      "text/plain": [
       "<Figure size 432x288 with 2 Axes>"
      ]
     },
     "metadata": {
      "tags": []
     },
     "output_type": "display_data"
    }
   ],
   "source": [
    "sns.heatmap(cm_train_5, annot=True, fmt='.2f')\n",
    "plt.title('Test Data: confusion matrix')\n",
    "plt.xlabel('Predicted Label')\n",
    "plt.ylabel('Actual label')\n",
    "plt.show()"
   ]
  },
  {
   "cell_type": "code",
   "execution_count": 207,
   "metadata": {
    "colab": {
     "base_uri": "https://localhost:8080/",
     "height": 295
    },
    "colab_type": "code",
    "id": "HJVs2COMkPWb",
    "outputId": "2c7c0622-95e1-486b-ccea-9f9f2d1bbd70"
   },
   "outputs": [
    {
     "data": {
      "image/png": "[encoded data removed]",
      "text/plain": [
       "<Figure size 432x288 with 2 Axes>"
      ]
     },
     "metadata": {
      "tags": []
     },
     "output_type": "display_data"
    }
   ],
   "source": [
    "sns.heatmap(cm_test_5, annot=True, fmt='.2f')\n",
    "plt.title('Test Data: confusion matrix')\n",
    "plt.xlabel('Predicted Label')\n",
    "plt.ylabel('Actual label')\n",
    "plt.show()"
   ]
  },
  {
   "cell_type": "markdown",
   "metadata": {
    "colab_type": "text",
    "id": "KIQq0p0MkPWc"
   },
   "source": [
    "## Summary:"
   ]
  },
  {
   "cell_type": "code",
   "execution_count": 211,
   "metadata": {
    "colab": {
     "base_uri": "https://localhost:8080/",
     "height": 170
    },
    "colab_type": "code",
    "id": "0cjSSSMCkPWc",
    "outputId": "da782519-c915-4c92-94fc-a59fc7cf4c11"
   },
   "outputs": [
    {
     "name": "stdout",
     "output_type": "stream",
     "text": [
      "+------------+------------+---------------------+-------------------------+--------------------------------+--------------------+\n",
      "| Set Number | Vectorizer |        Model        | Best Hyperparameter : C | Best Hyperparameter : Penalty  |      Best AUC      |\n",
      "+------------+------------+---------------------+-------------------------+--------------------------------+--------------------+\n",
      "|   Set-1    |    BOW     | Logistic Regression |           0.01          |               l2               | 0.6882048488016882 |\n",
      "|   Set-2    |   TFIDF    | Logistic Regression |           0.1           |               l2               | 0.6882048488016882 |\n",
      "|   Set-3    |   AvgW2V   | Logistic Regression |            10           |               l2               | 0.7029536480659971 |\n",
      "|   Set-4    | TFIDF-W2V  | Logistic Regression |            10           |               l2               | 0.7003306307052629 |\n",
      "|   Set-5    | Numerical  | Logistic Regression |           0.01          |               l2               | 0.6262896722497586 |\n",
      "+------------+------------+---------------------+-------------------------+--------------------------------+--------------------+\n"
     ]
    }
   ],
   "source": [
    "from prettytable import PrettyTable\n",
    "x = PrettyTable()\n",
    "\n",
    "x.field_names = ['Set Number', 'Vectorizer', 'Model', 'Best Hyperparameter : C', 'Best Hyperparameter : Penalty ', 'Best AUC']\n",
    "x.add_row(['Set-1', 'BOW', 'Logistic Regression', str(best_C_1), str(best_penalty_1), str(best_auc_1)])\n",
    "x.add_row(['Set-2', 'TFIDF', 'Logistic Regression', str(best_C_2), str(best_penalty_2), str(best_auc_2)])\n",
    "x.add_row(['Set-3', 'AvgW2V', 'Logistic Regression', str(best_C_3), str(best_penalty_3), str(best_auc_3)])\n",
    "x.add_row(['Set-4', 'TFIDF-W2V', 'Logistic Regression', str(best_C_3), str(best_penalty_4), str(best_auc_4)])\n",
    "x.add_row(['Set-5', 'Numerical', 'Logistic Regression', str(best_C_5), str(best_penalty_5), str(best_auc_5)])\n",
    "\n",
    "print(x)"
   ]
  },
  {
   "cell_type": "markdown",
   "metadata": {
    "colab_type": "text",
    "id": "Gk9afthqkPWd"
   },
   "source": [
    "# That's the end of the code"
   ]
  }
 ],
 "metadata": {
  "accelerator": "GPU",
  "colab": {
   "collapsed_sections": [
    "PxTb-iulkPUj",
    "aYtYJveUkPVC",
    "yKlaWvwKkPVa"
   ],
   "machine_shape": "hm",
   "name": "premkumarkaliyamoorthy_LogReg.ipynb",
   "provenance": []
  },
  "kernelspec": {
   "display_name": "Python 3",
   "language": "python",
   "name": "python3"
  },
  "language_info": {
   "codemirror_mode": {
    "name": "ipython",
    "version": 3
   },
   "file_extension": ".py",
   "mimetype": "text/x-python",
   "name": "python",
   "nbconvert_exporter": "python",
   "pygments_lexer": "ipython3",
   "version": "3.6.9"
  }
 },
 "nbformat": 4,
 "nbformat_minor": 1
}
