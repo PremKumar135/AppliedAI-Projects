{
 "cells": [
  {
   "cell_type": "markdown",
   "metadata": {
    "colab_type": "text",
    "id": "KWTvgfBIV5be"
   },
   "source": [
    "# Naive Bayes"
   ]
  },
  {
   "cell_type": "code",
   "execution_count": 0,
   "metadata": {
    "colab": {},
    "colab_type": "code",
    "id": "0p1rmIA4V5bg"
   },
   "outputs": [],
   "source": [
    "import numpy as np\n",
    "import pandas as pd\n",
    "import matplotlib.pyplot as plt\n",
    "import seaborn as sns\n",
    "%matplotlib inline\n",
    "import pickle"
   ]
  },
  {
   "cell_type": "code",
   "execution_count": 102,
   "metadata": {
    "colab": {
     "base_uri": "https://localhost:8080/",
     "height": 54
    },
    "colab_type": "code",
    "id": "sq77p1cMWQMY",
    "outputId": "f8cd44b6-86e9-40d6-cc5e-266afecb2a7e"
   },
   "outputs": [
    {
     "name": "stdout",
     "output_type": "stream",
     "text": [
      "Drive already mounted at /content/drive; to attempt to forcibly remount, call drive.mount(\"/content/drive\", force_remount=True).\n"
     ]
    }
   ],
   "source": [
    "from google.colab import drive\n",
    "drive.mount('/content/drive')"
   ]
  },
  {
   "cell_type": "code",
   "execution_count": 103,
   "metadata": {
    "colab": {
     "base_uri": "https://localhost:8080/",
     "height": 51
    },
    "colab_type": "code",
    "id": "vO-vA4OLWTKo",
    "outputId": "fc513cb7-a470-4876-fbf9-1d2471630e99"
   },
   "outputs": [
    {
     "name": "stdout",
     "output_type": "stream",
     "text": [
      "glove_vectors\t  Preprocessed_inc_others.csv  train_data.csv\n",
      "PreProcessed.csv  resources.csv\n"
     ]
    }
   ],
   "source": [
    "! ls '/content/drive/My Drive/Applied AI/Datasets/New Donors/'"
   ]
  },
  {
   "cell_type": "markdown",
   "metadata": {
    "colab_type": "text",
    "id": "J4js35uuV5bi"
   },
   "source": [
    "### Importing data"
   ]
  },
  {
   "cell_type": "code",
   "execution_count": 104,
   "metadata": {
    "colab": {
     "base_uri": "https://localhost:8080/",
     "height": 717
    },
    "colab_type": "code",
    "id": "In5tezYBV5bj",
    "outputId": "6b82b688-1ba9-442a-d7a5-a5380da9da84",
    "scrolled": true
   },
   "outputs": [
    {
     "data": {
      "text/html": [
       "<div>\n",
       "<style scoped>\n",
       "    .dataframe tbody tr th:only-of-type {\n",
       "        vertical-align: middle;\n",
       "    }\n",
       "\n",
       "    .dataframe tbody tr th {\n",
       "        vertical-align: top;\n",
       "    }\n",
       "\n",
       "    .dataframe thead th {\n",
       "        text-align: right;\n",
       "    }\n",
       "</style>\n",
       "<table border=\"1\" class=\"dataframe\">\n",
       "  <thead>\n",
       "    <tr style=\"text-align: right;\">\n",
       "      <th></th>\n",
       "      <th>Unnamed: 0</th>\n",
       "      <th>school_state</th>\n",
       "      <th>teacher_prefix</th>\n",
       "      <th>project_grade_category</th>\n",
       "      <th>teacher_number_of_previously_posted_projects</th>\n",
       "      <th>project_is_approved</th>\n",
       "      <th>clean_categories</th>\n",
       "      <th>clean_subcategories</th>\n",
       "      <th>essay</th>\n",
       "      <th>price</th>\n",
       "      <th>title</th>\n",
       "      <th>quantity</th>\n",
       "      <th>sentiment_score</th>\n",
       "      <th>No of words in project title</th>\n",
       "      <th>No of words in essay</th>\n",
       "    </tr>\n",
       "  </thead>\n",
       "  <tbody>\n",
       "    <tr>\n",
       "      <th>0</th>\n",
       "      <td>0</td>\n",
       "      <td>ca</td>\n",
       "      <td>mrs</td>\n",
       "      <td>grades_prek_2</td>\n",
       "      <td>53</td>\n",
       "      <td>1</td>\n",
       "      <td>math_science</td>\n",
       "      <td>appliedsciences health_lifescience</td>\n",
       "      <td>i fortunate enough use fairy tale stem kits cl...</td>\n",
       "      <td>725.05</td>\n",
       "      <td>educational support english learners home</td>\n",
       "      <td>23</td>\n",
       "      <td>0.323506</td>\n",
       "      <td>5</td>\n",
       "      <td>175</td>\n",
       "    </tr>\n",
       "    <tr>\n",
       "      <th>1</th>\n",
       "      <td>1</td>\n",
       "      <td>ut</td>\n",
       "      <td>ms</td>\n",
       "      <td>grades_3_5</td>\n",
       "      <td>4</td>\n",
       "      <td>1</td>\n",
       "      <td>specialneeds</td>\n",
       "      <td>specialneeds</td>\n",
       "      <td>imagine 8 9 years old you third grade classroo...</td>\n",
       "      <td>213.03</td>\n",
       "      <td>wanted projector hungry learners</td>\n",
       "      <td>1</td>\n",
       "      <td>0.293008</td>\n",
       "      <td>4</td>\n",
       "      <td>179</td>\n",
       "    </tr>\n",
       "    <tr>\n",
       "      <th>2</th>\n",
       "      <td>2</td>\n",
       "      <td>ca</td>\n",
       "      <td>mrs</td>\n",
       "      <td>grades_prek_2</td>\n",
       "      <td>10</td>\n",
       "      <td>1</td>\n",
       "      <td>literacy_language</td>\n",
       "      <td>literacy</td>\n",
       "      <td>having class 24 students comes diverse learner...</td>\n",
       "      <td>329.00</td>\n",
       "      <td>soccer equipment awesome middle school students</td>\n",
       "      <td>22</td>\n",
       "      <td>0.313000</td>\n",
       "      <td>6</td>\n",
       "      <td>116</td>\n",
       "    </tr>\n",
       "    <tr>\n",
       "      <th>3</th>\n",
       "      <td>3</td>\n",
       "      <td>ga</td>\n",
       "      <td>mrs</td>\n",
       "      <td>grades_prek_2</td>\n",
       "      <td>2</td>\n",
       "      <td>1</td>\n",
       "      <td>appliedlearning</td>\n",
       "      <td>earlydevelopment</td>\n",
       "      <td>i recently read article giving students choice...</td>\n",
       "      <td>481.04</td>\n",
       "      <td>techie kindergarteners</td>\n",
       "      <td>4</td>\n",
       "      <td>0.123264</td>\n",
       "      <td>2</td>\n",
       "      <td>127</td>\n",
       "    </tr>\n",
       "    <tr>\n",
       "      <th>4</th>\n",
       "      <td>4</td>\n",
       "      <td>wa</td>\n",
       "      <td>mrs</td>\n",
       "      <td>grades_3_5</td>\n",
       "      <td>2</td>\n",
       "      <td>1</td>\n",
       "      <td>literacy_language</td>\n",
       "      <td>literacy</td>\n",
       "      <td>my students crave challenge eat obstacles brea...</td>\n",
       "      <td>17.74</td>\n",
       "      <td>interactive math tools</td>\n",
       "      <td>4</td>\n",
       "      <td>0.160651</td>\n",
       "      <td>3</td>\n",
       "      <td>114</td>\n",
       "    </tr>\n",
       "  </tbody>\n",
       "</table>\n",
       "</div>"
      ],
      "text/plain": [
       "   Unnamed: 0 school_state  ... No of words in project title No of words in essay\n",
       "0           0           ca  ...                            5                  175\n",
       "1           1           ut  ...                            4                  179\n",
       "2           2           ca  ...                            6                  116\n",
       "3           3           ga  ...                            2                  127\n",
       "4           4           wa  ...                            3                  114\n",
       "\n",
       "[5 rows x 15 columns]"
      ]
     },
     "execution_count": 104,
     "metadata": {
      "tags": []
     },
     "output_type": "execute_result"
    }
   ],
   "source": [
    "data = pd.read_csv('/content/drive/My Drive/Applied AI/Datasets/New Donors/Preprocessed_inc_others.csv')\n",
    "data.head()"
   ]
  },
  {
   "cell_type": "code",
   "execution_count": 105,
   "metadata": {
    "colab": {
     "base_uri": "https://localhost:8080/",
     "height": 351
    },
    "colab_type": "code",
    "id": "bnTsZ4a6V5bl",
    "outputId": "172fe9fb-c996-48b6-b3ec-a2333c27fd5d"
   },
   "outputs": [
    {
     "data": {
      "text/html": [
       "<div>\n",
       "<style scoped>\n",
       "    .dataframe tbody tr th:only-of-type {\n",
       "        vertical-align: middle;\n",
       "    }\n",
       "\n",
       "    .dataframe tbody tr th {\n",
       "        vertical-align: top;\n",
       "    }\n",
       "\n",
       "    .dataframe thead th {\n",
       "        text-align: right;\n",
       "    }\n",
       "</style>\n",
       "<table border=\"1\" class=\"dataframe\">\n",
       "  <thead>\n",
       "    <tr style=\"text-align: right;\">\n",
       "      <th></th>\n",
       "      <th>Unnamed: 0</th>\n",
       "      <th>teacher_number_of_previously_posted_projects</th>\n",
       "      <th>project_is_approved</th>\n",
       "      <th>price</th>\n",
       "      <th>quantity</th>\n",
       "      <th>sentiment_score</th>\n",
       "      <th>No of words in project title</th>\n",
       "      <th>No of words in essay</th>\n",
       "    </tr>\n",
       "  </thead>\n",
       "  <tbody>\n",
       "    <tr>\n",
       "      <th>count</th>\n",
       "      <td>109248.000000</td>\n",
       "      <td>109248.000000</td>\n",
       "      <td>109248.000000</td>\n",
       "      <td>109248.000000</td>\n",
       "      <td>109248.000000</td>\n",
       "      <td>109248.000000</td>\n",
       "      <td>109248.000000</td>\n",
       "      <td>109248.000000</td>\n",
       "    </tr>\n",
       "    <tr>\n",
       "      <th>mean</th>\n",
       "      <td>54623.500000</td>\n",
       "      <td>11.153165</td>\n",
       "      <td>0.848583</td>\n",
       "      <td>298.119343</td>\n",
       "      <td>16.965610</td>\n",
       "      <td>0.210069</td>\n",
       "      <td>4.329754</td>\n",
       "      <td>151.406369</td>\n",
       "    </tr>\n",
       "    <tr>\n",
       "      <th>std</th>\n",
       "      <td>31537.325441</td>\n",
       "      <td>27.777154</td>\n",
       "      <td>0.358456</td>\n",
       "      <td>367.498030</td>\n",
       "      <td>26.182942</td>\n",
       "      <td>0.083568</td>\n",
       "      <td>1.779834</td>\n",
       "      <td>38.986772</td>\n",
       "    </tr>\n",
       "    <tr>\n",
       "      <th>min</th>\n",
       "      <td>0.000000</td>\n",
       "      <td>0.000000</td>\n",
       "      <td>0.000000</td>\n",
       "      <td>0.660000</td>\n",
       "      <td>1.000000</td>\n",
       "      <td>-0.189744</td>\n",
       "      <td>1.000000</td>\n",
       "      <td>76.000000</td>\n",
       "    </tr>\n",
       "    <tr>\n",
       "      <th>25%</th>\n",
       "      <td>27311.750000</td>\n",
       "      <td>0.000000</td>\n",
       "      <td>1.000000</td>\n",
       "      <td>104.310000</td>\n",
       "      <td>4.000000</td>\n",
       "      <td>0.154350</td>\n",
       "      <td>3.000000</td>\n",
       "      <td>121.000000</td>\n",
       "    </tr>\n",
       "    <tr>\n",
       "      <th>50%</th>\n",
       "      <td>54623.500000</td>\n",
       "      <td>2.000000</td>\n",
       "      <td>1.000000</td>\n",
       "      <td>206.220000</td>\n",
       "      <td>9.000000</td>\n",
       "      <td>0.208285</td>\n",
       "      <td>4.000000</td>\n",
       "      <td>141.000000</td>\n",
       "    </tr>\n",
       "    <tr>\n",
       "      <th>75%</th>\n",
       "      <td>81935.250000</td>\n",
       "      <td>9.000000</td>\n",
       "      <td>1.000000</td>\n",
       "      <td>379.000000</td>\n",
       "      <td>21.000000</td>\n",
       "      <td>0.264347</td>\n",
       "      <td>5.000000</td>\n",
       "      <td>172.000000</td>\n",
       "    </tr>\n",
       "    <tr>\n",
       "      <th>max</th>\n",
       "      <td>109247.000000</td>\n",
       "      <td>451.000000</td>\n",
       "      <td>1.000000</td>\n",
       "      <td>9999.000000</td>\n",
       "      <td>930.000000</td>\n",
       "      <td>0.663333</td>\n",
       "      <td>18.000000</td>\n",
       "      <td>339.000000</td>\n",
       "    </tr>\n",
       "  </tbody>\n",
       "</table>\n",
       "</div>"
      ],
      "text/plain": [
       "          Unnamed: 0  ...  No of words in essay\n",
       "count  109248.000000  ...         109248.000000\n",
       "mean    54623.500000  ...            151.406369\n",
       "std     31537.325441  ...             38.986772\n",
       "min         0.000000  ...             76.000000\n",
       "25%     27311.750000  ...            121.000000\n",
       "50%     54623.500000  ...            141.000000\n",
       "75%     81935.250000  ...            172.000000\n",
       "max    109247.000000  ...            339.000000\n",
       "\n",
       "[8 rows x 8 columns]"
      ]
     },
     "execution_count": 105,
     "metadata": {
      "tags": []
     },
     "output_type": "execute_result"
    }
   ],
   "source": [
    "data.describe()"
   ]
  },
  {
   "cell_type": "code",
   "execution_count": 106,
   "metadata": {
    "colab": {
     "base_uri": "https://localhost:8080/",
     "height": 270
    },
    "colab_type": "code",
    "id": "zNBn83lWV5b0",
    "outputId": "5b56abbb-62be-4412-e929-7592348997d2"
   },
   "outputs": [
    {
     "data": {
      "text/html": [
       "<div>\n",
       "<style scoped>\n",
       "    .dataframe tbody tr th:only-of-type {\n",
       "        vertical-align: middle;\n",
       "    }\n",
       "\n",
       "    .dataframe tbody tr th {\n",
       "        vertical-align: top;\n",
       "    }\n",
       "\n",
       "    .dataframe thead th {\n",
       "        text-align: right;\n",
       "    }\n",
       "</style>\n",
       "<table border=\"1\" class=\"dataframe\">\n",
       "  <thead>\n",
       "    <tr style=\"text-align: right;\">\n",
       "      <th></th>\n",
       "      <th>Unnamed: 0</th>\n",
       "      <th>school_state</th>\n",
       "      <th>teacher_prefix</th>\n",
       "      <th>project_grade_category</th>\n",
       "      <th>teacher_number_of_previously_posted_projects</th>\n",
       "      <th>clean_categories</th>\n",
       "      <th>clean_subcategories</th>\n",
       "      <th>essay</th>\n",
       "      <th>price</th>\n",
       "      <th>title</th>\n",
       "      <th>quantity</th>\n",
       "      <th>sentiment_score</th>\n",
       "      <th>No of words in project title</th>\n",
       "      <th>No of words in essay</th>\n",
       "    </tr>\n",
       "  </thead>\n",
       "  <tbody>\n",
       "    <tr>\n",
       "      <th>0</th>\n",
       "      <td>0</td>\n",
       "      <td>ca</td>\n",
       "      <td>mrs</td>\n",
       "      <td>grades_prek_2</td>\n",
       "      <td>53</td>\n",
       "      <td>math_science</td>\n",
       "      <td>appliedsciences health_lifescience</td>\n",
       "      <td>i fortunate enough use fairy tale stem kits cl...</td>\n",
       "      <td>725.05</td>\n",
       "      <td>educational support english learners home</td>\n",
       "      <td>23</td>\n",
       "      <td>0.323506</td>\n",
       "      <td>5</td>\n",
       "      <td>175</td>\n",
       "    </tr>\n",
       "  </tbody>\n",
       "</table>\n",
       "</div>"
      ],
      "text/plain": [
       "   Unnamed: 0 school_state  ... No of words in project title No of words in essay\n",
       "0           0           ca  ...                            5                  175\n",
       "\n",
       "[1 rows x 14 columns]"
      ]
     },
     "execution_count": 106,
     "metadata": {
      "tags": []
     },
     "output_type": "execute_result"
    }
   ],
   "source": [
    "y = data['project_is_approved'].values\n",
    "X = data.drop(['project_is_approved'], axis=1)\n",
    "X.head(1)"
   ]
  },
  {
   "cell_type": "code",
   "execution_count": 0,
   "metadata": {
    "colab": {},
    "colab_type": "code",
    "id": "wvjtc4kQV5b2"
   },
   "outputs": [],
   "source": [
    "y = y.reshape(-1,1)"
   ]
  },
  {
   "cell_type": "code",
   "execution_count": 108,
   "metadata": {
    "colab": {
     "base_uri": "https://localhost:8080/",
     "height": 51
    },
    "colab_type": "code",
    "id": "v8pAqVCKV5b4",
    "outputId": "4846dd3a-29e3-4295-ea1e-779991bf6223"
   },
   "outputs": [
    {
     "name": "stdout",
     "output_type": "stream",
     "text": [
      "(109248, 14)\n",
      "(109248, 1)\n"
     ]
    }
   ],
   "source": [
    "print(X.shape)\n",
    "print(y.shape)"
   ]
  },
  {
   "cell_type": "markdown",
   "metadata": {
    "colab_type": "text",
    "id": "IG03OIwPV5b5"
   },
   "source": [
    "### Splitting the data"
   ]
  },
  {
   "cell_type": "code",
   "execution_count": 0,
   "metadata": {
    "colab": {},
    "colab_type": "code",
    "id": "FBbugeAZV5b6"
   },
   "outputs": [],
   "source": [
    "from sklearn.model_selection import train_test_split\n",
    "data_train, data_test, label_train, label_test = train_test_split(X, y, test_size=0.33, stratify=y, random_state=42)"
   ]
  },
  {
   "cell_type": "code",
   "execution_count": 110,
   "metadata": {
    "colab": {
     "base_uri": "https://localhost:8080/",
     "height": 85
    },
    "colab_type": "code",
    "id": "rxt5aExHV5b7",
    "outputId": "8a5af673-10d2-4c09-dbaf-8782f8e0850e"
   },
   "outputs": [
    {
     "name": "stdout",
     "output_type": "stream",
     "text": [
      "(73196, 14)\n",
      "(36052, 14)\n",
      "(73196, 1)\n",
      "(36052, 1)\n"
     ]
    }
   ],
   "source": [
    "print(data_train.shape)\n",
    "print(data_test.shape)\n",
    "print(label_train.shape)\n",
    "print(label_test.shape)"
   ]
  },
  {
   "cell_type": "code",
   "execution_count": 0,
   "metadata": {
    "colab": {},
    "colab_type": "code",
    "id": "628uVvVDXefc"
   },
   "outputs": [],
   "source": [
    "X_train = data_train\n",
    "X_test = data_test\n",
    "y_train = label_train\n",
    "y_test = label_test"
   ]
  },
  {
   "cell_type": "code",
   "execution_count": 112,
   "metadata": {
    "colab": {
     "base_uri": "https://localhost:8080/",
     "height": 85
    },
    "colab_type": "code",
    "id": "4KxTvgfkXgdk",
    "outputId": "94207fa9-9e91-4f60-e330-705c31c18abf"
   },
   "outputs": [
    {
     "name": "stdout",
     "output_type": "stream",
     "text": [
      "(73196, 14)\n",
      "(36052, 14)\n",
      "(73196, 1)\n",
      "(36052, 1)\n"
     ]
    }
   ],
   "source": [
    "print(X_train.shape)\n",
    "print(X_test.shape)\n",
    "print(y_train.shape)\n",
    "print(y_test.shape)"
   ]
  },
  {
   "cell_type": "markdown",
   "metadata": {
    "colab_type": "text",
    "id": "fkfDsPETV5b9"
   },
   "source": [
    "## 1. Vectorizing all the features"
   ]
  },
  {
   "cell_type": "markdown",
   "metadata": {
    "colab_type": "text",
    "id": "11ie8BclV5b9"
   },
   "source": [
    "### 1.1 School State"
   ]
  },
  {
   "cell_type": "code",
   "execution_count": 0,
   "metadata": {
    "colab": {},
    "colab_type": "code",
    "id": "A9sGRR_uV5b-"
   },
   "outputs": [],
   "source": [
    "from sklearn.feature_extraction.text import CountVectorizer\n",
    "vectorizer_1 = CountVectorizer(list(X_train['school_state'].values), lowercase=False, binary=True)"
   ]
  },
  {
   "cell_type": "code",
   "execution_count": 0,
   "metadata": {
    "colab": {},
    "colab_type": "code",
    "id": "7fTFhpm0V5b_"
   },
   "outputs": [],
   "source": [
    "X_train_Sstate = vectorizer_1.fit_transform(X_train['school_state'].values)\n",
    "X_test_Sstate = vectorizer_1.transform(X_test['school_state'].values)"
   ]
  },
  {
   "cell_type": "code",
   "execution_count": 115,
   "metadata": {
    "colab": {
     "base_uri": "https://localhost:8080/",
     "height": 51
    },
    "colab_type": "code",
    "id": "ptQgJ5XfV5cB",
    "outputId": "54d1b505-3201-4b84-e7c4-299c379e325d"
   },
   "outputs": [
    {
     "name": "stdout",
     "output_type": "stream",
     "text": [
      "(73196, 51)\n",
      "(36052, 51)\n"
     ]
    }
   ],
   "source": [
    "print(X_train_Sstate.shape)\n",
    "print(X_test_Sstate.shape)"
   ]
  },
  {
   "cell_type": "markdown",
   "metadata": {
    "colab_type": "text",
    "id": "EHNXfud9V5cE"
   },
   "source": [
    "### 1.2 Clean_Categories"
   ]
  },
  {
   "cell_type": "code",
   "execution_count": 116,
   "metadata": {
    "colab": {
     "base_uri": "https://localhost:8080/",
     "height": 236
    },
    "colab_type": "code",
    "id": "b6_AhtLdV5cE",
    "outputId": "151b49ef-2d6d-4682-d097-a9c22d857a51",
    "scrolled": true
   },
   "outputs": [
    {
     "data": {
      "text/html": [
       "<div>\n",
       "<style scoped>\n",
       "    .dataframe tbody tr th:only-of-type {\n",
       "        vertical-align: middle;\n",
       "    }\n",
       "\n",
       "    .dataframe tbody tr th {\n",
       "        vertical-align: top;\n",
       "    }\n",
       "\n",
       "    .dataframe thead th {\n",
       "        text-align: right;\n",
       "    }\n",
       "</style>\n",
       "<table border=\"1\" class=\"dataframe\">\n",
       "  <thead>\n",
       "    <tr style=\"text-align: right;\">\n",
       "      <th></th>\n",
       "      <th>Unnamed: 0</th>\n",
       "      <th>school_state</th>\n",
       "      <th>teacher_prefix</th>\n",
       "      <th>project_grade_category</th>\n",
       "      <th>teacher_number_of_previously_posted_projects</th>\n",
       "      <th>clean_categories</th>\n",
       "      <th>clean_subcategories</th>\n",
       "      <th>essay</th>\n",
       "      <th>price</th>\n",
       "      <th>title</th>\n",
       "      <th>quantity</th>\n",
       "      <th>sentiment_score</th>\n",
       "      <th>No of words in project title</th>\n",
       "      <th>No of words in essay</th>\n",
       "    </tr>\n",
       "  </thead>\n",
       "  <tbody>\n",
       "    <tr>\n",
       "      <th>76564</th>\n",
       "      <td>76564</td>\n",
       "      <td>ks</td>\n",
       "      <td>mrs</td>\n",
       "      <td>grades_prek_2</td>\n",
       "      <td>13</td>\n",
       "      <td>literacy_language math_science</td>\n",
       "      <td>literacy mathematics</td>\n",
       "      <td>our school title i elementary school located s...</td>\n",
       "      <td>742.2</td>\n",
       "      <td>ipads stem stations</td>\n",
       "      <td>4</td>\n",
       "      <td>0.210884</td>\n",
       "      <td>3</td>\n",
       "      <td>125</td>\n",
       "    </tr>\n",
       "  </tbody>\n",
       "</table>\n",
       "</div>"
      ],
      "text/plain": [
       "       Unnamed: 0  ... No of words in essay\n",
       "76564       76564  ...                  125\n",
       "\n",
       "[1 rows x 14 columns]"
      ]
     },
     "execution_count": 116,
     "metadata": {
      "tags": []
     },
     "output_type": "execute_result"
    }
   ],
   "source": [
    "X_train.head(1)"
   ]
  },
  {
   "cell_type": "code",
   "execution_count": 0,
   "metadata": {
    "colab": {},
    "colab_type": "code",
    "id": "HpbnOzlSV5cG"
   },
   "outputs": [],
   "source": [
    "vectorizer_2 = CountVectorizer(list(X_train['clean_categories'].values),lowercase=False, binary=True)"
   ]
  },
  {
   "cell_type": "code",
   "execution_count": 0,
   "metadata": {
    "colab": {},
    "colab_type": "code",
    "id": "Qh3fzL7mV5cH"
   },
   "outputs": [],
   "source": [
    "X_train_cat = vectorizer_2.fit_transform(X_train['clean_categories'].values)\n",
    "X_test_cat = vectorizer_2.transform(X_test['clean_categories'].values)"
   ]
  },
  {
   "cell_type": "code",
   "execution_count": 119,
   "metadata": {
    "colab": {
     "base_uri": "https://localhost:8080/",
     "height": 51
    },
    "colab_type": "code",
    "id": "vNXykZikV5cI",
    "outputId": "9adf7ad1-5f78-4089-99d5-39f700cd1a34"
   },
   "outputs": [
    {
     "name": "stdout",
     "output_type": "stream",
     "text": [
      "(73196, 9)\n",
      "(36052, 9)\n"
     ]
    }
   ],
   "source": [
    "print(X_train_cat.shape)\n",
    "print(X_test_cat.shape)"
   ]
  },
  {
   "cell_type": "markdown",
   "metadata": {
    "colab_type": "text",
    "id": "ZgYHcBMnV5cK"
   },
   "source": [
    "### 1.3 Clean sub_categories"
   ]
  },
  {
   "cell_type": "code",
   "execution_count": 0,
   "metadata": {
    "colab": {},
    "colab_type": "code",
    "id": "RVaRGf2GV5cK"
   },
   "outputs": [],
   "source": [
    "vectorizer_3 = CountVectorizer(list(X_train['clean_subcategories'].values), lowercase=False, binary=True)"
   ]
  },
  {
   "cell_type": "code",
   "execution_count": 0,
   "metadata": {
    "colab": {},
    "colab_type": "code",
    "id": "QU_4HndHV5cM"
   },
   "outputs": [],
   "source": [
    "X_train_subcat = vectorizer_3.fit_transform(X_train['clean_subcategories'].values)\n",
    "X_test_subcat = vectorizer_3.transform(X_test['clean_subcategories'].values)"
   ]
  },
  {
   "cell_type": "code",
   "execution_count": 122,
   "metadata": {
    "colab": {
     "base_uri": "https://localhost:8080/",
     "height": 51
    },
    "colab_type": "code",
    "id": "L-_228qJV5cT",
    "outputId": "843248c8-7172-448e-ff4b-da672f84419f",
    "scrolled": true
   },
   "outputs": [
    {
     "name": "stdout",
     "output_type": "stream",
     "text": [
      "(73196, 30)\n",
      "(36052, 30)\n"
     ]
    }
   ],
   "source": [
    "print(X_train_subcat.shape)\n",
    "print(X_test_subcat.shape)"
   ]
  },
  {
   "cell_type": "markdown",
   "metadata": {
    "colab_type": "text",
    "id": "pr0u9qGAV5cV"
   },
   "source": [
    "### 1.4 Project Grade Category"
   ]
  },
  {
   "cell_type": "code",
   "execution_count": 0,
   "metadata": {
    "colab": {},
    "colab_type": "code",
    "id": "UAskt_aAV5cV"
   },
   "outputs": [],
   "source": [
    "vectorizer_4 = CountVectorizer(list(X_train['project_grade_category'].values), lowercase=False, binary=True)"
   ]
  },
  {
   "cell_type": "code",
   "execution_count": 0,
   "metadata": {
    "colab": {},
    "colab_type": "code",
    "id": "-9R_BGUMV5cX"
   },
   "outputs": [],
   "source": [
    "X_train_grade = vectorizer_4.fit_transform(X_train['project_grade_category'].values)\n",
    "X_test_grade = vectorizer_4.transform(X_test['project_grade_category'].values)"
   ]
  },
  {
   "cell_type": "code",
   "execution_count": 125,
   "metadata": {
    "colab": {
     "base_uri": "https://localhost:8080/",
     "height": 51
    },
    "colab_type": "code",
    "id": "nJd7ouOqV5cY",
    "outputId": "53dbf2f6-ad4f-4487-a56d-2c70358a4453"
   },
   "outputs": [
    {
     "name": "stdout",
     "output_type": "stream",
     "text": [
      "(73196, 4)\n",
      "(36052, 4)\n"
     ]
    }
   ],
   "source": [
    "print(X_train_grade.shape)\n",
    "print(X_test_grade.shape)"
   ]
  },
  {
   "cell_type": "markdown",
   "metadata": {
    "colab_type": "text",
    "id": "FwxjsCPQV5ca"
   },
   "source": [
    "### 1.5 Teacher Prefix"
   ]
  },
  {
   "cell_type": "code",
   "execution_count": 0,
   "metadata": {
    "colab": {},
    "colab_type": "code",
    "id": "6oEadt6GV5cb"
   },
   "outputs": [],
   "source": [
    "vectorizer_5 = CountVectorizer(list(X_train['teacher_prefix'].values), lowercase=False, binary=True)"
   ]
  },
  {
   "cell_type": "code",
   "execution_count": 0,
   "metadata": {
    "colab": {},
    "colab_type": "code",
    "id": "1BcKJyQNV5cc"
   },
   "outputs": [],
   "source": [
    "X_train_prefix = vectorizer_5.fit_transform(X_train['teacher_prefix'].values)\n",
    "X_test_prefix = vectorizer_5.transform(X_test['teacher_prefix'].values)"
   ]
  },
  {
   "cell_type": "code",
   "execution_count": 128,
   "metadata": {
    "colab": {
     "base_uri": "https://localhost:8080/",
     "height": 51
    },
    "colab_type": "code",
    "id": "zXo1Nhv0V5ce",
    "outputId": "f400acf1-341d-4238-c393-6d8192f50010"
   },
   "outputs": [
    {
     "name": "stdout",
     "output_type": "stream",
     "text": [
      "(73196, 5)\n",
      "(36052, 5)\n"
     ]
    }
   ],
   "source": [
    "print(X_train_prefix.shape)\n",
    "print(X_test_prefix.shape)"
   ]
  },
  {
   "cell_type": "markdown",
   "metadata": {
    "colab_type": "text",
    "id": "qtImqn-mV5cf"
   },
   "source": [
    "### 1.6 Essay "
   ]
  },
  {
   "cell_type": "markdown",
   "metadata": {
    "colab_type": "text",
    "id": "g55KNNHrV5cf"
   },
   "source": [
    "#### 1.6.1 BOW"
   ]
  },
  {
   "cell_type": "code",
   "execution_count": 0,
   "metadata": {
    "colab": {},
    "colab_type": "code",
    "id": "ngZyIDhSV5cg"
   },
   "outputs": [],
   "source": [
    "vectorizer_6 = CountVectorizer(list(X_train['essay'].values), min_df=10)"
   ]
  },
  {
   "cell_type": "code",
   "execution_count": 0,
   "metadata": {
    "colab": {},
    "colab_type": "code",
    "id": "ZlEyYOswV5ch"
   },
   "outputs": [],
   "source": [
    "#We are considering the words which atleast in atleat 10 documents\n",
    "X_train_essay_bow = vectorizer_6.fit_transform(X_train['essay'].values)\n",
    "X_test_essay_bow = vectorizer_6.transform(X_test['essay'].values)"
   ]
  },
  {
   "cell_type": "code",
   "execution_count": 131,
   "metadata": {
    "colab": {
     "base_uri": "https://localhost:8080/",
     "height": 51
    },
    "colab_type": "code",
    "id": "B6GnKaJWV5cj",
    "outputId": "379ed243-c587-4f84-dfb5-d9bcd31b70a6"
   },
   "outputs": [
    {
     "name": "stdout",
     "output_type": "stream",
     "text": [
      "(73196, 14266)\n",
      "(36052, 14266)\n"
     ]
    }
   ],
   "source": [
    "print(X_train_essay_bow.shape)\n",
    "print(X_test_essay_bow.shape)"
   ]
  },
  {
   "cell_type": "markdown",
   "metadata": {
    "colab_type": "text",
    "id": "bBURur57V5ck"
   },
   "source": [
    "#### 1.6.2 TFIDF "
   ]
  },
  {
   "cell_type": "code",
   "execution_count": 0,
   "metadata": {
    "colab": {},
    "colab_type": "code",
    "id": "4DxNGWptV5cl"
   },
   "outputs": [],
   "source": [
    "from sklearn.feature_extraction.text import TfidfVectorizer\n",
    "vectorizer_7 = TfidfVectorizer(list(X_train['essay'].values), min_df=10)"
   ]
  },
  {
   "cell_type": "code",
   "execution_count": 0,
   "metadata": {
    "colab": {},
    "colab_type": "code",
    "id": "ZIIm5PQWV5cm"
   },
   "outputs": [],
   "source": [
    "X_train_essay_tfidf = vectorizer_7.fit_transform(X_train['essay'].values)\n",
    "X_test_essay_tfidf = vectorizer_7.transform(X_test['essay'].values)"
   ]
  },
  {
   "cell_type": "code",
   "execution_count": 134,
   "metadata": {
    "colab": {
     "base_uri": "https://localhost:8080/",
     "height": 51
    },
    "colab_type": "code",
    "id": "7hOHwTEGV5cn",
    "outputId": "d21e324f-b6fe-429c-980b-687631cc9c04"
   },
   "outputs": [
    {
     "name": "stdout",
     "output_type": "stream",
     "text": [
      "(73196, 14266)\n",
      "(36052, 14266)\n"
     ]
    }
   ],
   "source": [
    "print(X_train_essay_tfidf.shape)\n",
    "print(X_test_essay_tfidf.shape)"
   ]
  },
  {
   "cell_type": "markdown",
   "metadata": {
    "colab_type": "text",
    "id": "k_vxeUWxV5co"
   },
   "source": [
    "### 1.7 PROJECT TITLE"
   ]
  },
  {
   "cell_type": "markdown",
   "metadata": {
    "colab_type": "text",
    "id": "vhB7uMkQV5co"
   },
   "source": [
    "#### 1.7.1 BOW"
   ]
  },
  {
   "cell_type": "code",
   "execution_count": 0,
   "metadata": {
    "colab": {},
    "colab_type": "code",
    "id": "74RUHP6kV5cp"
   },
   "outputs": [],
   "source": [
    "vectorizer_8 = CountVectorizer(list(X_train['title'].values), min_df=10)"
   ]
  },
  {
   "cell_type": "code",
   "execution_count": 0,
   "metadata": {
    "colab": {},
    "colab_type": "code",
    "id": "nZk5ZQ7wV5cr"
   },
   "outputs": [],
   "source": [
    "X_train_title_bow = vectorizer_8.fit_transform(X_train['title'].values)\n",
    "X_test_title_bow = vectorizer_8.transform(X_test['title'].values)"
   ]
  },
  {
   "cell_type": "code",
   "execution_count": 137,
   "metadata": {
    "colab": {
     "base_uri": "https://localhost:8080/",
     "height": 51
    },
    "colab_type": "code",
    "id": "F75uJN9AV5ct",
    "outputId": "3a18cfd0-8a6b-4720-e3ab-ad2bb5b28cc5"
   },
   "outputs": [
    {
     "name": "stdout",
     "output_type": "stream",
     "text": [
      "(73196, 2617)\n",
      "(36052, 2617)\n"
     ]
    }
   ],
   "source": [
    "print(X_train_title_bow.shape)\n",
    "print(X_test_title_bow.shape)"
   ]
  },
  {
   "cell_type": "markdown",
   "metadata": {
    "colab_type": "text",
    "id": "KaP7StMwV5cv"
   },
   "source": [
    "#### 1.7.2 TFIDF"
   ]
  },
  {
   "cell_type": "code",
   "execution_count": 0,
   "metadata": {
    "colab": {},
    "colab_type": "code",
    "id": "FUO68kbhV5cw"
   },
   "outputs": [],
   "source": [
    "vectorizer_9 = TfidfVectorizer(list(X_train['title'].values), min_df=10)"
   ]
  },
  {
   "cell_type": "code",
   "execution_count": 0,
   "metadata": {
    "colab": {},
    "colab_type": "code",
    "id": "vBJr3K9fV5cx"
   },
   "outputs": [],
   "source": [
    "X_train_title_tfidf = vectorizer_9.fit_transform(X_train['title'].values)\n",
    "X_test_title_tfidf = vectorizer_9.transform(X_test['title'].values)"
   ]
  },
  {
   "cell_type": "code",
   "execution_count": 140,
   "metadata": {
    "colab": {
     "base_uri": "https://localhost:8080/",
     "height": 51
    },
    "colab_type": "code",
    "id": "zadAo-B2V5cz",
    "outputId": "8ed1345d-3ebe-47b0-ae3b-a667c9e6b21e"
   },
   "outputs": [
    {
     "name": "stdout",
     "output_type": "stream",
     "text": [
      "(73196, 2617)\n",
      "(36052, 2617)\n"
     ]
    }
   ],
   "source": [
    "print(X_train_title_tfidf.shape)\n",
    "print(X_test_title_tfidf.shape)"
   ]
  },
  {
   "cell_type": "markdown",
   "metadata": {
    "colab_type": "text",
    "id": "REYi4SijV5c1"
   },
   "source": [
    "### 1.8 Price"
   ]
  },
  {
   "cell_type": "markdown",
   "metadata": {
    "colab_type": "text",
    "id": "wEPFSrUGbDox"
   },
   "source": [
    "#### Note :\n",
    "  - Since the Naive Bayes will not process with negative values and we can't standardize it"
   ]
  },
  {
   "cell_type": "code",
   "execution_count": 0,
   "metadata": {
    "colab": {},
    "colab_type": "code",
    "id": "ONhBmD0bV5c1"
   },
   "outputs": [],
   "source": [
    "X_train_price = X_train['price'].values.reshape(-1,1)\n",
    "X_test_price = X_test['price'].values.reshape(-1,1)"
   ]
  },
  {
   "cell_type": "code",
   "execution_count": 142,
   "metadata": {
    "colab": {
     "base_uri": "https://localhost:8080/",
     "height": 51
    },
    "colab_type": "code",
    "id": "3DngtNgvV5c2",
    "outputId": "6262629f-142e-45d9-9955-b7a33f6bed74"
   },
   "outputs": [
    {
     "name": "stdout",
     "output_type": "stream",
     "text": [
      "(73196, 1)\n",
      "(36052, 1)\n"
     ]
    }
   ],
   "source": [
    "print(X_train_price.shape)\n",
    "print(X_test_price.shape)"
   ]
  },
  {
   "cell_type": "markdown",
   "metadata": {
    "colab_type": "text",
    "id": "tilVqyPKV5c3"
   },
   "source": [
    "### 1.9 Previously posted projects"
   ]
  },
  {
   "cell_type": "code",
   "execution_count": 0,
   "metadata": {
    "colab": {},
    "colab_type": "code",
    "id": "BWdUHjwbV5c4"
   },
   "outputs": [],
   "source": [
    "X_train_previous = X_train['teacher_number_of_previously_posted_projects'].values.reshape(-1,1)\n",
    "X_test_previous = X_test['teacher_number_of_previously_posted_projects'].values.reshape(-1,1)"
   ]
  },
  {
   "cell_type": "code",
   "execution_count": 144,
   "metadata": {
    "colab": {
     "base_uri": "https://localhost:8080/",
     "height": 51
    },
    "colab_type": "code",
    "id": "0QmkxCgPV5c5",
    "outputId": "3daaa463-cb94-4c95-82b4-9b5f3a15cc11"
   },
   "outputs": [
    {
     "name": "stdout",
     "output_type": "stream",
     "text": [
      "(73196, 1)\n",
      "(36052, 1)\n"
     ]
    }
   ],
   "source": [
    "print(X_train_previous.shape)\n",
    "print(X_test_previous.shape)"
   ]
  },
  {
   "cell_type": "markdown",
   "metadata": {
    "colab_type": "text",
    "id": "XO4pWeQDV5c6"
   },
   "source": [
    "## 2. SET-1"
   ]
  },
  {
   "cell_type": "markdown",
   "metadata": {
    "colab_type": "text",
    "id": "4Q0eTTEpV5c6"
   },
   "source": [
    "### 2.1 Merge all the features"
   ]
  },
  {
   "cell_type": "code",
   "execution_count": 43,
   "metadata": {
    "colab": {
     "base_uri": "https://localhost:8080/",
     "height": 408
    },
    "colab_type": "code",
    "id": "A3rlAMkPV5c7",
    "outputId": "f5978648-2db3-4d42-c26e-760e2c564603"
   },
   "outputs": [
    {
     "name": "stdout",
     "output_type": "stream",
     "text": [
      "(73196, 51)\n",
      "(73196, 9)\n",
      "(73196, 30)\n",
      "(73196, 4)\n",
      "(73196, 5)\n",
      "(73196, 14266)\n",
      "(73196, 14266)\n",
      "(73196, 2617)\n",
      "(73196, 2617)\n",
      "(73196, 1)\n",
      "(73196, 1)\n",
      "==================================================\n",
      "(36052, 51)\n",
      "(36052, 9)\n",
      "(36052, 30)\n",
      "(36052, 4)\n",
      "(36052, 5)\n",
      "(36052, 14266)\n",
      "(36052, 14266)\n",
      "(36052, 2617)\n",
      "(36052, 2617)\n",
      "(36052, 1)\n",
      "(36052, 1)\n"
     ]
    }
   ],
   "source": [
    "print(X_train_Sstate.shape)\n",
    "print(X_train_cat.shape)\n",
    "print(X_train_subcat.shape)\n",
    "print(X_train_grade.shape)\n",
    "print(X_train_prefix.shape)\n",
    "print(X_train_essay_bow.shape)\n",
    "print(X_train_essay_tfidf.shape)\n",
    "print(X_train_title_bow.shape)\n",
    "print(X_train_title_tfidf.shape)\n",
    "print(X_train_price.shape)\n",
    "print(X_train_previous.shape)\n",
    "print('='*50)\n",
    "print(X_test_Sstate.shape)\n",
    "print(X_test_cat.shape)\n",
    "print(X_test_subcat.shape)\n",
    "print(X_test_grade.shape)\n",
    "print(X_test_prefix.shape)\n",
    "print(X_test_essay_bow.shape)\n",
    "print(X_test_essay_tfidf.shape)\n",
    "print(X_test_title_bow.shape)\n",
    "print(X_test_title_tfidf.shape)\n",
    "print(X_test_price.shape)\n",
    "print(X_test_previous.shape)"
   ]
  },
  {
   "cell_type": "code",
   "execution_count": 0,
   "metadata": {
    "colab": {},
    "colab_type": "code",
    "id": "6vJvJpY7V5c8"
   },
   "outputs": [],
   "source": [
    "from scipy.sparse import hstack\n",
    "X_train_1 = hstack((X_train_Sstate, X_train_cat, X_train_subcat, X_train_grade, X_train_prefix, X_train_essay_bow, X_train_title_bow, X_train_previous, X_train_price)).tocsr()\n",
    "X_test_1 = hstack((X_test_Sstate, X_test_cat, X_test_subcat, X_test_grade, X_test_prefix, X_test_essay_bow, X_test_title_bow, X_test_previous, X_test_price)).tocsr()"
   ]
  },
  {
   "cell_type": "code",
   "execution_count": 57,
   "metadata": {
    "colab": {
     "base_uri": "https://localhost:8080/",
     "height": 51
    },
    "colab_type": "code",
    "id": "35XhrsHAV5c9",
    "outputId": "0d8d6767-22e0-40bd-c02e-8e62f816baf7"
   },
   "outputs": [
    {
     "name": "stdout",
     "output_type": "stream",
     "text": [
      "(73196, 16984)\n",
      "(36052, 16984)\n"
     ]
    }
   ],
   "source": [
    "print(X_train_1.shape)\n",
    "print(X_test_1.shape)"
   ]
  },
  {
   "cell_type": "markdown",
   "metadata": {
    "colab_type": "text",
    "id": "STv-J3iNV5c-"
   },
   "source": [
    "### 2.2 Grid Search CV "
   ]
  },
  {
   "cell_type": "code",
   "execution_count": 0,
   "metadata": {
    "colab": {},
    "colab_type": "code",
    "id": "L2Y1GH2AV5c_"
   },
   "outputs": [],
   "source": [
    "from sklearn.naive_bayes import MultinomialNB\n",
    "classifier_1 = MultinomialNB()"
   ]
  },
  {
   "cell_type": "code",
   "execution_count": 0,
   "metadata": {
    "colab": {},
    "colab_type": "code",
    "id": "3DtPkDrGV5dA"
   },
   "outputs": [],
   "source": [
    "from sklearn.model_selection import GridSearchCV\n",
    "parameters = [\n",
    "                {\n",
    "                    'alpha' : [0.0001,0.001,0.01,0.1,1,10,100,1000,10000]\n",
    "                }\n",
    "            ]\n",
    "gridsearch_1 = GridSearchCV(classifier_1, parameters, scoring='roc_auc', cv=10, n_jobs=-1, return_train_score=True)"
   ]
  },
  {
   "cell_type": "code",
   "execution_count": 60,
   "metadata": {
    "colab": {
     "base_uri": "https://localhost:8080/",
     "height": 51
    },
    "colab_type": "code",
    "id": "GQwYRHHxV5dA",
    "outputId": "10a15f7e-cb25-4b01-90e9-651885033635"
   },
   "outputs": [
    {
     "name": "stdout",
     "output_type": "stream",
     "text": [
      "(73196, 16984)\n",
      "(73196, 1)\n"
     ]
    }
   ],
   "source": [
    "print(X_train_1.shape)\n",
    "print(y_train.shape)"
   ]
  },
  {
   "cell_type": "code",
   "execution_count": 61,
   "metadata": {
    "colab": {
     "base_uri": "https://localhost:8080/",
     "height": 71
    },
    "colab_type": "code",
    "id": "rFs450okV5dB",
    "outputId": "8013c651-0b87-4405-826c-a6380306ba9c"
   },
   "outputs": [
    {
     "name": "stderr",
     "output_type": "stream",
     "text": [
      "/usr/local/lib/python3.6/dist-packages/sklearn/utils/validation.py:760: DataConversionWarning: A column-vector y was passed when a 1d array was expected. Please change the shape of y to (n_samples, ), for example using ravel().\n",
      "  y = column_or_1d(y, warn=True)\n"
     ]
    }
   ],
   "source": [
    "gridsearch_1 = gridsearch_1.fit(X_train_1, y_train)"
   ]
  },
  {
   "cell_type": "code",
   "execution_count": 62,
   "metadata": {
    "colab": {
     "base_uri": "https://localhost:8080/",
     "height": 309
    },
    "colab_type": "code",
    "id": "a3urqJypV5dE",
    "outputId": "ea19933f-f4ad-48f2-f3c7-3466babdb21f"
   },
   "outputs": [
    {
     "data": {
      "text/html": [
       "<div>\n",
       "<style scoped>\n",
       "    .dataframe tbody tr th:only-of-type {\n",
       "        vertical-align: middle;\n",
       "    }\n",
       "\n",
       "    .dataframe tbody tr th {\n",
       "        vertical-align: top;\n",
       "    }\n",
       "\n",
       "    .dataframe thead th {\n",
       "        text-align: right;\n",
       "    }\n",
       "</style>\n",
       "<table border=\"1\" class=\"dataframe\">\n",
       "  <thead>\n",
       "    <tr style=\"text-align: right;\">\n",
       "      <th></th>\n",
       "      <th>mean_fit_time</th>\n",
       "      <th>std_fit_time</th>\n",
       "      <th>mean_score_time</th>\n",
       "      <th>std_score_time</th>\n",
       "      <th>param_alpha</th>\n",
       "      <th>params</th>\n",
       "      <th>split0_test_score</th>\n",
       "      <th>split1_test_score</th>\n",
       "      <th>split2_test_score</th>\n",
       "      <th>split3_test_score</th>\n",
       "      <th>split4_test_score</th>\n",
       "      <th>split5_test_score</th>\n",
       "      <th>split6_test_score</th>\n",
       "      <th>split7_test_score</th>\n",
       "      <th>split8_test_score</th>\n",
       "      <th>split9_test_score</th>\n",
       "      <th>mean_test_score</th>\n",
       "      <th>std_test_score</th>\n",
       "      <th>rank_test_score</th>\n",
       "      <th>split0_train_score</th>\n",
       "      <th>split1_train_score</th>\n",
       "      <th>split2_train_score</th>\n",
       "      <th>split3_train_score</th>\n",
       "      <th>split4_train_score</th>\n",
       "      <th>split5_train_score</th>\n",
       "      <th>split6_train_score</th>\n",
       "      <th>split7_train_score</th>\n",
       "      <th>split8_train_score</th>\n",
       "      <th>split9_train_score</th>\n",
       "      <th>mean_train_score</th>\n",
       "      <th>std_train_score</th>\n",
       "    </tr>\n",
       "  </thead>\n",
       "  <tbody>\n",
       "    <tr>\n",
       "      <th>0</th>\n",
       "      <td>0.137218</td>\n",
       "      <td>0.014056</td>\n",
       "      <td>0.014372</td>\n",
       "      <td>0.001395</td>\n",
       "      <td>0.0001</td>\n",
       "      <td>{'alpha': 0.0001}</td>\n",
       "      <td>0.650117</td>\n",
       "      <td>0.655750</td>\n",
       "      <td>0.642813</td>\n",
       "      <td>0.652477</td>\n",
       "      <td>0.651696</td>\n",
       "      <td>0.651221</td>\n",
       "      <td>0.648106</td>\n",
       "      <td>0.643093</td>\n",
       "      <td>0.655809</td>\n",
       "      <td>0.657584</td>\n",
       "      <td>0.650867</td>\n",
       "      <td>0.004799</td>\n",
       "      <td>6</td>\n",
       "      <td>0.690553</td>\n",
       "      <td>0.690443</td>\n",
       "      <td>0.689916</td>\n",
       "      <td>0.689173</td>\n",
       "      <td>0.689908</td>\n",
       "      <td>0.690844</td>\n",
       "      <td>0.690458</td>\n",
       "      <td>0.689906</td>\n",
       "      <td>0.689971</td>\n",
       "      <td>0.690882</td>\n",
       "      <td>0.690205</td>\n",
       "      <td>0.000499</td>\n",
       "    </tr>\n",
       "    <tr>\n",
       "      <th>1</th>\n",
       "      <td>0.123135</td>\n",
       "      <td>0.004729</td>\n",
       "      <td>0.012991</td>\n",
       "      <td>0.000809</td>\n",
       "      <td>0.001</td>\n",
       "      <td>{'alpha': 0.001}</td>\n",
       "      <td>0.650303</td>\n",
       "      <td>0.656382</td>\n",
       "      <td>0.643145</td>\n",
       "      <td>0.653639</td>\n",
       "      <td>0.651511</td>\n",
       "      <td>0.652487</td>\n",
       "      <td>0.649429</td>\n",
       "      <td>0.642724</td>\n",
       "      <td>0.657344</td>\n",
       "      <td>0.657707</td>\n",
       "      <td>0.651467</td>\n",
       "      <td>0.005046</td>\n",
       "      <td>5</td>\n",
       "      <td>0.687399</td>\n",
       "      <td>0.687237</td>\n",
       "      <td>0.686792</td>\n",
       "      <td>0.686037</td>\n",
       "      <td>0.686754</td>\n",
       "      <td>0.687639</td>\n",
       "      <td>0.687330</td>\n",
       "      <td>0.686845</td>\n",
       "      <td>0.686794</td>\n",
       "      <td>0.687674</td>\n",
       "      <td>0.687050</td>\n",
       "      <td>0.000475</td>\n",
       "    </tr>\n",
       "    <tr>\n",
       "      <th>2</th>\n",
       "      <td>0.118874</td>\n",
       "      <td>0.005027</td>\n",
       "      <td>0.013573</td>\n",
       "      <td>0.001144</td>\n",
       "      <td>0.01</td>\n",
       "      <td>{'alpha': 0.01}</td>\n",
       "      <td>0.650659</td>\n",
       "      <td>0.656824</td>\n",
       "      <td>0.643665</td>\n",
       "      <td>0.654611</td>\n",
       "      <td>0.651269</td>\n",
       "      <td>0.653587</td>\n",
       "      <td>0.650197</td>\n",
       "      <td>0.643227</td>\n",
       "      <td>0.659356</td>\n",
       "      <td>0.657854</td>\n",
       "      <td>0.652125</td>\n",
       "      <td>0.005224</td>\n",
       "      <td>4</td>\n",
       "      <td>0.683826</td>\n",
       "      <td>0.683715</td>\n",
       "      <td>0.683340</td>\n",
       "      <td>0.682529</td>\n",
       "      <td>0.683247</td>\n",
       "      <td>0.684060</td>\n",
       "      <td>0.683841</td>\n",
       "      <td>0.683439</td>\n",
       "      <td>0.683260</td>\n",
       "      <td>0.684129</td>\n",
       "      <td>0.683539</td>\n",
       "      <td>0.000454</td>\n",
       "    </tr>\n",
       "    <tr>\n",
       "      <th>3</th>\n",
       "      <td>0.113551</td>\n",
       "      <td>0.004523</td>\n",
       "      <td>0.012937</td>\n",
       "      <td>0.000709</td>\n",
       "      <td>0.1</td>\n",
       "      <td>{'alpha': 0.1}</td>\n",
       "      <td>0.650738</td>\n",
       "      <td>0.656396</td>\n",
       "      <td>0.644390</td>\n",
       "      <td>0.654470</td>\n",
       "      <td>0.651449</td>\n",
       "      <td>0.654120</td>\n",
       "      <td>0.650244</td>\n",
       "      <td>0.642982</td>\n",
       "      <td>0.660563</td>\n",
       "      <td>0.657461</td>\n",
       "      <td>0.652281</td>\n",
       "      <td>0.005258</td>\n",
       "      <td>3</td>\n",
       "      <td>0.679865</td>\n",
       "      <td>0.679737</td>\n",
       "      <td>0.679564</td>\n",
       "      <td>0.678551</td>\n",
       "      <td>0.679304</td>\n",
       "      <td>0.679991</td>\n",
       "      <td>0.679877</td>\n",
       "      <td>0.679585</td>\n",
       "      <td>0.679221</td>\n",
       "      <td>0.680042</td>\n",
       "      <td>0.679574</td>\n",
       "      <td>0.000429</td>\n",
       "    </tr>\n",
       "    <tr>\n",
       "      <th>4</th>\n",
       "      <td>0.111400</td>\n",
       "      <td>0.001876</td>\n",
       "      <td>0.015732</td>\n",
       "      <td>0.003122</td>\n",
       "      <td>1</td>\n",
       "      <td>{'alpha': 1}</td>\n",
       "      <td>0.651656</td>\n",
       "      <td>0.657538</td>\n",
       "      <td>0.645051</td>\n",
       "      <td>0.655644</td>\n",
       "      <td>0.651542</td>\n",
       "      <td>0.654932</td>\n",
       "      <td>0.650342</td>\n",
       "      <td>0.642621</td>\n",
       "      <td>0.661592</td>\n",
       "      <td>0.657721</td>\n",
       "      <td>0.652864</td>\n",
       "      <td>0.005560</td>\n",
       "      <td>2</td>\n",
       "      <td>0.675031</td>\n",
       "      <td>0.674914</td>\n",
       "      <td>0.674777</td>\n",
       "      <td>0.673912</td>\n",
       "      <td>0.674454</td>\n",
       "      <td>0.675002</td>\n",
       "      <td>0.675058</td>\n",
       "      <td>0.674881</td>\n",
       "      <td>0.674272</td>\n",
       "      <td>0.675256</td>\n",
       "      <td>0.674756</td>\n",
       "      <td>0.000394</td>\n",
       "    </tr>\n",
       "  </tbody>\n",
       "</table>\n",
       "</div>"
      ],
      "text/plain": [
       "   mean_fit_time  std_fit_time  ...  mean_train_score  std_train_score\n",
       "0       0.137218      0.014056  ...          0.690205         0.000499\n",
       "1       0.123135      0.004729  ...          0.687050         0.000475\n",
       "2       0.118874      0.005027  ...          0.683539         0.000454\n",
       "3       0.113551      0.004523  ...          0.679574         0.000429\n",
       "4       0.111400      0.001876  ...          0.674756         0.000394\n",
       "\n",
       "[5 rows x 31 columns]"
      ]
     },
     "execution_count": 62,
     "metadata": {
      "tags": []
     },
     "output_type": "execute_result"
    }
   ],
   "source": [
    "import warnings\n",
    "warnings.filterwarnings('ignore')\n",
    "results = pd.DataFrame.from_dict(gridsearch_1.cv_results_)\n",
    "results.head()"
   ]
  },
  {
   "cell_type": "code",
   "execution_count": 63,
   "metadata": {
    "colab": {
     "base_uri": "https://localhost:8080/",
     "height": 34
    },
    "colab_type": "code",
    "id": "cjX7X1JEV5dF",
    "outputId": "6610655f-5efa-451e-b87b-1ce5b280fe6f"
   },
   "outputs": [
    {
     "name": "stdout",
     "output_type": "stream",
     "text": [
      "best_alhpa: 10\n"
     ]
    }
   ],
   "source": [
    "best_alpha_1 = gridsearch_1.best_params_['alpha']\n",
    "print('best_alhpa:', best_alpha_1)"
   ]
  },
  {
   "cell_type": "markdown",
   "metadata": {
    "colab_type": "text",
    "id": "TYxKE8isV5dG"
   },
   "source": [
    "#### Summary:\n",
    "    - It shows that the best alpha = 10"
   ]
  },
  {
   "cell_type": "markdown",
   "metadata": {
    "colab_type": "text",
    "id": "5CgtvXgMV5dG"
   },
   "source": [
    "### 2.3 AUC vs Hyperparameter"
   ]
  },
  {
   "cell_type": "code",
   "execution_count": 0,
   "metadata": {
    "colab": {},
    "colab_type": "code",
    "id": "wJDLMgetV5dH"
   },
   "outputs": [],
   "source": [
    "train_auc_1 = results['mean_train_score']\n",
    "test_auc_1 = results['mean_test_score']\n",
    "alpha_1 = results['param_alpha']"
   ]
  },
  {
   "cell_type": "code",
   "execution_count": 65,
   "metadata": {
    "colab": {
     "base_uri": "https://localhost:8080/",
     "height": 299
    },
    "colab_type": "code",
    "id": "AI29ui1pV5dI",
    "outputId": "d3693136-be77-48d4-9061-ac745c898d57"
   },
   "outputs": [
    {
     "data": {
      "image/png": "[encoded data removed]",
      "text/plain": [
       "<Figure size 432x288 with 1 Axes>"
      ]
     },
     "metadata": {
      "tags": []
     },
     "output_type": "display_data"
    }
   ],
   "source": [
    "plt.plot(alpha_1, train_auc_1, label='Train AUC')\n",
    "plt.plot(alpha_1, test_auc_1, label='Test AUC')\n",
    "plt.scatter(alpha_1, train_auc_1)\n",
    "plt.scatter(alpha_1, test_auc_1)\n",
    "\n",
    "plt.title('HYPERPARMETER vs AUC')\n",
    "plt.xlabel('Hyperparameter: ALPHA')\n",
    "plt.ylabel('AUC')\n",
    "plt.xscale('log')\n",
    "plt.legend()\n",
    "plt.grid()\n",
    "plt.show()"
   ]
  },
  {
   "cell_type": "markdown",
   "metadata": {
    "colab_type": "text",
    "id": "nrfVcKKMV5dJ"
   },
   "source": [
    "### 2.4 Modelling with alpha = 10"
   ]
  },
  {
   "cell_type": "code",
   "execution_count": 66,
   "metadata": {
    "colab": {
     "base_uri": "https://localhost:8080/",
     "height": 34
    },
    "colab_type": "code",
    "id": "HOo0KjpXV5dK",
    "outputId": "3eaf5fba-d90e-42a0-c4c7-a2792a86c84f"
   },
   "outputs": [
    {
     "data": {
      "text/plain": [
       "MultinomialNB(alpha=10, class_prior=None, fit_prior=True)"
      ]
     },
     "execution_count": 66,
     "metadata": {
      "tags": []
     },
     "output_type": "execute_result"
    }
   ],
   "source": [
    "classifier_withAlpha_1 = MultinomialNB(alpha=10)\n",
    "classifier_withAlpha_1.fit(X_train_1, y_train)"
   ]
  },
  {
   "cell_type": "markdown",
   "metadata": {
    "colab_type": "text",
    "id": "L0O-zmCFV5dL"
   },
   "source": [
    "### 2.5 Cross Validation"
   ]
  },
  {
   "cell_type": "code",
   "execution_count": 0,
   "metadata": {
    "colab": {},
    "colab_type": "code",
    "id": "gw4EqmEGV5dL"
   },
   "outputs": [],
   "source": [
    "from sklearn.model_selection import cross_val_score\n",
    "cv_1 = cross_val_score(estimator=classifier_withAlpha_1, X=X_train_1, y=y_train,cv=10, scoring='roc_auc')"
   ]
  },
  {
   "cell_type": "code",
   "execution_count": 165,
   "metadata": {
    "colab": {
     "base_uri": "https://localhost:8080/",
     "height": 34
    },
    "colab_type": "code",
    "id": "WMchd2WrV5dN",
    "outputId": "a4ea0f02-9c1e-4936-b8e8-96a62674dda7"
   },
   "outputs": [
    {
     "name": "stdout",
     "output_type": "stream",
     "text": [
      "Best AUC:0.656119\n"
     ]
    }
   ],
   "source": [
    "best_auc_1 = cv_1.mean()\n",
    "print('Best AUC:%4f' %best_auc_1)"
   ]
  },
  {
   "cell_type": "markdown",
   "metadata": {
    "colab_type": "text",
    "id": "0GPod3zvV5dO"
   },
   "source": [
    "### 2.6 AUC curve for Train and Test"
   ]
  },
  {
   "cell_type": "code",
   "execution_count": 0,
   "metadata": {
    "colab": {},
    "colab_type": "code",
    "id": "c-bfDtvwV5dP"
   },
   "outputs": [],
   "source": [
    "def batch_predict(clf, data):\n",
    "    y_data_pred = []\n",
    "    tr_loop = data.shape[0] - data.shape[0]%1000\n",
    "    for i in range(0,tr_loop, 1000):\n",
    "        y_data_pred.extend(clf.predict_proba(data[i:i+1000])[:,1])\n",
    "    if data.shape[0]%1000 != 0:\n",
    "        y_data_pred.extend(clf.predict_proba(data[tr_loop:])[:,1])\n",
    "        \n",
    "    return y_data_pred"
   ]
  },
  {
   "cell_type": "code",
   "execution_count": 0,
   "metadata": {
    "colab": {},
    "colab_type": "code",
    "id": "2XA8MpgbV5dQ"
   },
   "outputs": [],
   "source": [
    "y_train_pred_1 = batch_predict(classifier_withAlpha_1, X_train_1)\n",
    "y_test_pred_1 = batch_predict(classifier_withAlpha_1, X_test_1)"
   ]
  },
  {
   "cell_type": "code",
   "execution_count": 0,
   "metadata": {
    "colab": {},
    "colab_type": "code",
    "id": "f-V-ZzmlV5dR"
   },
   "outputs": [],
   "source": [
    "from sklearn.metrics import roc_curve, auc\n",
    "train_fpr_1, train_tpr_1, train_thresh_1 = roc_curve(y_train, y_train_pred_1)\n",
    "test_fpr_1, test_tpr_1, test_thresh_1 = roc_curve(y_test, y_test_pred_1)"
   ]
  },
  {
   "cell_type": "code",
   "execution_count": 72,
   "metadata": {
    "colab": {
     "base_uri": "https://localhost:8080/",
     "height": 295
    },
    "colab_type": "code",
    "id": "IG4Nk1CCV5dS",
    "outputId": "88e3fd9f-5ee4-48b3-bdc6-609af55758c1"
   },
   "outputs": [
    {
     "data": {
      "image/png": "[encoded data removed]",
      "text/plain": [
       "<Figure size 432x288 with 1 Axes>"
      ]
     },
     "metadata": {
      "tags": []
     },
     "output_type": "display_data"
    }
   ],
   "source": [
    "plt.plot(train_fpr_1, train_tpr_1, label='Train AUC:%4f'%auc(train_fpr_1, train_tpr_1))\n",
    "plt.plot(test_fpr_1, test_tpr_1, label='Test AUC:%4f'%auc(test_fpr_1, test_tpr_1))\n",
    "\n",
    "plt.title('AUC curve of Test and Train Data')\n",
    "plt.xlabel('False Positive Rate')\n",
    "plt.ylabel('True Positive Rate')\n",
    "plt.legend()\n",
    "plt.grid()\n",
    "plt.show()"
   ]
  },
  {
   "cell_type": "markdown",
   "metadata": {
    "colab_type": "text",
    "id": "z9_mt0G4V5dT"
   },
   "source": [
    "### 2.7 Confusion Matrix"
   ]
  },
  {
   "cell_type": "code",
   "execution_count": 0,
   "metadata": {
    "colab": {},
    "colab_type": "code",
    "id": "oz3LhXM3V5dU"
   },
   "outputs": [],
   "source": [
    "def find_best_threshold(fpr, tpr, threhsold):\n",
    "    t = threhsold[np.argmax(tpr*(1-fpr))]\n",
    "    print('The maximum tpr*(1-fpr) is:', max(tpr*(1-fpr)), 'for threshold', (np.round(t,3)))\n",
    "    return t"
   ]
  },
  {
   "cell_type": "code",
   "execution_count": 74,
   "metadata": {
    "colab": {
     "base_uri": "https://localhost:8080/",
     "height": 34
    },
    "colab_type": "code",
    "id": "jotDS_DTV5dW",
    "outputId": "bb4a859a-08d9-4fa7-e954-fb28efdeebf9"
   },
   "outputs": [
    {
     "name": "stdout",
     "output_type": "stream",
     "text": [
      "The maximum tpr*(1-fpr) is: 0.3970900910561266 for threshold 1.0\n"
     ]
    }
   ],
   "source": [
    "best_t = find_best_threshold(train_fpr_1, train_tpr_1, train_thresh_1)"
   ]
  },
  {
   "cell_type": "code",
   "execution_count": 0,
   "metadata": {
    "colab": {},
    "colab_type": "code",
    "id": "YGpyD1q8V5dX"
   },
   "outputs": [],
   "source": [
    "def predict_with_threshold(proba, threshold):\n",
    "    predictions = []\n",
    "    for i in proba:\n",
    "        if i>=threshold:\n",
    "            predictions.append(1)\n",
    "        else:\n",
    "            predictions.append(0)\n",
    "            \n",
    "    return predictions"
   ]
  },
  {
   "cell_type": "code",
   "execution_count": 0,
   "metadata": {
    "colab": {},
    "colab_type": "code",
    "id": "SJXbthCMV5dY",
    "scrolled": true
   },
   "outputs": [],
   "source": [
    "from sklearn.metrics import confusion_matrix\n",
    "cm_train_1 = confusion_matrix(y_train, predict_with_threshold(y_train_pred_1, best_t))\n",
    "cm_test_1 = confusion_matrix(y_test, predict_with_threshold(y_test_pred_1, best_t))"
   ]
  },
  {
   "cell_type": "code",
   "execution_count": 77,
   "metadata": {
    "colab": {
     "base_uri": "https://localhost:8080/",
     "height": 295
    },
    "colab_type": "code",
    "id": "RtNUD1KbV5dY",
    "outputId": "1cb8c967-de32-4b7f-b4bc-58f001e012e6"
   },
   "outputs": [
    {
     "data": {
      "image/png": "[encoded data removed]",
      "text/plain": [
       "<Figure size 432x288 with 2 Axes>"
      ]
     },
     "metadata": {
      "tags": []
     },
     "output_type": "display_data"
    }
   ],
   "source": [
    "sns.heatmap(cm_train_1, annot=True, fmt='.2f')\n",
    "plt.title('Training Data : confusion matrix')\n",
    "plt.xlabel('Predicted Label')\n",
    "plt.ylabel('Actual Label')\n",
    "plt.show()"
   ]
  },
  {
   "cell_type": "code",
   "execution_count": 78,
   "metadata": {
    "colab": {
     "base_uri": "https://localhost:8080/",
     "height": 295
    },
    "colab_type": "code",
    "id": "6kiZ7G9bV5dZ",
    "outputId": "6e733df6-9542-42c8-a1d6-1f0338cedb9b"
   },
   "outputs": [
    {
     "data": {
      "image/png": "[encoded data removed]",
      "text/plain": [
       "<Figure size 432x288 with 2 Axes>"
      ]
     },
     "metadata": {
      "tags": []
     },
     "output_type": "display_data"
    }
   ],
   "source": [
    "sns.heatmap(cm_test_1, annot=True, fmt='.2f')\n",
    "plt.title('Test Data : confusion matrix')\n",
    "plt.xlabel('Predicted Label')\n",
    "plt.ylabel('Actual Label')\n",
    "plt.show()"
   ]
  },
  {
   "cell_type": "markdown",
   "metadata": {
    "colab_type": "text",
    "id": "hS7b1qkbV5da"
   },
   "source": [
    "## 2. 8 Top 20 Features"
   ]
  },
  {
   "cell_type": "code",
   "execution_count": 0,
   "metadata": {
    "colab": {},
    "colab_type": "code",
    "id": "DdglJuaAV5db"
   },
   "outputs": [],
   "source": [
    "#https://datascience.stackexchange.com/questions/65219/find-the-top-n-features-from-feature-set-using-absolute-values-of-feature-log-p/65232#65232\n",
    "features_list = list( vectorizer_1.get_feature_names() +vectorizer_2.get_feature_names() +vectorizer_3.get_feature_names() +\\\n",
    "                    vectorizer_4.get_feature_names() +vectorizer_5.get_feature_names() +vectorizer_6.get_feature_names() +\\\n",
    "                     vectorizer_8.get_feature_names() + [\"teacher_number_of_previously_posted_projects\"] + [\"Price\"]\n",
    "                    )"
   ]
  },
  {
   "cell_type": "code",
   "execution_count": 80,
   "metadata": {
    "colab": {
     "base_uri": "https://localhost:8080/",
     "height": 34
    },
    "colab_type": "code",
    "id": "wp6Yg6y1V5dc",
    "outputId": "7faefc0c-5a69-4234-c493-bde4ff9d8cc6"
   },
   "outputs": [
    {
     "data": {
      "text/plain": [
       "16984"
      ]
     },
     "execution_count": 80,
     "metadata": {
      "tags": []
     },
     "output_type": "execute_result"
    }
   ],
   "source": [
    "len(features_list)"
   ]
  },
  {
   "cell_type": "code",
   "execution_count": 0,
   "metadata": {
    "colab": {},
    "colab_type": "code",
    "id": "PGzNv_LkV5df"
   },
   "outputs": [],
   "source": [
    "#For postive class , we get the indices \n",
    "sorted_prob_class1_ind = classifier_withAlpha_1.feature_log_prob_[1,:].argsort()\n",
    "\n",
    "#For Negative Class\n",
    "sorted_prob_class0_ind = classifier_withAlpha_1.feature_log_prob_[0, :].argsort()"
   ]
  },
  {
   "cell_type": "code",
   "execution_count": 82,
   "metadata": {
    "colab": {
     "base_uri": "https://localhost:8080/",
     "height": 68
    },
    "colab_type": "code",
    "id": "bc9S_rKcV5dg",
    "outputId": "54d5039e-5f7d-4bf4-d8a1-49165dd01889"
   },
   "outputs": [
    {
     "data": {
      "text/plain": [
       "array([10356,  7712,  2656, 14215,  8520, 13980,  7876,  8463, 12863,\n",
       "        6137, 12901,  7438,  8662,  2494,  8439,  7442, 11231, 16982,\n",
       "       12371])"
      ]
     },
     "execution_count": 82,
     "metadata": {
      "tags": []
     },
     "output_type": "execute_result"
    }
   ],
   "source": [
    "sorted_prob_class0_ind[-20:-1]"
   ]
  },
  {
   "cell_type": "code",
   "execution_count": 0,
   "metadata": {
    "colab": {},
    "colab_type": "code",
    "id": "4QazgDU3V5dh"
   },
   "outputs": [],
   "source": [
    "#https://www.geeksforgeeks.org/python-get-last-n-elements-from-given-list/\n",
    "#since argsort gives it in ascending order we need the last 20 eleemnts\n",
    "Most_important_word_for_1 = []\n",
    "Most_important_word_for_0 = []\n",
    "\n",
    "for i in (sorted_prob_class1_ind[-20:-1]):\n",
    "    Most_important_word_for_1.append(features_list[i])\n",
    "    \n",
    "for j in (sorted_prob_class0_ind[-20:-1]):\n",
    "    Most_important_word_for_0.append(features_list[j])"
   ]
  },
  {
   "cell_type": "code",
   "execution_count": 84,
   "metadata": {
    "colab": {
     "base_uri": "https://localhost:8080/",
     "height": 122
    },
    "colab_type": "code",
    "id": "EY3bX9ntV5di",
    "outputId": "174e8c20-99a2-4195-9968-421d5b039602"
   },
   "outputs": [
    {
     "name": "stdout",
     "output_type": "stream",
     "text": [
      "Top 20 words in Postive Class\n",
      "['love', 'use', 'reading', 'work', 'need', 'we', 'nannan', 'many', 'help', 'learn', 'not', 'they', 'the', 'classroom', 'learning', 'my', 'school', 'students', 'teacher_number_of_previously_posted_projects']\n",
      "==================================================\n",
      "Top 20 words in Negative class\n",
      "['reading', 'love', 'come', 'work', 'need', 'we', 'many', 'nannan', 'the', 'help', 'they', 'learn', 'not', 'classroom', 'my', 'learning', 'school', 'teacher_number_of_previously_posted_projects', 'students']\n"
     ]
    }
   ],
   "source": [
    "print('Top 20 words in Postive Class')\n",
    "print(Most_important_word_for_1)\n",
    "print('='*50)\n",
    "print('Top 20 words in Negative class')\n",
    "print(Most_important_word_for_0)"
   ]
  },
  {
   "cell_type": "markdown",
   "metadata": {
    "colab_type": "text",
    "id": "JbedGlUJV5dj"
   },
   "source": [
    "## 3. Set 2"
   ]
  },
  {
   "cell_type": "markdown",
   "metadata": {
    "colab_type": "text",
    "id": "P69llWD2V5dj"
   },
   "source": [
    "### 3.1 Merge all the features"
   ]
  },
  {
   "cell_type": "code",
   "execution_count": 0,
   "metadata": {
    "colab": {},
    "colab_type": "code",
    "id": "7PatLp2PV5dk"
   },
   "outputs": [],
   "source": [
    "from scipy.sparse import hstack\n",
    "X_train_2 = hstack((X_train_Sstate, X_train_cat, X_train_subcat, X_train_grade, X_train_prefix, X_train_essay_tfidf, X_train_title_tfidf, X_train_previous, X_train_price)).tocsr()\n",
    "X_test_2 = hstack((X_test_Sstate, X_test_cat, X_test_subcat, X_test_grade, X_test_prefix, X_test_essay_tfidf, X_test_title_tfidf, X_test_previous, X_test_price)).tocsr()"
   ]
  },
  {
   "cell_type": "code",
   "execution_count": 146,
   "metadata": {
    "colab": {
     "base_uri": "https://localhost:8080/",
     "height": 51
    },
    "colab_type": "code",
    "id": "D0wofkkvV5dk",
    "outputId": "663c366d-02bb-4270-f9c9-5f9b81c9cffa"
   },
   "outputs": [
    {
     "name": "stdout",
     "output_type": "stream",
     "text": [
      "(73196, 16984)\n",
      "(36052, 16984)\n"
     ]
    }
   ],
   "source": [
    "print(X_train_2.shape)\n",
    "print(X_test_2.shape)"
   ]
  },
  {
   "cell_type": "markdown",
   "metadata": {
    "colab_type": "text",
    "id": "ixoWvcugV5dm"
   },
   "source": [
    "### 3.2 Grid Search "
   ]
  },
  {
   "cell_type": "code",
   "execution_count": 0,
   "metadata": {
    "colab": {},
    "colab_type": "code",
    "id": "0HdnrraKV5dn"
   },
   "outputs": [],
   "source": [
    "classifier_2 = MultinomialNB()"
   ]
  },
  {
   "cell_type": "code",
   "execution_count": 0,
   "metadata": {
    "colab": {},
    "colab_type": "code",
    "id": "rYup94CSV5do"
   },
   "outputs": [],
   "source": [
    "parameters = [\n",
    "                {\n",
    "                    'alpha' : [0.0001,0.001,0.01,0.1,1,10,100,1000,10000]\n",
    "                }\n",
    "            ]\n",
    "gridsearch_2 = GridSearchCV(estimator=classifier_2, param_grid=parameters, scoring='roc_auc', n_jobs=-1, cv=10, return_train_score=True)"
   ]
  },
  {
   "cell_type": "code",
   "execution_count": 0,
   "metadata": {
    "colab": {},
    "colab_type": "code",
    "id": "51HOyqPWV5dp"
   },
   "outputs": [],
   "source": [
    "gridsearch_2 = gridsearch_2.fit(X_train_2, y_train)"
   ]
  },
  {
   "cell_type": "code",
   "execution_count": 91,
   "metadata": {
    "colab": {
     "base_uri": "https://localhost:8080/",
     "height": 309
    },
    "colab_type": "code",
    "id": "04wRHtw_V5dt",
    "outputId": "7095fc9a-bc13-4b17-b9a9-54cd0e490041"
   },
   "outputs": [
    {
     "data": {
      "text/html": [
       "<div>\n",
       "<style scoped>\n",
       "    .dataframe tbody tr th:only-of-type {\n",
       "        vertical-align: middle;\n",
       "    }\n",
       "\n",
       "    .dataframe tbody tr th {\n",
       "        vertical-align: top;\n",
       "    }\n",
       "\n",
       "    .dataframe thead th {\n",
       "        text-align: right;\n",
       "    }\n",
       "</style>\n",
       "<table border=\"1\" class=\"dataframe\">\n",
       "  <thead>\n",
       "    <tr style=\"text-align: right;\">\n",
       "      <th></th>\n",
       "      <th>mean_fit_time</th>\n",
       "      <th>std_fit_time</th>\n",
       "      <th>mean_score_time</th>\n",
       "      <th>std_score_time</th>\n",
       "      <th>param_alpha</th>\n",
       "      <th>params</th>\n",
       "      <th>split0_test_score</th>\n",
       "      <th>split1_test_score</th>\n",
       "      <th>split2_test_score</th>\n",
       "      <th>split3_test_score</th>\n",
       "      <th>split4_test_score</th>\n",
       "      <th>split5_test_score</th>\n",
       "      <th>split6_test_score</th>\n",
       "      <th>split7_test_score</th>\n",
       "      <th>split8_test_score</th>\n",
       "      <th>split9_test_score</th>\n",
       "      <th>mean_test_score</th>\n",
       "      <th>std_test_score</th>\n",
       "      <th>rank_test_score</th>\n",
       "      <th>split0_train_score</th>\n",
       "      <th>split1_train_score</th>\n",
       "      <th>split2_train_score</th>\n",
       "      <th>split3_train_score</th>\n",
       "      <th>split4_train_score</th>\n",
       "      <th>split5_train_score</th>\n",
       "      <th>split6_train_score</th>\n",
       "      <th>split7_train_score</th>\n",
       "      <th>split8_train_score</th>\n",
       "      <th>split9_train_score</th>\n",
       "      <th>mean_train_score</th>\n",
       "      <th>std_train_score</th>\n",
       "    </tr>\n",
       "  </thead>\n",
       "  <tbody>\n",
       "    <tr>\n",
       "      <th>0</th>\n",
       "      <td>0.122821</td>\n",
       "      <td>0.004070</td>\n",
       "      <td>0.013092</td>\n",
       "      <td>0.000593</td>\n",
       "      <td>0.0001</td>\n",
       "      <td>{'alpha': 0.0001}</td>\n",
       "      <td>0.613831</td>\n",
       "      <td>0.622304</td>\n",
       "      <td>0.604165</td>\n",
       "      <td>0.614101</td>\n",
       "      <td>0.617293</td>\n",
       "      <td>0.616018</td>\n",
       "      <td>0.619644</td>\n",
       "      <td>0.610097</td>\n",
       "      <td>0.634412</td>\n",
       "      <td>0.617751</td>\n",
       "      <td>0.616962</td>\n",
       "      <td>0.007555</td>\n",
       "      <td>4</td>\n",
       "      <td>0.641152</td>\n",
       "      <td>0.640464</td>\n",
       "      <td>0.641889</td>\n",
       "      <td>0.640512</td>\n",
       "      <td>0.640424</td>\n",
       "      <td>0.640687</td>\n",
       "      <td>0.640593</td>\n",
       "      <td>0.640847</td>\n",
       "      <td>0.639039</td>\n",
       "      <td>0.640579</td>\n",
       "      <td>0.640619</td>\n",
       "      <td>0.000673</td>\n",
       "    </tr>\n",
       "    <tr>\n",
       "      <th>1</th>\n",
       "      <td>0.127190</td>\n",
       "      <td>0.004452</td>\n",
       "      <td>0.013374</td>\n",
       "      <td>0.000319</td>\n",
       "      <td>0.001</td>\n",
       "      <td>{'alpha': 0.001}</td>\n",
       "      <td>0.614316</td>\n",
       "      <td>0.622410</td>\n",
       "      <td>0.604743</td>\n",
       "      <td>0.614506</td>\n",
       "      <td>0.617250</td>\n",
       "      <td>0.616775</td>\n",
       "      <td>0.619684</td>\n",
       "      <td>0.610100</td>\n",
       "      <td>0.634888</td>\n",
       "      <td>0.617687</td>\n",
       "      <td>0.617236</td>\n",
       "      <td>0.007535</td>\n",
       "      <td>3</td>\n",
       "      <td>0.638535</td>\n",
       "      <td>0.637846</td>\n",
       "      <td>0.639239</td>\n",
       "      <td>0.637914</td>\n",
       "      <td>0.637828</td>\n",
       "      <td>0.638063</td>\n",
       "      <td>0.637959</td>\n",
       "      <td>0.638316</td>\n",
       "      <td>0.636434</td>\n",
       "      <td>0.637974</td>\n",
       "      <td>0.638011</td>\n",
       "      <td>0.000666</td>\n",
       "    </tr>\n",
       "    <tr>\n",
       "      <th>2</th>\n",
       "      <td>0.123700</td>\n",
       "      <td>0.005153</td>\n",
       "      <td>0.013480</td>\n",
       "      <td>0.000411</td>\n",
       "      <td>0.01</td>\n",
       "      <td>{'alpha': 0.01}</td>\n",
       "      <td>0.614795</td>\n",
       "      <td>0.622272</td>\n",
       "      <td>0.605342</td>\n",
       "      <td>0.614895</td>\n",
       "      <td>0.617053</td>\n",
       "      <td>0.617543</td>\n",
       "      <td>0.619568</td>\n",
       "      <td>0.609953</td>\n",
       "      <td>0.635228</td>\n",
       "      <td>0.617714</td>\n",
       "      <td>0.617436</td>\n",
       "      <td>0.007486</td>\n",
       "      <td>1</td>\n",
       "      <td>0.635647</td>\n",
       "      <td>0.634988</td>\n",
       "      <td>0.636323</td>\n",
       "      <td>0.635041</td>\n",
       "      <td>0.634989</td>\n",
       "      <td>0.635180</td>\n",
       "      <td>0.635060</td>\n",
       "      <td>0.635544</td>\n",
       "      <td>0.633566</td>\n",
       "      <td>0.635109</td>\n",
       "      <td>0.635145</td>\n",
       "      <td>0.000660</td>\n",
       "    </tr>\n",
       "    <tr>\n",
       "      <th>3</th>\n",
       "      <td>0.129093</td>\n",
       "      <td>0.011464</td>\n",
       "      <td>0.013330</td>\n",
       "      <td>0.000664</td>\n",
       "      <td>0.1</td>\n",
       "      <td>{'alpha': 0.1}</td>\n",
       "      <td>0.615036</td>\n",
       "      <td>0.621804</td>\n",
       "      <td>0.605729</td>\n",
       "      <td>0.615136</td>\n",
       "      <td>0.616436</td>\n",
       "      <td>0.618078</td>\n",
       "      <td>0.619200</td>\n",
       "      <td>0.609427</td>\n",
       "      <td>0.635182</td>\n",
       "      <td>0.617591</td>\n",
       "      <td>0.617362</td>\n",
       "      <td>0.007421</td>\n",
       "      <td>2</td>\n",
       "      <td>0.632031</td>\n",
       "      <td>0.631424</td>\n",
       "      <td>0.632687</td>\n",
       "      <td>0.631460</td>\n",
       "      <td>0.631454</td>\n",
       "      <td>0.631589</td>\n",
       "      <td>0.631437</td>\n",
       "      <td>0.632081</td>\n",
       "      <td>0.629989</td>\n",
       "      <td>0.631530</td>\n",
       "      <td>0.631568</td>\n",
       "      <td>0.000655</td>\n",
       "    </tr>\n",
       "    <tr>\n",
       "      <th>4</th>\n",
       "      <td>0.122390</td>\n",
       "      <td>0.002708</td>\n",
       "      <td>0.014902</td>\n",
       "      <td>0.002513</td>\n",
       "      <td>1</td>\n",
       "      <td>{'alpha': 1}</td>\n",
       "      <td>0.614182</td>\n",
       "      <td>0.620320</td>\n",
       "      <td>0.605264</td>\n",
       "      <td>0.614354</td>\n",
       "      <td>0.614918</td>\n",
       "      <td>0.617424</td>\n",
       "      <td>0.618698</td>\n",
       "      <td>0.608077</td>\n",
       "      <td>0.634776</td>\n",
       "      <td>0.616203</td>\n",
       "      <td>0.616422</td>\n",
       "      <td>0.007510</td>\n",
       "      <td>5</td>\n",
       "      <td>0.626492</td>\n",
       "      <td>0.625938</td>\n",
       "      <td>0.627111</td>\n",
       "      <td>0.625967</td>\n",
       "      <td>0.626033</td>\n",
       "      <td>0.626062</td>\n",
       "      <td>0.625820</td>\n",
       "      <td>0.626698</td>\n",
       "      <td>0.624352</td>\n",
       "      <td>0.626012</td>\n",
       "      <td>0.626049</td>\n",
       "      <td>0.000685</td>\n",
       "    </tr>\n",
       "  </tbody>\n",
       "</table>\n",
       "</div>"
      ],
      "text/plain": [
       "   mean_fit_time  std_fit_time  ...  mean_train_score  std_train_score\n",
       "0       0.122821      0.004070  ...          0.640619         0.000673\n",
       "1       0.127190      0.004452  ...          0.638011         0.000666\n",
       "2       0.123700      0.005153  ...          0.635145         0.000660\n",
       "3       0.129093      0.011464  ...          0.631568         0.000655\n",
       "4       0.122390      0.002708  ...          0.626049         0.000685\n",
       "\n",
       "[5 rows x 31 columns]"
      ]
     },
     "execution_count": 91,
     "metadata": {
      "tags": []
     },
     "output_type": "execute_result"
    }
   ],
   "source": [
    "results = pd.DataFrame.from_dict(gridsearch_2.cv_results_)\n",
    "results = results.sort_values(['param_alpha'])\n",
    "results.head()"
   ]
  },
  {
   "cell_type": "code",
   "execution_count": 92,
   "metadata": {
    "colab": {
     "base_uri": "https://localhost:8080/",
     "height": 34
    },
    "colab_type": "code",
    "id": "oeFZfxPqV5du",
    "outputId": "467d49a0-4582-40f2-d187-b394079c4694"
   },
   "outputs": [
    {
     "name": "stdout",
     "output_type": "stream",
     "text": [
      "best_alhpa: 0.01\n"
     ]
    }
   ],
   "source": [
    "best_alpha_2 = gridsearch_2.best_params_['alpha']\n",
    "print('best_alhpa:', best_alpha_2)"
   ]
  },
  {
   "cell_type": "markdown",
   "metadata": {
    "colab_type": "text",
    "id": "opjk-OvaV5dv"
   },
   "source": [
    "### Summary:\n",
    "    - It shows that the best alpha could be 0.01"
   ]
  },
  {
   "cell_type": "markdown",
   "metadata": {
    "colab_type": "text",
    "id": "lc0Py5O5V5dv"
   },
   "source": [
    "### 3.3 Plotting AUC vs Hyperparameter"
   ]
  },
  {
   "cell_type": "code",
   "execution_count": 0,
   "metadata": {
    "colab": {},
    "colab_type": "code",
    "id": "B0CjU9ASV5dw"
   },
   "outputs": [],
   "source": [
    "train_auc_2 = results['mean_train_score']\n",
    "test_auc_2 = results['mean_test_score']\n",
    "alpha_2 = results['param_alpha']"
   ]
  },
  {
   "cell_type": "code",
   "execution_count": 96,
   "metadata": {
    "colab": {
     "base_uri": "https://localhost:8080/",
     "height": 299
    },
    "colab_type": "code",
    "id": "qLB_Qv1mV5d0",
    "outputId": "bcf3b55c-b7b9-45af-be55-9b6749d21f8b"
   },
   "outputs": [
    {
     "data": {
      "image/png": "[encoded data removed]",
      "text/plain": [
       "<Figure size 432x288 with 1 Axes>"
      ]
     },
     "metadata": {
      "tags": []
     },
     "output_type": "display_data"
    }
   ],
   "source": [
    "plt.plot(alpha_2, train_auc_2, label='Train AUC')\n",
    "plt.plot(alpha_2, test_auc_2, label='Test AUC')\n",
    "plt.scatter(alpha_2, train_auc_2)\n",
    "plt.scatter(alpha_2, test_auc_2)\n",
    "\n",
    "plt.title('HYPERPARMETER vs AUC')\n",
    "plt.xlabel('Hyperparameter: ALPHA')\n",
    "plt.ylabel('AUC')\n",
    "plt.xscale('log')\n",
    "plt.legend()\n",
    "plt.grid()\n",
    "plt.show()"
   ]
  },
  {
   "cell_type": "markdown",
   "metadata": {
    "colab_type": "text",
    "id": "D4mtHuQFV5d1"
   },
   "source": [
    "### Summary\n",
    "    - Here also it shows that the AUC is high when alpha = 1"
   ]
  },
  {
   "cell_type": "markdown",
   "metadata": {
    "colab_type": "text",
    "id": "PWUc23uRV5d1"
   },
   "source": [
    "### 3.4 Modelling with Parameters"
   ]
  },
  {
   "cell_type": "code",
   "execution_count": 147,
   "metadata": {
    "colab": {
     "base_uri": "https://localhost:8080/",
     "height": 34
    },
    "colab_type": "code",
    "id": "wec7SX5OV5d2",
    "outputId": "ce147825-664a-426e-b803-04087154e13b"
   },
   "outputs": [
    {
     "data": {
      "text/plain": [
       "MultinomialNB(alpha=0.01, class_prior=None, fit_prior=True)"
      ]
     },
     "execution_count": 147,
     "metadata": {
      "tags": []
     },
     "output_type": "execute_result"
    }
   ],
   "source": [
    "classifier_withAlpha_2 = MultinomialNB(alpha=best_alpha_2)\n",
    "classifier_withAlpha_2.fit(X_train_2, y_train)"
   ]
  },
  {
   "cell_type": "markdown",
   "metadata": {
    "colab_type": "text",
    "id": "G2dt-PSMV5d3"
   },
   "source": [
    "### 3.5 Cross Validation"
   ]
  },
  {
   "cell_type": "code",
   "execution_count": 0,
   "metadata": {
    "colab": {},
    "colab_type": "code",
    "id": "78Ytsc30V5d3"
   },
   "outputs": [],
   "source": [
    "from sklearn.model_selection import cross_val_score\n",
    "cv_2 = cross_val_score(estimator=classifier_withAlpha_2, X=X_train_2, y=y_train,cv=10, scoring='roc_auc')"
   ]
  },
  {
   "cell_type": "code",
   "execution_count": 149,
   "metadata": {
    "colab": {
     "base_uri": "https://localhost:8080/",
     "height": 34
    },
    "colab_type": "code",
    "id": "vlP5un9VV5d4",
    "outputId": "f7dbdbd6-3653-488d-ca72-6407e2be2af1"
   },
   "outputs": [
    {
     "name": "stdout",
     "output_type": "stream",
     "text": [
      "Best AUC:0.617436\n"
     ]
    }
   ],
   "source": [
    "best_auc_2 = cv_2.mean()\n",
    "print('Best AUC:%4f' %best_auc_2)"
   ]
  },
  {
   "cell_type": "markdown",
   "metadata": {
    "colab_type": "text",
    "id": "Q1ww-JkkV5d4"
   },
   "source": [
    "### 3.6 Plotting ROC curve"
   ]
  },
  {
   "cell_type": "code",
   "execution_count": 0,
   "metadata": {
    "colab": {},
    "colab_type": "code",
    "id": "FcA1FyVvV5d5"
   },
   "outputs": [],
   "source": [
    "def batch_predict(clf, data):\n",
    "    y_data_pred = []\n",
    "    tr_loop = data.shape[0] - data.shape[0]%1000\n",
    "    for i in range(0,tr_loop, 1000):\n",
    "        y_data_pred.extend(clf.predict_proba(data[i:i+1000])[:,1])\n",
    "    if data.shape[0]%1000 != 0:\n",
    "        y_data_pred.extend(clf.predict_proba(data[tr_loop:])[:,1])\n",
    "        \n",
    "    return y_data_pred"
   ]
  },
  {
   "cell_type": "code",
   "execution_count": 0,
   "metadata": {
    "colab": {},
    "colab_type": "code",
    "id": "6vCm-rh9V5d5"
   },
   "outputs": [],
   "source": [
    "y_train_pred_2 = batch_predict(classifier_withAlpha_2, X_train_2)\n",
    "y_test_pred_2 = batch_predict(classifier_withAlpha_2, X_test_2)"
   ]
  },
  {
   "cell_type": "code",
   "execution_count": 0,
   "metadata": {
    "colab": {},
    "colab_type": "code",
    "id": "a6WceETdV5d7"
   },
   "outputs": [],
   "source": [
    "from sklearn.metrics import roc_curve, auc\n",
    "train_fpr_2, train_tpr_2, train_thresh_2 = roc_curve(y_train, y_train_pred_2)\n",
    "test_fpr_2, test_tpr_2, test_thresh_2 = roc_curve(y_test, y_test_pred_2)"
   ]
  },
  {
   "cell_type": "code",
   "execution_count": 153,
   "metadata": {
    "colab": {
     "base_uri": "https://localhost:8080/",
     "height": 295
    },
    "colab_type": "code",
    "id": "M54Q1bSdV5d8",
    "outputId": "ea2b04c7-1656-4504-f669-8e578fa880a8"
   },
   "outputs": [
    {
     "data": {
      "image/png": "[encoded data removed]",
      "text/plain": [
       "<Figure size 432x288 with 1 Axes>"
      ]
     },
     "metadata": {
      "tags": []
     },
     "output_type": "display_data"
    }
   ],
   "source": [
    "plt.plot(train_fpr_2, train_tpr_2, label='Train AUC:%4f'%auc(train_fpr_2, train_tpr_2))\n",
    "plt.plot(test_fpr_2, test_tpr_2, label='Test AUC:%4f'%auc(test_fpr_2, test_tpr_2))\n",
    "\n",
    "plt.title('AUC curve of Test and Train Data')\n",
    "plt.xlabel('False Positive Rate')\n",
    "plt.ylabel('True Positive Rate')\n",
    "plt.legend()\n",
    "plt.grid()\n",
    "plt.show()"
   ]
  },
  {
   "cell_type": "markdown",
   "metadata": {
    "colab_type": "text",
    "id": "YfnH8W4tV5d9"
   },
   "source": [
    "### 3.7 Confusion Matrix"
   ]
  },
  {
   "cell_type": "code",
   "execution_count": 154,
   "metadata": {
    "colab": {
     "base_uri": "https://localhost:8080/",
     "height": 34
    },
    "colab_type": "code",
    "id": "kLMEXdKhV5d9",
    "outputId": "ddbc7665-ce52-488f-b707-637b862321c3"
   },
   "outputs": [
    {
     "name": "stdout",
     "output_type": "stream",
     "text": [
      "The maximum tpr*(1-fpr) is: 0.3606844925473015 for threshold 0.685\n"
     ]
    }
   ],
   "source": [
    "def find_best_threshold(fpr, tpr, threhsold):\n",
    "    t = threhsold[np.argmax(tpr*(1-fpr))]\n",
    "    print('The maximum tpr*(1-fpr) is:', max(tpr*(1-fpr)), 'for threshold', (np.round(t,3)))\n",
    "    return t\n",
    "\n",
    "\n",
    "best_t = find_best_threshold(train_fpr_2, train_tpr_2, train_thresh_2)"
   ]
  },
  {
   "cell_type": "code",
   "execution_count": 0,
   "metadata": {
    "colab": {},
    "colab_type": "code",
    "id": "oyZ8buBYV5d-"
   },
   "outputs": [],
   "source": [
    "def predict_with_threshold(proba, threshold):\n",
    "    predictions = []\n",
    "    for i in proba:\n",
    "        if i>=threshold:\n",
    "            predictions.append(1)\n",
    "        else:\n",
    "            predictions.append(0)\n",
    "            \n",
    "    return predictions"
   ]
  },
  {
   "cell_type": "code",
   "execution_count": 0,
   "metadata": {
    "colab": {},
    "colab_type": "code",
    "id": "3Jl_f1IqV5d_"
   },
   "outputs": [],
   "source": [
    "from sklearn.metrics import confusion_matrix\n",
    "cm_train_2 = confusion_matrix(y_train, predict_with_threshold(y_train_pred_2, best_t))\n",
    "cm_test_2 = confusion_matrix(y_test, predict_with_threshold(y_test_pred_2, best_t))"
   ]
  },
  {
   "cell_type": "code",
   "execution_count": 157,
   "metadata": {
    "colab": {
     "base_uri": "https://localhost:8080/",
     "height": 295
    },
    "colab_type": "code",
    "id": "QWhAI4MkV5d_",
    "outputId": "0fcff612-adf2-4403-aebc-baa9da1c1221"
   },
   "outputs": [
    {
     "data": {
      "image/png": "[encoded data removed]",
      "text/plain": [
       "<Figure size 432x288 with 2 Axes>"
      ]
     },
     "metadata": {
      "tags": []
     },
     "output_type": "display_data"
    }
   ],
   "source": [
    "sns.heatmap(cm_train_2, annot=True, fmt='.2f')\n",
    "plt.title('Training Data : confusion matrix')\n",
    "plt.xlabel('Predicted Label')\n",
    "plt.ylabel('Actual Label')\n",
    "plt.show()"
   ]
  },
  {
   "cell_type": "code",
   "execution_count": 158,
   "metadata": {
    "colab": {
     "base_uri": "https://localhost:8080/",
     "height": 295
    },
    "colab_type": "code",
    "id": "DMDn-N3RV5eA",
    "outputId": "95fcc147-1635-4f0b-81bc-ee305b2d0760"
   },
   "outputs": [
    {
     "data": {
      "image/png": "[encoded data removed]",
      "text/plain": [
       "<Figure size 432x288 with 2 Axes>"
      ]
     },
     "metadata": {
      "tags": []
     },
     "output_type": "display_data"
    }
   ],
   "source": [
    "sns.heatmap(cm_test_2, annot=True, fmt='.2f')\n",
    "plt.title('Test data: Confusion matrix')\n",
    "plt.xlabel('Predicted Label')\n",
    "plt.ylabel('Actual Label')\n",
    "plt.show()"
   ]
  },
  {
   "cell_type": "markdown",
   "metadata": {
    "colab_type": "text",
    "id": "6bJeBp_YV5eB"
   },
   "source": [
    "## 3.8 Top 20 Features"
   ]
  },
  {
   "cell_type": "code",
   "execution_count": 0,
   "metadata": {
    "colab": {},
    "colab_type": "code",
    "id": "GK79WKikV5eB"
   },
   "outputs": [],
   "source": [
    "#https://datascience.stackexchange.com/questions/65219/find-the-top-n-features-from-feature-set-using-absolute-values-of-feature-log-p/65232#65232\n",
    "features_list = list( vectorizer_1.get_feature_names() +vectorizer_2.get_feature_names() +vectorizer_3.get_feature_names() +\\\n",
    "                    vectorizer_4.get_feature_names() +vectorizer_5.get_feature_names() +vectorizer_7.get_feature_names() +\\\n",
    "                     vectorizer_9.get_feature_names() + [\"teacher_number_of_previously_posted_projects\"] + [\"Price\"]\n",
    "                    )"
   ]
  },
  {
   "cell_type": "code",
   "execution_count": 0,
   "metadata": {
    "colab": {},
    "colab_type": "code",
    "id": "shOc1A7WV5eC"
   },
   "outputs": [],
   "source": [
    "#For postive class , we get the indices \n",
    "sorted_prob_class1_ind_2 = classifier_withAlpha_2.feature_log_prob_[1,:].argsort()\n",
    "\n",
    "#For Negative Class\n",
    "sorted_prob_class0_ind_2 = classifier_withAlpha_2.feature_log_prob_[0, :].argsort()"
   ]
  },
  {
   "cell_type": "code",
   "execution_count": 0,
   "metadata": {
    "colab": {},
    "colab_type": "code",
    "id": "BFdCFmSTV5eD"
   },
   "outputs": [],
   "source": [
    "#https://www.geeksforgeeks.org/python-get-last-n-elements-from-given-list/\n",
    "#since argsort gives it in ascending order we need the last 20 eleemnts\n",
    "Most_important_word_for_postive_2 = []\n",
    "Most_important_word_for_neagtive_2 = []\n",
    "\n",
    "for i in (sorted_prob_class1_ind_2[-20:-1]):\n",
    "    Most_important_word_for_postive_2.append(features_list[i])\n",
    "    \n",
    "for j in (sorted_prob_class0_ind_2[-20:-1]):\n",
    "    Most_important_word_for_neagtive_2.append(features_list[j])"
   ]
  },
  {
   "cell_type": "code",
   "execution_count": 162,
   "metadata": {
    "colab": {
     "base_uri": "https://localhost:8080/",
     "height": 122
    },
    "colab_type": "code",
    "id": "_D2O2414V5eE",
    "outputId": "9fa957e5-77a6-4a94-99a0-2a9e0127dd3b"
   },
   "outputs": [
    {
     "name": "stdout",
     "output_type": "stream",
     "text": [
      "Top 20 words in Postive Class\n",
      "['love', 'use', 'reading', 'work', 'need', 'we', 'nannan', 'many', 'help', 'learn', 'not', 'they', 'the', 'classroom', 'learning', 'my', 'school', 'students', 'teacher_number_of_previously_posted_projects']\n",
      "==================================================\n",
      "Top 20 words in Negative class\n",
      "['reading', 'love', 'come', 'work', 'need', 'we', 'many', 'nannan', 'the', 'help', 'they', 'learn', 'not', 'classroom', 'my', 'learning', 'school', 'teacher_number_of_previously_posted_projects', 'students']\n"
     ]
    }
   ],
   "source": [
    "print('Top 20 words in Postive Class')\n",
    "print(Most_important_word_for_1)\n",
    "print('='*50)\n",
    "print('Top 20 words in Negative class')\n",
    "print(Most_important_word_for_0)"
   ]
  },
  {
   "cell_type": "markdown",
   "metadata": {
    "colab_type": "text",
    "id": "nDesfzcOV5eG"
   },
   "source": [
    "## Summary"
   ]
  },
  {
   "cell_type": "code",
   "execution_count": 168,
   "metadata": {
    "colab": {
     "base_uri": "https://localhost:8080/",
     "height": 119
    },
    "colab_type": "code",
    "id": "7pfm294LV5eG",
    "outputId": "32ebfbef-19ba-4571-d76f-052a545dc666"
   },
   "outputs": [
    {
     "name": "stdout",
     "output_type": "stream",
     "text": [
      "+------------+-------------+-------+----------+\n",
      "| Vectorizer |    Model    | Alpha |   AUC    |\n",
      "+------------+-------------+-------+----------+\n",
      "|    BOW     | Naive Bayes |   10  | 0.656119 |\n",
      "|   TFIDF    | Naive Bayes |  0.01 | 0.617436 |\n",
      "+------------+-------------+-------+----------+\n"
     ]
    }
   ],
   "source": [
    "#http://zetcode.com/python/prettytable/\n",
    "from prettytable import PrettyTable\n",
    "x = PrettyTable()\n",
    "x.field_names = ['Vectorizer', 'Model', 'Alpha', 'AUC']\n",
    "x.add_row(['BOW', 'Naive Bayes', str(best_alpha_1), str('%4f'%best_auc_1)])\n",
    "x.add_row(['TFIDF', 'Naive Bayes', str(best_alpha_2), str('%4f'%best_auc_2)])\n",
    "print(x)"
   ]
  },
  {
   "cell_type": "markdown",
   "metadata": {
    "colab_type": "text",
    "id": "28TIMVGPV5eH"
   },
   "source": [
    "### Note : That's the end of the code"
   ]
  }
 ],
 "metadata": {
  "accelerator": "GPU",
  "colab": {
   "collapsed_sections": [
    "TYxKE8isV5dG",
    "opjk-OvaV5dv",
    "D4mtHuQFV5d1",
    "28TIMVGPV5eH"
   ],
   "name": "premkumarkaliyamoorthy_NB_finished.ipynb",
   "provenance": []
  },
  "kernelspec": {
   "display_name": "Python 3",
   "language": "python",
   "name": "python3"
  },
  "language_info": {
   "codemirror_mode": {
    "name": "ipython",
    "version": 3
   },
   "file_extension": ".py",
   "mimetype": "text/x-python",
   "name": "python",
   "nbconvert_exporter": "python",
   "pygments_lexer": "ipython3",
   "version": "3.6.9"
  }
 },
 "nbformat": 4,
 "nbformat_minor": 1
}
