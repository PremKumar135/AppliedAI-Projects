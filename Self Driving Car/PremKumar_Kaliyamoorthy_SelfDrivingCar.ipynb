{
 "cells": [
  {
   "cell_type": "markdown",
   "metadata": {
    "colab_type": "text",
    "id": "X8lohhJ24ZH3"
   },
   "source": [
    "# **SELF DRIVING CAR**"
   ]
  },
  {
   "cell_type": "markdown",
   "metadata": {
    "colab_type": "text",
    "id": "uBVErpt44ZH4"
   },
   "source": [
    "## 1.Importing libraries"
   ]
  },
  {
   "cell_type": "code",
   "execution_count": null,
   "metadata": {
    "colab": {},
    "colab_type": "code",
    "id": "JPODOQs14ZH6"
   },
   "outputs": [],
   "source": [
    "import os\n",
    "import numpy as np\n",
    "import matplotlib.pyplot as plt\n",
    "%matplotlib inline\n",
    "import seaborn as sns\n",
    "from scipy import pi\n",
    "from itertools import islice\n",
    "import cv2\n",
    "import tensorflow as tf\n",
    "import pickle"
   ]
  },
  {
   "cell_type": "markdown",
   "metadata": {
    "colab_type": "text",
    "id": "FOST5t7M4ZH_"
   },
   "source": [
    "## 2.Reading images names from text file"
   ]
  },
  {
   "cell_type": "code",
   "execution_count": null,
   "metadata": {
    "colab": {},
    "colab_type": "code",
    "id": "YmY4_nVf4ZIA",
    "outputId": "af9ebedd-291c-43a5-c47b-d3e7e8256b01"
   },
   "outputs": [
    {
     "name": "stdout",
     "output_type": "stream",
     "text": [
      "Finished processing\n"
     ]
    }
   ],
   "source": [
    "#reading the data set from data.txt\n",
    "\n",
    "dataset_path = '/home/ubuntu/Project/my_data/Autopilot-TensorFlow-master/Autopilot-TensorFlow-master/driving_dataset/'\n",
    "training_path = os.path.join(dataset_path, 'data.txt')\n",
    "\n",
    "split = 0.8\n",
    "X = []\n",
    "y = []\n",
    "\n",
    "#islice(text, start, stop, LIMIT) --> ('ABCDEF', 2, None) --> 'C D E F'  -->https://docs.python.org/2/library/itertools.html\n",
    "with open(training_path) as f:\n",
    "    for line in islice(f, None):\n",
    "        path, angle = line.strip().split()\n",
    "        full_path = os.path.join(dataset_path, path)\n",
    "        X.append(full_path)\n",
    "        y.append(float(angle)*pi/180)\n",
    "\n",
    "y = np.array(y)\n",
    "print('Finished processing')\n",
    "\n",
    "#Split it with 80/20\n",
    "split_index = int(len(y)*0.8)\n",
    "y_train = y[:split_index]\n",
    "y_val = y[split_index:]"
   ]
  },
  {
   "cell_type": "markdown",
   "metadata": {
    "colab_type": "text",
    "id": "6Fr6g0FY4ZIF"
   },
   "source": [
    "### 2.1 Base Model"
   ]
  },
  {
   "cell_type": "code",
   "execution_count": null,
   "metadata": {
    "colab": {},
    "colab_type": "code",
    "id": "q9TpfP0J4ZIG",
    "outputId": "f0ca1ef5-cbd6-46ec-c912-4dc2b8258827"
   },
   "outputs": [
    {
     "data": {
      "image/png": "[encoded data removed]",
      "text/plain": [
       "<Figure size 864x576 with 1 Axes>"
      ]
     },
     "metadata": {
      "needs_background": "light",
      "tags": []
     },
     "output_type": "display_data"
    }
   ],
   "source": [
    "#distribution of train and test y\n",
    "plt.figure(figsize=(12,8))\n",
    "sns.distplot(y_train, hist=False, label='train_y')\n",
    "sns.distplot(y_val, hist=False, label='test_y')\n",
    "plt.xlabel(' Steering angle')\n",
    "plt.ylabel('Probability distribution')\n",
    "plt.legend()\n",
    "plt.show()"
   ]
  },
  {
   "cell_type": "code",
   "execution_count": null,
   "metadata": {
    "colab": {},
    "colab_type": "code",
    "id": "aXOczT-34ZIK",
    "outputId": "acfd19f8-046e-4ab6-b4c7-54f4ea7d11ef"
   },
   "outputs": [
    {
     "name": "stdout",
     "output_type": "stream",
     "text": [
      "Test_MSE(MEAN):0.191127\n",
      "Test_MSE(ZERO):0.190891\n"
     ]
    }
   ],
   "source": [
    "#Model 0: Base line Model: y_test_pred = mean(y_train_i) \n",
    "train_mean_y = np.mean(y_train)\n",
    "\n",
    "print('Test_MSE(MEAN):%f' % np.mean(np.square(y_val-train_mean_y)) )\n",
    "print('Test_MSE(ZERO):%f' % np.mean(np.square(y_val-0.0)) )"
   ]
  },
  {
   "cell_type": "markdown",
   "metadata": {
    "colab_type": "text",
    "id": "jnHDBk9E4ZIO"
   },
   "source": [
    "## 3. Reading images from the path"
   ]
  },
  {
   "cell_type": "code",
   "execution_count": null,
   "metadata": {
    "colab": {},
    "colab_type": "code",
    "id": "i72HLyGl4ZIP",
    "outputId": "41888438-12cf-4856-a6c6-7b0c1da9e292"
   },
   "outputs": [
    {
     "data": {
      "text/plain": [
       "True"
      ]
     },
     "execution_count": 7,
     "metadata": {
      "tags": []
     },
     "output_type": "execute_result"
    }
   ],
   "source": [
    "dataset_path = '/home/ubuntu/Project/my_data/Autopilot-TensorFlow-master/Autopilot-TensorFlow-master/driving_dataset/'\n",
    "os.path.exists(os.path.join(dataset_path, 'data.txt'))"
   ]
  },
  {
   "cell_type": "code",
   "execution_count": null,
   "metadata": {
    "colab": {},
    "colab_type": "code",
    "id": "y-i4aoN04ZIT",
    "outputId": "c70c2ce3-4aa6-48d8-d815-ed4bf4823f3b"
   },
   "outputs": [
    {
     "name": "stdout",
     "output_type": "stream",
     "text": [
      "36324\n",
      "9082\n"
     ]
    }
   ],
   "source": [
    "print(len(y_train))\n",
    "print(len(y_val))"
   ]
  },
  {
   "cell_type": "code",
   "execution_count": null,
   "metadata": {
    "colab": {},
    "colab_type": "code",
    "id": "L42KYS8f4ZIY",
    "outputId": "126011e0-3b8b-4862-8865-acda34779f0d"
   },
   "outputs": [
    {
     "name": "stdout",
     "output_type": "stream",
     "text": [
      "36324\n",
      "9082\n"
     ]
    }
   ],
   "source": [
    "print(len(X[:len(y_train)]))\n",
    "print(len(X[len(y_train):]))"
   ]
  },
  {
   "cell_type": "markdown",
   "metadata": {
    "colab_type": "text",
    "id": "iQNdrGC_4ZId"
   },
   "source": [
    "### 3.1 Checking on single image"
   ]
  },
  {
   "cell_type": "code",
   "execution_count": null,
   "metadata": {
    "colab": {},
    "colab_type": "code",
    "id": "rWh491X54ZId",
    "outputId": "9c7806e3-05a0-46be-855d-0d020d94cb60"
   },
   "outputs": [
    {
     "data": {
      "text/plain": [
       "'/home/ubuntu/Project/my_data/Autopilot-TensorFlow-master/Autopilot-TensorFlow-master/driving_dataset/0.jpg'"
      ]
     },
     "execution_count": 12,
     "metadata": {
      "tags": []
     },
     "output_type": "execute_result"
    }
   ],
   "source": [
    "X[0]"
   ]
  },
  {
   "cell_type": "code",
   "execution_count": null,
   "metadata": {
    "colab": {},
    "colab_type": "code",
    "id": "qUC180qc4ZIh",
    "outputId": "cb5a362d-eaa6-4473-aae8-63ce43d96658"
   },
   "outputs": [
    {
     "name": "stdout",
     "output_type": "stream",
     "text": [
      "Original_size of the image: (256, 455, 3)\n",
      "After taking the last 150 rows i.e lower part of the images where road is present,  (150, 455, 3)\n",
      "shape after resizing it: (66, 200, 3)\n"
     ]
    }
   ],
   "source": [
    "img = cv2.imread(X[0])\n",
    "print('Original_size of the image:', img.shape)\n",
    "print(\"After taking the last 150 rows i.e lower part of the images where road is present, \",img[-150:].shape)\n",
    "img = img[-150:]\n",
    "resized_img = cv2.resize(img, (200,66))  # 200/66 = 455/150 = 3.0303 => we are keeping aspect ratio when we are resizing it\n",
    "print('shape after resizing it:', resized_img.shape)"
   ]
  },
  {
   "cell_type": "markdown",
   "metadata": {
    "colab_type": "text",
    "id": "HT_hh2CI4ZIl"
   },
   "source": [
    "### 3.2 Doing the same for all images"
   ]
  },
  {
   "cell_type": "code",
   "execution_count": null,
   "metadata": {
    "colab": {},
    "colab_type": "code",
    "id": "GsNaec-64ZIm"
   },
   "outputs": [],
   "source": [
    "X_train = []\n",
    "for i in X[:len(y_train)]:\n",
    "    img = cv2.imread(i)\n",
    "    img = img[-150:]\n",
    "    resized_img = cv2.resize(img, (200,66))\n",
    "    X_train.append(resized_img)"
   ]
  },
  {
   "cell_type": "code",
   "execution_count": null,
   "metadata": {
    "colab": {},
    "colab_type": "code",
    "id": "TuynKcE84ZIq"
   },
   "outputs": [],
   "source": [
    "X_train = np.array(X_train)"
   ]
  },
  {
   "cell_type": "code",
   "execution_count": null,
   "metadata": {
    "colab": {},
    "colab_type": "code",
    "id": "hCs3eJgn4ZIu"
   },
   "outputs": [],
   "source": [
    "import pickle\n",
    "with open('X_train', 'wb') as f:\n",
    "    pickle.dump(X_train, f)"
   ]
  },
  {
   "cell_type": "code",
   "execution_count": null,
   "metadata": {
    "colab": {},
    "colab_type": "code",
    "id": "8Vgxi-IB4ZIx",
    "outputId": "3037cf89-f456-4e1e-def9-92499d69dc81"
   },
   "outputs": [
    {
     "name": "stdout",
     "output_type": "stream",
     "text": [
      "(36324, 66, 200, 3)\n"
     ]
    }
   ],
   "source": [
    "print(X_train.shape)"
   ]
  },
  {
   "cell_type": "code",
   "execution_count": null,
   "metadata": {
    "colab": {},
    "colab_type": "code",
    "id": "sE3S3g0W4ZI1"
   },
   "outputs": [],
   "source": [
    "X_val = []\n",
    "for j in X[len(y_train):]:\n",
    "    img = cv2.imread(i)\n",
    "    img = img[-150:]\n",
    "    resized_img = cv2.resize(img, (200,66))\n",
    "    X_val.append(resized_img)"
   ]
  },
  {
   "cell_type": "code",
   "execution_count": null,
   "metadata": {
    "colab": {},
    "colab_type": "code",
    "id": "B4Z9eRLF4ZI5"
   },
   "outputs": [],
   "source": [
    "X_val = np.array(X_val)"
   ]
  },
  {
   "cell_type": "code",
   "execution_count": null,
   "metadata": {
    "colab": {},
    "colab_type": "code",
    "id": "wxRG1zaZ4ZI8"
   },
   "outputs": [],
   "source": [
    "import pickle\n",
    "with open('X_val', 'wb') as f:\n",
    "    pickle.dump(X_val, f)"
   ]
  },
  {
   "cell_type": "code",
   "execution_count": null,
   "metadata": {
    "colab": {},
    "colab_type": "code",
    "id": "fGl9iMDy4ZI_",
    "outputId": "9b563f70-cc61-44a8-b589-34b37eb9c910"
   },
   "outputs": [
    {
     "name": "stdout",
     "output_type": "stream",
     "text": [
      "(9082, 66, 200, 3)\n"
     ]
    }
   ],
   "source": [
    "print(X_val.shape)"
   ]
  },
  {
   "cell_type": "markdown",
   "metadata": {
    "colab_type": "text",
    "id": "Cd4A0SbH4ZJD"
   },
   "source": [
    "### 3.3 Reading from pickle file"
   ]
  },
  {
   "cell_type": "code",
   "execution_count": null,
   "metadata": {
    "colab": {},
    "colab_type": "code",
    "id": "EP_odFzu4ZJE"
   },
   "outputs": [],
   "source": [
    "with open('/home/ubuntu/Project/my_data/X_train', 'rb') as f:\n",
    "    X_train = pickle.load(f)"
   ]
  },
  {
   "cell_type": "code",
   "execution_count": null,
   "metadata": {
    "colab": {},
    "colab_type": "code",
    "id": "O-J9Mu4D4ZJH"
   },
   "outputs": [],
   "source": [
    "with open('/home/ubuntu/Project/my_data/X_val', 'rb') as f:\n",
    "    X_val = pickle.load(f)"
   ]
  },
  {
   "cell_type": "code",
   "execution_count": null,
   "metadata": {
    "colab": {},
    "colab_type": "code",
    "id": "qrpLgpji4ZJL",
    "outputId": "53dc3c11-a083-4a13-ace8-d2db93fe77e6"
   },
   "outputs": [
    {
     "name": "stdout",
     "output_type": "stream",
     "text": [
      "(36324, 66, 200, 3)\n",
      "(9082, 66, 200, 3)\n",
      "(36324,)\n",
      "(9082,)\n"
     ]
    }
   ],
   "source": [
    "print(X_train.shape)\n",
    "print(X_val.shape)\n",
    "print(y_train.shape)\n",
    "print(y_val.shape)"
   ]
  },
  {
   "cell_type": "markdown",
   "metadata": {
    "colab_type": "text",
    "id": "JBzR_UOv4ZJO"
   },
   "source": [
    "## 4. Preparing data for modelling"
   ]
  },
  {
   "cell_type": "code",
   "execution_count": null,
   "metadata": {
    "colab": {},
    "colab_type": "code",
    "id": "6hcm_ns14ZJP",
    "outputId": "2be7770c-0c0e-490b-84c0-685b666ec6d7"
   },
   "outputs": [
    {
     "name": "stdout",
     "output_type": "stream",
     "text": [
      "66 200 3\n"
     ]
    }
   ],
   "source": [
    "img_height = X_train.shape[1]\n",
    "img_width = X_train.shape[2]\n",
    "channels = X_train.shape[3]\n",
    "\n",
    "print(img_height, img_width, channels)"
   ]
  },
  {
   "cell_type": "code",
   "execution_count": null,
   "metadata": {
    "colab": {},
    "colab_type": "code",
    "id": "Kp4C5xBb4ZJS"
   },
   "outputs": [],
   "source": [
    "import tensorflow.keras.backend as K\n",
    "\n",
    "if K.image_data_format() == 'channels_first':\n",
    "    X_train = X_train.reshape(X_train.shape[0], channels, img_height, img_width).astype('float32')\n",
    "    X_val = X_val.reshape(X_val.shape[0], channels, img_height, img_width).astype('float32')\n",
    "    img_size = (channels, img_height, img_width)\n",
    "    \n",
    "else:\n",
    "    X_train = X_train.reshape(X_train.shape[0], img_height, img_width, channels).astype('float32')\n",
    "    X_val = X_val.reshape(X_val.shape[0], img_height, img_width, channels).astype('float32')\n",
    "    img_size = (img_height, img_width, channels)"
   ]
  },
  {
   "cell_type": "code",
   "execution_count": null,
   "metadata": {
    "colab": {},
    "colab_type": "code",
    "id": "DVT2KvGl4ZJW"
   },
   "outputs": [],
   "source": [
    "X_train = X_train/255.0\n",
    "X_val = X_val/255.0"
   ]
  },
  {
   "cell_type": "code",
   "execution_count": null,
   "metadata": {
    "colab": {},
    "colab_type": "code",
    "id": "gfeK8EzR4ZJZ",
    "outputId": "54fe70f6-344d-4950-abc6-b914de0da74a"
   },
   "outputs": [
    {
     "name": "stdout",
     "output_type": "stream",
     "text": [
      "(36324, 66, 200, 3)\n",
      "(9082, 66, 200, 3)\n",
      "(66, 200, 3)\n"
     ]
    }
   ],
   "source": [
    "print(X_train.shape)\n",
    "print(X_val.shape)\n",
    "print(img_size)"
   ]
  },
  {
   "cell_type": "markdown",
   "metadata": {
    "colab_type": "text",
    "id": "YQW3RNnh4ZJe"
   },
   "source": [
    "## 5. Building model from Nvidia Architecture"
   ]
  },
  {
   "cell_type": "code",
   "execution_count": null,
   "metadata": {
    "colab": {},
    "colab_type": "code",
    "id": "cnY3duLj4ZJf"
   },
   "outputs": [],
   "source": [
    "#https://stackoverflow.com/questions/43915482/how-do-you-create-a-custom-activation-function-with-keras\n",
    "from tensorflow.keras.backend as K\n",
    "\n",
    "def custom_activation(x):\n",
    "    return tf.multiply(tf.math.atan(x), 2) #  arctan range is [-pi/2, pi/2]. so we have to get the angle between [-pi, pi] so we are multiplying by 2"
   ]
  },
  {
   "cell_type": "code",
   "execution_count": null,
   "metadata": {
    "colab": {},
    "colab_type": "code",
    "id": "_0jplqu94ZJi"
   },
   "outputs": [],
   "source": [
    "#to refer the model architecture: https://developer.nvidia.com/blog/deep-learning-self-driving-cars/\n",
    "#to use atan as a activation function refer: https://www.tensorflow.org/api_docs/python/tf/math/atan\n",
    "\n",
    "img_input = tf.keras.Input(img_size)\n",
    "x = tf.keras.layers.Conv2D(filters=24, kernel_size=(5,5), strides=(2,2), padding='valid', name='conv-1')(img_input)\n",
    "x = tf.keras.layers.Conv2D(filters=36, kernel_size=(5,5), strides=(2,2), padding='valid', name='conv-2')(x)\n",
    "x = tf.keras.layers.Conv2D(filters=48, kernel_size=(5,5), strides=(2,2), padding='valid', name='conv-3')(x)\n",
    "x = tf.keras.layers.Conv2D(filters=64, kernel_size=(3,3), strides=(1,1), padding='valid', name='conv-4')(x)\n",
    "x = tf.keras.layers.Conv2D(filters=64, kernel_size=(3,3), strides=(1,1), padding='valid', name='conv-5')(x)\n",
    "x = tf.keras.layers.Flatten(name='flatten')(x)\n",
    "x = tf.keras.layers.Dense(1164, activation='relu', name='dense_layer-1')(x)\n",
    "x = tf.keras.layers.Dropout(0.2, name='dropout-1')(x)\n",
    "x = tf.keras.layers.Dense(100, activation='relu', name='dense_layer-2')(x)\n",
    "x = tf.keras.layers.Dropout(0.2, name='dropout-2')(x)\n",
    "x = tf.keras.layers.Dense(50, activation='relu', name='dense_layer-3')(x)\n",
    "x = tf.keras.layers.Dropout(0.2, name='dropout-3')(x)\n",
    "x = tf.keras.layers.Dense(10, activation='relu', name='dense_layer-4')(x)\n",
    "x = tf.keras.layers.Dropout(0.2, name='dropout-4')(x)\n",
    "output = tf.keras.layers.Dense(1, activation=custom_activation, name='output')(x) #note we have used atan to use tan inverse activation\n",
    "\n",
    "model_1 = tf.keras.models.Model(inputs=img_input, outputs=output, name='model-1')"
   ]
  },
  {
   "cell_type": "code",
   "execution_count": null,
   "metadata": {
    "colab": {},
    "colab_type": "code",
    "id": "RpcMtnHH4ZJm",
    "outputId": "d47018a5-1dfe-4fb9-c45c-f7d22db3bb34"
   },
   "outputs": [
    {
     "name": "stdout",
     "output_type": "stream",
     "text": [
      "Model: \"model-1\"\n",
      "_________________________________________________________________\n",
      "Layer (type)                 Output Shape              Param #   \n",
      "=================================================================\n",
      "input_3 (InputLayer)         [(None, 66, 200, 3)]      0         \n",
      "_________________________________________________________________\n",
      "conv-1 (Conv2D)              (None, 31, 98, 24)        1824      \n",
      "_________________________________________________________________\n",
      "conv-2 (Conv2D)              (None, 14, 47, 36)        21636     \n",
      "_________________________________________________________________\n",
      "conv-3 (Conv2D)              (None, 5, 22, 48)         43248     \n",
      "_________________________________________________________________\n",
      "conv-4 (Conv2D)              (None, 3, 20, 64)         27712     \n",
      "_________________________________________________________________\n",
      "conv-5 (Conv2D)              (None, 1, 18, 64)         36928     \n",
      "_________________________________________________________________\n",
      "flatten (Flatten)            (None, 1152)              0         \n",
      "_________________________________________________________________\n",
      "dense_layer-1 (Dense)        (None, 1164)              1342092   \n",
      "_________________________________________________________________\n",
      "dropout-1 (Dropout)          (None, 1164)              0         \n",
      "_________________________________________________________________\n",
      "dense_layer-2 (Dense)        (None, 100)               116500    \n",
      "_________________________________________________________________\n",
      "dropout-2 (Dropout)          (None, 100)               0         \n",
      "_________________________________________________________________\n",
      "dense_layer-3 (Dense)        (None, 50)                5050      \n",
      "_________________________________________________________________\n",
      "dropout-3 (Dropout)          (None, 50)                0         \n",
      "_________________________________________________________________\n",
      "dense_layer-4 (Dense)        (None, 10)                510       \n",
      "_________________________________________________________________\n",
      "dropout-4 (Dropout)          (None, 10)                0         \n",
      "_________________________________________________________________\n",
      "output (Dense)               (None, 1)                 11        \n",
      "=================================================================\n",
      "Total params: 1,595,511\n",
      "Trainable params: 1,595,511\n",
      "Non-trainable params: 0\n",
      "_________________________________________________________________\n"
     ]
    }
   ],
   "source": [
    "model_1.summary()"
   ]
  },
  {
   "cell_type": "markdown",
   "metadata": {
    "colab_type": "text",
    "id": "3WEOs2hf4ZJp"
   },
   "source": [
    "## 6. Compiling and fit the model"
   ]
  },
  {
   "cell_type": "code",
   "execution_count": null,
   "metadata": {
    "colab": {},
    "colab_type": "code",
    "id": "Z6EjaAEh4ZJq"
   },
   "outputs": [],
   "source": [
    "model_1.compile(optimizer=tf.keras.optimizers.Adam(learning_rate=0.0001), loss='mean_squared_error')"
   ]
  },
  {
   "cell_type": "code",
   "execution_count": null,
   "metadata": {
    "colab": {},
    "colab_type": "code",
    "id": "Zu4VGWTT4ZJt"
   },
   "outputs": [],
   "source": [
    "batch_size = 100\n",
    "Epochs = 30"
   ]
  },
  {
   "cell_type": "code",
   "execution_count": null,
   "metadata": {
    "colab": {},
    "colab_type": "code",
    "id": "x4Es6ggD4ZJx"
   },
   "outputs": [],
   "source": [
    "from tensorflow.keras.callbacks import EarlyStopping, ReduceLROnPlateau, ModelCheckpoint\n",
    "\n",
    "checkpoint_file_name = '/home/ubuntu/Project/my_data/checkpoint/first_run/weights.{epoch:02d}-{val_loss:.2f}.hdf5'\n",
    "model_checkpoint = ModelCheckpoint(checkpoint_file_name, monitor='val_loss', verbose=1, save_best_only=True)\n",
    "\n",
    "callbacks = [model_checkpoint]"
   ]
  },
  {
   "cell_type": "code",
   "execution_count": null,
   "metadata": {
    "colab": {},
    "colab_type": "code",
    "id": "AgZdzM5N4ZJ0",
    "outputId": "fac3e7f8-5e28-439e-c3c9-8439e76760de"
   },
   "outputs": [
    {
     "name": "stdout",
     "output_type": "stream",
     "text": [
      "Train on 36324 samples, validate on 9082 samples\n",
      "Epoch 1/30\n",
      "\n",
      "Epoch 00001: val_loss improved from inf to 0.23466, saving model to /home/ubuntu/Project/my_data/checkpoint/first_run/weights.01-0.23.hdf5\n",
      "36324/36324 - 5s - loss: 0.2927 - val_loss: 0.2347\n",
      "Epoch 2/30\n",
      "\n",
      "Epoch 00002: val_loss did not improve from 0.23466\n",
      "36324/36324 - 4s - loss: 0.1991 - val_loss: 0.3899\n",
      "Epoch 3/30\n",
      "\n",
      "Epoch 00003: val_loss improved from 0.23466 to 0.22600, saving model to /home/ubuntu/Project/my_data/checkpoint/first_run/weights.03-0.23.hdf5\n",
      "36324/36324 - 4s - loss: 0.1473 - val_loss: 0.2260\n",
      "Epoch 4/30\n",
      "\n",
      "Epoch 00004: val_loss did not improve from 0.22600\n",
      "36324/36324 - 4s - loss: 0.1115 - val_loss: 0.3093\n",
      "Epoch 5/30\n",
      "\n",
      "Epoch 00005: val_loss improved from 0.22600 to 0.21338, saving model to /home/ubuntu/Project/my_data/checkpoint/first_run/weights.05-0.21.hdf5\n",
      "36324/36324 - 4s - loss: 0.0942 - val_loss: 0.2134\n",
      "Epoch 6/30\n",
      "\n",
      "Epoch 00006: val_loss did not improve from 0.21338\n",
      "36324/36324 - 4s - loss: 0.0786 - val_loss: 0.2309\n",
      "Epoch 7/30\n",
      "\n",
      "Epoch 00007: val_loss improved from 0.21338 to 0.20462, saving model to /home/ubuntu/Project/my_data/checkpoint/first_run/weights.07-0.20.hdf5\n",
      "36324/36324 - 4s - loss: 0.0717 - val_loss: 0.2046\n",
      "Epoch 8/30\n",
      "\n",
      "Epoch 00008: val_loss improved from 0.20462 to 0.20311, saving model to /home/ubuntu/Project/my_data/checkpoint/first_run/weights.08-0.20.hdf5\n",
      "36324/36324 - 4s - loss: 0.0680 - val_loss: 0.2031\n",
      "Epoch 9/30\n",
      "\n",
      "Epoch 00009: val_loss improved from 0.20311 to 0.19258, saving model to /home/ubuntu/Project/my_data/checkpoint/first_run/weights.09-0.19.hdf5\n",
      "36324/36324 - 4s - loss: 0.0644 - val_loss: 0.1926\n",
      "Epoch 10/30\n",
      "\n",
      "Epoch 00010: val_loss did not improve from 0.19258\n",
      "36324/36324 - 4s - loss: 0.0594 - val_loss: 0.4283\n",
      "Epoch 11/30\n",
      "\n",
      "Epoch 00011: val_loss did not improve from 0.19258\n",
      "36324/36324 - 4s - loss: 0.0577 - val_loss: 0.1952\n",
      "Epoch 12/30\n",
      "\n",
      "Epoch 00012: val_loss improved from 0.19258 to 0.19236, saving model to /home/ubuntu/Project/my_data/checkpoint/first_run/weights.12-0.19.hdf5\n",
      "36324/36324 - 4s - loss: 0.0551 - val_loss: 0.1924\n",
      "Epoch 13/30\n",
      "\n",
      "Epoch 00013: val_loss did not improve from 0.19236\n",
      "36324/36324 - 4s - loss: 0.0543 - val_loss: 0.1944\n",
      "Epoch 14/30\n",
      "\n",
      "Epoch 00014: val_loss improved from 0.19236 to 0.19190, saving model to /home/ubuntu/Project/my_data/checkpoint/first_run/weights.14-0.19.hdf5\n",
      "36324/36324 - 4s - loss: 0.0505 - val_loss: 0.1919\n",
      "Epoch 15/30\n",
      "\n",
      "Epoch 00015: val_loss did not improve from 0.19190\n",
      "36324/36324 - 4s - loss: 0.0495 - val_loss: 0.1946\n",
      "Epoch 16/30\n",
      "\n",
      "Epoch 00016: val_loss improved from 0.19190 to 0.19071, saving model to /home/ubuntu/Project/my_data/checkpoint/first_run/weights.16-0.19.hdf5\n",
      "36324/36324 - 4s - loss: 0.0489 - val_loss: 0.1907\n",
      "Epoch 17/30\n",
      "\n",
      "Epoch 00017: val_loss did not improve from 0.19071\n",
      "36324/36324 - 4s - loss: 0.0481 - val_loss: 0.1920\n",
      "Epoch 18/30\n",
      "\n",
      "Epoch 00018: val_loss did not improve from 0.19071\n",
      "36324/36324 - 4s - loss: 0.0467 - val_loss: 0.1907\n",
      "Epoch 19/30\n",
      "\n",
      "Epoch 00019: val_loss improved from 0.19071 to 0.19070, saving model to /home/ubuntu/Project/my_data/checkpoint/first_run/weights.19-0.19.hdf5\n",
      "36324/36324 - 4s - loss: 0.0451 - val_loss: 0.1907\n",
      "Epoch 20/30\n",
      "\n",
      "Epoch 00020: val_loss did not improve from 0.19070\n",
      "36324/36324 - 4s - loss: 0.0460 - val_loss: 0.1909\n",
      "Epoch 21/30\n",
      "\n",
      "Epoch 00021: val_loss did not improve from 0.19070\n",
      "36324/36324 - 4s - loss: 0.0522 - val_loss: 0.1912\n",
      "Epoch 22/30\n",
      "\n",
      "Epoch 00022: val_loss did not improve from 0.19070\n",
      "36324/36324 - 4s - loss: 0.0445 - val_loss: 0.1914\n",
      "Epoch 23/30\n",
      "\n",
      "Epoch 00023: val_loss did not improve from 0.19070\n",
      "36324/36324 - 4s - loss: 0.0450 - val_loss: 0.1907\n",
      "Epoch 24/30\n",
      "\n",
      "Epoch 00024: val_loss did not improve from 0.19070\n",
      "36324/36324 - 4s - loss: 0.0424 - val_loss: 0.1925\n",
      "Epoch 25/30\n",
      "\n",
      "Epoch 00025: val_loss did not improve from 0.19070\n",
      "36324/36324 - 4s - loss: 0.0418 - val_loss: 0.1914\n",
      "Epoch 26/30\n",
      "\n",
      "Epoch 00026: val_loss did not improve from 0.19070\n",
      "36324/36324 - 4s - loss: 0.0415 - val_loss: 0.1918\n",
      "Epoch 27/30\n",
      "\n",
      "Epoch 00027: val_loss did not improve from 0.19070\n",
      "36324/36324 - 4s - loss: 0.0421 - val_loss: 0.1928\n",
      "Epoch 28/30\n",
      "\n",
      "Epoch 00028: val_loss did not improve from 0.19070\n",
      "36324/36324 - 4s - loss: 0.0400 - val_loss: 0.1908\n",
      "Epoch 29/30\n",
      "\n",
      "Epoch 00029: val_loss did not improve from 0.19070\n",
      "36324/36324 - 4s - loss: 0.0420 - val_loss: 0.1928\n",
      "Epoch 30/30\n",
      "\n",
      "Epoch 00030: val_loss improved from 0.19070 to 0.19070, saving model to /home/ubuntu/Project/my_data/checkpoint/first_run/weights.30-0.19.hdf5\n",
      "36324/36324 - 4s - loss: 0.0400 - val_loss: 0.1907\n"
     ]
    }
   ],
   "source": [
    "history = model_1.fit(X_train, y_train, batch_size=batch_size, epochs=Epochs, validation_data=(X_val, y_val), callbacks=callbacks, verbose=2)"
   ]
  },
  {
   "cell_type": "markdown",
   "metadata": {
    "colab_type": "text",
    "id": "_jbPn4qc4ZJ3"
   },
   "source": [
    "### 6.1 Model loss plot - using dropout"
   ]
  },
  {
   "cell_type": "code",
   "execution_count": null,
   "metadata": {
    "colab": {},
    "colab_type": "code",
    "id": "9oyUBDpm4ZJ4",
    "outputId": "ae4d0f8b-7d0b-4f10-ac40-c667d783963e"
   },
   "outputs": [
    {
     "data": {
      "image/png": "[encoded data removed]",
      "text/plain": [
       "<Figure size 864x288 with 1 Axes>"
      ]
     },
     "metadata": {
      "needs_background": "light",
      "tags": []
     },
     "output_type": "display_data"
    }
   ],
   "source": [
    "# history plot for accuracy\n",
    "plt.figure(figsize=(12,4))\n",
    "plt.plot(history.history[\"loss\"])\n",
    "plt.plot(history.history[\"val_loss\"])\n",
    "plt.title(\"Model Loss\")\n",
    "plt.xlabel(\"Epoch\")\n",
    "plt.ylabel(\"Loss\")\n",
    "plt.legend([\"train\", \"test\"])\n",
    "plt.show()"
   ]
  },
  {
   "cell_type": "markdown",
   "metadata": {
    "colab_type": "text",
    "id": "1WKuHvBB4ZJ7"
   },
   "source": [
    "## Summary:\n",
    "- As we can see from the base model we got Test_MSE(MEAN):0.191127 , Test_MSE(ZERO):0.190891 and here we got 0.1907 as mean_squared_error  with dropout. This makes sense as that most of the time steering angle is 0  and thats why distribution is around with mean as zero. \n",
    "- Even after so many epochs we can't reduce mean_squared_error further "
   ]
  },
  {
   "cell_type": "markdown",
   "metadata": {
    "colab_type": "text",
    "id": "nbHgR0Tm4ZJ8"
   },
   "source": [
    "## 7. Using the output prediction "
   ]
  },
  {
   "cell_type": "code",
   "execution_count": null,
   "metadata": {
    "colab": {},
    "colab_type": "code",
    "id": "86SEgmeS4ZJ8"
   },
   "outputs": [],
   "source": [
    "#https://stackoverflow.com/questions/55779286/valueerror-unknown-activation-function-my-custom-activation-function\n",
    "best_model_1 = tf.keras.models.load_model('/home/ubuntu/Project/my_data/checkpoint/first_run/weights.30-0.19.hdf5', \n",
    "                                          custom_objects={'custom_activation':custom_activation})\n",
    "all_pred = []\n",
    "\n",
    "for i in X_val[1000:2000]:\n",
    "    i = cv2.resize(i, (200,66))\n",
    "    i = i/255.0\n",
    "    i = np.expand_dims(i, axis=0)\n",
    "    prediction = best_model_1.predict(i)\n",
    "    all_pred.extend(prediction[0])"
   ]
  },
  {
   "cell_type": "code",
   "execution_count": null,
   "metadata": {
    "colab": {},
    "colab_type": "code",
    "id": "eacBZkRD4ZKB",
    "outputId": "5bbcdf91-ae6d-4282-cb37-2f5840951d39"
   },
   "outputs": [
    {
     "data": {
      "text/plain": [
       "{-0.29648045}"
      ]
     },
     "execution_count": 102,
     "metadata": {
      "tags": []
     },
     "output_type": "execute_result"
    }
   ],
   "source": [
    "(set(all_pred))"
   ]
  },
  {
   "cell_type": "code",
   "execution_count": null,
   "metadata": {
    "colab": {},
    "colab_type": "code",
    "id": "pxwasqE44ZKF",
    "outputId": "525ac8a6-e584-4dfb-98c7-26e92f565124"
   },
   "outputs": [
    {
     "data": {
      "text/plain": [
       "357"
      ]
     },
     "execution_count": 101,
     "metadata": {
      "tags": []
     },
     "output_type": "execute_result"
    }
   ],
   "source": [
    "len(set(y_val[1000:2000]))"
   ]
  },
  {
   "cell_type": "markdown",
   "metadata": {
    "colab_type": "text",
    "id": "MjJEsv8e4ZKI"
   },
   "source": [
    "### DOUBT:\n",
    "- My model predict only one value as a degree and i don't know why. i mailed the team and they said my code is correct and asked me to submit![alt text](https://drive.google.com/uc?export=view&id=1xL4dKENX0eXKOG1lmKs2Yt0TZdlaC9aW)"
   ]
  },
  {
   "cell_type": "markdown",
   "metadata": {
    "colab_type": "text",
    "id": "N38fCV_24ZKJ"
   },
   "source": [
    "### 7.1 Making the video using the images we have so that we can rotate the steering using the video"
   ]
  },
  {
   "cell_type": "code",
   "execution_count": null,
   "metadata": {
    "colab": {},
    "colab_type": "code",
    "id": "VV9vqxM34ZKJ",
    "outputId": "d3cfe88c-1a21-4b52-dee0-c3306bb161bb"
   },
   "outputs": [
    {
     "name": "stdout",
     "output_type": "stream",
     "text": [
      "True\n",
      "<class 'str'>\n"
     ]
    }
   ],
   "source": [
    "print(os.path.exists(X[0]))\n",
    "print(type(X[0]))"
   ]
  },
  {
   "cell_type": "code",
   "execution_count": null,
   "metadata": {
    "colab": {},
    "colab_type": "code",
    "id": "LSn-qPjr4ZKN"
   },
   "outputs": [],
   "source": [
    "#https://theailearner.com/2018/10/15/creating-video-from-images-using-opencv-python/\n",
    "\n",
    "#we have X which is a list contains the path of each image\n",
    "image_array = []\n",
    "for i in X:\n",
    "    img = cv2.imread(i)\n",
    "    image_array.append(img)\n",
    "\n",
    "out = cv2.VideoWriter('/home/ubuntu/Project/my_data/Self_Driving_Car.avi', cv2.VideoWriter_fourcc(*'DIVX'), 15, (img.shape[1], img.shape[0]))\n",
    "for j in range(len(image_array)):\n",
    "    out.write(image_array[j])\n",
    "out.release()"
   ]
  },
  {
   "cell_type": "markdown",
   "metadata": {
    "colab_type": "text",
    "id": "FPnvK_9O4ZKQ"
   },
   "source": [
    "### 7.2 Rotate the steering as per the prediction"
   ]
  },
  {
   "cell_type": "code",
   "execution_count": null,
   "metadata": {
    "colab": {},
    "colab_type": "code",
    "id": "RkU0v7QI4ZKR",
    "outputId": "e50b7b06-e739-4521-8b91-dfb6e1b16649"
   },
   "outputs": [],
   "source": [
    "#to rotate the steering image refer https://opencv-python-tutroals.readthedocs.io/en/latest/py_tutorials/py_imgproc/py_geometric_transformations/py_geometric_transformations.html\n",
    "#steering_image\n",
    "model_1 = tf.keras.models.load_model('')\n",
    "steering_img = cv2.imread('/home/ubuntu/Project/my_data/Autopilot-TensorFlow-master/Autopilot-TensorFlow-master/steering_wheel_image.jpg')\n",
    "rows, cols = steering_img.shape[0], steering_img.shape[1]\n",
    "\n",
    "cap = cv2.VideoCapture('/home/ubuntu/Project/my_data/Self_Driving_Car.avi')\n",
    "\n",
    "smoothed_angle = 0\n",
    "while True:\n",
    "    ret, frame = cap.read()\n",
    "    resized_frame = cv2.resize(frame, (200,66))\n",
    "    resized_frame = resized_frame/255.0\n",
    "    resized_frame = np.expand_dims(axis=0)\n",
    "    degrees = (model_1.predict(resized_frame) * 180)/scipy.pi  #to convert the radians to degrees\n",
    "    cv2.imshow('frame', frame)\n",
    "    #make smooth angle transitions by turning the steering wheel based on the difference of the current angle\n",
    "    #and the predicted angle\n",
    "    smoothed_angle += 0/2 * pow(abs(degrees - smoothed_angle), 2.0/3.0) * (degrees-smoothed_angle) / abs(degrees-smoothed_angle)\n",
    "    M = cv2.getRotationMatrix2D((col2/2, rows/2), -degrees, 1)\n",
    "    dst = cv2.warpAffine(steering_img, M, (cols,rows))\n",
    "    cv2.imshow('steering_wheel', dst)\n",
    "    \n",
    "    if cv2.waitKey(1)==27:\n",
    "        break\n",
    "        \n",
    "cv2.destroyAllWindows()\n",
    "cap.release()"
   ]
  },
  {
   "cell_type": "markdown",
   "metadata": {
    "colab_type": "text",
    "id": "fUqKog3d4ZKW"
   },
   "source": [
    "# 8. Assignment:\n",
    "- split ---> 70%training and 30% testing\n",
    "- adam optimizer ---> learning_rate = 0.001\n",
    "- dropout ---> 0.5\n",
    "- activation --> 'linear' instead of atan"
   ]
  },
  {
   "cell_type": "code",
   "execution_count": null,
   "metadata": {
    "colab": {},
    "colab_type": "code",
    "id": "ZAvdIaQC4ZKY",
    "outputId": "927beb85-7992-4936-cde5-130dbc126bf4"
   },
   "outputs": [
    {
     "name": "stdout",
     "output_type": "stream",
     "text": [
      "Finished processing\n"
     ]
    }
   ],
   "source": [
    "#reading the data set from data.txt\n",
    "\n",
    "dataset_path = '/home/ubuntu/Project/my_data/Autopilot-TensorFlow-master/Autopilot-TensorFlow-master/driving_dataset/'\n",
    "training_path = os.path.join(dataset_path, 'data.txt')\n",
    "\n",
    "split = 0.7\n",
    "X = []\n",
    "y = []\n",
    "\n",
    "#islice(text, start, stop, LIMIT) --> ('ABCDEF', 2, None) --> 'C D E F'  -->https://docs.python.org/2/library/itertools.html\n",
    "with open(training_path) as f:\n",
    "    for line in islice(f, None):\n",
    "        path, angle = line.strip().split()\n",
    "        full_path = os.path.join(dataset_path, path)\n",
    "        X.append(full_path)\n",
    "        y.append(float(angle)*pi/180)\n",
    "\n",
    "y = np.array(y)\n",
    "print('Finished processing')\n",
    "\n",
    "#Split it with 70/30\n",
    "split_index = int(len(y)*0.7)\n",
    "y_train = y[:split_index]\n",
    "y_val = y[split_index:]"
   ]
  },
  {
   "cell_type": "markdown",
   "metadata": {
    "colab_type": "text",
    "id": "yUImTtQh4ZKb"
   },
   "source": [
    "### 8.1 Base Model"
   ]
  },
  {
   "cell_type": "code",
   "execution_count": null,
   "metadata": {
    "colab": {},
    "colab_type": "code",
    "id": "483N2lms4ZKc",
    "outputId": "b29115bb-eec5-461e-bf5c-c9153930af46"
   },
   "outputs": [
    {
     "data": {
      "image/png": "[encoded data removed]",
      "text/plain": [
       "<Figure size 864x576 with 1 Axes>"
      ]
     },
     "metadata": {
      "needs_background": "light",
      "tags": []
     },
     "output_type": "display_data"
    }
   ],
   "source": [
    "#distribution of train and test y\n",
    "plt.figure(figsize=(12,8))\n",
    "sns.distplot(y_train, hist=False, label='y_train')\n",
    "sns.distplot(y_val, hist=False, label='y_val')\n",
    "plt.xlabel(' Steering angle')\n",
    "plt.ylabel('Probability distribution')\n",
    "plt.legend()\n",
    "plt.show()"
   ]
  },
  {
   "cell_type": "code",
   "execution_count": null,
   "metadata": {
    "colab": {},
    "colab_type": "code",
    "id": "yeNRjmba4ZKi",
    "outputId": "0d8e4b2b-52c7-4fc6-a885-28793cedbabc"
   },
   "outputs": [
    {
     "name": "stdout",
     "output_type": "stream",
     "text": [
      "Test_MSE(MEAN):0.241561\n",
      "Test_MSE(ZERO):0.241107\n"
     ]
    }
   ],
   "source": [
    "#Model 0: Base line Model: y_test_pred = mean(y_train_i) \n",
    "train_mean_y = np.mean(y_train)\n",
    "\n",
    "print('Test_MSE(MEAN):%f' % np.mean(np.square(y_val-train_mean_y)) )\n",
    "print('Test_MSE(ZERO):%f' % np.mean(np.square(y_val-0.0)) )"
   ]
  },
  {
   "cell_type": "markdown",
   "metadata": {
    "colab_type": "text",
    "id": "M3340l_94ZKm"
   },
   "source": [
    "### 8.2. Reading images from the path"
   ]
  },
  {
   "cell_type": "code",
   "execution_count": null,
   "metadata": {
    "colab": {},
    "colab_type": "code",
    "id": "m3688dHy4ZKp",
    "outputId": "1f7d9ceb-8cfb-4111-baeb-ee3bf65f1eb1"
   },
   "outputs": [
    {
     "data": {
      "text/plain": [
       "True"
      ]
     },
     "execution_count": 60,
     "metadata": {
      "tags": []
     },
     "output_type": "execute_result"
    }
   ],
   "source": [
    "dataset_path = '/home/ubuntu/Project/my_data/Autopilot-TensorFlow-master/Autopilot-TensorFlow-master/driving_dataset/'\n",
    "os.path.exists(os.path.join(dataset_path, 'data.txt'))"
   ]
  },
  {
   "cell_type": "code",
   "execution_count": null,
   "metadata": {
    "colab": {},
    "colab_type": "code",
    "id": "T35ORKND4ZKt",
    "outputId": "9f92a08d-ee8d-4992-d7ac-9ef4d195d9c4"
   },
   "outputs": [
    {
     "name": "stdout",
     "output_type": "stream",
     "text": [
      "31784\n",
      "13622\n"
     ]
    }
   ],
   "source": [
    "print(len(X[:len(y_train)]))\n",
    "print(len(X[len(y_train):]))"
   ]
  },
  {
   "cell_type": "markdown",
   "metadata": {
    "colab_type": "text",
    "id": "90zIljiV4ZKv"
   },
   "source": [
    "#### 8.2.1 Checking on single image"
   ]
  },
  {
   "cell_type": "code",
   "execution_count": null,
   "metadata": {
    "colab": {},
    "colab_type": "code",
    "id": "fE_sbqxG4ZKx",
    "outputId": "94a7aafd-3d74-449e-bcd1-1c1309fb8dae"
   },
   "outputs": [
    {
     "data": {
      "text/plain": [
       "'/home/ubuntu/Project/my_data/Autopilot-TensorFlow-master/Autopilot-TensorFlow-master/driving_dataset/0.jpg'"
      ]
     },
     "execution_count": 62,
     "metadata": {
      "tags": []
     },
     "output_type": "execute_result"
    }
   ],
   "source": [
    "X[0]"
   ]
  },
  {
   "cell_type": "code",
   "execution_count": null,
   "metadata": {
    "colab": {},
    "colab_type": "code",
    "id": "MiLZfpn24ZK0",
    "outputId": "d2bf9774-72dd-4403-eb40-3d500037fac9"
   },
   "outputs": [
    {
     "name": "stdout",
     "output_type": "stream",
     "text": [
      "Original_size of the image: (256, 455, 3)\n",
      "After taking the last 150 rows i.e lower part of the images where road is present,  (150, 455, 3)\n",
      "shape after resizing it: (66, 200, 3)\n"
     ]
    }
   ],
   "source": [
    "img = cv2.imread(X[0])\n",
    "print('Original_size of the image:', img.shape)\n",
    "print(\"After taking the last 150 rows i.e lower part of the images where road is present, \",img[-150:].shape)\n",
    "img = img[-150:]\n",
    "resized_img = cv2.resize(img, (200,66))  # 200/66 = 455/150 = 3.0303 => we are keeping aspect ratio when we are resizing it\n",
    "print('shape after resizing it:', resized_img.shape)"
   ]
  },
  {
   "cell_type": "markdown",
   "metadata": {
    "colab_type": "text",
    "id": "DftSHkDW4ZK2"
   },
   "source": [
    "#### 8.2..2 Doing the same for all images"
   ]
  },
  {
   "cell_type": "code",
   "execution_count": null,
   "metadata": {
    "colab": {},
    "colab_type": "code",
    "id": "4v7dZZVi4ZK3"
   },
   "outputs": [],
   "source": [
    "X_train = []\n",
    "for i in X[:len(y_train)]:\n",
    "    img = cv2.imread(i)\n",
    "    img = img[-150:]\n",
    "    resized_img = cv2.resize(img, (200,66))\n",
    "    X_train.append(resized_img)"
   ]
  },
  {
   "cell_type": "code",
   "execution_count": null,
   "metadata": {
    "colab": {},
    "colab_type": "code",
    "id": "uK5GfYx94ZK5"
   },
   "outputs": [],
   "source": [
    "X_train = np.array(X_train)"
   ]
  },
  {
   "cell_type": "code",
   "execution_count": null,
   "metadata": {
    "colab": {},
    "colab_type": "code",
    "id": "ZdYhFtex4ZK-"
   },
   "outputs": [],
   "source": [
    "import pickle\n",
    "with open('assign_train', 'wb') as f:\n",
    "    pickle.dump(X_train, f)"
   ]
  },
  {
   "cell_type": "code",
   "execution_count": null,
   "metadata": {
    "colab": {},
    "colab_type": "code",
    "id": "jemt1Qki4ZLC",
    "outputId": "f553b3e6-f700-431b-967a-126bb3ee5156"
   },
   "outputs": [
    {
     "name": "stdout",
     "output_type": "stream",
     "text": [
      "(31784, 66, 200, 3)\n"
     ]
    }
   ],
   "source": [
    "print(X_train.shape)"
   ]
  },
  {
   "cell_type": "code",
   "execution_count": null,
   "metadata": {
    "colab": {},
    "colab_type": "code",
    "id": "hHooFbzz4ZLF"
   },
   "outputs": [],
   "source": [
    "X_val = []\n",
    "for j in X[len(y_train):]:\n",
    "    img = cv2.imread(i)\n",
    "    img = img[-150:]\n",
    "    resized_img = cv2.resize(img, (200,66))\n",
    "    X_val.append(resized_img)"
   ]
  },
  {
   "cell_type": "code",
   "execution_count": null,
   "metadata": {
    "colab": {},
    "colab_type": "code",
    "id": "6_s8h7ov4ZLL"
   },
   "outputs": [],
   "source": [
    "X_val = np.array(X_val)"
   ]
  },
  {
   "cell_type": "code",
   "execution_count": null,
   "metadata": {
    "colab": {},
    "colab_type": "code",
    "id": "VL8wQiop4ZLP"
   },
   "outputs": [],
   "source": [
    "import pickle\n",
    "with open('assign_val', 'wb') as f:\n",
    "    pickle.dump(X_val, f)"
   ]
  },
  {
   "cell_type": "code",
   "execution_count": null,
   "metadata": {
    "colab": {},
    "colab_type": "code",
    "id": "g2yVZrAf4ZLT",
    "outputId": "c5a94483-93a7-4ea9-d4ec-d397289911ea"
   },
   "outputs": [
    {
     "name": "stdout",
     "output_type": "stream",
     "text": [
      "(13622, 66, 200, 3)\n"
     ]
    }
   ],
   "source": [
    "print(X_val.shape)"
   ]
  },
  {
   "cell_type": "markdown",
   "metadata": {
    "colab_type": "text",
    "id": "vAyhSnjC4ZLY"
   },
   "source": [
    "### 8.3 Reading from pickle file"
   ]
  },
  {
   "cell_type": "code",
   "execution_count": null,
   "metadata": {
    "colab": {},
    "colab_type": "code",
    "id": "fw3aMFKo4ZLY"
   },
   "outputs": [],
   "source": [
    "with open('/home/ubuntu/Project/my_data/assign_train', 'rb') as f:\n",
    "    X_train = pickle.load(f)"
   ]
  },
  {
   "cell_type": "code",
   "execution_count": null,
   "metadata": {
    "colab": {},
    "colab_type": "code",
    "id": "q6wXBxmx4ZLc"
   },
   "outputs": [],
   "source": [
    "with open('/home/ubuntu/Project/my_data/assign_val', 'rb') as f:\n",
    "    X_val = pickle.load(f)"
   ]
  },
  {
   "cell_type": "code",
   "execution_count": null,
   "metadata": {
    "colab": {},
    "colab_type": "code",
    "id": "Xxvl_a0i4ZLf",
    "outputId": "422740dd-280b-4ef2-a8c1-680955aa8416"
   },
   "outputs": [
    {
     "name": "stdout",
     "output_type": "stream",
     "text": [
      "(31784, 66, 200, 3)\n",
      "(13622, 66, 200, 3)\n",
      "(36324,)\n",
      "(9082,)\n"
     ]
    }
   ],
   "source": [
    "print(X_train.shape)\n",
    "print(X_val.shape)\n",
    "print(y_train.shape)\n",
    "print(y_val.shape)"
   ]
  },
  {
   "cell_type": "markdown",
   "metadata": {
    "colab_type": "text",
    "id": "-UWUpzIV4ZLk"
   },
   "source": [
    "### 8.4. Preparing data for modelling"
   ]
  },
  {
   "cell_type": "code",
   "execution_count": null,
   "metadata": {
    "colab": {},
    "colab_type": "code",
    "id": "30aOpflP4ZLk"
   },
   "outputs": [],
   "source": [
    "img_rows = X_train.shape[1]\n",
    "img_cols = X_train.shape[2]\n",
    "channels = X_train.shape[3]"
   ]
  },
  {
   "cell_type": "code",
   "execution_count": null,
   "metadata": {
    "colab": {},
    "colab_type": "code",
    "id": "51JKc2u34ZLn"
   },
   "outputs": [],
   "source": [
    "import tensorflow.keras.backend as K\n",
    "\n",
    "if K.image_data_format() == 'channels_first':\n",
    "    X_train = X_train.reshape(X_train.shape[0], channels, img_rows, img_cols).astype('float32')\n",
    "    X_val = X_val.reshape(X_val.shape[0], channels, img_rows, img_cols).astype('float32')\n",
    "    img_size = (channels, img_rows, img_cols)\n",
    "    \n",
    "else:\n",
    "    X_train = X_train.reshape(X_train.shape[0], img_rows, img_cols, channels).astype('float32')\n",
    "    X_val = X_val.reshape(X_val.shape[0], img_rows, img_cols, channels).astype('float32')\n",
    "    img_size = (img_rows, img_cols, channels)"
   ]
  },
  {
   "cell_type": "code",
   "execution_count": null,
   "metadata": {
    "colab": {},
    "colab_type": "code",
    "id": "lDPsnACb4ZLq"
   },
   "outputs": [],
   "source": [
    "X_train = X_train/255.0\n",
    "X_val = X_val/255.0"
   ]
  },
  {
   "cell_type": "code",
   "execution_count": null,
   "metadata": {
    "colab": {},
    "colab_type": "code",
    "id": "hwuqejLN4ZLs",
    "outputId": "5c121c5a-4844-4b3b-8055-0e35fcea2caf"
   },
   "outputs": [
    {
     "name": "stdout",
     "output_type": "stream",
     "text": [
      "(31784, 66, 200, 3)\n",
      "(31784,)\n",
      "(13622, 66, 200, 3)\n",
      "(13622,)\n",
      "(66, 200, 3)\n"
     ]
    }
   ],
   "source": [
    "print(X_train.shape)\n",
    "print(y_train.shape)\n",
    "print(X_val.shape)\n",
    "print(y_val.shape)\n",
    "print(img_size)"
   ]
  },
  {
   "cell_type": "markdown",
   "metadata": {
    "colab_type": "text",
    "id": "TTvpES4_4ZLv"
   },
   "source": [
    "### 8.5. Building model from Nvidia Architecture"
   ]
  },
  {
   "cell_type": "code",
   "execution_count": null,
   "metadata": {
    "colab": {},
    "colab_type": "code",
    "id": "Ol381pgP4ZLw"
   },
   "outputs": [],
   "source": [
    "import tensorflow as tf"
   ]
  },
  {
   "cell_type": "code",
   "execution_count": null,
   "metadata": {
    "colab": {},
    "colab_type": "code",
    "id": "BhQlSZoK4ZLy"
   },
   "outputs": [],
   "source": [
    "#https://developer.nvidia.com/blog/deep-learning-self-driving-cars/\n",
    "\n",
    "img_input = tf.keras.Input(img_size)\n",
    "x = tf.keras.layers.Conv2D(filters=24, kernel_size=(5,5), strides=(2,2), padding='valid', name='conv-1')(img_input)\n",
    "x = tf.keras.layers.Conv2D(filters=36, kernel_size=(5,5), strides=(2,2), padding='valid', name='conv-2')(x)\n",
    "x = tf.keras.layers.Conv2D(filters=48, kernel_size=(5,5), strides=(2,2), padding='valid', name='conv-3')(x)\n",
    "x = tf.keras.layers.Conv2D(filters=64, kernel_size=(3,3), strides=(1,1), padding='valid', name='conv-4')(x)\n",
    "x = tf.keras.layers.Conv2D(filters=64, kernel_size=(3,3), strides=(1,1), padding='valid', name='conv-5')(x)\n",
    "x = tf.keras.layers.Flatten(name='flatten')(x)\n",
    "x = tf.keras.layers.Dense(1164, activation='relu', name='dense_layer-1')(x)\n",
    "x = tf.keras.layers.Dropout(0.5, name='dropout-1')(x)\n",
    "x = tf.keras.layers.Dense(100, activation='relu', name='dense_layer-2')(x)\n",
    "x = tf.keras.layers.Dropout(0.5, name='dropout-2')(x)\n",
    "x = tf.keras.layers.Dense(50, activation='relu', name='dense_layer-3')(x)\n",
    "x = tf.keras.layers.Dropout(0.5, name='dropout-3')(x)\n",
    "x = tf.keras.layers.Dense(10, activation='relu', name='dense_layer-4')(x)\n",
    "x = tf.keras.layers.Dropout(0.5, name='dropout-4')(x)\n",
    "output = tf.keras.layers.Dense(1, activation=tf.keras.activations.linear, name='output')(x) #note we have used atan to use tan inverse activation\n",
    "\n",
    "model_2 = tf.keras.models.Model(inputs=img_input, outputs=output, name='model-2')"
   ]
  },
  {
   "cell_type": "code",
   "execution_count": null,
   "metadata": {
    "colab": {},
    "colab_type": "code",
    "id": "obMSG-IZ4ZL0",
    "outputId": "1904d20d-7c67-40cb-ae2b-a0e61ed9d96f"
   },
   "outputs": [
    {
     "name": "stdout",
     "output_type": "stream",
     "text": [
      "Model: \"model-2\"\n",
      "_________________________________________________________________\n",
      "Layer (type)                 Output Shape              Param #   \n",
      "=================================================================\n",
      "input_1 (InputLayer)         [(None, 66, 200, 3)]      0         \n",
      "_________________________________________________________________\n",
      "conv-1 (Conv2D)              (None, 31, 98, 24)        1824      \n",
      "_________________________________________________________________\n",
      "conv-2 (Conv2D)              (None, 14, 47, 36)        21636     \n",
      "_________________________________________________________________\n",
      "conv-3 (Conv2D)              (None, 5, 22, 48)         43248     \n",
      "_________________________________________________________________\n",
      "conv-4 (Conv2D)              (None, 3, 20, 64)         27712     \n",
      "_________________________________________________________________\n",
      "conv-5 (Conv2D)              (None, 1, 18, 64)         36928     \n",
      "_________________________________________________________________\n",
      "flatten (Flatten)            (None, 1152)              0         \n",
      "_________________________________________________________________\n",
      "dense_layer-1 (Dense)        (None, 1164)              1342092   \n",
      "_________________________________________________________________\n",
      "dropout-1 (Dropout)          (None, 1164)              0         \n",
      "_________________________________________________________________\n",
      "dense_layer-2 (Dense)        (None, 100)               116500    \n",
      "_________________________________________________________________\n",
      "dropout-2 (Dropout)          (None, 100)               0         \n",
      "_________________________________________________________________\n",
      "dense_layer-3 (Dense)        (None, 50)                5050      \n",
      "_________________________________________________________________\n",
      "dropout-3 (Dropout)          (None, 50)                0         \n",
      "_________________________________________________________________\n",
      "dense_layer-4 (Dense)        (None, 10)                510       \n",
      "_________________________________________________________________\n",
      "dropout-4 (Dropout)          (None, 10)                0         \n",
      "_________________________________________________________________\n",
      "output (Dense)               (None, 1)                 11        \n",
      "=================================================================\n",
      "Total params: 1,595,511\n",
      "Trainable params: 1,595,511\n",
      "Non-trainable params: 0\n",
      "_________________________________________________________________\n"
     ]
    }
   ],
   "source": [
    "model_2.summary()"
   ]
  },
  {
   "cell_type": "markdown",
   "metadata": {
    "colab_type": "text",
    "id": "7MypFOs94ZL2"
   },
   "source": [
    "### 8.6 Compiling and fit the model"
   ]
  },
  {
   "cell_type": "code",
   "execution_count": null,
   "metadata": {
    "colab": {},
    "colab_type": "code",
    "id": "9Q4r0ujS4ZL2"
   },
   "outputs": [],
   "source": [
    "model_2.compile(optimizer=tf.keras.optimizers.Adam(learning_rate=0.0001), loss='mean_squared_error')"
   ]
  },
  {
   "cell_type": "code",
   "execution_count": null,
   "metadata": {
    "colab": {},
    "colab_type": "code",
    "id": "gk_C3AAx4ZL4"
   },
   "outputs": [],
   "source": [
    "batch_size = 100\n",
    "Epochs = 30"
   ]
  },
  {
   "cell_type": "code",
   "execution_count": null,
   "metadata": {
    "colab": {},
    "colab_type": "code",
    "id": "D4d0FK3v4ZL6"
   },
   "outputs": [],
   "source": [
    "from datetime import datetime\n",
    "from tensorflow.keras.callbacks import  ModelCheckpoint\n",
    "\n",
    "checkpoint_file_name = '/home/ubuntu/Project/my_data/checkpoint/assign/July_01-weights.{epoch:02d}-{val_loss:.2f}.hdf5'\n",
    "model_checkpoint = ModelCheckpoint(checkpoint_file_name, monitor='val_loss', verbose=1, save_best_only=True)\n",
    "\n",
    "callbacks = [model_checkpoint]"
   ]
  },
  {
   "cell_type": "code",
   "execution_count": null,
   "metadata": {
    "colab": {},
    "colab_type": "code",
    "id": "sjDIzIfD4ZL-",
    "outputId": "b0a17063-76e2-4dfb-ff64-678492c70a28"
   },
   "outputs": [
    {
     "name": "stdout",
     "output_type": "stream",
     "text": [
      "Train on 31784 samples, validate on 13622 samples\n",
      "Epoch 1/30\n",
      "\n",
      "Epoch 00001: val_loss improved from inf to 0.24105, saving model to /home/ubuntu/Project/my_data/checkpoint/assign/July_01-weights.01-0.24.hdf5\n",
      "31784/31784 - 9s - loss: 0.3171 - val_loss: 0.2410\n",
      "Epoch 2/30\n",
      "\n",
      "Epoch 00002: val_loss improved from 0.24105 to 0.24098, saving model to /home/ubuntu/Project/my_data/checkpoint/assign/July_01-weights.02-0.24.hdf5\n",
      "31784/31784 - 4s - loss: 0.3017 - val_loss: 0.2410\n",
      "Epoch 3/30\n",
      "\n",
      "Epoch 00003: val_loss did not improve from 0.24098\n",
      "31784/31784 - 4s - loss: 0.2919 - val_loss: 0.2411\n",
      "Epoch 4/30\n",
      "\n",
      "Epoch 00004: val_loss did not improve from 0.24098\n",
      "31784/31784 - 4s - loss: 0.2822 - val_loss: 0.2411\n",
      "Epoch 5/30\n",
      "\n",
      "Epoch 00005: val_loss did not improve from 0.24098\n",
      "31784/31784 - 4s - loss: 0.2548 - val_loss: 0.2450\n",
      "Epoch 6/30\n",
      "\n",
      "Epoch 00006: val_loss did not improve from 0.24098\n",
      "31784/31784 - 4s - loss: 0.2374 - val_loss: 0.2661\n",
      "Epoch 7/30\n",
      "\n",
      "Epoch 00007: val_loss did not improve from 0.24098\n",
      "31784/31784 - 4s - loss: 0.2189 - val_loss: 0.2567\n",
      "Epoch 8/30\n",
      "\n",
      "Epoch 00008: val_loss did not improve from 0.24098\n",
      "31784/31784 - 4s - loss: 0.2144 - val_loss: 0.2802\n",
      "Epoch 9/30\n",
      "\n",
      "Epoch 00009: val_loss did not improve from 0.24098\n",
      "31784/31784 - 4s - loss: 0.1926 - val_loss: 0.2757\n",
      "Epoch 10/30\n",
      "\n",
      "Epoch 00010: val_loss did not improve from 0.24098\n",
      "31784/31784 - 4s - loss: 0.1918 - val_loss: 0.2620\n",
      "Epoch 11/30\n",
      "\n",
      "Epoch 00011: val_loss did not improve from 0.24098\n",
      "31784/31784 - 4s - loss: 0.1812 - val_loss: 0.3093\n",
      "Epoch 12/30\n",
      "\n",
      "Epoch 00012: val_loss did not improve from 0.24098\n",
      "31784/31784 - 4s - loss: 0.1750 - val_loss: 0.2836\n",
      "Epoch 13/30\n",
      "\n",
      "Epoch 00013: val_loss did not improve from 0.24098\n",
      "31784/31784 - 4s - loss: 0.1668 - val_loss: 0.2870\n",
      "Epoch 14/30\n",
      "\n",
      "Epoch 00014: val_loss did not improve from 0.24098\n",
      "31784/31784 - 4s - loss: 0.1685 - val_loss: 0.3186\n",
      "Epoch 15/30\n",
      "\n",
      "Epoch 00015: val_loss did not improve from 0.24098\n",
      "31784/31784 - 4s - loss: 0.1608 - val_loss: 0.2658\n",
      "Epoch 16/30\n",
      "\n",
      "Epoch 00016: val_loss did not improve from 0.24098\n",
      "31784/31784 - 4s - loss: 0.1535 - val_loss: 0.3045\n",
      "Epoch 17/30\n",
      "\n",
      "Epoch 00017: val_loss did not improve from 0.24098\n",
      "31784/31784 - 4s - loss: 0.1533 - val_loss: 0.2869\n",
      "Epoch 18/30\n",
      "\n",
      "Epoch 00018: val_loss did not improve from 0.24098\n",
      "31784/31784 - 4s - loss: 0.1452 - val_loss: 0.2948\n",
      "Epoch 19/30\n",
      "\n",
      "Epoch 00019: val_loss did not improve from 0.24098\n",
      "31784/31784 - 4s - loss: 0.1486 - val_loss: 0.2838\n",
      "Epoch 20/30\n",
      "\n",
      "Epoch 00020: val_loss did not improve from 0.24098\n",
      "31784/31784 - 4s - loss: 0.1291 - val_loss: 0.2826\n",
      "Epoch 21/30\n",
      "\n",
      "Epoch 00021: val_loss did not improve from 0.24098\n",
      "31784/31784 - 4s - loss: 0.1302 - val_loss: 0.3108\n",
      "Epoch 22/30\n",
      "\n",
      "Epoch 00022: val_loss did not improve from 0.24098\n",
      "31784/31784 - 4s - loss: 0.1311 - val_loss: 0.2893\n",
      "Epoch 23/30\n",
      "\n",
      "Epoch 00023: val_loss did not improve from 0.24098\n",
      "31784/31784 - 4s - loss: 0.1357 - val_loss: 0.3421\n",
      "Epoch 24/30\n",
      "\n",
      "Epoch 00024: val_loss did not improve from 0.24098\n",
      "31784/31784 - 4s - loss: 0.1312 - val_loss: 0.3028\n",
      "Epoch 25/30\n",
      "\n",
      "Epoch 00025: val_loss did not improve from 0.24098\n",
      "31784/31784 - 4s - loss: 0.1218 - val_loss: 0.3288\n",
      "Epoch 26/30\n",
      "\n",
      "Epoch 00026: val_loss did not improve from 0.24098\n",
      "31784/31784 - 4s - loss: 0.1278 - val_loss: 0.2893\n",
      "Epoch 27/30\n",
      "\n",
      "Epoch 00027: val_loss did not improve from 0.24098\n",
      "31784/31784 - 4s - loss: 0.1233 - val_loss: 0.3499\n",
      "Epoch 28/30\n",
      "\n",
      "Epoch 00028: val_loss did not improve from 0.24098\n",
      "31784/31784 - 4s - loss: 0.1213 - val_loss: 0.3509\n",
      "Epoch 29/30\n",
      "\n",
      "Epoch 00029: val_loss did not improve from 0.24098\n",
      "31784/31784 - 4s - loss: 0.1232 - val_loss: 0.2841\n",
      "Epoch 30/30\n",
      "\n",
      "Epoch 00030: val_loss did not improve from 0.24098\n",
      "31784/31784 - 4s - loss: 0.1192 - val_loss: 0.2824\n"
     ]
    }
   ],
   "source": [
    "history_2 = model_2.fit(X_train, y_train, batch_size=batch_size, epochs=Epochs, validation_data=(X_val, y_val), callbacks=callbacks, verbose=2)"
   ]
  },
  {
   "cell_type": "markdown",
   "metadata": {
    "colab_type": "text",
    "id": "8gbVt-5H4ZMB"
   },
   "source": [
    "## Summary:\n",
    "- As we can see from the base model we got test_mse with mean as a prediction we got 0.241561 and Test_MSE(ZERO):0.241107 and here we got 0.24098 as mean_squared_error with dropout. This makes our model works better than our base model. \n",
    "- Even after so many epochs we can't reduce mean_squared_error further"
   ]
  },
  {
   "cell_type": "code",
   "execution_count": null,
   "metadata": {
    "colab": {},
    "colab_type": "code",
    "id": "GvxBcMEd4ZMC",
    "outputId": "6cab7650-5941-450d-84f6-c686551c8fd3"
   },
   "outputs": [
    {
     "data": {
      "image/png": "[encoded data removed]",
      "text/plain": [
       "<Figure size 864x288 with 1 Axes>"
      ]
     },
     "metadata": {
      "needs_background": "light",
      "tags": []
     },
     "output_type": "display_data"
    }
   ],
   "source": [
    "# history plot for accuracy\n",
    "plt.figure(figsize=(12,4))\n",
    "plt.plot(history_2.history[\"loss\"])\n",
    "plt.plot(history_2.history[\"val_loss\"])\n",
    "plt.title(\"Model Loss\")\n",
    "plt.xlabel(\"Epoch\")\n",
    "plt.ylabel(\"Loss\")\n",
    "plt.yscale('log')\n",
    "plt.legend([\"train\", \"test\"], loc=\"upper left\")\n",
    "plt.show() "
   ]
  },
  {
   "cell_type": "markdown",
   "metadata": {
    "colab_type": "text",
    "id": "cyhRHY1W4ZMF"
   },
   "source": [
    "### 8.7 Predict using best model"
   ]
  },
  {
   "cell_type": "code",
   "execution_count": null,
   "metadata": {
    "colab": {},
    "colab_type": "code",
    "id": "pBww4UxG4ZMG"
   },
   "outputs": [],
   "source": [
    "best_model_2 = tf.keras.models.load_model('/home/ubuntu/Project/my_data/checkpoint/assign/July_01-weights.02-0.24.hdf5')\n",
    "\n",
    "all_pred = []\n",
    "for i in X_val[1000:2000]:\n",
    "    i = cv2.resize(i, (200,66))\n",
    "    i = i/255.0\n",
    "    i = np.expand_dims(i, axis=0)\n",
    "    prediction = best_model_2.predict(i)\n",
    "    all_pred.extend(prediction[0])"
   ]
  },
  {
   "cell_type": "code",
   "execution_count": null,
   "metadata": {
    "colab": {},
    "colab_type": "code",
    "id": "l3QgeND34ZMI",
    "outputId": "bbd75956-de17-4db6-82bc-a47d035f691f"
   },
   "outputs": [
    {
     "data": {
      "text/plain": [
       "{0.0062604654}"
      ]
     },
     "execution_count": 33,
     "metadata": {
      "tags": []
     },
     "output_type": "execute_result"
    }
   ],
   "source": [
    "set(all_pred)"
   ]
  },
  {
   "cell_type": "code",
   "execution_count": null,
   "metadata": {
    "colab": {},
    "colab_type": "code",
    "id": "a2-8W7Ld4ZML",
    "outputId": "be1ff9d2-a068-445b-94da-cf7658477fe7"
   },
   "outputs": [
    {
     "data": {
      "text/plain": [
       "518"
      ]
     },
     "execution_count": 31,
     "metadata": {
      "tags": []
     },
     "output_type": "execute_result"
    }
   ],
   "source": [
    "len(set(y_val[1000:2000]))"
   ]
  },
  {
   "cell_type": "markdown",
   "metadata": {
    "colab_type": "text",
    "id": "YoDG8zcE4ZMO"
   },
   "source": [
    "## DOUBT:\n",
    "- Here also we get predicted the same value and i dont know why"
   ]
  },
  {
   "cell_type": "markdown",
   "metadata": {
    "colab_type": "text",
    "id": "wPMttSqT4ZMP"
   },
   "source": [
    "### 8.8 Using the output prediction "
   ]
  },
  {
   "cell_type": "code",
   "execution_count": null,
   "metadata": {
    "colab": {},
    "colab_type": "code",
    "id": "5Cxdlt6W4ZMP"
   },
   "outputs": [],
   "source": [
    "#to rotate the steering image refer https://opencv-python-tutroals.readthedocs.io/en/latest/py_tutorials/py_imgproc/py_geometric_transformations/py_geometric_transformations.html\n",
    "#steering_image\n",
    "model_2 = tf.keras.models.load_model('')\n",
    "steering_img = cv2.imread('')\n",
    "rows, cols = steering_image.shape\n",
    "\n",
    "cap = cv2.VideoCapture('')\n",
    "\n",
    "smooth_angle = 0\n",
    "while True:\n",
    "    ret, frame = cap.read()\n",
    "    resized_frame = cv2.resize(frame, (200,66))\n",
    "    resized_frame = resized_frame/255.0\n",
    "    resized_frame = np.expand_dims(axis=0)\n",
    "    degrees = (best_model_2.predict(resized_frame) * 180)/scipy.pi  #to convert the radians to degrees\n",
    "    cv2.imshow('frame', frame)\n",
    "    #make smooth angle transitions by turning the steering wheel based on the difference of the current angle\n",
    "    #and the predicted angle\n",
    "    smooth_angle += 0/2 * pow(abs(degees - smoothed_angle), 2.0/3.0) * (degrees-smoothed_angle) / abs(degrees-smoothed_angle)\n",
    "    M = cv2.getRotationMatrix2D(center=(col2/2, rows/2), angle=-degrees, 1)\n",
    "    dst = cv2.warpAffine(steering_img, M, (cols,rows))\n",
    "    cv2.imshow('steering_wheel', dst)\n",
    "    \n",
    "    if cv2.waitKey()==27:\n",
    "        break\n",
    "        \n",
    "cv2.destroyAllWindows()\n",
    "cap.release()"
   ]
  }
 ],
 "metadata": {
  "colab": {
   "collapsed_sections": [
    "HT_hh2CI4ZIl",
    "Cd4A0SbH4ZJD",
    "_jbPn4qc4ZJ3",
    "yUImTtQh4ZKb",
    "M3340l_94ZKm",
    "90zIljiV4ZKv",
    "DftSHkDW4ZK2",
    "vAyhSnjC4ZLY",
    "-UWUpzIV4ZLk",
    "TTvpES4_4ZLv",
    "7MypFOs94ZL2"
   ],
   "name": "PremKumar_SelfDrivingCar.ipynb",
   "provenance": []
  },
  "kernelspec": {
   "display_name": "Environment (conda_tensorflow2_p36)",
   "language": "python",
   "name": "conda_tensorflow2_p36"
  },
  "language_info": {
   "codemirror_mode": {
    "name": "ipython",
    "version": 3
   },
   "file_extension": ".py",
   "mimetype": "text/x-python",
   "name": "python",
   "nbconvert_exporter": "python",
   "pygments_lexer": "ipython3",
   "version": "3.6.10"
  }
 },
 "nbformat": 4,
 "nbformat_minor": 1
}
